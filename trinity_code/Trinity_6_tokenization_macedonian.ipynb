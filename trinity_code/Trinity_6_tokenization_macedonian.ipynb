{
  "nbformat": 4,
  "nbformat_minor": 0,
  "metadata": {
    "colab": {
      "name": "Trinity_6_tokenization.ipynb",
      "provenance": [],
      "collapsed_sections": []
    },
    "kernelspec": {
      "display_name": "Python 3",
      "language": "python",
      "name": "python3"
    },
    "language_info": {
      "codemirror_mode": {
        "name": "ipython",
        "version": 3
      },
      "file_extension": ".py",
      "mimetype": "text/x-python",
      "name": "python",
      "nbconvert_exporter": "python",
      "pygments_lexer": "ipython3",
      "version": "3.8.5"
    }
  },
  "cells": [
    {
      "cell_type": "markdown",
      "metadata": {
        "id": "EmXkp0k5yuIf"
      },
      "source": [
        "#TOKENIZATION IN SPACY\n"
      ]
    },
    {
      "cell_type": "code",
      "metadata": {
        "id": "RtF6PxC6i7Kw"
      },
      "source": [
        "# Defining string\n",
        "text= \"I'm working as a Data Scientist in the U.S. and earning $140,000.\""
      ],
      "execution_count": null,
      "outputs": []
    },
    {
      "cell_type": "code",
      "source": [
        "!pip install \"tf-estimator-nightly==2.8.0\"\n",
        "!pip install \"spacy==3.2.0\" \n",
        "!python -m spacy download mk_core_news_sm\n",
        "\n"
      ],
      "metadata": {
        "id": "hXPN8D5Qq0Vn",
        "outputId": "82e0a8bb-8e9c-446a-c32f-cb5a2b4f8be8",
        "colab": {
          "base_uri": "https://localhost:8080/"
        }
      },
      "execution_count": 5,
      "outputs": [
        {
          "output_type": "stream",
          "name": "stdout",
          "text": [
            "Looking in indexes: https://pypi.org/simple, https://us-python.pkg.dev/colab-wheels/public/simple/\n",
            "\u001b[31mERROR: Could not find a version that satisfies the requirement tf-estimator-nightly==2.8.0 (from versions: 1.12.0.dev20181101, 1.12.0.dev20181105, 1.12.0.dev20181114, 1.12.0.dev20181115, 1.12.0.dev20181116, 1.12.0.dev20181117, 1.12.0.dev20181118, 1.12.0.dev20181119, 1.12.0.dev20181120, 1.12.0.dev20181121, 1.12.0.dev20181122, 1.12.0.dev20181123, 1.12.0.dev20181124, 1.12.0.dev20181125, 1.12.0.dev20181126, 1.12.0.dev20181127, 1.12.0.dev20181128, 1.12.0.dev20181129, 1.12.0.dev20181201, 1.12.0.dev20181202, 1.12.0.dev20181203, 1.12.0.dev20181204, 1.12.0.dev20181205, 1.12.0.dev20181206, 1.12.0.dev20181207, 1.12.0.dev20181208, 1.12.0.dev20181214, 1.12.0.dev20181215, 1.12.0.dev20181216, 1.12.0.dev20181217, 1.13.0.dev2019010910, 1.13.0.dev2019011813, 1.13.0.dev2019011901, 1.13.0.dev2019012001, 1.13.0.dev2019012101, 1.13.0.dev2019012201, 1.13.0.dev2019012415, 1.13.0.dev2019012416, 1.13.0.dev2019012501, 1.13.0.dev2019012601, 1.13.0.dev2019012701, 1.13.0.dev2019012801, 1.13.0.dev2019012901, 1.14.0.dev2019020414, 1.14.0.dev2019020601, 1.14.0.dev2019020710, 1.14.0.dev2019020801, 1.14.0.dev2019020901, 1.14.0.dev2019021001, 1.14.0.dev2019021101, 1.14.0.dev2019021201, 1.14.0.dev2019021301, 1.14.0.dev2019021401, 1.14.0.dev2019021501, 1.14.0.dev2019021601, 1.14.0.dev2019021701, 1.14.0.dev2019021801, 1.14.0.dev2019021901, 1.14.0.dev2019022001, 1.14.0.dev2019022101, 1.14.0.dev2019022201, 1.14.0.dev2019022301, 1.14.0.dev2019022401, 1.14.0.dev2019022501, 1.14.0.dev2019022601, 1.14.0.dev2019022701, 1.14.0.dev2019022801, 1.14.0.dev2019030111, 1.14.0.dev2019030115, 1.14.0.dev2019030201, 1.14.0.dev2019030301, 1.14.0.dev2019030401, 1.14.0.dev2019030501, 1.14.0.dev2019030601, 1.14.0.dev2019030701, 1.14.0.dev2019030801, 1.14.0.dev2019030901, 1.14.0.dev2019031001, 1.14.0.dev2019031101, 1.14.0.dev2019031201, 1.14.0.dev2019031301, 1.14.0.dev2019031401, 1.14.0.dev2019031501, 1.14.0.dev2019031601, 1.14.0.dev2019031701, 1.14.0.dev2019031801, 1.14.0.dev2019031901, 1.14.0.dev2019032001, 1.14.0.dev2019032101, 1.14.0.dev2019032201, 1.14.0.dev2019032301, 1.14.0.dev2019032401, 1.14.0.dev2019032501, 1.14.0.dev2019032601, 1.14.0.dev2019032701, 1.14.0.dev2019032801, 1.14.0.dev2019032901, 1.14.0.dev2019033001, 1.14.0.dev2019033101, 1.14.0.dev2019040101, 1.14.0.dev2019040201, 1.14.0.dev2019040301, 1.14.0.dev2019040401, 1.14.0.dev2019040501, 1.14.0.dev2019040811, 1.14.0.dev2019040815, 1.14.0.dev2019040901, 1.14.0.dev2019041001, 1.14.0.dev2019041101, 1.14.0.dev2019041201, 1.14.0.dev2019041301, 1.14.0.dev2019041401, 1.14.0.dev2019041501, 1.14.0.dev2019041601, 1.14.0.dev2019041818, 1.14.0.dev2019041901, 1.14.0.dev2019042001, 1.14.0.dev2019042101, 1.14.0.dev2019042201, 1.14.0.dev2019042301, 1.14.0.dev2019042513, 1.14.0.dev2019042601, 1.14.0.dev2019042701, 1.14.0.dev2019042801, 1.14.0.dev2019042901, 1.14.0.dev2019043001, 1.14.0.dev2019050101, 1.14.0.dev2019050201, 1.14.0.dev2019050301, 1.14.0.dev2019050401, 1.14.0.dev2019050501, 1.14.0.dev2019050601, 1.14.0.dev2019050701, 1.14.0.dev2019050801, 1.14.0.dev2019050901, 1.14.0.dev2019051001, 1.14.0.dev2019051101, 1.14.0.dev2019051201, 1.14.0.dev2019051301, 1.14.0.dev2019051401, 1.14.0.dev2019051501, 1.14.0.dev2019051601, 1.14.0.dev2019051701, 1.14.0.dev2019051801, 1.14.0.dev2019051901, 1.14.0.dev2019052001, 1.14.0.dev2019052101, 1.14.0.dev2019052201, 1.14.0.dev2019052301, 1.14.0.dev2019052401, 1.14.0.dev2019052601, 1.14.0.dev2019052901, 1.14.0.dev2019060401, 1.14.0.dev2019060501, 1.14.0.dev2019060601, 1.14.0.dev2019060701, 1.14.0.dev2019060901, 1.14.0.dev2019061001, 1.14.0.dev2019061101, 1.14.0.dev2019061201, 1.14.0.dev2019061301, 1.14.0.dev2019061401, 1.14.0.dev2019061501, 1.14.0.dev2019061601, 1.14.0.dev2019061701, 1.14.0.dev2019061801, 1.14.0.dev2019061901, 1.14.0.dev2019062001, 1.14.0.dev2019062101, 1.14.0.dev2019062201, 1.14.0.dev2019062301, 1.14.0.dev2019062401, 1.14.0.dev2019062501, 1.14.0.dev2019062601, 1.14.0.dev2019062701, 1.14.0.dev2019062801, 1.14.0.dev2019062901, 1.14.0.dev2019063001, 1.14.0.dev2019070101, 1.14.0.dev2019070201, 1.14.0.dev2019070301, 1.14.0.dev2019070401, 1.14.0.dev2019070501, 1.14.0.dev2019070601, 1.14.0.dev2019070701, 1.14.0.dev2019070801, 1.14.0.dev2019070901, 1.14.0.dev2019071001, 1.14.0.dev2019071613, 1.14.0.dev2019071701, 1.14.0.dev2019071801, 1.14.0.dev2019072001, 1.14.0.dev2019072101, 1.14.0.dev2019072201, 1.14.0.dev2019072301, 1.14.0.dev2019072401, 1.14.0.dev2019072501, 1.14.0.dev2019072601, 1.14.0.dev2019072701, 1.14.0.dev2019072801, 1.14.0.dev2019072901, 1.14.0.dev2019073001, 1.14.0.dev2019080218, 1.14.0.dev2019080301, 1.14.0.dev2019080401, 1.14.0.dev2019080501, 1.14.0.dev2019080601, 1.14.0.dev2019080701, 1.14.0.dev2019080801, 1.14.0.dev2019080901, 1.14.0.dev2019081001, 1.14.0.dev2019081101, 1.14.0.dev2019081201, 1.14.0.dev2019081301, 1.14.0.dev2019081401, 1.14.0.dev2019081501, 1.14.0.dev2019081601, 1.14.0.dev2019081701, 1.14.0.dev2019081801, 1.14.0.dev2019081901, 1.14.0.dev2019082001, 1.14.0.dev2019082101, 1.14.0.dev2019082801, 1.14.0.dev2019082901, 1.14.0.dev2019083001, 1.14.0.dev2019083101, 1.14.0.dev2019090101, 1.14.0.dev2019090201, 1.14.0.dev2019090301, 1.14.0.dev2019090401, 1.14.0.dev2019090501, 1.14.0.dev2019090601, 1.14.0.dev2019090701, 1.14.0.dev2019090801, 1.14.0.dev2019090901, 1.14.0.dev2019091001, 1.14.0.dev2019091101, 1.14.0.dev2019091501, 1.14.0.dev2019091601, 1.14.0.dev2019091701, 1.14.0.dev2019091801, 1.14.0.dev2019091901, 1.14.0.dev2019092001, 1.14.0.dev2019092201, 1.14.0.dev2019092301, 2.0.0.dev2019092611, 2.0.0.dev2019092701, 2.0.0.dev2019092801, 2.0.0.dev2019092901, 2.0.0.dev2019093001, 2.0.0.dev2019100101, 2.0.0.dev2019100201, 2.0.0.dev2019100301, 2.0.0.dev2019100401, 2.0.0.dev2019100501, 2.0.0.dev2019100601, 2.0.0.dev2019100701, 2.0.0.dev2019100801, 2.0.0.dev2019100901, 2.0.0.dev2019101001, 2.0.0.dev2019101101, 2.0.0.dev2019101201, 2.0.0.dev2019101301, 2.0.0.dev2019101401, 2.0.0.dev2019101501, 2.0.0.dev2019101601, 2.0.0.dev2019101701, 2.0.0.dev2019101801, 2.0.0.dev2019101901, 2.0.0.dev2019102001, 2.0.0.dev2019102101, 2.0.0.dev2019102201, 2.0.0.dev2019102608, 2.0.0.dev2019102708, 2.0.0.dev2019102808, 2.0.0.dev2019102908, 2.0.0.dev2019103008, 2.0.0.dev2019103108, 2.0.0.dev2019110108, 2.0.0.dev2019110208, 2.0.0.dev2019110308, 2.0.0.dev2019110409, 2.0.0.dev2019110509, 2.0.0.dev2019110609, 2.0.0.dev2019110709, 2.0.0.dev2019110809, 2.0.0.dev2019110909, 2.0.0.dev2019111009, 2.0.0.dev2019111109, 2.0.0.dev2019111209, 2.0.0.dev2019111309, 2.0.0.dev2019111409, 2.0.0.dev2019111509, 2.0.0.dev2019111609, 2.0.0.dev2019111709, 2.0.0.dev2019111809, 2.0.0.dev2019111909, 2.0.0.dev2019112009, 2.0.0.dev2019112109, 2.0.0.dev2019112209, 2.0.0.dev2019112309, 2.0.0.dev2019112409, 2.0.0.dev2019112509, 2.0.0.dev2019112609, 2.0.0.dev2019112709, 2.0.0.dev2019112809, 2.0.0.dev2019112909, 2.0.0.dev2019113009, 2.0.0.dev2019120109, 2.0.0.dev2019120209, 2.0.0.dev2019120309, 2.0.0.dev2019120509, 2.0.0.dev2019120609, 2.0.0.dev2019120709, 2.0.0.dev2019120809, 2.0.0.dev2019120909, 2.0.0.dev2019121009, 2.0.0.dev2019121109, 2.0.0.dev2019121209, 2.0.0.dev2019121309, 2.0.0.dev2019121409, 2.0.0.dev2019121509, 2.0.0.dev2019121609, 2.0.0.dev2019121709, 2.0.0.dev2019121809, 2.0.0.dev2019121909, 2.0.0.dev2019122009, 2.0.0.dev2019122109, 2.0.0.dev2019122209, 2.0.0.dev2019122309, 2.0.0.dev2019122409, 2.0.0.dev2019122509, 2.0.0.dev2019122609, 2.0.0.dev2019122709, 2.0.0.dev2019122809, 2.0.0.dev2019122909, 2.0.0.dev2019123009, 2.0.0.dev2019123109, 2.0.0.dev2020010109, 2.0.0.dev2020010209, 2.0.0.dev2020010309, 2.0.0.dev2020010409, 2.0.0.dev2020010509, 2.0.0.dev2020010609, 2.0.0.dev2020010709, 2.0.0.dev2020010809, 2.0.0.dev2020010909, 2.0.0.dev2020011009, 2.0.0.dev2020011109, 2.0.0.dev2020011209, 2.0.0.dev2020011309, 2.1.0.dev2020011409, 2.1.0.dev2020011509, 2.1.0.dev2020011609, 2.1.0.dev2020011709, 2.1.0.dev2020011809, 2.1.0.dev2020011909, 2.1.0.dev2020012009, 2.1.0.dev2020012109, 2.1.0.dev2020012209, 2.1.0.dev2020012309, 2.1.0.dev2020022102, 2.1.0.dev2020022109, 2.1.0.dev2020022418, 2.1.0.dev2020022509, 2.1.0.dev2020022609, 2.1.0.dev2020022709, 2.1.0.dev2020022809, 2.1.0.dev2020022901, 2.1.0.dev2020030101, 2.1.0.dev2020030201, 2.1.0.dev2020030301, 2.1.0.dev2020030401, 2.1.0.dev2020030501, 2.1.0.dev2020030601, 2.1.0.dev2020030701, 2.1.0.dev2020030801, 2.1.0.dev2020030901, 2.1.0.dev2020031001, 2.1.0.dev2020031101, 2.3.0.dev2020031201, 2.3.0.dev2020031301, 2.3.0.dev2020031401, 2.3.0.dev2020031501, 2.3.0.dev2020031601, 2.3.0.dev2020031701, 2.3.0.dev2020031801, 2.3.0.dev2020031901, 2.3.0.dev2020032001, 2.3.0.dev2020032101, 2.3.0.dev2020032201, 2.3.0.dev2020032301, 2.3.0.dev2020032401, 2.3.0.dev2020032501, 2.3.0.dev2020032701, 2.3.0.dev2020032801, 2.3.0.dev2020032901, 2.3.0.dev2020033001, 2.3.0.dev2020033101, 2.3.0.dev2020040101, 2.3.0.dev2020040201, 2.3.0.dev2020040301, 2.3.0.dev2020040501, 2.3.0.dev2020040601, 2.3.0.dev2020040701, 2.3.0.dev2020040801, 2.3.0.dev2020040901, 2.3.0.dev2020041001, 2.3.0.dev2020041101, 2.3.0.dev2020041201, 2.3.0.dev2020041301, 2.3.0.dev2020041401, 2.3.0.dev2020041501, 2.3.0.dev2020041601, 2.3.0.dev2020041701, 2.3.0.dev2020041801, 2.3.0.dev2020041901, 2.3.0.dev2020042001, 2.3.0.dev2020042101, 2.3.0.dev2020042201, 2.3.0.dev2020042301, 2.3.0.dev2020042401, 2.3.0.dev2020042501, 2.3.0.dev2020042601, 2.3.0.dev2020042701, 2.3.0.dev2020042801, 2.3.0.dev2020042901, 2.3.0.dev2020043001, 2.3.0.dev2020050101, 2.3.0.dev2020050201, 2.3.0.dev2020050301, 2.3.0.dev2020050401, 2.3.0.dev2020050501, 2.3.0.dev2020050601, 2.3.0.dev2020050701, 2.3.0.dev2020050801, 2.3.0.dev2020050901, 2.3.0.dev2020051001, 2.3.0.dev2020051101, 2.3.0.dev2020051201, 2.3.0.dev2020051301, 2.3.0.dev2020051401, 2.3.0.dev2020051501, 2.3.0.dev2020051601, 2.3.0.dev2020051801, 2.3.0.dev2020051901, 2.3.0.dev2020052001, 2.3.0.dev2020052101, 2.3.0.dev2020052616, 2.3.0.dev2020052701, 2.3.0.dev2020052812, 2.3.0.dev2020052901, 2.3.0.dev2020053001, 2.3.0.dev2020053101, 2.3.0.dev2020060101, 2.3.0.dev2020060201, 2.3.0.dev2020060323, 2.3.0.dev2020060401, 2.3.0.dev2020060501, 2.3.0.dev2020060601, 2.3.0.dev2020060701, 2.3.0.dev2020060801, 2.3.0.dev2020060901, 2.3.0.dev2020061101, 2.3.0.dev2020061201, 2.3.0.dev2020061301, 2.3.0.dev2020061401, 2.3.0.dev2020061501, 2.3.0.dev2020061601, 2.3.0.dev2020061701, 2.3.0.dev2020061801, 2.3.0.dev2020061901, 2.3.0.dev2020062001, 2.3.0.dev2020062101, 2.3.0.dev2020062201, 2.3.0.dev2020062301, 2.3.0.dev2020062401, 2.3.0.dev2020062501, 2.3.0.dev2020062601, 2.4.0.dev2020063001, 2.4.0.dev2020070101, 2.4.0.dev2020070201, 2.4.0.dev2020070301, 2.4.0.dev2020070401, 2.4.0.dev2020070501, 2.4.0.dev2020070601, 2.4.0.dev2020070701, 2.4.0.dev2020070801, 2.4.0.dev2020070901, 2.4.0.dev2020071001, 2.4.0.dev2020071101, 2.4.0.dev2020071201, 2.4.0.dev2020071301, 2.4.0.dev2020071401, 2.4.0.dev2020071501, 2.4.0.dev2020071601, 2.4.0.dev2020071701, 2.4.0.dev2020071801, 2.4.0.dev2020071901, 2.4.0.dev2020072001, 2.4.0.dev2020072101, 2.4.0.dev2020072201, 2.4.0.dev2020072301, 2.4.0.dev2020072401, 2.4.0.dev2020072501, 2.4.0.dev2020072601, 2.4.0.dev2020072701, 2.4.0.dev2020072801, 2.4.0.dev2020072901, 2.4.0.dev2020073001, 2.4.0.dev2020073101, 2.4.0.dev2020080101, 2.4.0.dev2020080201, 2.4.0.dev2020080301, 2.4.0.dev2020080401, 2.4.0.dev2020080501, 2.4.0.dev2020080601, 2.4.0.dev2020080701, 2.4.0.dev2020080801, 2.4.0.dev2020080901, 2.4.0.dev2020081001, 2.4.0.dev2020081101, 2.4.0.dev2020081201, 2.4.0.dev2020081301, 2.4.0.dev2020081401, 2.4.0.dev2020081501, 2.4.0.dev2020081601, 2.4.0.dev2020081701, 2.4.0.dev2020081801, 2.4.0.dev2020081901, 2.4.0.dev2020082001, 2.4.0.dev2020082101, 2.4.0.dev2020082201, 2.4.0.dev2020082301, 2.4.0.dev2020082401, 2.4.0.dev2020082501, 2.4.0.dev2020082601, 2.4.0.dev2020082701, 2.4.0.dev2020082801, 2.4.0.dev2020082901, 2.4.0.dev2020083001, 2.4.0.dev2020083101, 2.4.0.dev2020090101, 2.4.0.dev2020090201, 2.4.0.dev2020090301, 2.4.0.dev2020090401, 2.4.0.dev2020090501, 2.4.0.dev2020090601, 2.4.0.dev2020090701, 2.4.0.dev2020090801, 2.4.0.dev2020090901, 2.4.0.dev2020091001, 2.4.0.dev2020091101, 2.4.0.dev2020091201, 2.4.0.dev2020091301, 2.4.0.dev2020091401, 2.4.0.dev2020091501, 2.4.0.dev2020091601, 2.4.0.dev2020091701, 2.4.0.dev2020091801, 2.4.0.dev2020092301, 2.4.0.dev2020092401, 2.4.0.dev2020092501, 2.4.0.dev2020092601, 2.4.0.dev2020092701, 2.4.0.dev2020092801, 2.4.0.dev2020092901, 2.4.0.dev2020093001, 2.4.0.dev2020100101, 2.4.0.dev2020100201, 2.4.0.dev2020100301, 2.4.0.dev2020100401, 2.4.0.dev2020100501, 2.4.0.dev2020100601, 2.4.0.dev2020100701, 2.4.0.dev2020100801, 2.4.0.dev2020100901, 2.4.0.dev2020101001, 2.4.0.dev2020101101, 2.4.0.dev2020101201, 2.4.0.dev2020101301, 2.4.0.dev2020101401, 2.4.0.dev2020101501, 2.4.0.dev2020101601, 2.4.0.dev2020101701, 2.4.0.dev2020101801, 2.4.0.dev2020101901, 2.4.0.dev2020102001, 2.4.0.dev2020102101, 2.4.0.dev2020102201, 2.4.0.dev2020102301, 2.5.0.dev2020102401, 2.5.0.dev2020102501, 2.5.0.dev2020102601, 2.5.0.dev2020102701, 2.5.0.dev2020102801, 2.5.0.dev2020102901, 2.5.0.dev2020103001, 2.5.0.dev2020103101, 2.5.0.dev2020110101, 2.5.0.dev2020110201, 2.5.0.dev2020110301, 2.5.0.dev2020110401, 2.5.0.dev2020110501, 2.5.0.dev2020110601, 2.5.0.dev2020110701, 2.5.0.dev2020110801, 2.5.0.dev2020110901, 2.5.0.dev2020111001, 2.5.0.dev2020111101, 2.5.0.dev2020111301, 2.5.0.dev2020111401, 2.5.0.dev2020111501, 2.5.0.dev2020111601, 2.5.0.dev2020111701, 2.5.0.dev2020111801, 2.5.0.dev2020111901, 2.5.0.dev2020112001, 2.5.0.dev2020112101, 2.5.0.dev2020112201, 2.5.0.dev2020112301, 2.5.0.dev2020112401, 2.5.0.dev2020112501, 2.5.0.dev2020112601, 2.5.0.dev2020112701, 2.5.0.dev2020112801, 2.5.0.dev2020112901, 2.5.0.dev2020113001, 2.5.0.dev2020120101, 2.5.0.dev2020120201, 2.5.0.dev2020120301, 2.5.0.dev2020120401, 2.5.0.dev2020120501, 2.5.0.dev2020120601, 2.5.0.dev2020120701, 2.5.0.dev2020120801, 2.5.0.dev2020120901, 2.5.0.dev2020121012, 2.5.0.dev2020121101, 2.5.0.dev2020121201, 2.5.0.dev2020121301, 2.5.0.dev2020121401, 2.5.0.dev2020121501, 2.5.0.dev2020121601, 2.5.0.dev2020121701, 2.5.0.dev2020121801, 2.5.0.dev2020121901, 2.5.0.dev2020122001, 2.5.0.dev2020122101, 2.5.0.dev2020122201, 2.5.0.dev2020122301, 2.5.0.dev2020122401, 2.5.0.dev2020122501, 2.5.0.dev2020122601, 2.5.0.dev2020122701, 2.5.0.dev2020122801, 2.5.0.dev2020122901, 2.5.0.dev2020123001, 2.5.0.dev2020123101, 2.5.0.dev2021010101, 2.5.0.dev2021010201, 2.5.0.dev2021010301, 2.5.0.dev2021010401, 2.5.0.dev2021010501, 2.5.0.dev2021010601, 2.5.0.dev2021010701, 2.5.0.dev2021010801, 2.5.0.dev2021010901, 2.5.0.dev2021011001, 2.5.0.dev2021011101, 2.5.0.dev2021011201, 2.5.0.dev2021011301, 2.5.0.dev2021011401, 2.5.0.dev2021011501, 2.5.0.dev2021011601, 2.5.0.dev2021011701, 2.5.0.dev2021011801, 2.5.0.dev2021011901, 2.5.0.dev2021012001, 2.5.0.dev2021012101, 2.5.0.dev2021012201, 2.5.0.dev2021012301, 2.5.0.dev2021012401, 2.5.0.dev2021012501, 2.5.0.dev2021012601, 2.5.0.dev2021012701, 2.5.0.dev2021012801, 2.5.0.dev2021012901, 2.5.0.dev2021013001, 2.5.0.dev2021013101, 2.5.0.dev2021020101, 2.5.0.dev2021020201, 2.5.0.dev2021020301, 2.5.0.dev2021020401, 2.5.0.dev2021020501, 2.5.0.dev2021020601, 2.5.0.dev2021020701, 2.5.0.dev2021020801, 2.5.0.dev2021020901, 2.5.0.dev2021021001, 2.5.0.dev2021021101, 2.5.0.dev2021021201, 2.5.0.dev2021021301, 2.5.0.dev2021021401, 2.5.0.dev2021021501, 2.5.0.dev2021021601, 2.5.0.dev2021021701, 2.5.0.dev2021021801, 2.5.0.dev2021021901, 2.5.0.dev2021022001, 2.5.0.dev2021022101, 2.5.0.dev2021022201, 2.5.0.dev2021022301, 2.5.0.dev2021022401, 2.5.0.dev2021022501, 2.5.0.dev2021022601, 2.5.0.dev2021022701, 2.5.0.dev2021022801, 2.5.0.dev2021030101, 2.5.0.dev2021030201, 2.5.0.dev2021030301, 2.5.0.dev2021030401, 2.5.0.dev2021030501, 2.5.0.dev2021030601, 2.5.0.dev2021030701, 2.5.0.dev2021030801, 2.5.0.dev2021030901, 2.5.0.dev2021031001, 2.5.0.dev2021031101, 2.5.0.dev2021031201, 2.5.0.dev2021031301, 2.5.0.dev2021031401, 2.5.0.dev2021031501, 2.5.0.dev2021031601, 2.5.0.dev2021031701, 2.5.0.dev2021031801, 2.5.0.dev2021031901, 2.5.0.dev2021032001, 2.5.0.dev2021032101, 2.5.0.dev2021032201, 2.5.0.dev2021032301, 2.5.0.dev2021032401, 2.5.0.dev2021032501, 2.5.0.dev2021032601, 2.6.0.dev2021032701, 2.6.0.dev2021032801, 2.6.0.dev2021032901, 2.6.0.dev2021033001, 2.6.0.dev2021033101, 2.6.0.dev2021040101, 2.6.0.dev2021040201, 2.6.0.dev2021040301, 2.6.0.dev2021040401, 2.6.0.dev2021040501, 2.6.0.dev2021040601, 2.6.0.dev2021040701, 2.6.0.dev2021040801, 2.6.0.dev2021040901, 2.6.0.dev2021041001, 2.6.0.dev2021041101, 2.6.0.dev2021041201, 2.6.0.dev2021041301, 2.6.0.dev2021041401, 2.6.0.dev2021041501, 2.6.0.dev2021041601, 2.6.0.dev2021041701, 2.6.0.dev2021041801, 2.6.0.dev2021041901, 2.6.0.dev2021042001, 2.6.0.dev2021042101, 2.6.0.dev2021042201, 2.6.0.dev2021042301, 2.6.0.dev2021042401, 2.6.0.dev2021042501, 2.6.0.dev2021042601, 2.6.0.dev2021042701, 2.6.0.dev2021042801, 2.6.0.dev2021042901, 2.6.0.dev2021043001, 2.6.0.dev2021050101, 2.6.0.dev2021050201, 2.6.0.dev2021050301, 2.6.0.dev2021050401, 2.6.0.dev2021050501, 2.6.0.dev2021050601, 2.6.0.dev2021050701, 2.6.0.dev2021050801, 2.6.0.dev2021050901, 2.6.0.dev2021051001, 2.6.0.dev2021051101, 2.6.0.dev2021051201, 2.6.0.dev2021051301, 2.6.0.dev2021051801, 2.6.0.dev2021051901, 2.6.0.dev2021052001, 2.6.0.dev2021052101, 2.6.0.dev2021052201, 2.6.0.dev2021052301, 2.6.0.dev2021052401, 2.6.0.dev2021052501, 2.6.0.dev2021052601, 2.6.0.dev2021052701, 2.6.0.dev2021052801, 2.6.0.dev2021052901, 2.6.0.dev2021053001, 2.6.0.dev2021053101, 2.6.0.dev2021060101, 2.6.0.dev2021060201, 2.6.0.dev2021060301, 2.6.0.dev2021060401, 2.6.0.dev2021060501, 2.6.0.dev2021060601, 2.6.0.dev2021060701, 2.6.0.dev2021060801, 2.6.0.dev2021060901, 2.6.0.dev2021061001, 2.6.0.dev2021061101, 2.6.0.dev2021061201, 2.6.0.dev2021061301, 2.6.0.dev2021061401, 2.6.0.dev2021061501, 2.6.0.dev2021061601, 2.6.0.dev2021062301, 2.6.0.dev2021062401, 2.6.0.dev2021062501, 2.7.0.dev2021062601, 2.7.0.dev2021062701, 2.7.0.dev2021062801, 2.7.0.dev2021062901, 2.7.0.dev2021063001, 2.7.0.dev2021070101, 2.7.0.dev2021070201, 2.7.0.dev2021070301, 2.7.0.dev2021070401, 2.7.0.dev2021070501, 2.7.0.dev2021070601, 2.7.0.dev2021070701, 2.7.0.dev2021070801, 2.7.0.dev2021070901, 2.7.0.dev2021071001, 2.7.0.dev2021071101, 2.7.0.dev2021071201, 2.7.0.dev2021071301, 2.7.0.dev2021071401, 2.7.0.dev2021071501, 2.7.0.dev2021071601, 2.7.0.dev2021071701, 2.7.0.dev2021071801, 2.7.0.dev2021071901, 2.7.0.dev2021072001, 2.7.0.dev2021072101, 2.7.0.dev2021072201, 2.7.0.dev2021072301, 2.7.0.dev2021072401, 2.7.0.dev2021072501, 2.7.0.dev2021072601, 2.7.0.dev2021072701, 2.7.0.dev2021072801, 2.7.0.dev2021072901, 2.7.0.dev2021073001, 2.7.0.dev2021073101, 2.7.0.dev2021080101, 2.7.0.dev2021080201, 2.7.0.dev2021080301, 2.7.0.dev2021080401, 2.7.0.dev2021080501, 2.7.0.dev2021080601, 2.7.0.dev2021080701, 2.7.0.dev2021080801, 2.7.0.dev2021080901, 2.7.0.dev2021081001, 2.7.0.dev2021081101, 2.7.0.dev2021081308, 2.7.0.dev2021081408, 2.7.0.dev2021081508, 2.7.0.dev2021081608, 2.7.0.dev2021081708, 2.7.0.dev2021081808, 2.7.0.dev2021081908, 2.7.0.dev2021082008, 2.7.0.dev2021082108, 2.7.0.dev2021082208, 2.7.0.dev2021082308, 2.7.0.dev2021082408, 2.7.0.dev2021082508, 2.7.0.dev2021082608, 2.7.0.dev2021082708, 2.7.0.dev2021082908, 2.7.0.dev2021083008, 2.7.0.dev2021083108, 2.7.0.dev2021090108, 2.7.0.dev2021090208, 2.7.0.dev2021090308, 2.7.0.dev2021090408, 2.7.0.dev2021090508, 2.7.0.dev2021090608, 2.7.0.dev2021090708, 2.7.0.dev2021090808, 2.7.0.dev2021090908, 2.7.0.dev2021091008, 2.7.0.dev2021091108, 2.7.0.dev2021091208, 2.7.0.dev2021091308, 2.7.0.dev2021091408, 2.7.0.dev2021091508, 2.7.0.dev2021091608, 2.7.0.dev2021091708, 2.7.0.dev2021091808, 2.7.0.dev2021091908, 2.7.0.dev2021092008, 2.7.0.dev2021092108, 2.7.0.dev2021092208, 2.7.0.dev2021092308, 2.7.0.dev2021092408, 2.8.0.dev2021092508, 2.8.0.dev2021092608, 2.8.0.dev2021092708, 2.8.0.dev2021092808, 2.8.0.dev2021092908, 2.8.0.dev2021093008, 2.8.0.dev2021100108, 2.8.0.dev2021100208, 2.8.0.dev2021100308, 2.8.0.dev2021100408, 2.8.0.dev2021100508, 2.8.0.dev2021100608, 2.8.0.dev2021100708, 2.8.0.dev2021100808, 2.8.0.dev2021100908, 2.8.0.dev2021101008, 2.8.0.dev2021101108, 2.8.0.dev2021101208, 2.8.0.dev2021101308, 2.8.0.dev2021101408, 2.8.0.dev2021101508, 2.8.0.dev2021101608, 2.8.0.dev2021101708, 2.8.0.dev2021101808, 2.8.0.dev2021101908, 2.8.0.dev2021102008, 2.8.0.dev2021102108, 2.8.0.dev2021102208, 2.8.0.dev2021102308, 2.8.0.dev2021102408, 2.8.0.dev2021102508, 2.8.0.dev2021102608, 2.8.0.dev2021102708, 2.8.0.dev2021102808, 2.8.0.dev2021102908, 2.8.0.dev2021103008, 2.8.0.dev2021103108, 2.8.0.dev2021110108, 2.8.0.dev2021110208, 2.8.0.dev2021110308, 2.8.0.dev2021110408, 2.8.0.dev2021110508, 2.8.0.dev2021110608, 2.8.0.dev2021110708, 2.8.0.dev2021110809, 2.8.0.dev2021110909, 2.8.0.dev2021111009, 2.8.0.dev2021111109, 2.8.0.dev2021111209, 2.8.0.dev2021111309, 2.8.0.dev2021111409, 2.8.0.dev2021111509, 2.8.0.dev2021111609, 2.8.0.dev2021111709, 2.8.0.dev2021111809, 2.8.0.dev2021111909, 2.8.0.dev2021112009, 2.8.0.dev2021112109, 2.8.0.dev2021112209, 2.8.0.dev2021112309, 2.8.0.dev2021112409, 2.8.0.dev2021112509, 2.8.0.dev2021112609, 2.8.0.dev2021112709, 2.8.0.dev2021112809, 2.8.0.dev2021112909, 2.8.0.dev2021113009, 2.8.0.dev2021120109, 2.8.0.dev2021120209, 2.8.0.dev2021120309, 2.8.0.dev2021120409, 2.8.0.dev2021120509, 2.8.0.dev2021120609, 2.8.0.dev2021120709, 2.8.0.dev2021120809, 2.8.0.dev2021120909, 2.8.0.dev2021121009, 2.8.0.dev2021121109, 2.8.0.dev2021121209, 2.8.0.dev2021121309, 2.8.0.dev2021121409, 2.8.0.dev2021121509, 2.8.0.dev2021121609, 2.8.0.dev2021121709, 2.8.0.dev2021121809, 2.8.0.dev2021121909, 2.8.0.dev2021122009, 2.8.0.dev2021122109, 2.9.0.dev2021122209, 2.9.0.dev2021122309, 2.9.0.dev2021122409, 2.9.0.dev2021122509, 2.9.0.dev2021122609, 2.9.0.dev2021122709, 2.9.0.dev2021122809, 2.9.0.dev2021122909, 2.9.0.dev2021123009, 2.9.0.dev2021123109, 2.9.0.dev2022010109, 2.9.0.dev2022010209, 2.9.0.dev2022010309, 2.9.0.dev2022010409, 2.9.0.dev2022010509, 2.9.0.dev2022010609, 2.9.0.dev2022010709, 2.9.0.dev2022010809, 2.9.0.dev2022010909, 2.9.0.dev2022011009, 2.9.0.dev2022011109, 2.9.0.dev2022011209, 2.9.0.dev2022011309, 2.9.0.dev2022011409, 2.9.0.dev2022011509, 2.9.0.dev2022011609, 2.9.0.dev2022011709, 2.9.0.dev2022011809, 2.9.0.dev2022011909, 2.9.0.dev2022012009, 2.9.0.dev2022012109, 2.9.0.dev2022012209, 2.9.0.dev2022012309, 2.9.0.dev2022012409, 2.9.0.dev2022012509, 2.9.0.dev2022012609, 2.9.0.dev2022012709, 2.9.0.dev2022012809, 2.9.0.dev2022012909, 2.9.0.dev2022013009, 2.9.0.dev2022013109, 2.9.0.dev2022020109, 2.9.0.dev2022020209, 2.9.0.dev2022020309, 2.9.0.dev2022020409, 2.9.0.dev2022020509, 2.9.0.dev2022020609, 2.9.0.dev2022020709, 2.9.0.dev2022020809, 2.9.0.dev2022020909, 2.9.0.dev2022021009, 2.9.0.dev2022021109, 2.9.0.dev2022021209, 2.9.0.dev2022021309, 2.9.0.dev2022021409, 2.9.0.dev2022021509, 2.9.0.dev2022021609, 2.9.0.dev2022021709, 2.9.0.dev2022021909, 2.9.0.dev2022022009, 2.9.0.dev2022022109, 2.9.0.dev2022022209, 2.9.0.dev2022022309, 2.9.0.dev2022022409, 2.9.0.dev2022022509, 2.9.0.dev2022022609, 2.9.0.dev2022022709, 2.9.0.dev2022022809, 2.9.0.dev2022030109, 2.9.0.dev2022030209, 2.9.0.dev2022030309, 2.9.0.dev2022030409, 2.9.0.dev2022030509, 2.9.0.dev2022030609, 2.9.0.dev2022030709, 2.9.0.dev2022030809, 2.9.0.dev2022030909, 2.9.0.dev2022031009, 2.9.0.dev2022031109, 2.9.0.dev2022031209, 2.9.0.dev2022031309, 2.9.0.dev2022031408, 2.9.0.dev2022031508, 2.9.0.dev2022031608, 2.9.0.dev2022031708, 2.9.0.dev2022031808, 2.9.0.dev2022031908, 2.9.0.dev2022032008, 2.9.0.dev2022032108, 2.9.0.dev2022032208, 2.9.0.dev2022032308, 2.9.0.dev2022032408, 2.9.0.dev2022032508, 2.9.0.dev2022032608, 2.9.0.dev2022032708, 2.9.0.dev2022032808, 2.9.0.dev2022032908, 2.9.0.dev2022033008, 2.9.0.dev2022033108, 2.10.0.dev2022040108, 2.10.0.dev2022040208, 2.10.0.dev2022040308, 2.10.0.dev2022040408, 2.10.0.dev2022040508, 2.10.0.dev2022040608, 2.10.0.dev2022040708, 2.10.0.dev2022040808, 2.10.0.dev2022040908, 2.10.0.dev2022041008, 2.10.0.dev2022041108, 2.10.0.dev2022041208, 2.10.0.dev2022041308, 2.10.0.dev2022041408, 2.10.0.dev2022041508, 2.10.0.dev2022041608, 2.10.0.dev2022041708, 2.10.0.dev2022041808, 2.10.0.dev2022041908, 2.10.0.dev2022042008, 2.10.0.dev2022042108, 2.10.0.dev2022042208, 2.10.0.dev2022042308, 2.10.0.dev2022042408, 2.10.0.dev2022042508, 2.10.0.dev2022042608, 2.10.0.dev2022042708, 2.10.0.dev2022042808, 2.10.0.dev2022042908, 2.10.0.dev2022043008, 2.10.0.dev2022050108, 2.10.0.dev2022050208, 2.10.0.dev2022050308, 2.10.0.dev2022050408, 2.10.0.dev2022050508, 2.10.0.dev2022050608, 2.10.0.dev2022050708, 2.10.0.dev2022050908, 2.10.0.dev2022051008, 2.10.0.dev2022051208, 2.10.0.dev2022051308, 2.10.0.dev2022051408, 2.10.0.dev2022051908, 2.10.0.dev2022052008, 2.10.0.dev2022052108, 2.10.0.dev2022052208, 2.10.0.dev2022052308, 2.10.0.dev2022052408)\u001b[0m\n",
            "\u001b[31mERROR: No matching distribution found for tf-estimator-nightly==2.8.0\u001b[0m\n",
            "Looking in indexes: https://pypi.org/simple, https://us-python.pkg.dev/colab-wheels/public/simple/\n",
            "Requirement already satisfied: spacy==3.2.0 in /usr/local/lib/python3.7/dist-packages (3.2.0)\n",
            "Requirement already satisfied: preshed<3.1.0,>=3.0.2 in /usr/local/lib/python3.7/dist-packages (from spacy==3.2.0) (3.0.6)\n",
            "Requirement already satisfied: pydantic!=1.8,!=1.8.1,<1.9.0,>=1.7.4 in /usr/local/lib/python3.7/dist-packages (from spacy==3.2.0) (1.8.2)\n",
            "Requirement already satisfied: numpy>=1.15.0 in /usr/local/lib/python3.7/dist-packages (from spacy==3.2.0) (1.21.6)\n",
            "Requirement already satisfied: thinc<8.1.0,>=8.0.12 in /usr/local/lib/python3.7/dist-packages (from spacy==3.2.0) (8.0.16)\n",
            "Requirement already satisfied: typing-extensions<4.0.0.0,>=3.7.4 in /usr/local/lib/python3.7/dist-packages (from spacy==3.2.0) (3.10.0.2)\n",
            "Requirement already satisfied: cymem<2.1.0,>=2.0.2 in /usr/local/lib/python3.7/dist-packages (from spacy==3.2.0) (2.0.6)\n",
            "Requirement already satisfied: requests<3.0.0,>=2.13.0 in /usr/local/lib/python3.7/dist-packages (from spacy==3.2.0) (2.23.0)\n",
            "Requirement already satisfied: setuptools in /usr/local/lib/python3.7/dist-packages (from spacy==3.2.0) (57.4.0)\n",
            "Requirement already satisfied: catalogue<2.1.0,>=2.0.6 in /usr/local/lib/python3.7/dist-packages (from spacy==3.2.0) (2.0.7)\n",
            "Requirement already satisfied: srsly<3.0.0,>=2.4.1 in /usr/local/lib/python3.7/dist-packages (from spacy==3.2.0) (2.4.3)\n",
            "Requirement already satisfied: packaging>=20.0 in /usr/local/lib/python3.7/dist-packages (from spacy==3.2.0) (21.3)\n",
            "Requirement already satisfied: spacy-loggers<2.0.0,>=1.0.0 in /usr/local/lib/python3.7/dist-packages (from spacy==3.2.0) (1.0.2)\n",
            "Requirement already satisfied: jinja2 in /usr/local/lib/python3.7/dist-packages (from spacy==3.2.0) (2.11.3)\n",
            "Requirement already satisfied: typer<0.5.0,>=0.3.0 in /usr/local/lib/python3.7/dist-packages (from spacy==3.2.0) (0.4.1)\n",
            "Requirement already satisfied: pathy>=0.3.5 in /usr/local/lib/python3.7/dist-packages (from spacy==3.2.0) (0.6.1)\n",
            "Requirement already satisfied: murmurhash<1.1.0,>=0.28.0 in /usr/local/lib/python3.7/dist-packages (from spacy==3.2.0) (1.0.7)\n",
            "Requirement already satisfied: spacy-legacy<3.1.0,>=3.0.8 in /usr/local/lib/python3.7/dist-packages (from spacy==3.2.0) (3.0.9)\n",
            "Requirement already satisfied: blis<0.8.0,>=0.4.0 in /usr/local/lib/python3.7/dist-packages (from spacy==3.2.0) (0.4.1)\n",
            "Requirement already satisfied: tqdm<5.0.0,>=4.38.0 in /usr/local/lib/python3.7/dist-packages (from spacy==3.2.0) (4.64.0)\n",
            "Requirement already satisfied: wasabi<1.1.0,>=0.8.1 in /usr/local/lib/python3.7/dist-packages (from spacy==3.2.0) (0.9.1)\n",
            "Requirement already satisfied: langcodes<4.0.0,>=3.2.0 in /usr/local/lib/python3.7/dist-packages (from spacy==3.2.0) (3.3.0)\n",
            "Requirement already satisfied: zipp>=0.5 in /usr/local/lib/python3.7/dist-packages (from catalogue<2.1.0,>=2.0.6->spacy==3.2.0) (3.8.0)\n",
            "Requirement already satisfied: pyparsing!=3.0.5,>=2.0.2 in /usr/local/lib/python3.7/dist-packages (from packaging>=20.0->spacy==3.2.0) (3.0.9)\n",
            "Requirement already satisfied: smart-open<6.0.0,>=5.0.0 in /usr/local/lib/python3.7/dist-packages (from pathy>=0.3.5->spacy==3.2.0) (5.2.1)\n",
            "Requirement already satisfied: chardet<4,>=3.0.2 in /usr/local/lib/python3.7/dist-packages (from requests<3.0.0,>=2.13.0->spacy==3.2.0) (3.0.4)\n",
            "Requirement already satisfied: urllib3!=1.25.0,!=1.25.1,<1.26,>=1.21.1 in /usr/local/lib/python3.7/dist-packages (from requests<3.0.0,>=2.13.0->spacy==3.2.0) (1.24.3)\n",
            "Requirement already satisfied: idna<3,>=2.5 in /usr/local/lib/python3.7/dist-packages (from requests<3.0.0,>=2.13.0->spacy==3.2.0) (2.10)\n",
            "Requirement already satisfied: certifi>=2017.4.17 in /usr/local/lib/python3.7/dist-packages (from requests<3.0.0,>=2.13.0->spacy==3.2.0) (2022.5.18.1)\n",
            "Requirement already satisfied: click<9.0.0,>=7.1.1 in /usr/local/lib/python3.7/dist-packages (from typer<0.5.0,>=0.3.0->spacy==3.2.0) (7.1.2)\n",
            "Requirement already satisfied: MarkupSafe>=0.23 in /usr/local/lib/python3.7/dist-packages (from jinja2->spacy==3.2.0) (2.0.1)\n",
            "Looking in indexes: https://pypi.org/simple, https://us-python.pkg.dev/colab-wheels/public/simple/\n",
            "Collecting mk-core-news-sm==3.2.0\n",
            "  Using cached https://github.com/explosion/spacy-models/releases/download/mk_core_news_sm-3.2.0/mk_core_news_sm-3.2.0-py3-none-any.whl (19.6 MB)\n",
            "Requirement already satisfied: spacy<3.3.0,>=3.2.0 in /usr/local/lib/python3.7/dist-packages (from mk-core-news-sm==3.2.0) (3.2.0)\n",
            "Requirement already satisfied: srsly<3.0.0,>=2.4.1 in /usr/local/lib/python3.7/dist-packages (from spacy<3.3.0,>=3.2.0->mk-core-news-sm==3.2.0) (2.4.3)\n",
            "Requirement already satisfied: wasabi<1.1.0,>=0.8.1 in /usr/local/lib/python3.7/dist-packages (from spacy<3.3.0,>=3.2.0->mk-core-news-sm==3.2.0) (0.9.1)\n",
            "Requirement already satisfied: setuptools in /usr/local/lib/python3.7/dist-packages (from spacy<3.3.0,>=3.2.0->mk-core-news-sm==3.2.0) (57.4.0)\n",
            "Requirement already satisfied: murmurhash<1.1.0,>=0.28.0 in /usr/local/lib/python3.7/dist-packages (from spacy<3.3.0,>=3.2.0->mk-core-news-sm==3.2.0) (1.0.7)\n",
            "Requirement already satisfied: spacy-legacy<3.1.0,>=3.0.8 in /usr/local/lib/python3.7/dist-packages (from spacy<3.3.0,>=3.2.0->mk-core-news-sm==3.2.0) (3.0.9)\n",
            "Requirement already satisfied: packaging>=20.0 in /usr/local/lib/python3.7/dist-packages (from spacy<3.3.0,>=3.2.0->mk-core-news-sm==3.2.0) (21.3)\n",
            "Requirement already satisfied: typer<0.5.0,>=0.3.0 in /usr/local/lib/python3.7/dist-packages (from spacy<3.3.0,>=3.2.0->mk-core-news-sm==3.2.0) (0.4.1)\n",
            "Requirement already satisfied: langcodes<4.0.0,>=3.2.0 in /usr/local/lib/python3.7/dist-packages (from spacy<3.3.0,>=3.2.0->mk-core-news-sm==3.2.0) (3.3.0)\n",
            "Requirement already satisfied: pathy>=0.3.5 in /usr/local/lib/python3.7/dist-packages (from spacy<3.3.0,>=3.2.0->mk-core-news-sm==3.2.0) (0.6.1)\n",
            "Requirement already satisfied: jinja2 in /usr/local/lib/python3.7/dist-packages (from spacy<3.3.0,>=3.2.0->mk-core-news-sm==3.2.0) (2.11.3)\n",
            "Requirement already satisfied: thinc<8.1.0,>=8.0.12 in /usr/local/lib/python3.7/dist-packages (from spacy<3.3.0,>=3.2.0->mk-core-news-sm==3.2.0) (8.0.16)\n",
            "Requirement already satisfied: numpy>=1.15.0 in /usr/local/lib/python3.7/dist-packages (from spacy<3.3.0,>=3.2.0->mk-core-news-sm==3.2.0) (1.21.6)\n",
            "Requirement already satisfied: catalogue<2.1.0,>=2.0.6 in /usr/local/lib/python3.7/dist-packages (from spacy<3.3.0,>=3.2.0->mk-core-news-sm==3.2.0) (2.0.7)\n",
            "Requirement already satisfied: requests<3.0.0,>=2.13.0 in /usr/local/lib/python3.7/dist-packages (from spacy<3.3.0,>=3.2.0->mk-core-news-sm==3.2.0) (2.23.0)\n",
            "Requirement already satisfied: pydantic!=1.8,!=1.8.1,<1.9.0,>=1.7.4 in /usr/local/lib/python3.7/dist-packages (from spacy<3.3.0,>=3.2.0->mk-core-news-sm==3.2.0) (1.8.2)\n",
            "Requirement already satisfied: typing-extensions<4.0.0.0,>=3.7.4 in /usr/local/lib/python3.7/dist-packages (from spacy<3.3.0,>=3.2.0->mk-core-news-sm==3.2.0) (3.10.0.2)\n",
            "Requirement already satisfied: tqdm<5.0.0,>=4.38.0 in /usr/local/lib/python3.7/dist-packages (from spacy<3.3.0,>=3.2.0->mk-core-news-sm==3.2.0) (4.64.0)\n",
            "Requirement already satisfied: preshed<3.1.0,>=3.0.2 in /usr/local/lib/python3.7/dist-packages (from spacy<3.3.0,>=3.2.0->mk-core-news-sm==3.2.0) (3.0.6)\n",
            "Requirement already satisfied: cymem<2.1.0,>=2.0.2 in /usr/local/lib/python3.7/dist-packages (from spacy<3.3.0,>=3.2.0->mk-core-news-sm==3.2.0) (2.0.6)\n",
            "Requirement already satisfied: blis<0.8.0,>=0.4.0 in /usr/local/lib/python3.7/dist-packages (from spacy<3.3.0,>=3.2.0->mk-core-news-sm==3.2.0) (0.4.1)\n",
            "Requirement already satisfied: spacy-loggers<2.0.0,>=1.0.0 in /usr/local/lib/python3.7/dist-packages (from spacy<3.3.0,>=3.2.0->mk-core-news-sm==3.2.0) (1.0.2)\n",
            "Requirement already satisfied: zipp>=0.5 in /usr/local/lib/python3.7/dist-packages (from catalogue<2.1.0,>=2.0.6->spacy<3.3.0,>=3.2.0->mk-core-news-sm==3.2.0) (3.8.0)\n",
            "Requirement already satisfied: pyparsing!=3.0.5,>=2.0.2 in /usr/local/lib/python3.7/dist-packages (from packaging>=20.0->spacy<3.3.0,>=3.2.0->mk-core-news-sm==3.2.0) (3.0.9)\n",
            "Requirement already satisfied: smart-open<6.0.0,>=5.0.0 in /usr/local/lib/python3.7/dist-packages (from pathy>=0.3.5->spacy<3.3.0,>=3.2.0->mk-core-news-sm==3.2.0) (5.2.1)\n",
            "Requirement already satisfied: certifi>=2017.4.17 in /usr/local/lib/python3.7/dist-packages (from requests<3.0.0,>=2.13.0->spacy<3.3.0,>=3.2.0->mk-core-news-sm==3.2.0) (2022.5.18.1)\n",
            "Requirement already satisfied: idna<3,>=2.5 in /usr/local/lib/python3.7/dist-packages (from requests<3.0.0,>=2.13.0->spacy<3.3.0,>=3.2.0->mk-core-news-sm==3.2.0) (2.10)\n",
            "Requirement already satisfied: urllib3!=1.25.0,!=1.25.1,<1.26,>=1.21.1 in /usr/local/lib/python3.7/dist-packages (from requests<3.0.0,>=2.13.0->spacy<3.3.0,>=3.2.0->mk-core-news-sm==3.2.0) (1.24.3)\n",
            "Requirement already satisfied: chardet<4,>=3.0.2 in /usr/local/lib/python3.7/dist-packages (from requests<3.0.0,>=2.13.0->spacy<3.3.0,>=3.2.0->mk-core-news-sm==3.2.0) (3.0.4)\n",
            "Requirement already satisfied: click<9.0.0,>=7.1.1 in /usr/local/lib/python3.7/dist-packages (from typer<0.5.0,>=0.3.0->spacy<3.3.0,>=3.2.0->mk-core-news-sm==3.2.0) (7.1.2)\n",
            "Requirement already satisfied: MarkupSafe>=0.23 in /usr/local/lib/python3.7/dist-packages (from jinja2->spacy<3.3.0,>=3.2.0->mk-core-news-sm==3.2.0) (2.0.1)\n",
            "\u001b[38;5;2m✔ Download and installation successful\u001b[0m\n",
            "You can now load the package via spacy.load('mk_core_news_sm')\n"
          ]
        }
      ]
    },
    {
      "cell_type": "code",
      "metadata": {
        "colab": {
          "base_uri": "https://localhost:8080/"
        },
        "id": "zI-hr_Lti7K6",
        "outputId": "fb0bb6a2-81d6-464e-baca-433eb8bf0b3d"
      },
      "source": [
        "# Whitespace Tokenizer\n",
        "print(text.split())"
      ],
      "execution_count": null,
      "outputs": [
        {
          "output_type": "stream",
          "text": [
            "[\"I'm\", 'working', 'as', 'a', 'Data', 'Scientist', 'in', 'the', 'U.S.', 'and', 'earning', '$140,000.']\n"
          ],
          "name": "stdout"
        }
      ]
    },
    {
      "cell_type": "code",
      "metadata": {
        "id": "QwOeOOd8i7LE",
        "outputId": "c43da155-d2b2-40cd-a56f-e2e177d1ce0a",
        "colab": {
          "base_uri": "https://localhost:8080/"
        }
      },
      "source": [
        "import spacy\n",
        "!python -m spacy download mk_core_news_sm"
      ],
      "execution_count": 3,
      "outputs": [
        {
          "output_type": "stream",
          "name": "stdout",
          "text": [
            "Looking in indexes: https://pypi.org/simple, https://us-python.pkg.dev/colab-wheels/public/simple/\n",
            "Collecting mk-core-news-sm==3.2.0\n",
            "  Downloading https://github.com/explosion/spacy-models/releases/download/mk_core_news_sm-3.2.0/mk_core_news_sm-3.2.0-py3-none-any.whl (19.6 MB)\n",
            "\u001b[K     |████████████████████████████████| 19.6 MB 5.8 MB/s \n",
            "\u001b[?25hRequirement already satisfied: spacy<3.3.0,>=3.2.0 in /usr/local/lib/python3.7/dist-packages (from mk-core-news-sm==3.2.0) (3.2.0)\n",
            "Requirement already satisfied: langcodes<4.0.0,>=3.2.0 in /usr/local/lib/python3.7/dist-packages (from spacy<3.3.0,>=3.2.0->mk-core-news-sm==3.2.0) (3.3.0)\n",
            "Requirement already satisfied: setuptools in /usr/local/lib/python3.7/dist-packages (from spacy<3.3.0,>=3.2.0->mk-core-news-sm==3.2.0) (57.4.0)\n",
            "Requirement already satisfied: jinja2 in /usr/local/lib/python3.7/dist-packages (from spacy<3.3.0,>=3.2.0->mk-core-news-sm==3.2.0) (2.11.3)\n",
            "Requirement already satisfied: blis<0.8.0,>=0.4.0 in /usr/local/lib/python3.7/dist-packages (from spacy<3.3.0,>=3.2.0->mk-core-news-sm==3.2.0) (0.4.1)\n",
            "Requirement already satisfied: pydantic!=1.8,!=1.8.1,<1.9.0,>=1.7.4 in /usr/local/lib/python3.7/dist-packages (from spacy<3.3.0,>=3.2.0->mk-core-news-sm==3.2.0) (1.8.2)\n",
            "Requirement already satisfied: srsly<3.0.0,>=2.4.1 in /usr/local/lib/python3.7/dist-packages (from spacy<3.3.0,>=3.2.0->mk-core-news-sm==3.2.0) (2.4.3)\n",
            "Requirement already satisfied: spacy-legacy<3.1.0,>=3.0.8 in /usr/local/lib/python3.7/dist-packages (from spacy<3.3.0,>=3.2.0->mk-core-news-sm==3.2.0) (3.0.9)\n",
            "Requirement already satisfied: wasabi<1.1.0,>=0.8.1 in /usr/local/lib/python3.7/dist-packages (from spacy<3.3.0,>=3.2.0->mk-core-news-sm==3.2.0) (0.9.1)\n",
            "Requirement already satisfied: catalogue<2.1.0,>=2.0.6 in /usr/local/lib/python3.7/dist-packages (from spacy<3.3.0,>=3.2.0->mk-core-news-sm==3.2.0) (2.0.7)\n",
            "Requirement already satisfied: requests<3.0.0,>=2.13.0 in /usr/local/lib/python3.7/dist-packages (from spacy<3.3.0,>=3.2.0->mk-core-news-sm==3.2.0) (2.23.0)\n",
            "Requirement already satisfied: packaging>=20.0 in /usr/local/lib/python3.7/dist-packages (from spacy<3.3.0,>=3.2.0->mk-core-news-sm==3.2.0) (21.3)\n",
            "Requirement already satisfied: cymem<2.1.0,>=2.0.2 in /usr/local/lib/python3.7/dist-packages (from spacy<3.3.0,>=3.2.0->mk-core-news-sm==3.2.0) (2.0.6)\n",
            "Requirement already satisfied: thinc<8.1.0,>=8.0.12 in /usr/local/lib/python3.7/dist-packages (from spacy<3.3.0,>=3.2.0->mk-core-news-sm==3.2.0) (8.0.16)\n",
            "Requirement already satisfied: spacy-loggers<2.0.0,>=1.0.0 in /usr/local/lib/python3.7/dist-packages (from spacy<3.3.0,>=3.2.0->mk-core-news-sm==3.2.0) (1.0.2)\n",
            "Requirement already satisfied: numpy>=1.15.0 in /usr/local/lib/python3.7/dist-packages (from spacy<3.3.0,>=3.2.0->mk-core-news-sm==3.2.0) (1.21.6)\n",
            "Requirement already satisfied: typing-extensions<4.0.0.0,>=3.7.4 in /usr/local/lib/python3.7/dist-packages (from spacy<3.3.0,>=3.2.0->mk-core-news-sm==3.2.0) (3.10.0.2)\n",
            "Requirement already satisfied: preshed<3.1.0,>=3.0.2 in /usr/local/lib/python3.7/dist-packages (from spacy<3.3.0,>=3.2.0->mk-core-news-sm==3.2.0) (3.0.6)\n",
            "Requirement already satisfied: tqdm<5.0.0,>=4.38.0 in /usr/local/lib/python3.7/dist-packages (from spacy<3.3.0,>=3.2.0->mk-core-news-sm==3.2.0) (4.64.0)\n",
            "Requirement already satisfied: pathy>=0.3.5 in /usr/local/lib/python3.7/dist-packages (from spacy<3.3.0,>=3.2.0->mk-core-news-sm==3.2.0) (0.6.1)\n",
            "Requirement already satisfied: murmurhash<1.1.0,>=0.28.0 in /usr/local/lib/python3.7/dist-packages (from spacy<3.3.0,>=3.2.0->mk-core-news-sm==3.2.0) (1.0.7)\n",
            "Requirement already satisfied: typer<0.5.0,>=0.3.0 in /usr/local/lib/python3.7/dist-packages (from spacy<3.3.0,>=3.2.0->mk-core-news-sm==3.2.0) (0.4.1)\n",
            "Requirement already satisfied: zipp>=0.5 in /usr/local/lib/python3.7/dist-packages (from catalogue<2.1.0,>=2.0.6->spacy<3.3.0,>=3.2.0->mk-core-news-sm==3.2.0) (3.8.0)\n",
            "Requirement already satisfied: pyparsing!=3.0.5,>=2.0.2 in /usr/local/lib/python3.7/dist-packages (from packaging>=20.0->spacy<3.3.0,>=3.2.0->mk-core-news-sm==3.2.0) (3.0.9)\n",
            "Requirement already satisfied: smart-open<6.0.0,>=5.0.0 in /usr/local/lib/python3.7/dist-packages (from pathy>=0.3.5->spacy<3.3.0,>=3.2.0->mk-core-news-sm==3.2.0) (5.2.1)\n",
            "Requirement already satisfied: idna<3,>=2.5 in /usr/local/lib/python3.7/dist-packages (from requests<3.0.0,>=2.13.0->spacy<3.3.0,>=3.2.0->mk-core-news-sm==3.2.0) (2.10)\n",
            "Requirement already satisfied: chardet<4,>=3.0.2 in /usr/local/lib/python3.7/dist-packages (from requests<3.0.0,>=2.13.0->spacy<3.3.0,>=3.2.0->mk-core-news-sm==3.2.0) (3.0.4)\n",
            "Requirement already satisfied: certifi>=2017.4.17 in /usr/local/lib/python3.7/dist-packages (from requests<3.0.0,>=2.13.0->spacy<3.3.0,>=3.2.0->mk-core-news-sm==3.2.0) (2022.5.18.1)\n",
            "Requirement already satisfied: urllib3!=1.25.0,!=1.25.1,<1.26,>=1.21.1 in /usr/local/lib/python3.7/dist-packages (from requests<3.0.0,>=2.13.0->spacy<3.3.0,>=3.2.0->mk-core-news-sm==3.2.0) (1.24.3)\n",
            "Requirement already satisfied: click<9.0.0,>=7.1.1 in /usr/local/lib/python3.7/dist-packages (from typer<0.5.0,>=0.3.0->spacy<3.3.0,>=3.2.0->mk-core-news-sm==3.2.0) (7.1.2)\n",
            "Requirement already satisfied: MarkupSafe>=0.23 in /usr/local/lib/python3.7/dist-packages (from jinja2->spacy<3.3.0,>=3.2.0->mk-core-news-sm==3.2.0) (2.0.1)\n",
            "\u001b[38;5;2m✔ Download and installation successful\u001b[0m\n",
            "You can now load the package via spacy.load('mk_core_news_sm')\n"
          ]
        }
      ]
    },
    {
      "cell_type": "markdown",
      "metadata": {
        "id": "nRkbF65Di7LM"
      },
      "source": [
        "Models in spaCy for English Language as of release 2.3.1:\n",
        "- **en_core_web_sm:** 11MB\n",
        "- **en_core_web_md:** 48MB\n",
        "- **en_core_web_lg:** 746MB"
      ]
    },
    {
      "cell_type": "code",
      "metadata": {
        "id": "uNMIGwtgi7LO"
      },
      "source": [
        "# Loading model\n",
        "nlp=spacy.load('mk_core_news_sm')"
      ],
      "execution_count": 4,
      "outputs": []
    },
    {
      "cell_type": "code",
      "metadata": {
        "id": "W_V6pOrri7LV"
      },
      "source": [
        "# creating Doc object\n",
        "doc=nlp(text)"
      ],
      "execution_count": null,
      "outputs": []
    },
    {
      "cell_type": "code",
      "metadata": {
        "colab": {
          "base_uri": "https://localhost:8080/"
        },
        "id": "ZfhUAFNxi7Ld",
        "outputId": "6bb19d7e-078c-4945-c28b-72a0254a5962"
      },
      "source": [
        "doc"
      ],
      "execution_count": null,
      "outputs": [
        {
          "output_type": "execute_result",
          "data": {
            "text/plain": [
              "I'm working as a Data Scientist in the U.S. and earning $140,000."
            ]
          },
          "metadata": {
            "tags": []
          },
          "execution_count": 8
        }
      ]
    },
    {
      "cell_type": "code",
      "metadata": {
        "colab": {
          "base_uri": "https://localhost:8080/"
        },
        "id": "is99sNori7Ll",
        "outputId": "dbd3f7de-dcbc-498b-9987-35200c2503ea"
      },
      "source": [
        "type(doc)"
      ],
      "execution_count": null,
      "outputs": [
        {
          "output_type": "execute_result",
          "data": {
            "text/plain": [
              "spacy.tokens.doc.Doc"
            ]
          },
          "metadata": {
            "tags": []
          },
          "execution_count": 9
        }
      ]
    },
    {
      "cell_type": "code",
      "metadata": {
        "colab": {
          "base_uri": "https://localhost:8080/"
        },
        "id": "TArL0yPei7Lt",
        "outputId": "a2818cdd-c4bc-4589-b58e-9755c9459e90"
      },
      "source": [
        "# spaCy Tokenizer\n",
        "print([token for token in doc])"
      ],
      "execution_count": null,
      "outputs": [
        {
          "output_type": "stream",
          "text": [
            "[I, 'm, working, as, a, Data, Scientist, in, the, U.S., and, earning, $, 140,000, .]\n"
          ],
          "name": "stdout"
        }
      ]
    },
    {
      "cell_type": "code",
      "metadata": {
        "colab": {
          "base_uri": "https://localhost:8080/",
          "height": 278
        },
        "id": "0DTjZrDyi7L2",
        "outputId": "7bf0b9ca-eed7-4605-ad54-8c03d0023db4"
      },
      "source": [
        "# Type of token\n",
        "[type(token) for token in doc]"
      ],
      "execution_count": null,
      "outputs": [
        {
          "output_type": "execute_result",
          "data": {
            "text/plain": [
              "[spacy.tokens.token.Token,\n",
              " spacy.tokens.token.Token,\n",
              " spacy.tokens.token.Token,\n",
              " spacy.tokens.token.Token,\n",
              " spacy.tokens.token.Token,\n",
              " spacy.tokens.token.Token,\n",
              " spacy.tokens.token.Token,\n",
              " spacy.tokens.token.Token,\n",
              " spacy.tokens.token.Token,\n",
              " spacy.tokens.token.Token,\n",
              " spacy.tokens.token.Token,\n",
              " spacy.tokens.token.Token,\n",
              " spacy.tokens.token.Token,\n",
              " spacy.tokens.token.Token,\n",
              " spacy.tokens.token.Token]"
            ]
          },
          "metadata": {
            "tags": []
          },
          "execution_count": 9
        }
      ]
    },
    {
      "cell_type": "code",
      "metadata": {
        "colab": {
          "base_uri": "https://localhost:8080/",
          "height": 34
        },
        "id": "WDDbkA7wi7L9",
        "scrolled": true,
        "outputId": "1ab2ff6e-9edc-4b3c-e8cb-f9164beae281"
      },
      "source": [
        "# Tokens as string\n",
        "print([token.text for token in doc])"
      ],
      "execution_count": null,
      "outputs": [
        {
          "output_type": "stream",
          "text": [
            "['I', \"'m\", 'working', 'as', 'a', 'Data', 'Scientist', 'in', 'the', 'U.S.', 'and', 'earning', '$', '140,000', '.']\n"
          ],
          "name": "stdout"
        }
      ]
    },
    {
      "cell_type": "code",
      "metadata": {
        "colab": {
          "base_uri": "https://localhost:8080/"
        },
        "id": "zwLhE_pBi7MF",
        "outputId": "b68e11c3-5965-4a08-e645-889472366d69"
      },
      "source": [
        "# Comparing Whitespace and spaCy Tokenizer\n",
        "\n",
        "# Whitespace Tokenizer\n",
        "print(text.split())\n",
        "\n",
        "# spaCy Tokenizer\n",
        "print([token.text for token in doc])"
      ],
      "execution_count": null,
      "outputs": [
        {
          "output_type": "stream",
          "text": [
            "[\"I'm\", 'working', 'as', 'a', 'Data', 'Scientist', 'in', 'the', 'U.S.', 'and', 'earning', '$140,000.']\n",
            "['I', \"'m\", 'working', 'as', 'a', 'Data', 'Scientist', 'in', 'the', 'U.S.', 'and', 'earning', '$', '140,000', '.']\n"
          ],
          "name": "stdout"
        }
      ]
    },
    {
      "cell_type": "code",
      "metadata": {
        "colab": {
          "base_uri": "https://localhost:8080/"
        },
        "id": "i1Wi4Ewfi7MM",
        "outputId": "13786c65-b532-41df-dd82-1c2858931456"
      },
      "source": [
        "# No. of Tokens in Whitespace Tokenizer\n",
        "print(len(text.split()))\n",
        "\n",
        "# No. of Tokens in spaCy's Tokenizer\n",
        "print(len(doc))"
      ],
      "execution_count": null,
      "outputs": [
        {
          "output_type": "stream",
          "text": [
            "12\n",
            "15\n"
          ],
          "name": "stdout"
        }
      ]
    },
    {
      "cell_type": "code",
      "metadata": {
        "colab": {
          "base_uri": "https://localhost:8080/"
        },
        "id": "KvLyXUp7i7MU",
        "outputId": "950020c4-2e94-4cdc-9183-9b369bb360ea"
      },
      "source": [
        "text=\"My phone has a 20% battery left.\"\n",
        "\n",
        "# Whitespace Tokenizer\n",
        "print(text.split())\n",
        "\n",
        "# spaCy Tokenizer\n",
        "print([token.text for token in nlp(text)])"
      ],
      "execution_count": null,
      "outputs": [
        {
          "output_type": "stream",
          "text": [
            "['My', 'phone', 'has', 'a', '20%', 'battery', 'left.']\n",
            "['My', 'phone', 'has', 'a', '20', '%', 'battery', 'left', '.']\n"
          ],
          "name": "stdout"
        }
      ]
    },
    {
      "cell_type": "code",
      "metadata": {
        "colab": {
          "base_uri": "https://localhost:8080/"
        },
        "id": "jsNGne55i7Mb",
        "outputId": "dfd7c300-ba7b-46c7-d3d0-a033eec790c1"
      },
      "source": [
        "text=\"I ran 10km today.\"\n",
        "\n",
        "# Whitespace Tokenizer\n",
        "print(text.split())\n",
        "\n",
        "# spaCy Tokenizer\n",
        "print([token.text for token in nlp(text)])"
      ],
      "execution_count": null,
      "outputs": [
        {
          "output_type": "stream",
          "text": [
            "['I', 'ran', '10km', 'today.']\n",
            "['I', 'ran', '10', 'km', 'today', '.']\n"
          ],
          "name": "stdout"
        }
      ]
    },
    {
      "cell_type": "code",
      "metadata": {
        "colab": {
          "base_uri": "https://localhost:8080/"
        },
        "id": "xzwC7j9Si7Mi",
        "outputId": "90d184dd-200f-4390-d9d3-62233609e67f"
      },
      "source": [
        "text=\"I know HTML, CSS, JavaScript, C++, and Node.js.\"\n",
        "\n",
        "# Whitespace Tokenizer\n",
        "print(text.split())\n",
        "\n",
        "# spaCy Tokenizer\n",
        "print([token.text for token in nlp(text)])"
      ],
      "execution_count": null,
      "outputs": [
        {
          "output_type": "stream",
          "text": [
            "['I', 'know', 'HTML,', 'CSS,', 'JavaScript,', 'C++,', 'and', 'Node.js.']\n",
            "['I', 'know', 'HTML', ',', 'CSS', ',', 'JavaScript', ',', 'C++', ',', 'and', 'Node.js', '.']\n"
          ],
          "name": "stdout"
        }
      ]
    },
    {
      "cell_type": "markdown",
      "metadata": {
        "id": "3DuZXt_nkCo5"
      },
      "source": [
        "# Lemmatization in spaCy"
      ]
    },
    {
      "cell_type": "code",
      "metadata": {
        "id": "XE244nhmkCo7"
      },
      "source": [
        "# Defining the string\n",
        "text=\"The sky is clear and the stars are twinkling.\""
      ],
      "execution_count": null,
      "outputs": []
    },
    {
      "cell_type": "code",
      "metadata": {
        "id": "YYEvC2bAkCpF"
      },
      "source": [
        "import spacy"
      ],
      "execution_count": null,
      "outputs": []
    },
    {
      "cell_type": "code",
      "metadata": {
        "id": "xh54WXLCkCpM"
      },
      "source": [
        "# Loading spacy model\n",
        "nlp=spacy.load('en_core_web_sm')"
      ],
      "execution_count": null,
      "outputs": []
    },
    {
      "cell_type": "code",
      "metadata": {
        "id": "6v42AYrMkCpU"
      },
      "source": [
        "# Creating doc object\n",
        "doc=nlp(text)"
      ],
      "execution_count": null,
      "outputs": []
    },
    {
      "cell_type": "code",
      "metadata": {
        "colab": {
          "base_uri": "https://localhost:8080/"
        },
        "id": "vZjxGGdtkCpc",
        "outputId": "e68fea98-e443-4fb5-f5c6-1868f8e0437e"
      },
      "source": [
        "# Lemmatizing the text\n",
        "[(token.text,token.lemma_) for token in doc]"
      ],
      "execution_count": null,
      "outputs": [
        {
          "output_type": "execute_result",
          "data": {
            "text/plain": [
              "[('The', 'the'),\n",
              " ('sky', 'sky'),\n",
              " ('is', 'be'),\n",
              " ('clear', 'clear'),\n",
              " ('and', 'and'),\n",
              " ('the', 'the'),\n",
              " ('stars', 'star'),\n",
              " ('are', 'be'),\n",
              " ('twinkling', 'twinkle'),\n",
              " ('.', '.')]"
            ]
          },
          "metadata": {
            "tags": []
          },
          "execution_count": 20
        }
      ]
    },
    {
      "cell_type": "code",
      "metadata": {
        "colab": {
          "base_uri": "https://localhost:8080/",
          "height": 35
        },
        "id": "GKv3PEmKkCpk",
        "outputId": "9d39e2d6-dd3b-4159-d00b-d5934d33b706"
      },
      "source": [
        "text=\"The moon looks beautiful at night. it's hard to resist its beauty.\"\n",
        "\n",
        "# Creating doc object\n",
        "doc=nlp(text)\n",
        "\n",
        "# Lemmatizing the text\n",
        "[(token.text,token.lemma_) for token in doc]\n"
      ],
      "execution_count": null,
      "outputs": [
        {
          "output_type": "execute_result",
          "data": {
            "application/vnd.google.colaboratory.intrinsic+json": {
              "type": "string"
            },
            "text/plain": [
              "'moon'"
            ]
          },
          "metadata": {
            "tags": []
          },
          "execution_count": 26
        }
      ]
    },
    {
      "cell_type": "code",
      "metadata": {
        "id": "yT-SVRVGIS2m"
      },
      "source": [
        ""
      ],
      "execution_count": null,
      "outputs": []
    }
  ]
}