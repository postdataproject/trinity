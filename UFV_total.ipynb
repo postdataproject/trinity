{
  "nbformat": 4,
  "nbformat_minor": 0,
  "metadata": {
    "colab": {
      "provenance": []
    },
    "kernelspec": {
      "name": "python3",
      "display_name": "Python 3"
    },
    "language_info": {
      "name": "python"
    }
  },
  "cells": [
    {
      "cell_type": "code",
      "execution_count": null,
      "metadata": {
        "id": "YmFwDPHA_cHc"
      },
      "outputs": [],
      "source": []
    },
    {
      "cell_type": "markdown",
      "metadata": {
        "id": "xtjqI_mfujh2"
      },
      "source": [
        "# Table of Contents\n",
        " 1. About the Dataset\n",
        " 2. Regex for Cleaning Text Data\n",
        " 3. Regex for Text Data Extraction\n",
        " 4. Regex Challenge\n",
        " 5. Spacy Analysis\n",
        "\n",
        "  5.1.1 Word Frecuency\n",
        "\n",
        "  5.1.2 Dependency Tags\n",
        "\n",
        "  5.1.3 Matcher\n",
        "\n",
        "  5.1.4  TD-idf\n"
      ]
    },
    {
      "cell_type": "code",
      "metadata": {
        "id": "XMHSPRYFI69R",
        "colab": {
          "base_uri": "https://localhost:8080/"
        },
        "outputId": "8cf03f04-998a-4438-c1aa-1d6e6aa2308a"
      },
      "source": [
        "from google.colab import drive\n",
        "drive.mount('/content/drive')"
      ],
      "execution_count": 5,
      "outputs": [
        {
          "output_type": "stream",
          "name": "stdout",
          "text": [
            "Mounted at /content/drive\n"
          ]
        }
      ]
    },
    {
      "cell_type": "code",
      "metadata": {
        "id": "NPiJ0UN24f_D"
      },
      "source": [
        "path=\"/content/drive/My Drive/Colab Notebooks/trinity/data_trinity/tweets.csv\""
      ],
      "execution_count": 6,
      "outputs": []
    },
    {
      "cell_type": "markdown",
      "metadata": {
        "id": "cBHdRHrJujh5"
      },
      "source": [
        "## 1 About the Dataset"
      ]
    },
    {
      "cell_type": "code",
      "metadata": {
        "id": "PW7kNj8Xujh8",
        "colab": {
          "base_uri": "https://localhost:8080/",
          "height": 206
        },
        "outputId": "2dc9d2df-9bb8-40cd-a289-a5931dcca110"
      },
      "source": [
        "import pandas as pd\n",
        "#Loading the dataset\n",
        "df = pd.read_csv(path, encoding = \"ISO-8859-1\")\n",
        "\n",
        "# Printing first 5 rows\n",
        "df.head()\n"
      ],
      "execution_count": 7,
      "outputs": [
        {
          "output_type": "execute_result",
          "data": {
            "text/plain": [
              "   Unnamed: 0  X                                               text  \\\n",
              "0           1  1  RT @rssurjewala: Critical question: Was PayTM ...   \n",
              "1           2  2  RT @Hemant_80: Did you vote on #Demonetization...   \n",
              "2           3  3  RT @roshankar: Former FinSec, RBI Dy Governor,...   \n",
              "3           4  4  RT @ANI_news: Gurugram (Haryana): Post office ...   \n",
              "4           5  5  RT @satishacharya: Reddy Wedding! @mail_today ...   \n",
              "\n",
              "   favorited  favoriteCount replyToSN              created  truncated  \\\n",
              "0      False              0       NaN  2016-11-23 18:40:30      False   \n",
              "1      False              0       NaN  2016-11-23 18:40:29      False   \n",
              "2      False              0       NaN  2016-11-23 18:40:03      False   \n",
              "3      False              0       NaN  2016-11-23 18:39:59      False   \n",
              "4      False              0       NaN  2016-11-23 18:39:39      False   \n",
              "\n",
              "   replyToSID            id  replyToUID  \\\n",
              "0         NaN  8.014957e+17         NaN   \n",
              "1         NaN  8.014957e+17         NaN   \n",
              "2         NaN  8.014955e+17         NaN   \n",
              "3         NaN  8.014955e+17         NaN   \n",
              "4         NaN  8.014954e+17         NaN   \n",
              "\n",
              "                                        statusSource       screenName  \\\n",
              "0  <a href=\"http://twitter.com/download/android\" ...  HASHTAGFARZIWAL   \n",
              "1  <a href=\"http://twitter.com/download/android\" ...   PRAMODKAUSHIK9   \n",
              "2  <a href=\"http://twitter.com/download/android\" ...  rahulja13034944   \n",
              "3  <a href=\"http://twitter.com/download/android\" ...        deeptiyvd   \n",
              "4  <a href=\"http://cpimharyana.com\" rel=\"nofollow...        CPIMBadli   \n",
              "\n",
              "   retweetCount  isRetweet  retweeted  \n",
              "0           331       True      False  \n",
              "1            66       True      False  \n",
              "2            12       True      False  \n",
              "3           338       True      False  \n",
              "4           120       True      False  "
            ],
            "text/html": [
              "\n",
              "  <div id=\"df-95aaec20-3ba7-422b-90a0-95d11646eed3\" class=\"colab-df-container\">\n",
              "    <div>\n",
              "<style scoped>\n",
              "    .dataframe tbody tr th:only-of-type {\n",
              "        vertical-align: middle;\n",
              "    }\n",
              "\n",
              "    .dataframe tbody tr th {\n",
              "        vertical-align: top;\n",
              "    }\n",
              "\n",
              "    .dataframe thead th {\n",
              "        text-align: right;\n",
              "    }\n",
              "</style>\n",
              "<table border=\"1\" class=\"dataframe\">\n",
              "  <thead>\n",
              "    <tr style=\"text-align: right;\">\n",
              "      <th></th>\n",
              "      <th>Unnamed: 0</th>\n",
              "      <th>X</th>\n",
              "      <th>text</th>\n",
              "      <th>favorited</th>\n",
              "      <th>favoriteCount</th>\n",
              "      <th>replyToSN</th>\n",
              "      <th>created</th>\n",
              "      <th>truncated</th>\n",
              "      <th>replyToSID</th>\n",
              "      <th>id</th>\n",
              "      <th>replyToUID</th>\n",
              "      <th>statusSource</th>\n",
              "      <th>screenName</th>\n",
              "      <th>retweetCount</th>\n",
              "      <th>isRetweet</th>\n",
              "      <th>retweeted</th>\n",
              "    </tr>\n",
              "  </thead>\n",
              "  <tbody>\n",
              "    <tr>\n",
              "      <th>0</th>\n",
              "      <td>1</td>\n",
              "      <td>1</td>\n",
              "      <td>RT @rssurjewala: Critical question: Was PayTM ...</td>\n",
              "      <td>False</td>\n",
              "      <td>0</td>\n",
              "      <td>NaN</td>\n",
              "      <td>2016-11-23 18:40:30</td>\n",
              "      <td>False</td>\n",
              "      <td>NaN</td>\n",
              "      <td>8.014957e+17</td>\n",
              "      <td>NaN</td>\n",
              "      <td>&lt;a href=\"http://twitter.com/download/android\" ...</td>\n",
              "      <td>HASHTAGFARZIWAL</td>\n",
              "      <td>331</td>\n",
              "      <td>True</td>\n",
              "      <td>False</td>\n",
              "    </tr>\n",
              "    <tr>\n",
              "      <th>1</th>\n",
              "      <td>2</td>\n",
              "      <td>2</td>\n",
              "      <td>RT @Hemant_80: Did you vote on #Demonetization...</td>\n",
              "      <td>False</td>\n",
              "      <td>0</td>\n",
              "      <td>NaN</td>\n",
              "      <td>2016-11-23 18:40:29</td>\n",
              "      <td>False</td>\n",
              "      <td>NaN</td>\n",
              "      <td>8.014957e+17</td>\n",
              "      <td>NaN</td>\n",
              "      <td>&lt;a href=\"http://twitter.com/download/android\" ...</td>\n",
              "      <td>PRAMODKAUSHIK9</td>\n",
              "      <td>66</td>\n",
              "      <td>True</td>\n",
              "      <td>False</td>\n",
              "    </tr>\n",
              "    <tr>\n",
              "      <th>2</th>\n",
              "      <td>3</td>\n",
              "      <td>3</td>\n",
              "      <td>RT @roshankar: Former FinSec, RBI Dy Governor,...</td>\n",
              "      <td>False</td>\n",
              "      <td>0</td>\n",
              "      <td>NaN</td>\n",
              "      <td>2016-11-23 18:40:03</td>\n",
              "      <td>False</td>\n",
              "      <td>NaN</td>\n",
              "      <td>8.014955e+17</td>\n",
              "      <td>NaN</td>\n",
              "      <td>&lt;a href=\"http://twitter.com/download/android\" ...</td>\n",
              "      <td>rahulja13034944</td>\n",
              "      <td>12</td>\n",
              "      <td>True</td>\n",
              "      <td>False</td>\n",
              "    </tr>\n",
              "    <tr>\n",
              "      <th>3</th>\n",
              "      <td>4</td>\n",
              "      <td>4</td>\n",
              "      <td>RT @ANI_news: Gurugram (Haryana): Post office ...</td>\n",
              "      <td>False</td>\n",
              "      <td>0</td>\n",
              "      <td>NaN</td>\n",
              "      <td>2016-11-23 18:39:59</td>\n",
              "      <td>False</td>\n",
              "      <td>NaN</td>\n",
              "      <td>8.014955e+17</td>\n",
              "      <td>NaN</td>\n",
              "      <td>&lt;a href=\"http://twitter.com/download/android\" ...</td>\n",
              "      <td>deeptiyvd</td>\n",
              "      <td>338</td>\n",
              "      <td>True</td>\n",
              "      <td>False</td>\n",
              "    </tr>\n",
              "    <tr>\n",
              "      <th>4</th>\n",
              "      <td>5</td>\n",
              "      <td>5</td>\n",
              "      <td>RT @satishacharya: Reddy Wedding! @mail_today ...</td>\n",
              "      <td>False</td>\n",
              "      <td>0</td>\n",
              "      <td>NaN</td>\n",
              "      <td>2016-11-23 18:39:39</td>\n",
              "      <td>False</td>\n",
              "      <td>NaN</td>\n",
              "      <td>8.014954e+17</td>\n",
              "      <td>NaN</td>\n",
              "      <td>&lt;a href=\"http://cpimharyana.com\" rel=\"nofollow...</td>\n",
              "      <td>CPIMBadli</td>\n",
              "      <td>120</td>\n",
              "      <td>True</td>\n",
              "      <td>False</td>\n",
              "    </tr>\n",
              "  </tbody>\n",
              "</table>\n",
              "</div>\n",
              "    <div class=\"colab-df-buttons\">\n",
              "\n",
              "  <div class=\"colab-df-container\">\n",
              "    <button class=\"colab-df-convert\" onclick=\"convertToInteractive('df-95aaec20-3ba7-422b-90a0-95d11646eed3')\"\n",
              "            title=\"Convert this dataframe to an interactive table.\"\n",
              "            style=\"display:none;\">\n",
              "\n",
              "  <svg xmlns=\"http://www.w3.org/2000/svg\" height=\"24px\" viewBox=\"0 -960 960 960\">\n",
              "    <path d=\"M120-120v-720h720v720H120Zm60-500h600v-160H180v160Zm220 220h160v-160H400v160Zm0 220h160v-160H400v160ZM180-400h160v-160H180v160Zm440 0h160v-160H620v160ZM180-180h160v-160H180v160Zm440 0h160v-160H620v160Z\"/>\n",
              "  </svg>\n",
              "    </button>\n",
              "\n",
              "  <style>\n",
              "    .colab-df-container {\n",
              "      display:flex;\n",
              "      gap: 12px;\n",
              "    }\n",
              "\n",
              "    .colab-df-convert {\n",
              "      background-color: #E8F0FE;\n",
              "      border: none;\n",
              "      border-radius: 50%;\n",
              "      cursor: pointer;\n",
              "      display: none;\n",
              "      fill: #1967D2;\n",
              "      height: 32px;\n",
              "      padding: 0 0 0 0;\n",
              "      width: 32px;\n",
              "    }\n",
              "\n",
              "    .colab-df-convert:hover {\n",
              "      background-color: #E2EBFA;\n",
              "      box-shadow: 0px 1px 2px rgba(60, 64, 67, 0.3), 0px 1px 3px 1px rgba(60, 64, 67, 0.15);\n",
              "      fill: #174EA6;\n",
              "    }\n",
              "\n",
              "    .colab-df-buttons div {\n",
              "      margin-bottom: 4px;\n",
              "    }\n",
              "\n",
              "    [theme=dark] .colab-df-convert {\n",
              "      background-color: #3B4455;\n",
              "      fill: #D2E3FC;\n",
              "    }\n",
              "\n",
              "    [theme=dark] .colab-df-convert:hover {\n",
              "      background-color: #434B5C;\n",
              "      box-shadow: 0px 1px 3px 1px rgba(0, 0, 0, 0.15);\n",
              "      filter: drop-shadow(0px 1px 2px rgba(0, 0, 0, 0.3));\n",
              "      fill: #FFFFFF;\n",
              "    }\n",
              "  </style>\n",
              "\n",
              "    <script>\n",
              "      const buttonEl =\n",
              "        document.querySelector('#df-95aaec20-3ba7-422b-90a0-95d11646eed3 button.colab-df-convert');\n",
              "      buttonEl.style.display =\n",
              "        google.colab.kernel.accessAllowed ? 'block' : 'none';\n",
              "\n",
              "      async function convertToInteractive(key) {\n",
              "        const element = document.querySelector('#df-95aaec20-3ba7-422b-90a0-95d11646eed3');\n",
              "        const dataTable =\n",
              "          await google.colab.kernel.invokeFunction('convertToInteractive',\n",
              "                                                    [key], {});\n",
              "        if (!dataTable) return;\n",
              "\n",
              "        const docLinkHtml = 'Like what you see? Visit the ' +\n",
              "          '<a target=\"_blank\" href=https://colab.research.google.com/notebooks/data_table.ipynb>data table notebook</a>'\n",
              "          + ' to learn more about interactive tables.';\n",
              "        element.innerHTML = '';\n",
              "        dataTable['output_type'] = 'display_data';\n",
              "        await google.colab.output.renderOutput(dataTable, element);\n",
              "        const docLink = document.createElement('div');\n",
              "        docLink.innerHTML = docLinkHtml;\n",
              "        element.appendChild(docLink);\n",
              "      }\n",
              "    </script>\n",
              "  </div>\n",
              "\n",
              "\n",
              "<div id=\"df-2e80f1dd-041f-4a0d-ba1c-8e559dc24558\">\n",
              "  <button class=\"colab-df-quickchart\" onclick=\"quickchart('df-2e80f1dd-041f-4a0d-ba1c-8e559dc24558')\"\n",
              "            title=\"Suggest charts\"\n",
              "            style=\"display:none;\">\n",
              "\n",
              "<svg xmlns=\"http://www.w3.org/2000/svg\" height=\"24px\"viewBox=\"0 0 24 24\"\n",
              "     width=\"24px\">\n",
              "    <g>\n",
              "        <path d=\"M19 3H5c-1.1 0-2 .9-2 2v14c0 1.1.9 2 2 2h14c1.1 0 2-.9 2-2V5c0-1.1-.9-2-2-2zM9 17H7v-7h2v7zm4 0h-2V7h2v10zm4 0h-2v-4h2v4z\"/>\n",
              "    </g>\n",
              "</svg>\n",
              "  </button>\n",
              "\n",
              "<style>\n",
              "  .colab-df-quickchart {\n",
              "      --bg-color: #E8F0FE;\n",
              "      --fill-color: #1967D2;\n",
              "      --hover-bg-color: #E2EBFA;\n",
              "      --hover-fill-color: #174EA6;\n",
              "      --disabled-fill-color: #AAA;\n",
              "      --disabled-bg-color: #DDD;\n",
              "  }\n",
              "\n",
              "  [theme=dark] .colab-df-quickchart {\n",
              "      --bg-color: #3B4455;\n",
              "      --fill-color: #D2E3FC;\n",
              "      --hover-bg-color: #434B5C;\n",
              "      --hover-fill-color: #FFFFFF;\n",
              "      --disabled-bg-color: #3B4455;\n",
              "      --disabled-fill-color: #666;\n",
              "  }\n",
              "\n",
              "  .colab-df-quickchart {\n",
              "    background-color: var(--bg-color);\n",
              "    border: none;\n",
              "    border-radius: 50%;\n",
              "    cursor: pointer;\n",
              "    display: none;\n",
              "    fill: var(--fill-color);\n",
              "    height: 32px;\n",
              "    padding: 0;\n",
              "    width: 32px;\n",
              "  }\n",
              "\n",
              "  .colab-df-quickchart:hover {\n",
              "    background-color: var(--hover-bg-color);\n",
              "    box-shadow: 0 1px 2px rgba(60, 64, 67, 0.3), 0 1px 3px 1px rgba(60, 64, 67, 0.15);\n",
              "    fill: var(--button-hover-fill-color);\n",
              "  }\n",
              "\n",
              "  .colab-df-quickchart-complete:disabled,\n",
              "  .colab-df-quickchart-complete:disabled:hover {\n",
              "    background-color: var(--disabled-bg-color);\n",
              "    fill: var(--disabled-fill-color);\n",
              "    box-shadow: none;\n",
              "  }\n",
              "\n",
              "  .colab-df-spinner {\n",
              "    border: 2px solid var(--fill-color);\n",
              "    border-color: transparent;\n",
              "    border-bottom-color: var(--fill-color);\n",
              "    animation:\n",
              "      spin 1s steps(1) infinite;\n",
              "  }\n",
              "\n",
              "  @keyframes spin {\n",
              "    0% {\n",
              "      border-color: transparent;\n",
              "      border-bottom-color: var(--fill-color);\n",
              "      border-left-color: var(--fill-color);\n",
              "    }\n",
              "    20% {\n",
              "      border-color: transparent;\n",
              "      border-left-color: var(--fill-color);\n",
              "      border-top-color: var(--fill-color);\n",
              "    }\n",
              "    30% {\n",
              "      border-color: transparent;\n",
              "      border-left-color: var(--fill-color);\n",
              "      border-top-color: var(--fill-color);\n",
              "      border-right-color: var(--fill-color);\n",
              "    }\n",
              "    40% {\n",
              "      border-color: transparent;\n",
              "      border-right-color: var(--fill-color);\n",
              "      border-top-color: var(--fill-color);\n",
              "    }\n",
              "    60% {\n",
              "      border-color: transparent;\n",
              "      border-right-color: var(--fill-color);\n",
              "    }\n",
              "    80% {\n",
              "      border-color: transparent;\n",
              "      border-right-color: var(--fill-color);\n",
              "      border-bottom-color: var(--fill-color);\n",
              "    }\n",
              "    90% {\n",
              "      border-color: transparent;\n",
              "      border-bottom-color: var(--fill-color);\n",
              "    }\n",
              "  }\n",
              "</style>\n",
              "\n",
              "  <script>\n",
              "    async function quickchart(key) {\n",
              "      const quickchartButtonEl =\n",
              "        document.querySelector('#' + key + ' button');\n",
              "      quickchartButtonEl.disabled = true;  // To prevent multiple clicks.\n",
              "      quickchartButtonEl.classList.add('colab-df-spinner');\n",
              "      try {\n",
              "        const charts = await google.colab.kernel.invokeFunction(\n",
              "            'suggestCharts', [key], {});\n",
              "      } catch (error) {\n",
              "        console.error('Error during call to suggestCharts:', error);\n",
              "      }\n",
              "      quickchartButtonEl.classList.remove('colab-df-spinner');\n",
              "      quickchartButtonEl.classList.add('colab-df-quickchart-complete');\n",
              "    }\n",
              "    (() => {\n",
              "      let quickchartButtonEl =\n",
              "        document.querySelector('#df-2e80f1dd-041f-4a0d-ba1c-8e559dc24558 button');\n",
              "      quickchartButtonEl.style.display =\n",
              "        google.colab.kernel.accessAllowed ? 'block' : 'none';\n",
              "    })();\n",
              "  </script>\n",
              "</div>\n",
              "    </div>\n",
              "  </div>\n"
            ],
            "application/vnd.google.colaboratory.intrinsic+json": {
              "type": "dataframe",
              "variable_name": "df",
              "summary": "{\n  \"name\": \"df\",\n  \"rows\": 14940,\n  \"fields\": [\n    {\n      \"column\": \"Unnamed: 0\",\n      \"properties\": {\n        \"dtype\": \"number\",\n        \"std\": 4312,\n        \"min\": 1,\n        \"max\": 14940,\n        \"num_unique_values\": 14940,\n        \"samples\": [\n          5504,\n          3121,\n          12154\n        ],\n        \"semantic_type\": \"\",\n        \"description\": \"\"\n      }\n    },\n    {\n      \"column\": \"X\",\n      \"properties\": {\n        \"dtype\": \"number\",\n        \"std\": 4312,\n        \"min\": 1,\n        \"max\": 14940,\n        \"num_unique_values\": 14940,\n        \"samples\": [\n          5504,\n          3121,\n          12154\n        ],\n        \"semantic_type\": \"\",\n        \"description\": \"\"\n      }\n    },\n    {\n      \"column\": \"text\",\n      \"properties\": {\n        \"dtype\": \"category\",\n        \"num_unique_values\": 5147,\n        \"samples\": [\n          \". MVenkaiahNaidu blames opposition for not allowing #Parliament to function by creating uproar over #demonetization issue.\\r\\n\\r\\n\\u0097 All India Rad\\u0085\",\n          \"@mpvadodara @CMOGuj <ed><U+00A0><U+00BD><ed><U+00B9><U+008F> Please Include World Class Milkbar AMUL &amp; Baroda Dairy's Nutritious Products to Promote Agric\\u0085 https://t.co/1nzGkSBJsl\",\n          \"#DeMonetization - Finally - No country at such a large scale has gone ahead with such a move. Give it to all us citizens who bore the pain\"\n        ],\n        \"semantic_type\": \"\",\n        \"description\": \"\"\n      }\n    },\n    {\n      \"column\": \"favorited\",\n      \"properties\": {\n        \"dtype\": \"boolean\",\n        \"num_unique_values\": 1,\n        \"samples\": [\n          false\n        ],\n        \"semantic_type\": \"\",\n        \"description\": \"\"\n      }\n    },\n    {\n      \"column\": \"favoriteCount\",\n      \"properties\": {\n        \"dtype\": \"number\",\n        \"std\": 28,\n        \"min\": 0,\n        \"max\": 3166,\n        \"num_unique_values\": 85,\n        \"samples\": [\n          46\n        ],\n        \"semantic_type\": \"\",\n        \"description\": \"\"\n      }\n    },\n    {\n      \"column\": \"replyToSN\",\n      \"properties\": {\n        \"dtype\": \"category\",\n        \"num_unique_values\": 673,\n        \"samples\": [\n          \"anshud2843\"\n        ],\n        \"semantic_type\": \"\",\n        \"description\": \"\"\n      }\n    },\n    {\n      \"column\": \"created\",\n      \"properties\": {\n        \"dtype\": \"object\",\n        \"num_unique_values\": 14133,\n        \"samples\": [\n          \"2016-11-22 11:47:10\"\n        ],\n        \"semantic_type\": \"\",\n        \"description\": \"\"\n      }\n    },\n    {\n      \"column\": \"truncated\",\n      \"properties\": {\n        \"dtype\": \"boolean\",\n        \"num_unique_values\": 2,\n        \"samples\": [\n          true\n        ],\n        \"semantic_type\": \"\",\n        \"description\": \"\"\n      }\n    },\n    {\n      \"column\": \"replyToSID\",\n      \"properties\": {\n        \"dtype\": \"number\",\n        \"std\": 3.880259778636754e+16,\n        \"min\": 22096326007.0,\n        \"max\": 8.554541262760837e+17,\n        \"num_unique_values\": 834,\n        \"samples\": [\n          8.531224284735488e+17\n        ],\n        \"semantic_type\": \"\",\n        \"description\": \"\"\n      }\n    },\n    {\n      \"column\": \"id\",\n      \"properties\": {\n        \"dtype\": \"number\",\n        \"std\": 2.6103405589334468e+16,\n        \"min\": 8.010167637227969e+17,\n        \"max\": 8.554728794078167e+17,\n        \"num_unique_values\": 14940,\n        \"samples\": [\n          8.011364320561478e+17\n        ],\n        \"semantic_type\": \"\",\n        \"description\": \"\"\n      }\n    },\n    {\n      \"column\": \"replyToUID\",\n      \"properties\": {\n        \"dtype\": \"number\",\n        \"std\": 1.7969122325494813e+17,\n        \"min\": 1917731.0,\n        \"max\": 8.542509997662413e+17,\n        \"num_unique_values\": 673,\n        \"samples\": [\n          1602416263.0\n        ],\n        \"semantic_type\": \"\",\n        \"description\": \"\"\n      }\n    },\n    {\n      \"column\": \"statusSource\",\n      \"properties\": {\n        \"dtype\": \"category\",\n        \"num_unique_values\": 144,\n        \"samples\": [\n          \"<a href=\\\"https://github.com/mariotaku/twidere/\\\" rel=\\\"nofollow\\\">Twidere for Android #7</a>\"\n        ],\n        \"semantic_type\": \"\",\n        \"description\": \"\"\n      }\n    },\n    {\n      \"column\": \"screenName\",\n      \"properties\": {\n        \"dtype\": \"string\",\n        \"num_unique_values\": 11259,\n        \"samples\": [\n          \"malstronikus\"\n        ],\n        \"semantic_type\": \"\",\n        \"description\": \"\"\n      }\n    },\n    {\n      \"column\": \"retweetCount\",\n      \"properties\": {\n        \"dtype\": \"number\",\n        \"std\": 411,\n        \"min\": 0,\n        \"max\": 5170,\n        \"num_unique_values\": 220,\n        \"samples\": [\n          456\n        ],\n        \"semantic_type\": \"\",\n        \"description\": \"\"\n      }\n    },\n    {\n      \"column\": \"isRetweet\",\n      \"properties\": {\n        \"dtype\": \"boolean\",\n        \"num_unique_values\": 2,\n        \"samples\": [\n          false\n        ],\n        \"semantic_type\": \"\",\n        \"description\": \"\"\n      }\n    },\n    {\n      \"column\": \"retweeted\",\n      \"properties\": {\n        \"dtype\": \"boolean\",\n        \"num_unique_values\": 1,\n        \"samples\": [\n          false\n        ],\n        \"semantic_type\": \"\",\n        \"description\": \"\"\n      }\n    }\n  ]\n}"
            }
          },
          "metadata": {},
          "execution_count": 7
        }
      ]
    },
    {
      "cell_type": "code",
      "metadata": {
        "id": "weuH_j1dujiM",
        "colab": {
          "base_uri": "https://localhost:8080/"
        },
        "outputId": "a1e25bb9-87ea-473b-bef9-328dba8e13b0"
      },
      "source": [
        "backup=df\n",
        "\n",
        "# Looking at some Tweets\n",
        "for index, tweet in enumerate(df[\"text\"][10:15]):\n",
        "    print(index+1,\".\",tweet)"
      ],
      "execution_count": null,
      "outputs": [
        {
          "output_type": "stream",
          "name": "stdout",
          "text": [
            "1 . Many opposition leaders are with @narendramodi on the #Demonetization \r\n",
            "And respect their decision,but support opposition just b'coz of party\n",
            "2 . RT @Joydas: Question in Narendra Modi App where PM is taking feedback if people support his #DeMonetization strategy https://t.co/pYgK8Rmg7r\n",
            "3 . @Jaggesh2 Bharat band on 28??<ed><U+00A0><U+00BD><ed><U+00B8><U+0082>Those who  are protesting #demonetization  are all different party leaders.\n",
            "4 . RT @Atheist_Krishna: The effect of #Demonetization !!\r\n",
            ". https://t.co/A8of7zh2f5\n",
            "5 . RT @sona2905: When I explained #Demonetization to myself and tried to put it down in my words which are not laced with any heavy technical\n"
          ]
        }
      ]
    },
    {
      "cell_type": "markdown",
      "metadata": {
        "id": "AtyGrQGjujiV"
      },
      "source": [
        "## 2.Regex for Cleaning Text Data"
      ]
    },
    {
      "cell_type": "code",
      "metadata": {
        "id": "6d09OY74ujiY"
      },
      "source": [
        "import re"
      ],
      "execution_count": null,
      "outputs": []
    },
    {
      "cell_type": "markdown",
      "metadata": {
        "id": "OjgVp4Vnujif"
      },
      "source": [
        "### a. Removing `RT`"
      ]
    },
    {
      "cell_type": "code",
      "metadata": {
        "scrolled": true,
        "id": "KNhY2zWBujih",
        "colab": {
          "base_uri": "https://localhost:8080/"
        },
        "outputId": "d15acf36-6889-4a3c-d412-59ed0e95208c"
      },
      "source": [
        "# Removing RT from a single Tweet\n",
        "text = \"RT @Joydas: Question in Narendra Modi App where PM is taking feedback if people support his #DeMonetization strategy https://t.co/pYgK8Rmg7r\"\n",
        "clean_text = re.sub('RT ','', text)\n",
        "\n",
        "print(\"Text before:\\n\", text)\n",
        "print(\"Text after:\\n\", clean_text)"
      ],
      "execution_count": null,
      "outputs": [
        {
          "output_type": "stream",
          "name": "stdout",
          "text": [
            "Text before:\n",
            " RT @Joydas: Question in Narendra Modi App where PM is taking feedback if people support his #DeMonetization strategy https://t.co/pYgK8Rmg7r\n",
            "Text after:\n",
            " @Joydas: Question in Narendra Modi App where PM is taking feedback if people support his #DeMonetization strategy https://t.co/pYgK8Rmg7r\n"
          ]
        }
      ]
    },
    {
      "cell_type": "code",
      "metadata": {
        "id": "GiIlLK4pujip",
        "colab": {
          "base_uri": "https://localhost:8080/"
        },
        "outputId": "87e01655-4c0d-4b4a-b432-7d4404300627"
      },
      "source": [
        "df=backup\n",
        "# Tweets before removal\n",
        "df['text'].head()"
      ],
      "execution_count": null,
      "outputs": [
        {
          "output_type": "execute_result",
          "data": {
            "text/plain": [
              "0    RT @rssurjewala: Critical question: Was PayTM ...\n",
              "1    RT @Hemant_80: Did you vote on #Demonetization...\n",
              "2    RT @roshankar: Former FinSec, RBI Dy Governor,...\n",
              "3    RT @ANI_news: Gurugram (Haryana): Post office ...\n",
              "4    RT @satishacharya: Reddy Wedding! @mail_today ...\n",
              "Name: text, dtype: object"
            ]
          },
          "metadata": {},
          "execution_count": 7
        }
      ]
    },
    {
      "cell_type": "code",
      "source": [
        "for cont, tweet in enumerate(df[\"text\"]):\n",
        "    tweet=re.sub('RT ','',tweet)\n",
        "    df[\"text\"][cont]=tweet\n"
      ],
      "metadata": {
        "colab": {
          "base_uri": "https://localhost:8080/"
        },
        "id": "SU5ok8yNZPvN",
        "outputId": "7aa0a2f9-a43d-4bb8-a8a3-e00487cb01ee"
      },
      "execution_count": null,
      "outputs": [
        {
          "output_type": "stream",
          "name": "stderr",
          "text": [
            "<ipython-input-8-c87e2ade72a0>:3: SettingWithCopyWarning: \n",
            "A value is trying to be set on a copy of a slice from a DataFrame\n",
            "\n",
            "See the caveats in the documentation: https://pandas.pydata.org/pandas-docs/stable/user_guide/indexing.html#returning-a-view-versus-a-copy\n",
            "  df[\"text\"][cont]=tweet\n"
          ]
        }
      ]
    },
    {
      "cell_type": "code",
      "source": [
        "df['text'].head()"
      ],
      "metadata": {
        "colab": {
          "base_uri": "https://localhost:8080/"
        },
        "id": "dCDnZvmG9ekQ",
        "outputId": "33c62b95-03eb-44c2-8212-a9f5c8f8faa0"
      },
      "execution_count": null,
      "outputs": [
        {
          "output_type": "execute_result",
          "data": {
            "text/plain": [
              "0    @rssurjewala: Critical question: Was PayTM inf...\n",
              "1    @Hemant_80: Did you vote on #Demonetization on...\n",
              "2    @roshankar: Former FinSec, RBI Dy Governor, CB...\n",
              "3    @ANI_news: Gurugram (Haryana): Post office emp...\n",
              "4    @satishacharya: Reddy Wedding! @mail_today car...\n",
              "Name: text, dtype: object"
            ]
          },
          "metadata": {},
          "execution_count": 9
        }
      ]
    },
    {
      "cell_type": "code",
      "metadata": {
        "id": "e_sg0D20ujix"
      },
      "source": [
        "df=backup\n",
        "# Removing RT from all the tweets\n",
        "df['text']=df['text'].apply(lambda x: re.sub('RT ','',x))"
      ],
      "execution_count": null,
      "outputs": []
    },
    {
      "cell_type": "code",
      "metadata": {
        "id": "Q68p9HTauji3",
        "colab": {
          "base_uri": "https://localhost:8080/"
        },
        "outputId": "4217f2bf-6668-40aa-e4f5-38de5596ca93"
      },
      "source": [
        "# Tweets after removal\n",
        "df['text'].head()"
      ],
      "execution_count": null,
      "outputs": [
        {
          "output_type": "execute_result",
          "data": {
            "text/plain": [
              "0    @rssurjewala: Critical question: Was PayTM inf...\n",
              "1    @Hemant_80: Did you vote on #Demonetization on...\n",
              "2    @roshankar: Former FinSec, RBI Dy Governor, CB...\n",
              "3    @ANI_news: Gurugram (Haryana): Post office emp...\n",
              "4    @satishacharya: Reddy Wedding! @mail_today car...\n",
              "Name: text, dtype: object"
            ]
          },
          "metadata": {},
          "execution_count": 11
        }
      ]
    },
    {
      "cell_type": "markdown",
      "metadata": {
        "id": "sINitCy_uji8"
      },
      "source": [
        "### b. Removing `<U+..>` like symbols"
      ]
    },
    {
      "cell_type": "code",
      "metadata": {
        "scrolled": true,
        "id": "2Y1wOhYHuji-",
        "colab": {
          "base_uri": "https://localhost:8080/"
        },
        "outputId": "b49155a5-6743-4405-e89f-676b7d1cc655"
      },
      "source": [
        "# Removing <U+..> like symbols from a single tweet\n",
        "text = \"@Jaggesh2 Bharat band on 28??<ed><U+00A0><U+00BD><ed><U+00B8><U+0082>Those who  are protesting #demonetization  are all different party leaders\"\n",
        "clean_text = re.sub('<U\\+[A-Z0-9]+>','', text)\n",
        "\n",
        "print(\"Text before:\\n\", text)\n",
        "print(\"Text after:\\n\", clean_text)"
      ],
      "execution_count": null,
      "outputs": [
        {
          "output_type": "stream",
          "name": "stdout",
          "text": [
            "Text before:\n",
            " @Jaggesh2 Bharat band on 28??<ed><U+00A0><U+00BD><ed><U+00B8><U+0082>Those who  are protesting #demonetization  are all different party leaders\n",
            "Text after:\n",
            " @Jaggesh2 Bharat band on 28??<ed><ed>Those who  are protesting #demonetization  are all different party leaders\n"
          ]
        }
      ]
    },
    {
      "cell_type": "markdown",
      "metadata": {
        "id": "TSNVcp5RujjE"
      },
      "source": [
        "**Note** that although we have gotten rid of majority of symbols, `<ed>` is still present. I leave this as an exercise for you to try out."
      ]
    },
    {
      "cell_type": "code",
      "metadata": {
        "id": "IUqQlbBWujjG"
      },
      "source": [
        "# Removing <U+..> like symbols from all the tweets\n",
        "df['text']=df['text'].apply(lambda x: re.sub('<U\\+[A-Z0-9]+>', '', x))"
      ],
      "execution_count": null,
      "outputs": []
    },
    {
      "cell_type": "markdown",
      "metadata": {
        "id": "zQIbv4blujjL"
      },
      "source": [
        "### c. Fixing the `&` and `&amp;`"
      ]
    },
    {
      "cell_type": "code",
      "metadata": {
        "id": "xLK7LE-7ujjM",
        "colab": {
          "base_uri": "https://localhost:8080/"
        },
        "outputId": "fffea1ca-517a-4294-ea18-c8d22eb96b4a"
      },
      "source": [
        "# Replacing &amp with & in a single tweet\n",
        "text = \"RT @harshkkapoor: #DeMonetization survey results after 24 hours 5Lacs opinions Amazing response &amp; Commitment in fight against Blackmoney\"\n",
        "clean_text = re.sub('&amp;','&', text)\n",
        "\n",
        "print(\"Text before:\\n\", text)\n",
        "print(\"Text after:\\n\", clean_text)"
      ],
      "execution_count": null,
      "outputs": [
        {
          "output_type": "stream",
          "name": "stdout",
          "text": [
            "Text before:\n",
            " RT @harshkkapoor: #DeMonetization survey results after 24 hours 5Lacs opinions Amazing response &amp; Commitment in fight against Blackmoney\n",
            "Text after:\n",
            " RT @harshkkapoor: #DeMonetization survey results after 24 hours 5Lacs opinions Amazing response & Commitment in fight against Blackmoney\n"
          ]
        }
      ]
    },
    {
      "cell_type": "code",
      "metadata": {
        "id": "IBiob-YlujjT"
      },
      "source": [
        "# Replacing &amp with & in all the tweets\n",
        "df['text']=df['text'].apply(lambda x: re.sub('&amp', '&', x))"
      ],
      "execution_count": null,
      "outputs": []
    },
    {
      "cell_type": "markdown",
      "metadata": {
        "id": "GMo38GVFujja"
      },
      "source": [
        "## 3 Regex for Text Data Extraction\n"
      ]
    },
    {
      "cell_type": "markdown",
      "source": [
        "### a. Extracting platform type of tweets"
      ],
      "metadata": {
        "id": "cU0l7wHabpHg"
      }
    },
    {
      "cell_type": "code",
      "metadata": {
        "id": "jEJO4BGhujjc"
      },
      "source": [
        "# Getting number of tweets per platform type\n",
        "platform_count = df[\"statusSource\"].value_counts()"
      ],
      "execution_count": null,
      "outputs": []
    },
    {
      "cell_type": "code",
      "metadata": {
        "scrolled": true,
        "id": "PFQ7XI7cujjh",
        "colab": {
          "base_uri": "https://localhost:8080/"
        },
        "outputId": "e0d25ace-c97e-40f8-f4cb-3c648b7bd72e"
      },
      "source": [
        "print(platform_count)\n",
        "type(platform_count)\n"
      ],
      "execution_count": null,
      "outputs": [
        {
          "output_type": "stream",
          "name": "stdout",
          "text": [
            "<a href=\"http://twitter.com/download/android\" rel=\"nofollow\">Twitter for Android</a>      7642\n",
            "<a href=\"http://twitter.com\" rel=\"nofollow\">Twitter Web Client</a>                        2548\n",
            "<a href=\"http://twitter.com/download/iphone\" rel=\"nofollow\">Twitter for iPhone</a>        2093\n",
            "<a href=\"https://about.twitter.com/products/tweetdeck\" rel=\"nofollow\">TweetDeck</a>        492\n",
            "<a href=\"https://mobile.twitter.com\" rel=\"nofollow\">Twitter Lite</a>                       263\n",
            "                                                                                          ... \n",
            "<a href=\"http://pnllg.com\" rel=\"nofollow\">PNLLG </a>                                         1\n",
            "<a href=\"http://www.toi.in\" rel=\"nofollow\">cmssocialservice</a>                              1\n",
            "<a href=\"http://sites.google.com/site/yorufukurou/\" rel=\"nofollow\">YoruFukurou</a>           1\n",
            "<a href=\"https://panel.socialpilot.co/\" rel=\"nofollow\">SocialPilot.co</a>                    1\n",
            "<a href=\"https://twitter.com/download/android\" rel=\"nofollow\">Twitter for  Android</a>       1\n",
            "Name: statusSource, Length: 144, dtype: int64\n"
          ]
        },
        {
          "output_type": "execute_result",
          "data": {
            "text/plain": [
              "pandas.core.series.Series"
            ]
          },
          "metadata": {},
          "execution_count": 37
        }
      ]
    },
    {
      "cell_type": "code",
      "metadata": {
        "id": "yPtNZx1hujjn",
        "colab": {
          "base_uri": "https://localhost:8080/"
        },
        "outputId": "02b17da3-2888-4781-eca6-f805022b2aef"
      },
      "source": [
        "#List platforms that have more than 100 tweets\n",
        "top_platforms = platform_count.loc[platform_count>100]\n",
        "top_platforms"
      ],
      "execution_count": null,
      "outputs": [
        {
          "output_type": "execute_result",
          "data": {
            "text/plain": [
              "<a href=\"http://twitter.com/download/android\" rel=\"nofollow\">Twitter for Android</a>    7642\n",
              "<a href=\"http://twitter.com\" rel=\"nofollow\">Twitter Web Client</a>                      2548\n",
              "<a href=\"http://twitter.com/download/iphone\" rel=\"nofollow\">Twitter for iPhone</a>      2093\n",
              "<a href=\"https://about.twitter.com/products/tweetdeck\" rel=\"nofollow\">TweetDeck</a>      492\n",
              "<a href=\"https://mobile.twitter.com\" rel=\"nofollow\">Twitter Lite</a>                     263\n",
              "<a href=\"https://mobile.twitter.com\" rel=\"nofollow\">Mobile Web (M5)</a>                  178\n",
              "<a href=\"http://www.facebook.com/twitter\" rel=\"nofollow\">Facebook</a>                    167\n",
              "<a href=\"http://twitter.com/#!/download/ipad\" rel=\"nofollow\">Twitter for iPad</a>        165\n",
              "<a href=\"http://www.twitter.com\" rel=\"nofollow\">Twitter for Windows Phone</a>            139\n",
              "<a href=\"http://onlywire.com/\" rel=\"nofollow\">OnlyWire / Official App</a>                136\n",
              "<a href=\"http://www.twitter.com\" rel=\"nofollow\">Twitter for Windows</a>                  110\n",
              "<a href=\"https://mobile.twitter.com\" rel=\"nofollow\">Mobile Web (M2)</a>                  105\n",
              "<a href=\"http://www.google.com/\" rel=\"nofollow\">Google</a>                               101\n",
              "Name: statusSource, dtype: int64"
            ]
          },
          "metadata": {},
          "execution_count": 38
        }
      ]
    },
    {
      "cell_type": "code",
      "metadata": {
        "id": "uI6HYcpaujjt",
        "colab": {
          "base_uri": "https://localhost:8080/"
        },
        "outputId": "2060f70c-932e-4592-e077-de056dd0a71a"
      },
      "source": [
        "def platform_type(x):\n",
        "    ser = re.search( r\"android|iphone|web|windows|mobile|google|facebook|ipad|tweetdeck|onlywire\", x, re.IGNORECASE)\n",
        "    if ser:\n",
        "        return ser.group()\n",
        "    else:\n",
        "        return None\n",
        "\n",
        "#reset index of the series\n",
        "top_platforms = top_platforms.reset_index()[\"index\"]\n",
        "\n",
        "#extract platform types\n",
        "top_platforms.apply(lambda x: platform_type(x))"
      ],
      "execution_count": null,
      "outputs": [
        {
          "output_type": "execute_result",
          "data": {
            "text/plain": [
              "0       android\n",
              "1           Web\n",
              "2        iphone\n",
              "3     tweetdeck\n",
              "4        mobile\n",
              "5        mobile\n",
              "6      facebook\n",
              "7          ipad\n",
              "8       Windows\n",
              "9      onlywire\n",
              "10      Windows\n",
              "11       mobile\n",
              "12       google\n",
              "Name: index, dtype: object"
            ]
          },
          "metadata": {},
          "execution_count": 39
        }
      ]
    },
    {
      "cell_type": "markdown",
      "metadata": {
        "id": "GPYLjXMPujjz"
      },
      "source": [
        "### b. Extracting hashtags from the tweets"
      ]
    },
    {
      "cell_type": "code",
      "metadata": {
        "id": "q5YAxA2Bujj0",
        "colab": {
          "base_uri": "https://localhost:8080/"
        },
        "outputId": "7368683d-8cb4-4f72-881e-1085bfffa63e"
      },
      "source": [
        "# Extract first hashtag from a tweet\n",
        "text = \"RT @Atheist_Krishna: The effect of #Demonetization !!\\r\\n. https://t.co/A8of7zh2f5\"\n",
        "hashtag = re.search('#\\w+', text)\n",
        "\n",
        "print(\"Tweet:\\n\", text)\n",
        "print(\"Hashtag:\\n\", hashtag.group())"
      ],
      "execution_count": null,
      "outputs": [
        {
          "output_type": "stream",
          "name": "stdout",
          "text": [
            "Tweet:\n",
            " RT @Atheist_Krishna: The effect of #Demonetization !!\r\n",
            ". https://t.co/A8of7zh2f5\n",
            "Hashtag:\n",
            " #Demonetization\n"
          ]
        }
      ]
    },
    {
      "cell_type": "code",
      "metadata": {
        "id": "3v8pCJY_ujj4",
        "colab": {
          "base_uri": "https://localhost:8080/"
        },
        "outputId": "87b9caa5-89d7-47fc-f665-8857a9f8c828"
      },
      "source": [
        "# Extract multiple hastags from a tweet\n",
        "text = \"\"\"RT @kapil_kausik: #Doltiwal I mean #JaiChandKejriwal is \"hurt\" by #Demonetization as the same has rendered USELESS <ed><U+00A0><U+00BD><ed><U+00B1><U+0089> \"acquired funds\" No wo\"\"\"\n",
        "hashtags = re.findall('#\\w+', text)\n",
        "\n",
        "print(\"Tweet:\\n\", text)\n",
        "print(\"Hashtag:\\n\", hashtags)"
      ],
      "execution_count": null,
      "outputs": [
        {
          "output_type": "stream",
          "name": "stdout",
          "text": [
            "Tweet:\n",
            " RT @kapil_kausik: #Doltiwal I mean #JaiChandKejriwal is \"hurt\" by #Demonetization as the same has rendered USELESS <ed><U+00A0><U+00BD><ed><U+00B1><U+0089> \"acquired funds\" No wo\n",
            "Hashtag:\n",
            " ['#Doltiwal', '#JaiChandKejriwal', '#Demonetization']\n"
          ]
        }
      ]
    },
    {
      "cell_type": "code",
      "metadata": {
        "id": "ylPqdl0Lujj9"
      },
      "source": [
        "df['hashtags']=df['text'].apply(lambda x: re.findall('#\\w+', x))"
      ],
      "execution_count": null,
      "outputs": []
    },
    {
      "cell_type": "code",
      "metadata": {
        "id": "Hvv7NXB4ujkC",
        "colab": {
          "base_uri": "https://localhost:8080/",
          "height": 206
        },
        "outputId": "83fd19de-29cb-4ed6-c8e5-cb0b78c38f3c"
      },
      "source": [
        "df[['text','hashtags']].head()"
      ],
      "execution_count": null,
      "outputs": [
        {
          "output_type": "execute_result",
          "data": {
            "text/plain": [
              "                                                text  \\\n",
              "0  @rssurjewala: Critical question: Was PayTM inf...   \n",
              "1  @Hemant_80: Did you vote on #Demonetization on...   \n",
              "2  @roshankar: Former FinSec, RBI Dy Governor, CB...   \n",
              "3  @ANI_news: Gurugram (Haryana): Post office emp...   \n",
              "4  @satishacharya: Reddy Wedding! @mail_today car...   \n",
              "\n",
              "                           hashtags  \n",
              "0                 [#Demonetization]  \n",
              "1                 [#Demonetization]  \n",
              "2                 [#Demonetization]  \n",
              "3                 [#demonetization]  \n",
              "4  [#demonetization, #ReddyWedding]  "
            ],
            "text/html": [
              "\n",
              "  <div id=\"df-d7461ae0-50b6-48b2-b659-8f3c4e5b871e\">\n",
              "    <div class=\"colab-df-container\">\n",
              "      <div>\n",
              "<style scoped>\n",
              "    .dataframe tbody tr th:only-of-type {\n",
              "        vertical-align: middle;\n",
              "    }\n",
              "\n",
              "    .dataframe tbody tr th {\n",
              "        vertical-align: top;\n",
              "    }\n",
              "\n",
              "    .dataframe thead th {\n",
              "        text-align: right;\n",
              "    }\n",
              "</style>\n",
              "<table border=\"1\" class=\"dataframe\">\n",
              "  <thead>\n",
              "    <tr style=\"text-align: right;\">\n",
              "      <th></th>\n",
              "      <th>text</th>\n",
              "      <th>hashtags</th>\n",
              "    </tr>\n",
              "  </thead>\n",
              "  <tbody>\n",
              "    <tr>\n",
              "      <th>0</th>\n",
              "      <td>@rssurjewala: Critical question: Was PayTM inf...</td>\n",
              "      <td>[#Demonetization]</td>\n",
              "    </tr>\n",
              "    <tr>\n",
              "      <th>1</th>\n",
              "      <td>@Hemant_80: Did you vote on #Demonetization on...</td>\n",
              "      <td>[#Demonetization]</td>\n",
              "    </tr>\n",
              "    <tr>\n",
              "      <th>2</th>\n",
              "      <td>@roshankar: Former FinSec, RBI Dy Governor, CB...</td>\n",
              "      <td>[#Demonetization]</td>\n",
              "    </tr>\n",
              "    <tr>\n",
              "      <th>3</th>\n",
              "      <td>@ANI_news: Gurugram (Haryana): Post office emp...</td>\n",
              "      <td>[#demonetization]</td>\n",
              "    </tr>\n",
              "    <tr>\n",
              "      <th>4</th>\n",
              "      <td>@satishacharya: Reddy Wedding! @mail_today car...</td>\n",
              "      <td>[#demonetization, #ReddyWedding]</td>\n",
              "    </tr>\n",
              "  </tbody>\n",
              "</table>\n",
              "</div>\n",
              "      <button class=\"colab-df-convert\" onclick=\"convertToInteractive('df-d7461ae0-50b6-48b2-b659-8f3c4e5b871e')\"\n",
              "              title=\"Convert this dataframe to an interactive table.\"\n",
              "              style=\"display:none;\">\n",
              "        \n",
              "  <svg xmlns=\"http://www.w3.org/2000/svg\" height=\"24px\"viewBox=\"0 0 24 24\"\n",
              "       width=\"24px\">\n",
              "    <path d=\"M0 0h24v24H0V0z\" fill=\"none\"/>\n",
              "    <path d=\"M18.56 5.44l.94 2.06.94-2.06 2.06-.94-2.06-.94-.94-2.06-.94 2.06-2.06.94zm-11 1L8.5 8.5l.94-2.06 2.06-.94-2.06-.94L8.5 2.5l-.94 2.06-2.06.94zm10 10l.94 2.06.94-2.06 2.06-.94-2.06-.94-.94-2.06-.94 2.06-2.06.94z\"/><path d=\"M17.41 7.96l-1.37-1.37c-.4-.4-.92-.59-1.43-.59-.52 0-1.04.2-1.43.59L10.3 9.45l-7.72 7.72c-.78.78-.78 2.05 0 2.83L4 21.41c.39.39.9.59 1.41.59.51 0 1.02-.2 1.41-.59l7.78-7.78 2.81-2.81c.8-.78.8-2.07 0-2.86zM5.41 20L4 18.59l7.72-7.72 1.47 1.35L5.41 20z\"/>\n",
              "  </svg>\n",
              "      </button>\n",
              "      \n",
              "  <style>\n",
              "    .colab-df-container {\n",
              "      display:flex;\n",
              "      flex-wrap:wrap;\n",
              "      gap: 12px;\n",
              "    }\n",
              "\n",
              "    .colab-df-convert {\n",
              "      background-color: #E8F0FE;\n",
              "      border: none;\n",
              "      border-radius: 50%;\n",
              "      cursor: pointer;\n",
              "      display: none;\n",
              "      fill: #1967D2;\n",
              "      height: 32px;\n",
              "      padding: 0 0 0 0;\n",
              "      width: 32px;\n",
              "    }\n",
              "\n",
              "    .colab-df-convert:hover {\n",
              "      background-color: #E2EBFA;\n",
              "      box-shadow: 0px 1px 2px rgba(60, 64, 67, 0.3), 0px 1px 3px 1px rgba(60, 64, 67, 0.15);\n",
              "      fill: #174EA6;\n",
              "    }\n",
              "\n",
              "    [theme=dark] .colab-df-convert {\n",
              "      background-color: #3B4455;\n",
              "      fill: #D2E3FC;\n",
              "    }\n",
              "\n",
              "    [theme=dark] .colab-df-convert:hover {\n",
              "      background-color: #434B5C;\n",
              "      box-shadow: 0px 1px 3px 1px rgba(0, 0, 0, 0.15);\n",
              "      filter: drop-shadow(0px 1px 2px rgba(0, 0, 0, 0.3));\n",
              "      fill: #FFFFFF;\n",
              "    }\n",
              "  </style>\n",
              "\n",
              "      <script>\n",
              "        const buttonEl =\n",
              "          document.querySelector('#df-d7461ae0-50b6-48b2-b659-8f3c4e5b871e button.colab-df-convert');\n",
              "        buttonEl.style.display =\n",
              "          google.colab.kernel.accessAllowed ? 'block' : 'none';\n",
              "\n",
              "        async function convertToInteractive(key) {\n",
              "          const element = document.querySelector('#df-d7461ae0-50b6-48b2-b659-8f3c4e5b871e');\n",
              "          const dataTable =\n",
              "            await google.colab.kernel.invokeFunction('convertToInteractive',\n",
              "                                                     [key], {});\n",
              "          if (!dataTable) return;\n",
              "\n",
              "          const docLinkHtml = 'Like what you see? Visit the ' +\n",
              "            '<a target=\"_blank\" href=https://colab.research.google.com/notebooks/data_table.ipynb>data table notebook</a>'\n",
              "            + ' to learn more about interactive tables.';\n",
              "          element.innerHTML = '';\n",
              "          dataTable['output_type'] = 'display_data';\n",
              "          await google.colab.output.renderOutput(dataTable, element);\n",
              "          const docLink = document.createElement('div');\n",
              "          docLink.innerHTML = docLinkHtml;\n",
              "          element.appendChild(docLink);\n",
              "        }\n",
              "      </script>\n",
              "    </div>\n",
              "  </div>\n",
              "  "
            ]
          },
          "metadata": {},
          "execution_count": 43
        }
      ]
    },
    {
      "cell_type": "markdown",
      "metadata": {
        "id": "jGXFs7YIujkH"
      },
      "source": [
        "## 4. Regex Challenge\n",
        "\n",
        "Now that you have learned all the concepts regarding regex and have also seen it in action, it's time for you to utilize that to solve a challenge all by yourself. Here are some of the tasks that you have to do -\n",
        "\n",
        "\n"
      ]
    },
    {
      "cell_type": "markdown",
      "source": [
        "### a. Removing URLs from tweets\n",
        "\n",
        "**Difficulty - Easy**\n",
        "\n",
        "There are multiple URLs present in individual tweet's `text` and they don't neccessarily provide useful information so we can get rid of them. For example -  \n",
        "\n",
        "*@Joydas: Question in Narendra Modi App where PM is taking feedback if people support his #DeMonetization strategy https://t.co/pYgK8Rmg7r*\n",
        "\n",
        "\n",
        "We can very well remove the URL as it isn't providing much useful information."
      ],
      "metadata": {
        "id": "k40z76ihdNQF"
      }
    },
    {
      "cell_type": "code",
      "metadata": {
        "id": "o6I4k1QuujkJ"
      },
      "source": [
        "# Your Code Here\n",
        "#text = '@Joydas: Question in Narendra Modi App where PM is taking feedback if people support his #DeMonetization strategy https://t.co/pYgK8Rmg7r'\n",
        "#hashtags = re.findall('https?://[A-Za-z0-9.-/]+', text)\n",
        "#hashtags\n",
        "#df['text']=df['text'].apply(lambda x: re.sub('https?://[A-Za-z0-9.-/]+','',x))"
      ],
      "execution_count": 1,
      "outputs": []
    },
    {
      "cell_type": "markdown",
      "metadata": {
        "id": "5Fbl6z9iujkO"
      },
      "source": [
        "### b. Extract Top 100 mentions\n",
        "\n",
        "**Difficulty - Medium**\n",
        "\n",
        "Many of the tweets have mentions of people in the form *@username*, for example see the following tweet -\n",
        "\n",
        "*@Joydas: Question in Narendra Modi App where PM is taking feedback if people support his #DeMonetization strategy https://t.co/pYgK8Rmg7r*\n",
        "\n",
        "Here *@Joydas* is a mention. You need to extract mentions from all the tweets and find which are the top 100 usernames."
      ]
    },
    {
      "cell_type": "code",
      "source": [
        "# Your Code Here\n",
        "text='@Joydas: Question in Narendra Modi App where PM is taking feedback if people support his #DeMonetization strategy https://t.co/pYgK8Rmg7r'\n",
        "mencion=re.findall('@\\w+', text)\n",
        "mencion"
      ],
      "metadata": {
        "colab": {
          "base_uri": "https://localhost:8080/",
          "height": 198
        },
        "id": "IGWCIJ5t-Nfy",
        "outputId": "a43f89d7-7f53-4dcb-ddf4-1f37c6c1acba"
      },
      "execution_count": 2,
      "outputs": [
        {
          "output_type": "error",
          "ename": "NameError",
          "evalue": "name 're' is not defined",
          "traceback": [
            "\u001b[0;31m---------------------------------------------------------------------------\u001b[0m",
            "\u001b[0;31mNameError\u001b[0m                                 Traceback (most recent call last)",
            "\u001b[0;32m<ipython-input-2-970223122059>\u001b[0m in \u001b[0;36m<cell line: 3>\u001b[0;34m()\u001b[0m\n\u001b[1;32m      1\u001b[0m \u001b[0;31m# Your Code Here\u001b[0m\u001b[0;34m\u001b[0m\u001b[0;34m\u001b[0m\u001b[0m\n\u001b[1;32m      2\u001b[0m \u001b[0mtext\u001b[0m\u001b[0;34m=\u001b[0m\u001b[0;34m'@Joydas: Question in Narendra Modi App where PM is taking feedback if people support his #DeMonetization strategy https://t.co/pYgK8Rmg7r'\u001b[0m\u001b[0;34m\u001b[0m\u001b[0;34m\u001b[0m\u001b[0m\n\u001b[0;32m----> 3\u001b[0;31m \u001b[0mmencion\u001b[0m\u001b[0;34m=\u001b[0m\u001b[0mre\u001b[0m\u001b[0;34m.\u001b[0m\u001b[0mfindall\u001b[0m\u001b[0;34m(\u001b[0m\u001b[0;34m'@\\w+'\u001b[0m\u001b[0;34m,\u001b[0m \u001b[0mtext\u001b[0m\u001b[0;34m)\u001b[0m\u001b[0;34m\u001b[0m\u001b[0;34m\u001b[0m\u001b[0m\n\u001b[0m\u001b[1;32m      4\u001b[0m \u001b[0mmencion\u001b[0m\u001b[0;34m\u001b[0m\u001b[0;34m\u001b[0m\u001b[0m\n",
            "\u001b[0;31mNameError\u001b[0m: name 're' is not defined"
          ]
        }
      ]
    },
    {
      "cell_type": "code",
      "source": [
        "TodasMenciones=df['text'].apply(lambda x: re.findall('@\\w+', x))\n",
        "TodasMenciones.head()"
      ],
      "metadata": {
        "id": "TObOeSPd-StP"
      },
      "execution_count": null,
      "outputs": []
    },
    {
      "cell_type": "code",
      "metadata": {
        "id": "tdgcC6-uujkO"
      },
      "source": [
        "mentions_arr=[]\n",
        "\n",
        "for x in TodasMenciones:\n",
        "    if x != None:\n",
        "        mentions_arr.extend(x)\n",
        "mentions_arr[:10]\n",
        "# Getting top 100 mentions\n",
        "\n"
      ],
      "execution_count": null,
      "outputs": []
    },
    {
      "cell_type": "code",
      "source": [
        "mentions_count=pd.Series(mentions_arr).value_counts().head(100)\n",
        "mentions_count"
      ],
      "metadata": {
        "id": "F2evnADI-gCE"
      },
      "execution_count": null,
      "outputs": []
    },
    {
      "cell_type": "code",
      "source": [],
      "metadata": {
        "id": "WzwxIVjvAJQ-"
      },
      "execution_count": null,
      "outputs": []
    },
    {
      "cell_type": "markdown",
      "source": [
        "## 4.Spacy analysis\n",
        "\n",
        "\n"
      ],
      "metadata": {
        "id": "ejdrB_S4ALil"
      }
    },
    {
      "cell_type": "markdown",
      "source": [
        "## Word Frecuency"
      ],
      "metadata": {
        "id": "mOJV4RmXemRF"
      }
    },
    {
      "cell_type": "code",
      "source": [
        "import spacy"
      ],
      "metadata": {
        "id": "IXkbJHpdtBB4"
      },
      "execution_count": 8,
      "outputs": []
    },
    {
      "cell_type": "code",
      "source": [
        "# Loading model\n",
        "nlp=spacy.load('en_core_web_sm')"
      ],
      "metadata": {
        "id": "-uoVvrmitI4G"
      },
      "execution_count": 9,
      "outputs": []
    },
    {
      "cell_type": "code",
      "source": [
        "text=df[\"text\"][1]\n",
        "print(text)"
      ],
      "metadata": {
        "colab": {
          "base_uri": "https://localhost:8080/"
        },
        "id": "iRPOGCyDA4Rh",
        "outputId": "a920e51f-919e-474c-bebd-0d397bf59059"
      },
      "execution_count": 11,
      "outputs": [
        {
          "output_type": "stream",
          "name": "stdout",
          "text": [
            "RT @Hemant_80: Did you vote on #Demonetization on Modi survey app?\n"
          ]
        }
      ]
    },
    {
      "cell_type": "code",
      "source": [
        "# Combining chapters into a single string\n",
        "combined_tweets=' '.join(df.text.values)\n",
        "print(len(combined_tweets))\n"
      ],
      "metadata": {
        "colab": {
          "base_uri": "https://localhost:8080/"
        },
        "id": "cmrFjlzDCBdc",
        "outputId": "1c7b360f-b69d-4420-a3e4-652d479ee981"
      },
      "execution_count": 23,
      "outputs": [
        {
          "output_type": "stream",
          "name": "stdout",
          "text": [
            "2090159\n"
          ]
        }
      ]
    },
    {
      "cell_type": "code",
      "source": [
        "# creating Doc object\n",
        "doc=nlp(combined_tweets[1:100000])"
      ],
      "metadata": {
        "id": "XqZMST9nApPt"
      },
      "execution_count": 24,
      "outputs": []
    },
    {
      "cell_type": "code",
      "source": [
        "# Tokens as string\n",
        "print([token.text for token in doc])"
      ],
      "metadata": {
        "colab": {
          "base_uri": "https://localhost:8080/"
        },
        "id": "WeYsswebBtFP",
        "outputId": "9566ccb3-75ec-46d0-e479-3c5db4c95d5d"
      },
      "execution_count": 25,
      "outputs": [
        {
          "output_type": "stream",
          "name": "stdout",
          "text": [
            "['T', '@rssurjewala', ':', 'Critical', 'question', ':', 'Was', 'PayTM', 'informed', 'about', '#', 'Demonetization', 'edict', 'by', 'PM', '?', 'It', \"'s\", 'clearly', 'fishy', 'and', 'requires', 'full', 'disclosure', '&', 'amp', ';', '\\x85 ', 'RT', '@Hemant_80', ':', 'Did', 'you', 'vote', 'on', '#', 'Demonetization', 'on', 'Modi', 'survey', 'app', '?', 'RT', '@roshankar', ':', 'Former', 'FinSec', ',', 'RBI', 'Dy', 'Governor', ',', 'CBDT', 'Chair', '+', 'Harvard', 'Professor', 'lambaste', '#', 'Demonetization', '.', '\\r\\n\\r\\n', 'If', 'not', 'for', 'Aam', 'Aadmi', ',', 'listen', 'to', 'th', '\\x85 ', 'RT', '@ANI_news', ':', 'Gurugram', '(', 'Haryana', '):', 'Post', 'office', 'employees', 'provide', 'cash', 'exchange', 'to', 'patients', 'in', 'hospitals', '#', 'demonetization', 'https://t.co/uGMxUP9', '\\x85 ', 'RT', '@satishacharya', ':', 'Reddy', 'Wedding', '!', '@mail_today', 'cartoon', '#', 'demonetization', '#', 'ReddyWedding', 'https://t.co/u7gLNrq31F', '@DerekScissors1', ':', 'India\\x92s', '#', 'demonetization', ':', '#', 'Blackmoney', 'a', 'symptom', ',', 'not', 'the', 'disease', 'https://t.co/HSl6Ihj0Qe', 'via', '@ambazaarmag', 'RT', '@gauravcsawant', ':', 'Rs', '40', 'lakh', 'looted', 'from', 'a', 'bank', 'in', 'Kishtwar', 'in', 'J&amp;K.', 'Third', 'such', 'incident', 'since', '#', 'demonetization', '.', 'That', \"'s\", 'how', 'terrorists', 'have', '\\x85 ', 'RT', '@Joydeep_911', ':', 'Calling', 'all', 'Nationalists', 'to', 'join', '...', '\\r\\n', 'Walk', 'for', '#', 'CorruptionFreeIndia', 'and', 'spread', 'the', 'benefits', 'of', '#', 'Demonetization', 'among', 'the', 'mas', '\\x85 ', 'RT', '@sumitbhati2002', ':', 'Many', 'opposition', 'leaders', 'are', 'with', '@narendramodi', 'on', 'the', '#', 'Demonetization', '\\r\\n', 'And', 'respect', 'their', 'decision', ',', 'but', 'support', 'oppositio', '\\x85 ', 'National', 'reform', 'now', 'destroyed', 'even', 'the', 'essence', 'of', 'sagan', '.', 'Such', 'instances', 'urge', 'giving', '#', 'demonetization', 'a', 'second', 'though', '\\x85 ', 'https://t.co/eyySIREiUq', 'Many', 'opposition', 'leaders', 'are', 'with', '@narendramodi', 'on', 'the', '#', 'Demonetization', '\\r\\n', 'And', 'respect', 'their', 'decision', ',', 'but', 'support', 'opposition', 'just', \"b'coz\", 'of', 'party', 'RT', '@Joydas', ':', 'Question', 'in', 'Narendra', 'Modi', 'App', 'where', 'PM', 'is', 'taking', 'feedback', 'if', 'people', 'support', 'his', '#', 'DeMonetization', 'strategy', 'https://t.co/pYgK8Rmg7r', '@Jaggesh2', 'Bharat', 'band', 'on', '28??<ed><U+00A0><U+00BD><ed><U+00B8><U+0082', '>', 'Those', 'who', ' ', 'are', 'protesting', '#', 'demonetization', ' ', 'are', 'all', 'different', 'party', 'leaders', '.', 'RT', '@Atheist_Krishna', ':', 'The', 'effect', 'of', '#', 'Demonetization', '!', '!', '\\r\\n', '.', 'https://t.co/A8of7zh2f5', 'RT', '@sona2905', ':', 'When', 'I', 'explained', '#', 'Demonetization', 'to', 'myself', 'and', 'tried', 'to', 'put', 'it', 'down', 'in', 'my', 'words', 'which', 'are', 'not', 'laced', 'with', 'any', 'heavy', 'technical', '\\x85 ', 'RT', '@Dipankar_cpiml', ':', 'The', 'Modi', 'app', 'on', '#', 'DeMonetization', 'proves', 'once', 'again', 'that', 'the', 'govt', 'is', 'totally', 'indifferent', 'to', 'the', 'mounting', 'misery', 'and', 'hards', '\\x85 ', 'RT', '@roshankar', ':', 'Former', 'FinSec', ',', 'RBI', 'Dy', 'Governor', ',', 'CBDT', 'Chair', '+', 'Harvard', 'Professor', 'lambaste', '#', 'Demonetization', '.', '\\r\\n\\r\\n', 'If', 'not', 'for', 'Aam', 'Aadmi', ',', 'listen', 'to', 'th', '\\x85 ', 'RT', '@Atheist_Krishna', ':', 'BEFORE', 'and', 'AFTER', 'Gandhi', 'ji', 'heard', 'they', 'are', 'standing', 'there', 'against', '#', 'Demonetization', '\\r\\n', '.', 'https://t.co/9NheK63TPg', 'RT', '@pGurus1', ':', '#', 'Demonetization', 'The', 'co', '-', 'operative', 'banking', 'sector', 'in', 'Kerala', 'is', 'as', 'good', 'as', 'a', 'tax', 'haven', '.', 'Is', 'Kerala', 'a', 'Black', 'Money', 'HQ', '?', 'https://t.co/', '\\x85 ', 'RT', '@roshankar', ':', 'Former', 'FinSec', ',', 'RBI', 'Dy', 'Governor', ',', 'CBDT', 'Chair', '+', 'Harvard', 'Professor', 'lambaste', '#', 'Demonetization', '.', '\\r\\n\\r\\n', 'If', 'not', 'for', 'Aam', 'Aadmi', ',', 'listen', 'to', 'th', '\\x85 ', 'RT', '@Hemant_80', ':', 'Did', 'you', 'vote', 'on', '#', 'Demonetization', 'on', 'Modi', 'survey', 'app', '?', 'RT', '@roshankar', ':', 'Former', 'FinSec', ',', 'RBI', 'Dy', 'Governor', ',', 'CBDT', 'Chair', '+', 'Harvard', 'Professor', 'lambaste', '#', 'Demonetization', '.', '\\r\\n\\r\\n', 'If', 'not', 'for', 'Aam', 'Aadmi', ',', 'listen', 'to', 'th', '\\x85 ', 'RT', '@Atheist_Krishna', ':', 'BEFORE', 'and', 'AFTER', 'Gandhi', 'ji', 'heard', 'they', 'are', 'standing', 'there', 'against', '#', 'Demonetization', '\\r\\n', '.', 'https://t.co/9NheK63TPg', 'RT', '@MahikaInfra', ':', '@narendramodi', '\\r\\n', '@Swamy39', '\\r\\n', 'The', 'success', 'of', '#', 'Demonetization', 'will', 'depend', 'on', 'how', 'swiftly', 'govt', 'replenish', 'the', 'currency', '\\r\\n\\r\\n', 'Pls', 'avoid', 'Ba', '\\x85 ', 'RT', '@Hemant_80', ':', 'Did', 'you', 'vote', 'on', '#', 'Demonetization', 'on', 'Modi', 'survey', 'app', '?', 'RT', '@roshankar', ':', 'Former', 'FinSec', ',', 'RBI', 'Dy', 'Governor', ',', 'CBDT', 'Chair', '+', 'Harvard', 'Professor', 'lambaste', '#', 'Demonetization', '.', '\\r\\n\\r\\n', 'If', 'not', 'for', 'Aam', 'Aadmi', ',', 'listen', 'to', 'th', '\\x85 ', 'RT', '@kapil_kausik', ':', '#', 'Doltiwal', 'I', 'mean', '#', 'JaiChandKejriwal', 'is', '\"', 'hurt', '\"', 'by', '#', 'Demonetization', 'as', 'the', 'same', 'has', 'rendered', 'USELESS', '<', 'ed><U+00A0><U+00BD><ed><U+00B1><U+0089', '>', '\"', 'acquired', 'funds', '\"', 'No', 'wo', '\\x85 ', 'RT', '@roshankar', ':', 'Former', 'FinSec', ',', 'RBI', 'Dy', 'Governor', ',', 'CBDT', 'Chair', '+', 'Harvard', 'Professor', 'lambaste', '#', 'Demonetization', '.', '\\r\\n\\r\\n', 'If', 'not', 'for', 'Aam', 'Aadmi', ',', 'listen', 'to', 'th', '\\x85 ', 'RT', '@kapil_kausik', ':', '#', 'Doltiwal', 'I', 'mean', '#', 'JaiChandKejriwal', 'is', '\"', 'hurt', '\"', 'by', '#', 'Demonetization', 'as', 'the', 'same', 'has', 'rendered', 'USELESS', '<', 'ed><U+00A0><U+00BD><ed><U+00B1><U+0089', '>', '\"', 'acquired', 'funds', '\"', 'No', 'wo', '\\x85 ', 'RT', '@AAPVind', ':', '#', 'Demonetization', 'Is', 'Disaster', '!', ' ', '@naam_pk', 'RT', '@Hemant_80', ':', 'Did', 'you', 'vote', 'on', '#', 'Demonetization', 'on', 'Modi', 'survey', 'app', '?', 'RT', '@Gadgets360', ':', 'After', 'the', '#', 'demonetization', ',', 'searches', 'about', '#', 'NarendraModi', \"'s\", 'app', 'are', 'trending', 'on', 'app', 'stores', 'https://t.co/ZetKRqqClX', 'RT', '@_avenu', ':', 'Teacher', ':', 'is', 'there', 'anybody', 'who', 'is', 'absent', 'today', '?', '\\r\\n', '(', 'No', 'response', ')', '\\r\\n', 'Teacher', 'says', '100', '%', 'attendance', '\\r\\n', '#', 'Demonetization', '#', 'App', '#', 'survey', '\\r\\n', '@DonMu', '\\x85 ', 'RT', '@DrGPradhan', ':', '8', '\\r\\n\\r\\n', 'This', 'tweet', 'of', '@minimathur', 'BIBI', 'explains', 'why', 'she', 'is', 'having', 'a', 'prob', 'with', '#', 'demonetization', '..', 'In', 'first', 'part', 'she', 'says', 'she', 'ca', \"n't\", '\\x85 ', 'RT', '@mayankjain100', ':', '#', 'demonetization', 'is', 'Communal', 'and', 'Black', 'Money', 'is', 'Secular', '...', 'LOL', '.', '#', 'Demonetization', 'Effect', '.', 'https://t.co/aA5lfy9ALG', 'RT', '@kapil_kausik', ':', '#', 'Doltiwal', 'I', 'mean', '#', 'JaiChandKejriwal', 'is', '\"', 'hurt', '\"', 'by', '#', 'Demonetization', 'as', 'the', 'same', 'has', 'rendered', 'USELESS', '<', 'ed><U+00A0><U+00BD><ed><U+00B1><U+0089', '>', '\"', 'acquired', 'funds', '\"', 'No', 'wo', '\\x85 ', 'RT', 'roshankar', ':', 'Harvard', \"'s\", 'Larry', 'Summers', 'calls', '#', 'Demonetization', 'as', 'poor', 'policy', 'with', 'disproportionate', 'negative', 'impact', 'o', '\\x85 ', 'https://t.co/TPYJgXFBY8', 'RT', '@Atheist_Krishna', ':', 'BEFORE', 'and', 'AFTER', 'Gandhi', 'ji', 'heard', 'they', 'are', 'standing', 'there', 'against', '#', 'Demonetization', '\\r\\n', '.', 'https://t.co/9NheK63TPg', '@arunjaitley', '@narendramodi', 'Lrnd', 'frm', 'a', 'frnd', '-', 'Banks', 'r', 'asking', 'employees', 'to', 'comeback', '2sales', '&', 'amp', ';', 'BAU', 'Operations', '#', 'Demonetization', 'RT', '@kanimozhi', ':', 'Ts', 'is', 'exactly', 'what', 'Pappu', '&', 'amp', ';', 'opposition', 'has', 'done', 'to', 'themselves', 'by', 'opposing', '#', 'Demonetization', 'Now', 'none', 'can', 'stop', 'Modi', 'bandwagon', 'ti', '\\x85 ', 'RT', '@roshankar', ':', 'Harvard', \"'s\", 'Larry', 'Summers', 'calls', '#', 'Demonetization', 'as', 'poor', 'policy', 'with', 'disproportionate', 'negative', 'impact', 'on', 'poor', '/', 'trade', '.', '\\r\\n\\r\\n', 'https://t', '\\x85 ', 'RT', '@DrGPradhan', ':', '8', '\\r\\n\\r\\n', 'This', 'tweet', 'of', '@minimathur', 'BIBI', 'explains', 'why', 'she', 'is', 'having', 'a', 'prob', 'with', '#', 'demonetization', '..', 'In', 'first', 'part', 'she', 'says', 'she', 'ca', \"n't\", '\\x85 ', '@dineshgrao', 'you', 'have', '12.5', 'k', 'followers', 'yet', 'you', 'are', 'not', 'getting', 'enough', 'likes', 'for', 'your', 'tweets', 'against', '#', 'demonetization', '.', 'You', 'need', 'to', 'introspect', '.', '#', 'DeMonetization', 'Effect', ':', 'Visa', ',', 'Master', 'Card', ',', 'Amex', 'all', 'Accepted', ':)', 'https://t.co/ozDwcPKjaI', 'RT', '@DrGPradhan', ':', '8', '\\r\\n\\r\\n', 'This', 'tweet', 'of', '@minimathur', 'BIBI', 'explains', 'why', 'she', 'is', 'having', 'a', 'prob', 'with', '#', 'demonetization', '..', 'In', 'first', 'part', 'she', 'says', 'she', 'ca', \"n't\", '\\x85 ', 'RT', '@harshkkapoor', ':', '#', 'DeMonetization', 'survey', 'results', 'after', '24', 'hours', '\\r\\n', '5Lacs', 'opinions', '\\r\\n', 'Amazing', 'response&amp', ';', 'Commitment', 'in', 'fight', 'against', 'Blackmoney', '\\r\\n', '@na', '\\x85 ', 'RT', '@roshankar', ':', 'Former', 'FinSec', ',', 'RBI', 'Dy', 'Governor', ',', 'CBDT', 'Chair', '+', 'Harvard', 'Professor', 'lambaste', '#', 'Demonetization', '.', '\\r\\n\\r\\n', 'If', 'not', 'for', 'Aam', 'Aadmi', ',', 'listen', 'to', 'th', '\\x85 ', 'RT', '@rohanmlw', ':', '#', 'demonetization', 'eye', 'opener', 'video', 'bt', 'i', 'doubt', 'as', 'few', 'jurnos', 'do', \"n't\", 'want2', 'hear', '+', 've', 'of', '@narendramodi', '@sardesairajdeep', '@ravishndtv', '\\x85 ', 'RT', '@Punitspeaks', ':', 'Survey', 'result', 'so', 'far', 'by', '@PMOIndia', 'on', '#', 'Demonetization', '.', '5', 'lakh', 'response', 'in', '24', 'hrs', '.', '90', '%', 'supports', 'note', 'ban', '.', '#', 'MeraDeshBadalRaha', '\\x85 ', 'RT', '@nmleo1', ':', 'Is', '#', 'ModiSarkar', \"'s\", '#', 'achedin', 'campaign', 'on', '#', 'demonetization', 'a', '#', 'goebbelsian', '#', 'masterstroke', 'that', 'turns', 'blind', 'eye', 'to', '#', 'GroundZero', 'shocks', '?', '\\x85 ', 'RT', '@Punitspeaks', ':', 'Survey', 'result', 'so', 'far', 'by', '@PMOIndia', 'on', '#', 'Demonetization', '.', '5', 'lakh', 'response', 'in', '24', 'hrs', '.', '90', '%', 'supports', 'note', 'ban', '.', '#', 'MeraDeshBadalRaha', '\\x85 ', 'RT', '@DrGPradhan', ':', '8', '\\r\\n\\r\\n', 'This', 'tweet', 'of', '@minimathur', 'BIBI', 'explains', 'why', 'she', 'is', 'having', 'a', 'prob', 'with', '#', 'demonetization', '..', 'In', 'first', 'part', 'she', 'says', 'she', 'ca', \"n't\", '\\x85 ', '#', 'demonetization', 'is', 'Communal', 'and', 'Black', 'Money', 'is', 'Secular', '...', 'RT', '@kapil_kausik', ':', '#', 'Doltiwal', 'I', 'mean', '#', 'JaiChandKejriwal', 'is', '\"', 'hurt', '\"', 'by', '#', 'Demonetization', 'as', 'the', 'same', 'has', 'rendered', 'USELESS', '<', 'ed><U+00A0><U+00BD><ed><U+00B1><U+0089', '>', '\"', 'acquired', 'funds', '\"', 'No', 'wo', '\\x85 ', 'RT', '@nmleo1', ':', '@MinhazMerchant', '#', 'demonetization', 'hardly', 'affects', 'tax', 'dodgers', '&', 'amp', ';', '#', 'NETAS', 'who', 'excel', 'in', '#', 'CashlessCorruption', '&', 'amp', ';', 'have', 'multiplied', 'bad', 'weal', '\\x85 ', 'RT', '@Atheist_Krishna', ':', 'BEFORE', 'and', 'AFTER', 'Gandhi', 'ji', 'heard', 'they', 'are', 'standing', 'there', 'against', '#', 'Demonetization', '\\r\\n', '.', 'https://t.co/9NheK63TPg', 'Section', '144', 'issued', 'by', 'District', 'Magistrate', ',', '#', 'Indore', 'prohibiting', '#', 'socialmedia', 'posts', 'on', '#', 'demonetization', ',', 'Why', '?', '?', '\\r\\n', '#', 'citizen', 'https://t.co/5Tn7aNBTsi', 'RT', '@pGurus1', ':', 'CPI', '-', 'M', 'opposes', 'Co', '-', 'op', 'Banks', 'in', 'West', 'Bengal', 'but', 'supports', 'them', 'in', 'Kerala', '!', 'Y', 'Pawar', 'U', '-', 'turned', 'on', '#', 'Demonetization', 'https://t.co/ThzaV7r', '\\x85 ', 'RT', 'roshankar', ':', 'Harvard', \"'s\", 'Larry', 'Summers', 'calls', '#', 'Demonetization', 'as', 'poor', 'policy', 'with', 'disproportionate', 'negative', 'impact', 'o', '\\x85 ', 'https://t.co/vCWWjxu0wb', 'RT', '@ZeeNewsSports', ':', '#', 'Demonetization', ':', '@harbhajan_singh', 'gives', 'hilarious', \"'\", 'shagun', \"'\", 'suggestion', 'to', 'those', 'struggling', 'with', 'wedding', 'season', '\\r\\n\\r\\n', 'https://t', '\\x85 ', 'RT', '@gauravcsawant', ':', 'Rs', '40', 'lakh', 'looted', 'from', 'a', 'bank', 'in', 'Kishtwar', 'in', 'J&amp;K.', 'Third', 'such', 'incident', 'since', '#', 'demonetization', '.', 'That', \"'s\", 'how', 'terrorists', 'have', '\\x85 ', 'RT', '@pGurus1', ':', '#', 'Demonetization', 'The', 'time', 'has', 'come', 'to', 'put', 'MUDRA', 'into', 'action', ',', 'writes', 'Prof.', 'R', 'Vaidyanathan', '-', 'https://t.co/P6HkkDVa3b', '@upma23', '@UnS', '\\x85 ', 'RT', '@pGurus1', ':', '#', 'Demonetization', 'move', 'of', 'Modi', ';', 'Who', 'is', 'supporting', 'it', ',', 'who', 'is', 'opposing', 'it', 'and', 'why', '?', 'A', 'complete', 'coverage', 'of', 'all', 'parties', '-', 'https://t', '\\x85 ', 'RT', '@Joydas', ':', 'Question', 'in', 'Narendra', 'Modi', 'App', 'where', 'PM', 'is', 'taking', 'feedback', 'if', 'people', 'support', 'his', '#', 'DeMonetization', 'strategy', 'https://t.co/pYgK8Rmg7r', 'RT', '@ModiBharosa', ':', 'Huge', 'support', 'for', 'PM', '@narendramodi', '\\x92s', '#', 'demonetization', 'Move', 'Across', 'the', 'Nation', '\\r\\n', '80', '-', '86', '%', 'people', 'back', 'demonetization', ':', 'C', '-', 'voter', 'su', '\\x85 ', 'Effects', 'of', 'sluggish', 'economy', ',', 'negative', 'IIP', ',', '#', 'Demonetization', '!', 'Does', 'the', 'Great', 'Leader', 'even', 'bother', 'except', 'continued', 'dra', '\\x85 ', 'https://t.co/DuvbMtEi1Y', 'RT', '@kanimozhi', ':', 'Ts', 'is', 'exactly', 'what', 'Pappu', '&', 'amp', ';', 'opposition', 'has', 'done', 'to', 'themselves', 'by', 'opposing', '#', 'Demonetization', 'Now', 'none', 'can', 'stop', 'Modi', 'bandwagon', 'ti', '\\x85 ', 'RT', 'roshankar', ':', 'Harvard', \"'s\", 'Larry', 'Summers', 'calls', '#', 'Demonetization', 'as', 'poor', 'policy', 'with', 'disproportionate', 'negative', 'impact', 'o', '\\x85 ', 'https://t.co/5J6jZXbY81', 'RT', '@DrGPradhan', ':', '8', '\\r\\n\\r\\n', 'This', 'tweet', 'of', '@minimathur', 'BIBI', 'explains', 'why', 'she', 'is', 'having', 'a', 'prob', 'with', '#', 'demonetization', '..', 'In', 'first', 'part', 'she', 'says', 'she', 'ca', \"n't\", '\\x85 ', 'RT', '@bhaiyyajispeaks', ':', 'Here', '@sardesairajdeep', 'struggling', 'for', 'one', 'answer', 'against', '#', 'Demonetization', ',', 'He', 'should', 'have', 'taken', 'some', 'Congress', 'leader', 'lik', '\\x85 ', '#', 'Demonetization', 'and', 'the', 'Indian', 'Economy', 'An', 'Interview', 'by', 'Doordarshan', 'with', 'Sri', 'S.Gurumurthy', 'https://t.co/LdeBCADAeR', 'RT', '@Gadgets360', ':', 'After', 'the', '#', 'demonetization', ',', 'searches', 'about', '#', 'NarendraModi', \"'s\", 'app', 'are', 'trending', 'on', 'app', 'stores', 'https://t.co/ZetKRqqClX', 'RT', '@roshankar', ':', 'Former', 'FinSec', ',', 'RBI', 'Dy', 'Governor', ',', 'CBDT', 'Chair', '+', 'Harvard', 'Professor', 'lambaste', '#', 'Demonetization', '.', '\\r\\n\\r\\n', 'If', 'not', 'for', 'Aam', 'Aadmi', ',', 'listen', 'to', 'th', '\\x85 ', 'RT', '@Punitspeaks', ':', 'Survey', 'result', 'so', 'far', 'by', '@PMOIndia', 'on', '#', 'Demonetization', '.', '5', 'lakh', 'response', 'in', '24', 'hrs', '.', '90', '%', 'supports', 'note', 'ban', '.', '#', 'MeraDeshBadalRaha', '\\x85 ', 'RT', '@NilimDutta', ':', 'After', 'much', 'contemplation', 'I', 'have', 'come', 'to', 'the', 'conclusion', 'that', 'nothing', 'explains', 'Modi', \"'s\", '#', 'DeMonetization', 'better', 'than', 'monumental', '\\x85 ', 'RT', '@Currency_crisis', ':', 'What', '#', 'demonetization', 'indicates', 'is', 'loss', 'of', 'freedom', '\\r\\n', 'Besides', 'laws', '/', 'constitution', '/', 'court', '/', 'cops', '2', 'govern', 'people', '\\r\\n', 'govt', 'is', 'using', 'm', '\\x85 ', 'RT', '@Hemant_80', ':', 'Did', 'you', 'vote', 'on', '#', 'Demonetization', 'on', 'Modi', 'survey', 'app', '?', 'Ppl', 'of', 'India', 'extending', 'overwhelming', 'supprt', 'to', '@narendramodi', 'Ji', \"'s\", 'crusade', 'agnst', 'black', 'money', '.', 'Survey', '@timesofindia', '\\x85 ', 'https://t.co/Axqd8FOwpK', 'RT', '@roshankar', ':', 'Harvard', \"'s\", 'Larry', 'Summers', 'calls', '#', 'Demonetization', 'as', 'poor', 'policy', 'with', 'disproportionate', 'negative', 'impact', 'on', 'poor', '/', 'trade', '.', '\\r\\n\\r\\n', 'https://t', '\\x85 ', 'RT', '@gauravcsawant', ':', 'Rs', '40', 'lakh', 'looted', 'from', 'a', 'bank', 'in', 'Kishtwar', 'in', 'J&amp;K.', 'Third', 'such', 'incident', 'since', '#', 'demonetization', '.', 'That', \"'s\", 'how', 'terrorists', 'have', '\\x85 ', 'RT', '@harshkkapoor', ':', '#', 'DeMonetization', 'survey', 'results', 'after', '24', 'hours', '\\r\\n', '5Lacs', 'opinions', '\\r\\n', 'Amazing', 'response&amp', ';', 'Commitment', 'in', 'fight', 'against', 'Blackmoney', '\\r\\n', '@na', '\\x85 ', 'People', 'from', 'rural', 'areas', 'are', 'coming', 'to', 'Delhi', 'just', 'to', 'withdraw', 'cash', '.', '\\r\\n\\r\\n', 'They', 'have', 'given', 'up', 'on', 'govt', '.', 'logistics', '.', '\\r\\n\\r\\n', '@ravishndtv', '#', 'Demonetization', 'RT', '@rssurjewala', ':', 'Critical', 'question', ':', 'Was', 'PayTM', 'informed', 'about', '#', 'Demonetization', 'edict', 'by', 'PM', '?', 'It', \"'s\", 'clearly', 'fishy', 'and', 'requires', 'full', 'disclosure', '&', 'amp', ';', '\\x85 ', 'RT', '@ZeeNewsSports', ':', '#', 'Demonetization', ':', '@harbhajan_singh', 'gives', 'hilarious', \"'\", 'shagun', \"'\", 'suggestion', 'to', 'those', 'struggling', 'with', 'wedding', 'season', '\\r\\n\\r\\n', 'https://t', '\\x85 ', 'RT', '@roshankar', ':', 'Harvard', \"'s\", 'Larry', 'Summers', 'calls', '#', 'Demonetization', 'as', 'poor', 'policy', 'with', 'disproportionate', 'negative', 'impact', 'on', 'poor', '/', 'trade', '.', '\\r\\n\\r\\n', 'https://t', '\\x85 ', 'RT', 'roshankar', ':', 'Harvard', \"'s\", 'Larry', 'Summers', 'calls', '#', 'Demonetization', 'as', 'poor', 'policy', 'with', 'disproportionate', 'negative', 'impact', 'o', '\\x85 ', 'https://t.co/vv9qtRqqSI', 'RT', '@Joydeep_911', ':', 'Calling', 'all', 'Nationalists', 'to', 'join', '...', '\\r\\n', 'Walk', 'for', '#', 'CorruptionFreeIndia', 'and', 'spread', 'the', 'benefits', 'of', '#', 'Demonetization', 'among', 'the', 'mas', '\\x85 ', 'RT', '@NilimDutta', ':', 'After', 'much', 'contemplation', 'I', 'have', 'come', 'to', 'the', 'conclusion', 'that', 'nothing', 'explains', 'Modi', \"'s\", '#', 'DeMonetization', 'better', 'than', 'monumental', '\\x85 ', 'RT', '@Atheist_Krishna', ':', 'BEFORE', 'and', 'AFTER', 'Gandhi', 'ji', 'heard', 'they', 'are', 'standing', 'there', 'against', '#', 'Demonetization', '\\r\\n', '.', 'https://t.co/9NheK63TPg', '#', 'demonetization', '90', '%', 'of', 'population', 'is', 'accepting', 'it', 'as', 'country', 'building', 'measure', ',', 'why', 'these', 'so', 'called', 'politicians', 'opp', '\\x85 ', 'https://t.co/f91j6tZjZ2', 'RT', '@_avenu', ':', 'Teacher', ':', 'is', 'there', 'anybody', 'who', 'is', 'absent', 'today', '?', '\\r\\n', '(', 'No', 'response', ')', '\\r\\n', 'Teacher', 'says', '100', '%', 'attendance', '\\r\\n', '#', 'Demonetization', '#', 'App', '#', 'survey', '\\r\\n', '@DonMu', '\\x85 ', '15', 'days', 'after', '#', 'demonetization', ',', 'country', 'is', 'still', 'suffering', '4', 'm', 'acute', 'shortage', 'of', 'currency', 'notes', '.', '\\r\\n', 'Big', 'loss', '2', 'economy', '\\r\\n', 'Share', 'market', 'tumbling', '\\r\\n', 'SOS', 'RT', '@Hemant_80', ':', 'Did', 'you', 'vote', 'on', '#', 'Demonetization', 'on', 'Modi', 'survey', 'app', '?', 'RT', '@ashu3page', ':', 'Man', 'ends', 'life', 'over', 'fund', 'shortage', 'ahead', 'of', 'daughter\\x92s', 'wedding', 'in', 'Gujarat', '.', '#', 'Demonetization', '\\r\\n', 'https://t.co/DGAI5cf05y', '\\r\\n', 'https://t', '\\x85 ', 'RT', '@ModiBharosa', ':', 'Putting', 'Nation', 'over', 'Party', 'Politics', '#', 'nitishkumar', 'supports', 'PM', '@narendramodi', 'on', '#', 'Demonetization', 'https://t.co/UodwXdPMmG', 'RT', '@kapil_kausik', ':', '#', 'Doltiwal', 'I', 'mean', '#', 'JaiChandKejriwal', 'is', '\"', 'hurt', '\"', 'by', '#', 'Demonetization', 'as', 'the', 'same', 'has', 'rendered', 'USELESS', '<', 'ed><U+00A0><U+00BD><ed><U+00B1><U+0089', '>', '\"', 'acquired', 'funds', '\"', 'No', 'wo', '\\x85 ', 'RT', '@Joydeep_911', ':', 'Calling', 'all', 'Nationalists', 'to', 'join', '...', '\\r\\n', 'Walk', 'for', '#', 'CorruptionFreeIndia', 'and', 'spread', 'the', 'benefits', 'of', '#', 'Demonetization', 'among', 'the', 'mas', '\\x85 ', 'RT', '@TheOfficialSBI', ':', 'As', 'of', 'today', ',', '33000', 'thousand', 'ATMs', 'are', 'functioning', '.', '-', 'SBI', 'Chairman', ',', 'Smt', '.', 'Arundhati', 'Bhattacharya', '.', '#', 'Demonetization', 'RT', '@ashu3page', ':', 'A', 'man', 'shaved', 'his', 'head', 'at', 'Jantar', '-', 'Mantar', 'in', 'protest', 'against', '#', 'Demonetization', ' ', 'on', '13th', 'day', 'of', 'the', 'move', '.', 'https://t.co/IeXuia3J0X', 'Very', 'unfortunate', '...', 'India', 'slips', 'due', 'to', '#', 'demonetization', '\\r\\n', '@BJP4India', '@PMOIndia', '@RanaAyyub', '@TruthOfGujarat', '@AnupamPkher', '\\r\\n', 'https://t.co/6QhcGyBpKw', 'What', '#', 'demonetization', 'indicates', 'is', 'loss', 'of', 'freedom', '\\r\\n', 'Besides', 'laws', '/', 'constitution', '/', 'court', '/', 'cops', '2', 'govern', 'people', '\\r\\n', 'govt', 'is', 'using', 'money', '2', 'control', 'people', 'RT', '@roshankar', ':', 'Harvard', \"'s\", 'Larry', 'Summers', 'calls', '#', 'Demonetization', 'as', 'poor', 'policy', 'with', 'disproportionate', 'negative', 'impact', 'on', 'poor', '/', 'trade', '.', '\\r\\n\\r\\n', 'https://t', '\\x85 ', 'RT', '@pGurus1', ':', '#', 'Demonetization', 'The', 'time', 'has', 'come', 'to', 'put', 'MUDRA', 'into', 'action', ',', 'writes', 'Prof.', 'R', 'Vaidyanathan', '-', 'https://t.co/P6HkkDVa3b', '@upma23', '@UnS', '\\x85 ', 'RT', '@sitaramlamba', ':', 'Cooperative', 'banks', 'shut', 'down', ',', 'sowing', 'season', 'completely', 'disrupted', ',', 'agri', 'markets', '&', 'amp', ';', 'Farmers', 'badly', 'affected', '#', 'demonetization', 'RT', '@Punitspeaks', ':', 'Survey', 'result', 'so', 'far', 'by', '@PMOIndia', 'on', '#', 'Demonetization', '.', '5', 'lakh', 'response', 'in', '24', 'hrs', '.', '90', '%', 'supports', 'note', 'ban', '.', '#', 'MeraDeshBadalRaha', '\\x85 ', 'RT', '@embracetheart', ':', 'Delete', '!', 'Pathetic', 'PM', 'who', 'conducts', 'false', 'poll', 'and', 'self', 'praises', 'himself', '.', '#', 'demonetization', '#', 'BogusPoll', '#', 'ModiScaredOfParliament', '\\x85 ', 'RT', '@Atheist_Krishna', ':', 'BEFORE', 'and', 'AFTER', 'Gandhi', 'ji', 'heard', 'they', 'are', 'standing', 'there', 'against', '#', 'Demonetization', '\\r\\n', '.', 'https://t.co/9NheK63TPg', 'RT', '@ZeeNewsSports', ':', '#', 'Demonetization', ':', '@harbhajan_singh', 'gives', 'hilarious', \"'\", 'shagun', \"'\", 'suggestion', 'to', 'those', 'struggling', 'with', 'wedding', 'season', '\\r\\n\\r\\n', 'https://t', '\\x85 ', 'RT', '@_avenu', ':', 'Teacher', ':', 'is', 'there', 'anybody', 'who', 'is', 'absent', 'today', '?', '\\r\\n', '(', 'No', 'response', ')', '\\r\\n', 'Teacher', 'says', '100', '%', 'attendance', '\\r\\n', '#', 'Demonetization', '#', 'App', '#', 'survey', '\\r\\n', '@DonMu', '\\x85 ', '#', 'Demonetization', '\\r\\n', 'https://t.co/0kq8BsJ1iS', '\\r\\n', 'When', 'PM', 'is', 'in', ',', 'opposition', 'is', 'out', 'of', 'parliament', '.', 'RT', '@kapil_kausik', ':', '#', 'Doltiwal', 'I', 'mean', '#', 'JaiChandKejriwal', 'is', '\"', 'hurt', '\"', 'by', '#', 'Demonetization', 'as', 'the', 'same', 'has', 'rendered', 'USELESS', '<', 'ed><U+00A0><U+00BD><ed><U+00B1><U+0089', '>', '\"', 'acquired', 'funds', '\"', 'No', 'wo', '\\x85 ', 'RT', '@CMOMaharashtra', ':', 'Watch', 'what', '@sonunigam', 'thinks', 'about', '#', 'demonetization', '..', 'https://t.co/vXt09c64zY', 'RT', '@ShashiTharoor', ':', '.', '@anandkamal', 'Frankly', 'i', 'do', \"n't\", 'understand', 'why', '@narendramodi', 'does', \"n't\", 'address', 'Parlmnt', 'on', '#', 'Demonetization', '.', 'It', \"'s\", 'his', 'duty&amp;wil', '\\x85 ', 'RT', '@_avenu', ':', 'Teacher', ':', 'is', 'there', 'anybody', 'who', 'is', 'absent', 'today', '?', '\\r\\n', '(', 'No', 'response', ')', '\\r\\n', 'Teacher', 'says', '100', '%', 'attendance', '\\r\\n', '#', 'Demonetization', '#', 'App', '#', 'survey', '\\r\\n', '@DonMu', '\\x85 ', 'RT', '@_avenu', ':', 'Teacher', ':', 'is', 'there', 'anybody', 'who', 'is', 'absent', 'today', '?', '\\r\\n', '(', 'No', 'response', ')', '\\r\\n', 'Teacher', 'says', '100', '%', 'attendance', '\\r\\n', '#', 'Demonetization', '#', 'App', '#', 'survey', '\\r\\n', '@DonMu', '\\x85 ', 'RT', '@kanimozhi', ':', 'Ts', 'is', 'exactly', 'what', 'Pappu', '&', 'amp', ';', 'opposition', 'has', 'done', 'to', 'themselves', 'by', 'opposing', '#', 'Demonetization', 'Now', 'none', 'can', 'stop', 'Modi', 'bandwagon', 'ti', '\\x85 ', 'RT', '@DrGPradhan', ':', '8', '\\r\\n\\r\\n', 'This', 'tweet', 'of', '@minimathur', 'BIBI', 'explains', 'why', 'she', 'is', 'having', 'a', 'prob', 'with', '#', 'demonetization', '..', 'In', 'first', 'part', 'she', 'says', 'she', 'ca', \"n't\", '\\x85 ', 'RT', '@kapil_kausik', ':', '#', 'Doltiwal', 'I', 'mean', '#', 'JaiChandKejriwal', 'is', '\"', 'hurt', '\"', 'by', '#', 'Demonetization', 'as', 'the', 'same', 'has', 'rendered', 'USELESS', '<', 'ed><U+00A0><U+00BD><ed><U+00B1><U+0089', '>', '\"', 'acquired', 'funds', '\"', 'No', 'wo', '\\x85 ', 'RT', '@_avenu', ':', 'Teacher', ':', 'is', 'there', 'anybody', 'who', 'is', 'absent', 'today', '?', '\\r\\n', '(', 'No', 'response', ')', '\\r\\n', 'Teacher', 'says', '100', '%', 'attendance', '\\r\\n', '#', 'Demonetization', '#', 'App', '#', 'survey', '\\r\\n', '@DonMu', '\\x85 ', 'RT', '@Hemant_80', ':', 'Did', 'you', 'vote', 'on', '#', 'Demonetization', 'on', 'Modi', 'survey', 'app', '?', 'RT', '@ZeeNewsSports', ':', '#', 'Demonetization', ':', '@harbhajan_singh', 'gives', 'hilarious', \"'\", 'shagun', \"'\", 'suggestion', 'to', 'those', 'struggling', 'with', 'wedding', 'season', '\\r\\n\\r\\n', 'https://t', '\\x85 ', 'RT', '@pGurus1', ':', '#', 'Demonetization', 'move', 'of', 'Modi', ';', 'Who', 'is', 'supporting', 'it', ',', 'who', 'is', 'opposing', 'it', 'and', 'why', '?', 'A', 'complete', 'coverage', 'of', 'all', 'parties', '-', 'https://t', '\\x85 ', 'RT', '@DrGPradhan', ':', '8', '\\r\\n\\r\\n', 'This', 'tweet', 'of', '@minimathur', 'BIBI', 'explains', 'why', 'she', 'is', 'having', 'a', 'prob', 'with', '#', 'demonetization', '..', 'In', 'first', 'part', 'she', 'says', 'she', 'ca', \"n't\", '\\x85 ', 'Aam', 'aadmi', 'punished', 'for', 'sins', 'of', '#', 'blackmoney', 'hoarders', '.', 'SBI', 'slashes', ' ', 'deposit', 'rates', 'by', '1.9', '%', '#', 'Demonetization', '#', 'netascashin', 'https://t.co/rqjsdiGvcG', 'Teacher', ':', 'is', 'there', 'anybody', 'who', 'is', 'absent', 'today', '?', '\\r\\n', '(', 'No', 'response', ')', '\\r\\n', 'Teacher', 'says', '100', '%', 'attendance', '\\r\\n', '#', 'Demonetization', '#', 'App', '#', 'survey', '\\r\\n', '@DonMufflerMan', '<', 'ed><U+00A0><U+00BD><ed><U+00B8><U+0082><ed><U+00A0><U+00BD><ed><U+00B8><U+0080><ed><U+00A0><U+00BD><ed><U+00B8><U+00A0><ed><U+00A0><U+00BD><ed><U+00B8><U+00AE', '>', 'RT', '@Punitspeaks', ':', 'Survey', 'result', 'so', 'far', 'by', '@PMOIndia', 'on', '#', 'Demonetization', '.', '5', 'lakh', 'response', 'in', '24', 'hrs', '.', '90', '%', 'supports', 'note', 'ban', '.', '#', 'MeraDeshBadalRaha', '\\x85 ', 'RT', '@ANI_news', ':', 'The', 'queues', 'are', 'not', 'getting', 'longer', 'but', 'are', 'getting', 'shorter', 'day', 'by', 'day', ':', 'Chanda', 'Kochar', ',', 'ICIC', 'MD', 'and', 'CEO', '#', 'demonetization', 'https://t', '\\x85 ', 'RT', '@DrGPradhan', ':', '8', '\\r\\n\\r\\n', 'This', 'tweet', 'of', '@minimathur', 'BIBI', 'explains', 'why', 'she', 'is', 'having', 'a', 'prob', 'with', '#', 'demonetization', '..', 'In', 'first', 'part', 'she', 'says', 'she', 'ca', \"n't\", '\\x85 ', 'RT', '@karnataka_ioc', ':', '@indianoilcl', 'giving', 'cash', 'through', 'Mini', 'ATMs', 'to', 'people', 'in', 'Hinterland', '.', '#', 'IndiaKaDil', '.', 'Helping', 'rural', 'people', 'in', '#', 'Demonetization', '\\x85 ', 'RT', '@Hemant_80', ':', 'Did', 'you', 'vote', 'on', '#', 'Demonetization', 'on', 'Modi', 'survey', 'app', '?', 'RT', '@PIB_India', ':', 'Watch', 'briefing', 'on', '#', 'Demonetization', 'by', 'DEA', 'Secy', '@DasShaktikanta', 'this', 'morning', 'here', ':', '\\r\\n', 'https://t.co/TDj2A6uO5u', '@DeshhBhakt', 'seems', 'deskbhakt', 'was', 'in', 'hibernation', 'mode', 'when', 'GPS', 'enabled', '2000', 'rs', 'was', 'launched', 'by', '#', 'Modo', '4', '#', 'demonetization', '<', 'ed><U+00A0><U+00BD><ed><U+00B8><U+0082><ed><U+00A0><U+00BD><ed><U+00B8><U+0082><ed><U+00A0><U+00BD><ed><U+00B8><U+0082>@MonaAmbegaonkar', 'RT', '@roshankar', ':', 'Harvard', \"'s\", 'Larry', 'Summers', 'calls', '#', 'Demonetization', 'as', 'poor', 'policy', 'with', 'disproportionate', 'negative', 'impact', 'on', 'poor', '/', 'trade', '.', '\\r\\n\\r\\n', 'https://t', '\\x85 ', 'RT', '@Hemant_80', ':', 'Did', 'you', 'vote', 'on', '#', 'Demonetization', 'on', 'Modi', 'survey', 'app', '?', 'RT', '@dhrumilpatel', ':', 'Looks', 'Ambit', 'Capital', ',', 'literally', 'Choked', 'with', '#', 'demonetization', ',', 'come', '-', 'on', 'U', 'ca', \"n't\", 'lower', 'd', 'GDP', 'nos', 'by', 'huge', 'margin', '.', '\\r\\n', 'Perhaps', ',', 'they', '\\x85 ', 'RT', '@ZeeNewsSports', ':', '#', 'Demonetization', ':', '@harbhajan_singh', 'gives', 'hilarious', \"'\", 'shagun', \"'\", 'suggestion', 'to', 'those', 'struggling', 'with', 'wedding', 'season', '\\r\\n\\r\\n', 'https://t', '\\x85 ', 'RT', '@bi_india', ':', '.@airtelindia', 'takes', 'a', 'bite', 'of', 'the', 'governemnt', 'big', '#', 'demonetization', 'pie', ',', 'becomes', 'first', '#', 'paymentbank', 'to', 'go', 'live', '\\r\\n\\r\\n', 'https://t.co/gZv', '\\x85 ', 'RT', '@harshkkapoor', ':', '#', 'DeMonetization', 'survey', 'results', 'after', '24', 'hours', '\\r\\n', '5Lacs', 'opinions', '\\r\\n', 'Amazing', 'response&amp', ';', 'Commitment', 'in', 'fight', 'against', 'Blackmoney', '\\r\\n', '@na', '\\x85 ', 'RT', '@ModiBharosa', ':', 'Huge', 'support', 'for', 'PM', '@narendramodi', '\\x92s', '#', 'demonetization', 'Move', 'Across', 'the', 'Nation', '\\r\\n', '80', '-', '86', '%', 'people', 'back', 'demonetization', ':', 'C', '-', 'voter', 'su', '\\x85 ', 'RT', '@roshankar', ':', 'Former', 'FinSec', ',', 'RBI', 'Dy', 'Governor', ',', 'CBDT', 'Chair', '+', 'Harvard', 'Professor', 'lambaste', '#', 'Demonetization', '.', '\\r\\n\\r\\n', 'If', 'not', 'for', 'Aam', 'Aadmi', ',', 'listen', 'to', 'th', '\\x85 ', 'RT', '@roshankar', ':', 'Harvard', \"'s\", 'Larry', 'Summers', 'calls', '#', 'Demonetization', 'as', 'poor', 'policy', 'with', 'disproportionate', 'negative', 'impact', 'on', 'poor', '/', 'trade', '.', '\\r\\n\\r\\n', 'https://t', '\\x85 ', 'The', 'opposition', 'is', 'getting', 'troubled', 'because', 'all', 'their', '#', 'BlackMoney', 'have', 'become', 'just', 'a', 'piece', 'of', 'paper', 'due', 'to', '#', 'demonetization', '#', '<', 'U+092C><U+0940><U+092E><U+093E><U+0930>_<U+0935><U+093F><U+092A><U+0915><U+094D><U+0937', '>', 'RT', '@roshankar', ':', 'Harvard', \"'s\", 'Larry', 'Summers', 'calls', '#', 'Demonetization', 'as', 'poor', 'policy', 'with', 'disproportionate', 'negative', 'impact', 'on', 'poor', '/', 'trade', '.', '\\r\\n\\r\\n', 'https://t', '\\x85 ', 'RT', '@roshankar', ':', 'Harvard', \"'s\", 'Larry', 'Summers', 'calls', '#', 'Demonetization', 'as', 'poor', 'policy', 'with', 'disproportionate', 'negative', 'impact', 'on', 'poor', '/', 'trade', '.', '\\r\\n\\r\\n', 'https://t', '\\x85 ', 'RT', '@roshankar', ':', 'Harvard', \"'s\", 'Larry', 'Summers', 'calls', '#', 'Demonetization', 'as', 'poor', 'policy', 'with', 'disproportionate', 'negative', 'impact', 'on', 'poor', '/', 'trade', '.', '\\r\\n\\r\\n', 'https://t', '\\x85 ', 'RT', '@ZeeNewsSports', ':', '#', 'Demonetization', ':', '@harbhajan_singh', 'gives', 'hilarious', \"'\", 'shagun', \"'\", 'suggestion', 'to', 'those', 'struggling', 'with', 'wedding', 'season', '\\r\\n\\r\\n', 'https://t', '\\x85 ', '@sritara', '@GabbbarSingh', '@sidin', '\\r\\n', 'Please', 'read', 'alternative', 'side', 'of', 'story', 'also', 'on', '#', 'Demonetization', '&', 'amp', ';', 'support', 'to', 'PM', 'Modi', '\\r\\n', 'https://t.co/SLJoymBy1', 'm', 'The', 'effect', 'of', '#', 'DeMonetization', 'has', 'already', 'shared', 'by', '@narendramodi', ' ', '#', 'Action', 'are', 'more', 'important', 'than', 'words', '\\x85 ', 'https://t.co/TbCC8S5ETc', 'RT', '@ShashiTharoor', ':', 'Joined', 'the', 'line', 'of', 'Opposition', 'MPs', 'demonstrating', 'solidarity', 'on', '#', 'demonetization', '&', 'amp;demanding', 'that', '@PMOIndia', 'address', 'Parliame', '\\x85 ', 'RT', '@ZeeNewsSports', ':', '#', 'Demonetization', ':', '@harbhajan_singh', 'gives', 'hilarious', \"'\", 'shagun', \"'\", 'suggestion', 'to', 'those', 'struggling', 'with', 'wedding', 'season', '\\r\\n\\r\\n', 'https://t', '\\x85 ', 'After', 'much', 'contemplation', 'I', 'have', 'come', 'to', 'the', 'conclusion', 'that', 'nothing', 'explains', 'Modi', \"'s\", '#', 'DeMonetization', 'better', 'than', 'monumental', 'stupidity', '.', 'RT', '@gauravcsawant', ':', 'Rs', '40', 'lakh', 'looted', 'from', 'a', 'bank', 'in', 'Kishtwar', 'in', 'J&amp;K.', 'Third', 'such', 'incident', 'since', '#', 'demonetization', '.', 'That', \"'s\", 'how', 'terrorists', 'have', '\\x85 ', 'RT', '@roshankar', ':', 'Former', 'FinSec', ',', 'RBI', 'Dy', 'Governor', ',', 'CBDT', 'Chair', '+', 'Harvard', 'Professor', 'lambaste', '#', 'Demonetization', '.', '\\r\\n\\r\\n', 'If', 'not', 'for', 'Aam', 'Aadmi', ',', 'listen', 'to', 'th', '\\x85 ', 'RT', '@ZeeNewsSports', ':', '#', 'Demonetization', ':', '@harbhajan_singh', 'gives', 'hilarious', \"'\", 'shagun', \"'\", 'suggestion', 'to', 'those', 'struggling', 'with', 'wedding', 'season', '\\r\\n\\r\\n', 'https://t', '\\x85 ', 'RT', '@YSRCParty', ':', 'Days', 'before', '#', 'Demonetization', 'announcement', ',', '@ncbn', 'sold', 'his', 'Heritage', 'shares', ',', 'clearly', 'evident', 'that', 'he', 'had', 'prior', 'knowledge', 'of', 'the', '\\x85 ', 'RT', '@TheOfficialSBI', ':', 'In', 'view', 'of', ' ', 'current', 'situation', ',', 'RTGS', 'time', ' ', 'has', 'been', 'extended', 'upto', '6:30', 'PM', 'till', '24th', 'November', ',', '2016', '.', '#', 'Demonetization', 'http', '\\x85 ', 'RT', 'ZeeNewsSports', ':', '#', 'Demonetization', ':', 'harbhajan_singh', 'gives', 'hilarious', \"'\", 'shagun', \"'\", 'suggestion', 'to', 'those', 'struggling', 'with', 'we', '\\x85 ', 'https://t.co/TaCfmKF3Cs', 'RT', '@DrGPradhan', ':', '8', '\\r\\n\\r\\n', 'This', 'tweet', 'of', '@minimathur', 'BIBI', 'explains', 'why', 'she', 'is', 'having', 'a', 'prob', 'with', '#', 'demonetization', '..', 'In', 'first', 'part', 'she', 'says', 'she', 'ca', \"n't\", '\\x85 ', 'RT', '@DrGPradhan', ':', '8', '\\r\\n\\r\\n', 'This', 'tweet', 'of', '@minimathur', 'BIBI', 'explains', 'why', 'she', 'is', 'having', 'a', 'prob', 'with', '#', 'demonetization', '..', 'In', 'first', 'part', 'she', 'says', 'she', 'ca', \"n't\", '\\x85 ', 'RT', '@Punitspeaks', ':', 'Survey', 'result', 'so', 'far', 'by', '@PMOIndia', 'on', '#', 'Demonetization', '.', '5', 'lakh', 'response', 'in', '24', 'hrs', '.', '90', '%', 'supports', 'note', 'ban', '.', '#', 'MeraDeshBadalRaha', '\\x85 ', 'RT', '@ZeeNewsSports', ':', '#', 'Demonetization', ':', '@harbhajan_singh', 'gives', 'hilarious', \"'\", 'shagun', \"'\", 'suggestion', 'to', 'those', 'struggling', 'with', 'wedding', 'season', '\\r\\n\\r\\n', 'https://t', '\\x85 ', 'RT', '@YSRCParty', ':', 'Days', 'before', '#', 'Demonetization', 'announcement', ',', '@ncbn', 'sold', 'his', 'Heritage', 'shares', ',', 'clearly', 'evident', 'that', 'he', 'had', 'prior', 'knowledge', 'of', 'the', '\\x85 ', 'RT', '@ZeeNewsSports', ':', '#', 'Demonetization', ':', '@harbhajan_singh', 'gives', 'hilarious', \"'\", 'shagun', \"'\", 'suggestion', 'to', 'those', 'struggling', 'with', 'wedding', 'season', '\\r\\n\\r\\n', 'https://t', '\\x85 ', 'RT', '@roshankar', ':', 'Former', 'FinSec', ',', 'RBI', 'Dy', 'Governor', ',', 'CBDT', 'Chair', '+', 'Harvard', 'Professor', 'lambaste', '#', 'Demonetization', '.', '\\r\\n\\r\\n', 'If', 'not', 'for', 'Aam', 'Aadmi', ',', 'listen', 'to', 'th', '\\x85 ', 'RT', '@Atheist_Krishna', ':', 'BEFORE', 'and', 'AFTER', 'Gandhi', 'ji', 'heard', 'they', 'are', 'standing', 'there', 'against', '#', 'Demonetization', '\\r\\n', '.', 'https://t.co/9NheK63TPg', 'RT', '@ZeeNewsSports', ':', '#', 'Demonetization', ':', '@harbhajan_singh', 'gives', 'hilarious', \"'\", 'shagun', \"'\", 'suggestion', 'to', 'those', 'struggling', 'with', 'wedding', 'season', '\\r\\n\\r\\n', 'https://t', '\\x85 ', 'Former', 'FinSec', ',', 'RBI', 'Dy', 'Governor', ',', 'CBDT', 'Chair', '+', 'Harvard', 'Professor', 'lambaste', '#', 'Demonetization', '.', '\\r\\n\\r\\n', 'If', 'not', 'for', 'Aam', 'Aadmi', ',', 'listen', 'to', 'them', 'no', 'PM', 'Modi', '?', 'RT', 'ZeeNewsSports', ':', '#', 'Demonetization', ':', 'harbhajan_singh', 'gives', 'hilarious', \"'\", 'shagun', \"'\", 'suggestion', 'to', 'those', 'struggling', 'with', 'we', '\\x85 ', 'https://t.co/oJrbCBYmH9', 'RT', '@Punitspeaks', ':', 'Survey', 'result', 'so', 'far', 'by', '@PMOIndia', 'on', '#', 'Demonetization', '.', '5', 'lakh', 'response', 'in', '24', 'hrs', '.', '90', '%', 'supports', 'note', 'ban', '.', '#', 'MeraDeshBadalRaha', '\\x85 ', 'RT', '@Dipankar_cpiml', ':', 'The', 'Modi', 'app', 'on', '#', 'DeMonetization', 'proves', 'once', 'again', 'that', 'the', 'govt', 'is', 'totally', 'indifferent', 'to', 'the', 'mounting', 'misery', 'and', 'hards', '\\x85 ', 'RT', '@_Hinduism', '_', ':', 'How', 'come', 'those', 'people', 'crying', 'for', 'line', 'in', 'banks', 'are', 'not', 'crying', 'for', 'line', 'ups', 'here', 'in', '......', '\\r\\n\\r\\n', '#', 'demonetization', 'https://t.co/ixY1', '\\x85 ', 'RT', '@ZeeNewsSports', ':', '#', 'Demonetization', ':', '@harbhajan_singh', 'gives', 'hilarious', \"'\", 'shagun', \"'\", 'suggestion', 'to', 'those', 'struggling', 'with', 'wedding', 'season', '\\r\\n\\r\\n', 'https://t', '\\x85 ', 'RT', '@DrGPradhan', ':', '8', '\\r\\n\\r\\n', 'This', 'tweet', 'of', '@minimathur', 'BIBI', 'explains', 'why', 'she', 'is', 'having', 'a', 'prob', 'with', '#', 'demonetization', '..', 'In', 'first', 'part', 'she', 'says', 'she', 'ca', \"n't\", '\\x85 ', 'RT', '@Atheist_Krishna', ':', 'BEFORE', 'and', 'AFTER', 'Gandhi', 'ji', 'heard', 'they', 'are', 'standing', 'there', 'against', '#', 'Demonetization', '\\r\\n', '.', 'https://t.co/9NheK63TPg', 'RT', '@Atheist_Krishna', ':', 'BEFORE', 'and', 'AFTER', 'Gandhi', 'ji', 'heard', 'they', 'are', 'standing', 'there', 'against', '#', 'Demonetization', '\\r\\n', '.', 'https://t.co/9NheK63TPg', 'RT', '@ZeeNewsSports', ':', '#', 'Demonetization', ':', '@harbhajan_singh', 'gives', 'hilarious', \"'\", 'shagun', \"'\", 'suggestion', 'to', 'those', 'struggling', 'with', 'wedding', 'season', '\\r\\n\\r\\n', 'https://t', '\\x85 ', 'RT', '@gauravcsawant', ':', 'Rs', '40', 'lakh', 'looted', 'from', 'a', 'bank', 'in', 'Kishtwar', 'in', 'J&amp;K.', 'Third', 'such', 'incident', 'since', '#', 'demonetization', '.', 'That', \"'s\", 'how', 'terrorists', 'have', '\\x85 ', '#', 'Demonetization', ':', '@harbhajan_singh', 'gives', 'hilarious', \"'\", 'shagun', \"'\", 'suggestion', 'to', 'those', 'struggling', 'with', 'wedding', 'season', '\\x85 ', 'https://t.co/6QNe6KGqaO', 'RT', '@ashu3page', ':', 'A', 'man', 'shaved', 'his', 'head', 'at', 'Jantar', '-', 'Mantar', 'in', 'protest', 'against', '#', 'Demonetization', ' ', 'on', '13th', 'day', 'of', 'the', 'move', '.', 'https://t.co/IeXuia3J0X', 'RT', '@rssurjewala', ':', 'Critical', 'question', ':', 'Was', 'PayTM', 'informed', 'about', '#', 'Demonetization', 'edict', 'by', 'PM', '?', 'It', \"'s\", 'clearly', 'fishy', 'and', 'requires', 'full', 'disclosure', '&', 'amp', ';', '\\x85 ', 'RT', '@Punitspeaks', ':', 'Survey', 'result', 'so', 'far', 'by', '@PMOIndia', 'on', '#', 'Demonetization', '.', '5', 'lakh', 'response', 'in', '24', 'hrs', '.', '90', '%', 'supports', 'note', 'ban', '.', '#', 'MeraDeshBadalRaha', '\\x85 ', 'RT', '@_Hinduism', '_', ':', 'How', 'come', 'those', 'people', 'crying', 'for', 'line', 'in', 'banks', 'are', 'not', 'crying', 'for', 'line', 'ups', 'here', 'in', '......', '\\r\\n\\r\\n', '#', 'demonetization', 'https://t.co/ixY1', '\\x85 ', 'RT', '@ShashiTharoor', ':', '.', '@anandkamal', 'Frankly', 'i', 'do', \"n't\", 'understand', 'why', '@narendramodi', 'does', \"n't\", 'address', 'Parlmnt', 'on', '#', 'Demonetization', '.', 'It', \"'s\", 'his', 'duty&amp;wil', '\\x85 ', 'RT', '@kanimozhi', ':', 'Ts', 'is', 'exactly', 'what', 'Pappu', '&', 'amp', ';', 'opposition', 'has', 'done', 'to', 'themselves', 'by', 'opposing', '#', 'Demonetization', 'Now', 'none', 'can', 'stop', 'Modi', 'bandwagon', 'ti', '\\x85 ', 'RT', '@myvotetoday', ':', 'Modi', \"'s\", '#', 'demonetization', 'received', 'massive', 'public', 'approval', '.', 'So', 'why', 'is', 'opposition', 'worried', 'about', 'common', 'man', 'and', 'create', 'ruckus', 'i', '\\x85 ', 'RT', '@Punitspeaks', ':', 'Survey', 'result', 'so', 'far', 'by', '@PMOIndia', 'on', '#', 'Demonetization', '.', '5', 'lakh', 'response', 'in', '24', 'hrs', '.', '90', '%', 'supports', 'note', 'ban', '.', '#', 'MeraDeshBadalRaha', '\\x85 ', 'Harvard', \"'s\", 'Larry', 'Summers', 'calls', '#', 'Demonetization', 'as', 'poor', 'policy', 'with', 'disproportionate', 'negative', 'impact', 'on', 'poor', '/', 'trade', '.', '\\r\\n\\r\\n', 'https://t.co/2Tt2SfM0g0', 'RT', '@ShashiTharoor', ':', '.', '@anandkamal', 'Frankly', 'i', 'do', \"n't\", 'understand', 'why', '@narendramodi', 'does', \"n't\", 'address', 'Parlmnt', 'on', '#', 'Demonetization', '.', 'It', \"'s\", 'his', 'duty&amp;wil', '\\x85 ', 'RT', '@IndiaFactsOrg', ':', '#', 'Demonetization', ':', 'The', 'Ultimate', 'Weapon', 'against', 'Black', 'economy', 'https://t.co/fWvEuH2De6', 'via', '@IndiaFactsOrg', 'RT', '@ShashiTharoor', ':', 'Joined', 'the', 'line', 'of', 'Opposition', 'MPs', 'demonstrating', 'solidarity', 'on', '#', 'demonetization', '&', 'amp;demanding', 'that', '@PMOIndia', 'address', 'Parliame', '\\x85 ', 'Monumental', 'blunder', 'or', 'monumental', 'plunder', 'or', 'both', '?', '#', 'demonetization', 'RT', '@rishibagree', ':', 'And', 'they', 'say', '#', 'demonetization', 'is', 'failure', 'https://t.co/WnjIUqIhdW', 'RT', '@DrGPradhan', ':', '8', '\\r\\n\\r\\n', 'This', 'tweet', 'of', '@minimathur', 'BIBI', 'explains', 'why', 'she', 'is', 'having', 'a', 'prob', 'with', '#', 'demonetization', '..', 'In', 'first', 'part', 'she', 'says', 'she', 'ca', \"n't\", '\\x85 ', 'Modi', 'acted', 'against', 'national', 'interest', '.', 'The', 'way', 'to', 'cashless', 'economy', 'need', 'not', 'be', '#', 'Demonetization', '.', 'A', 'badly', 'planned', 'move', '.', 'RT', '@Atheist_Krishna', ':', 'The', 'effect', 'of', '#', 'Demonetization', '!', '!', '\\r\\n', '.', 'https://t.co/A8of7zh2f5', 'RT', '@rishibagree', ':', 'More', 'than', '700', 'Fish', 'Vendors', 'across', 'Kolkata', 'have', 'started', 'using', 'e', '-', 'wallets', '.', '\\r\\n', 'Before', '#', 'demonetization', 'this', 'number', 'was', 'zero', '..', 'Thi', '\\x85 ', 'RT', '@rssurjewala', ':', 'Critical', 'question', ':', 'Was', 'PayTM', 'informed', 'about', '#', 'Demonetization', 'edict', 'by', 'PM', '?', 'It', \"'s\", 'clearly', 'fishy', 'and', 'requires', 'full', 'disclosure', '&', 'amp', ';', '\\x85 ', 'RT', '@Punitspeaks', ':', 'Survey', 'result', 'so', 'far', 'by', '@PMOIndia', 'on', '#', 'Demonetization', '.', '5', 'lakh', 'response', 'in', '24', 'hrs', '.', '90', '%', 'supports', 'note', 'ban', '.', '#', 'MeraDeshBadalRaha', '\\x85 ', 'RT', '@Hemant_80', ':', 'Did', 'you', 'vote', 'on', '#', 'Demonetization', 'on', 'Modi', 'survey', 'app', '?', 'RT', '@Atheist_Krishna', ':', 'BEFORE', 'and', 'AFTER', 'Gandhi', 'ji', 'heard', 'they', 'are', 'standing', 'there', 'against', '#', 'Demonetization', '\\r\\n', '.', 'https://t.co/9NheK63TPg', 'RT', '@Atheist_Krishna', ':', 'The', 'effect', 'of', '#', 'Demonetization', '!', '!', '\\r\\n', '.', 'https://t.co/A8of7zh2f5', 'RT', '@ANI_news', ':', 'The', 'queues', 'are', 'not', 'getting', 'longer', 'but', 'are', 'getting', 'shorter', 'day', 'by', 'day', ':', 'Chanda', 'Kochar', ',', 'ICIC', 'MD', 'and', 'CEO', '#', 'demonetization', 'https://t', '\\x85 ', 'RT', '@ShefVaidya', ':', 'When', 'was', 'the', 'last', 'time', 'you', 'saw', 'Naveen', 'Patnaik', 'or', 'Chandrababu', 'Naidu', 'being', 'interviewed', 'on', 'BBC', 'or', 'NDTV', 'on', '#', 'DeMonetization', '?', 'RT', '@pGurus1', ':', '#', 'Demonetization', 'move', 'of', 'Modi', ';', 'Who', 'is', 'supporting', 'it', ',', 'who', 'is', 'opposing', 'it', 'and', 'why', '?', 'A', 'complete', 'coverage', 'of', 'all', 'parties', '-', 'https://t', '\\x85 ', 'RT', '@Gadgets360', ':', 'After', 'the', '#', 'demonetization', ',', 'searches', 'about', '#', 'NarendraModi', \"'s\", 'app', 'are', 'trending', 'on', 'app', 'stores', 'https://t.co/ZetKRqqClX', 'RT', '@Atheist_Krishna', ':', 'The', 'effect', 'of', '#', 'Demonetization', '!', '!', '\\r\\n', '.', 'https://t.co/A8of7zh2f5', 'RT', '@ashu3page', ':', 'A', 'man', 'shaved', 'his', 'head', 'at', 'Jantar', '-', 'Mantar', 'in', 'protest', 'against', '#', 'Demonetization', ' ', 'on', '13th', 'day', 'of', 'the', 'move', '.', 'https://t.co/IeXuia3J0X', 'RT', '@Atheist_Krishna', ':', 'BEFORE', 'and', 'AFTER', 'Gandhi', 'ji', 'heard', 'they', 'are', 'standing', 'there', 'against', '#', 'Demonetization', '\\r\\n', '.', 'https://t.co/9NheK63TPg', 'RT', '@gauravcsawant', ':', 'Rs', '40', 'lakh', 'looted', 'from', 'a', 'bank', 'in', 'Kishtwar', 'in', 'J&amp;K.', 'Third', 'such', 'incident', 'since', '#', 'demonetization', '.', 'That', \"'s\", 'how', 'terrorists', 'have', '\\x85 ', 'RT', '@Punitspeaks', ':', 'Survey', 'result', 'so', 'far', 'by', '@PMOIndia', 'on', '#', 'Demonetization', '.', '5', 'lakh', 'response', 'in', '24', 'hrs', '.', '90', '%', 'supports', 'note', 'ban', '.', '#', 'MeraDeshBadalRaha', '\\x85 ', 'RT', '@DrGPradhan', ':', '8', '\\r\\n\\r\\n', 'This', 'tweet', 'of', '@minimathur', 'BIBI', 'explains', 'why', 'she', 'is', 'having', 'a', 'prob', 'with', '#', 'demonetization', '..', 'In', 'first', 'part', 'she', 'says', 'she', 'ca', \"n't\", '\\x85 ', 'RT', '@rishibagree', ':', 'A', 'Housewife', \"'s\", 'view', 'on', '#', 'demonetization', 'https://t.co/nFwuiZUJOD', 'RT', '@ItzCash', ':', '@suryanavin', 'MD', 'ItzCash', ',', 'was', 'live', 'on', 'ET', 'talking', 'about', 'the', 'impact', 'of', '#', 'Demonetization', 'towards', 'digitization', 'in', 'India', '.', '\\r\\n', 'https://t.c', '\\x85 ', 'RT', '@ashu3page', ':', 'A', 'man', 'shaved', 'his', 'head', 'at', 'Jantar', '-', 'Mantar', 'in', 'protest', 'against', '#', 'Demonetization', ' ', 'on', '13th', 'day', 'of', 'the', 'move', '.', 'https://t.co/IeXuia3J0X', 'RT', '@MinhazMerchant', ':', 'Difficult', 'to', 'verify', 'but', 'if', 'true', 'points', 'to', 'orchestrated', 'campaign', 'to', 'discredit', '#', 'demonetization', 'with', 'paid', 'fear', '-', 'mongers', 'htt', '\\x85 ', 'RT', '@Atheist_Krishna', ':', 'BEFORE', 'and', 'AFTER', 'Gandhi', 'ji', 'heard', 'they', 'are', 'standing', 'there', 'against', '#', 'Demonetization', '\\r\\n', '.', 'https://t.co/9NheK63TPg', 'RT', '@rssurjewala', ':', 'Critical', 'question', ':', 'Was', 'PayTM', 'informed', 'about', '#', 'Demonetization', 'edict', 'by', 'PM', '?', 'It', \"'s\", 'clearly', 'fishy', 'and', 'requires', 'full', 'disclosure', '&', 'amp', ';', '\\x85 ', 'RT', '@DrGPradhan', ':', '8', '\\r\\n\\r\\n', 'This', 'tweet', 'of', '@minimathur', 'BIBI', 'explains', 'why', 'she', 'is', 'having', 'a', 'prob', 'with', '#', 'demonetization', '..', 'In', 'first', 'part', 'she', 'says', 'she', 'ca', \"n't\", '\\x85 ', 'RT', '@Dipankar_cpiml', ':', 'The', 'Modi', 'app', 'on', '#', 'DeMonetization', 'proves', 'once', 'again', 'that', 'the', 'govt', 'is', 'totally', 'indifferent', 'to', 'the', 'mounting', 'misery', 'and', 'hards', '\\x85 ', 'RT', '@jay_ambadi', ':', 'L&amp;T', 'is', 'retrenching', '14000', 'employees', '.', '\\r\\n', 'Hope', 'none', 'of', 'the', 'supporters', 'of', '#', 'Demonetization', 'are', 'included', '!', 'RT', '@DrGPradhan', ':', '8', '\\r\\n\\r\\n', 'This', 'tweet', 'of', '@minimathur', 'BIBI', 'explains', 'why', 'she', 'is', 'having', 'a', 'prob', 'with', '#', 'demonetization', '..', 'In', 'first', 'part', 'she', 'says', 'she', 'ca', \"n't\", '\\x85 ', 'RT', '@gauravcsawant', ':', 'Rs', '40', 'lakh', 'looted', 'from', 'a', 'bank', 'in', 'Kishtwar', 'in', 'J&amp;K.', 'Third', 'such', 'incident', 'since', '#', 'demonetization', '.', 'That', \"'s\", 'how', 'terrorists', 'have', '\\x85 ', 'RT', '@YSRCParty', ':', 'Days', 'before', '#', 'Demonetization', 'announcement', ',', '@ncbn', 'sold', 'his', 'Heritage', 'shares', ',', 'clearly', 'evident', 'that', 'he', 'had', 'prior', 'knowledge', 'of', 'the', '\\x85 ', 'RT', '@rishibagree', ':', 'This', 'is', 'exactly', 'how', 'some', 'people', 'behaving', 'on', '#', 'demonetization', '\\r\\n\\r\\n', 'Since', 'Modi', 'Did', 'it', 'lets', 'oppose', 'it', '\\r\\n', 'If', 'Sonia', 'Gandhi', 'have', 'done', 'i', '\\x85 ', 'RT', '@JasBJP', ':', 'Today', 'I', 'delivered', 'a', 'speech', 'on', 'various', 'issues', 'including', '#', 'BlackMoney', 'n', '#', 'demonetization', 'at', '@BJPKonnagar', '\\r\\n', '@narendramodi', '@AmitShah', '@s', '\\x85 ', 'RT', '@jamewils', ':', 'Economy', 'and', 'cost', 'of', '#', 'Demonetization', '!', 'https://t.co/YwAO2MES5', 'G', 'RT', '@kanimozhi', ':', 'Ts', 'is', 'exactly', 'what', 'Pappu', '&', 'amp', ';', 'opposition', 'has', 'done', 'to', 'themselves', 'by', 'opposing', '#', 'Demonetization', 'Now', 'none', 'can', 'stop', 'Modi', 'bandwagon', 'ti', '\\x85 ', 'RT', '@Atheist_Krishna', ':', 'BEFORE', 'and', 'AFTER', 'Gandhi', 'ji', 'heard', 'they', 'are', 'standing', 'there', 'against', '#', 'Demonetization', '\\r\\n', '.', 'https://t.co/9NheK63TPg', 'RT', '@Atheist_Krishna', ':', 'BEFORE', 'and', 'AFTER', 'Gandhi', 'ji', 'heard', 'they', 'are', 'standing', 'there', 'against', '#', 'Demonetization', '\\r\\n', '.', 'https://t.co/9NheK63TPg', 'RT', '@DrGPradhan', ':', '8', '\\r\\n\\r\\n', 'This', 'tweet', 'of', '@minimathur', 'BIBI', 'explains', 'why', 'she', 'is', 'having', 'a', 'prob', 'with', '#', 'demonetization', '..', 'In', 'first', 'part', 'she', 'says', 'she', 'ca', \"n't\", '\\x85 ', 'RT', '@Atheist_Krishna', ':', 'BEFORE', 'and', 'AFTER', 'Gandhi', 'ji', 'heard', 'they', 'are', 'standing', 'there', 'against', '#', 'Demonetization', '\\r\\n', '.', 'https://t.co/9NheK63TPg', 'RT', '@ShefVaidya', ':', 'NO', '.', '@MamtaOfficiaI', 'will', 'say', 'this', 'fire', 'was', 'caused', 'because', 'of', '#', 'DeMonetization', 'and', '@narendramodi', 'is', 'responsible', '!', 'https://t.co/', '\\x85 ', 'RT', '@sandipsabharwal', ':', 'Most', 'people', 'are', 'with', 'you', '@narendramodi', 'on', '#', 'Demonetization', '\\r\\n', 'Pl', 'run', 'a', 'poll', 'on', 'where', 'citizens', 'face', 'most', 'harassment', 'in', 'the', '\\x85 ', 'RT', '@JLLIndia', ':', '#', 'Demonetization', \"'s\", 'Impact', 'On', 'the', '#', 'India', '#', 'Retail', 'sector', '-', 'Re', '-', 'Tales', 'by', 'Pankaj', 'Renjhen', '|', 'ET', 'Retail', 'https://t.co/aVcYTIhdtH', 'RT', '@ModiBharosa', ':', 'Putting', 'Nation', 'over', 'Party', 'Politics', '#', 'nitishkumar', 'supports', 'PM', '@narendramodi', 'on', '#', 'Demonetization', 'https://t.co/UodwXdPMmG', 'RT', '@Dipankar_cpiml', ':', 'The', 'Modi', 'app', 'on', '#', 'DeMonetization', 'proves', 'once', 'again', 'that', 'the', 'govt', 'is', 'totally', 'indifferent', 'to', 'the', 'mounting', 'misery', 'and', 'hards', '\\x85 ', 'RT', '@aartic02', ':', 'A', 'World', 'Economist', 'is', 'Rubbishing', '#', 'Demonetization', 'in', 'India', 'and', 'mind', 'it', 'he', 'does', \"n't\", 'have', 'to', 'score', 'Brownie', 'Points', 'in', 'Indian', 'Politi', '\\x85 ', 'RT', '@harshkkapoor', ':', '#', 'DeMonetization', 'survey', 'results', 'after', '24', 'hours', '\\r\\n', '5Lacs', 'opinions', '\\r\\n', 'Amazing', 'response&amp', ';', 'Commitment', 'in', 'fight', 'against', 'Blackmoney', '\\r\\n', '@na', '\\x85 ', 'RT', '@Hemant_80', ':', 'Did', 'you', 'vote', 'on', '#', 'Demonetization', 'on', 'Modi', 'survey', 'app', '?', 'RT', '@Hemant_80', ':', 'Did', 'you', 'vote', 'on', '#', 'Demonetization', 'on', 'Modi', 'survey', 'app', '?', 'RT', '@ANI_news', ':', 'Gurugram', '(', 'Haryana', '):', 'Post', 'office', 'employees', 'provide', 'cash', 'exchange', 'to', 'patients', 'in', 'hospitals', '#', 'demonetization', 'https://t.co/uGMxUP9', '\\x85 ', 'RT', '@Hemant_80', ':', 'Did', 'you', 'vote', 'on', '#', 'Demonetization', 'on', 'Modi', 'survey', 'app', '?', 'RT', '@DrGPradhan', ':', '8', '\\r\\n\\r\\n', 'This', 'tweet', 'of', '@minimathur', 'BIBI', 'explains', 'why', 'she', 'is', 'having', 'a', 'prob', 'with', '#', 'demonetization', '..', 'In', 'first', 'part', 'she', 'says', 'she', 'ca', \"n't\", '\\x85 ', 'RT', '@Hemant_80', ':', 'Did', 'you', 'vote', 'on', '#', 'Demonetization', 'on', 'Modi', 'survey', 'app', '?', 'RT', '@Hemant_80', ':', 'Did', 'you', 'vote', 'on', '#', 'Demonetization', 'on', 'Modi', 'survey', 'app', '?', 'RT', '@aartic02', ':', 'A', 'World', 'Economist', 'is', 'Rubbishing', '#', 'Demonetization', 'in', 'India', 'and', 'mind', 'it', 'he', 'does', \"n't\", 'have', 'to', 'score', 'Brownie', 'Points', 'in', 'Indian', 'Politi', '\\x85 ', 'RT', '@ModiBharosa', ':', 'Huge', 'support', 'for', 'PM', '@narendramodi', '\\x92s', '#', 'demonetization', 'Move', 'Across', 'the', 'Nation', '\\r\\n', '80', '-', '86', '%', 'people', 'back', 'demonetization', ':', 'C', '-', 'voter', 'su', '\\x85 ', 'RT', '@Hemant_80', ':', 'Did', 'you', 'vote', 'on', '#', 'Demonetization', 'on', 'Modi', 'survey', 'app', '?', 'RT', '@harshkkapoor', ':', '#', 'DeMonetization', 'survey', 'results', 'after', '24', 'hours', '\\r\\n', '5Lacs', 'opinions', '\\r\\n', 'Amazing', 'response&amp', ';', 'Commitment', 'in', 'fight', 'against', 'Blackmoney', '\\r\\n', '@na', '\\x85 ', 'RT', '@pGurus1', ':', '#', 'Demonetization', 'move', 'of', 'Modi', ';', 'Who', 'is', 'supporting', 'it', ',', 'who', 'is', 'opposing', 'it', 'and', 'why', '?', 'A', 'complete', 'coverage', 'of', 'all', 'parties', '-', 'https://t', '\\x85 ', '@YRDeshmukh', 'Yes', '.', 'We', 'should', 'always', 'rely', 'on', 'private', 'psephologists', '/', 'agencies', '.', 'Always', 'reliable.@realDonaldTrump', 'can', 'vouch', 'for', 'it.#demonetization', 'RT', '@AmitDhiman', '_', ':', '#', 'Demonetization', 'is', 'the', '2nd', 'word', 'trending', 'after', '#', 'Intolerance', '.', 'Thanks', 'Pappu', ',', 'Kejri', ',', 'Mamta', '.', '#', 'VishalJanSabha', '#', 'KhulkeDulke', '#', 'Ind', '\\x85 ', 'RT', '@DrGPradhan', ':', '8', '\\r\\n\\r\\n', 'This', 'tweet', 'of', '@minimathur', 'BIBI', 'explains', 'why', 'she', 'is', 'having', 'a', 'prob', 'with', '#', 'demonetization', '..', 'In', 'first', 'part', 'she', 'says', 'she', 'ca', \"n't\", '\\x85 ', 'RT', '@r_raghuraj', ':', 'Today', 'I', 'saw', '200', 'black', 'money', 'hoarders', 'out', 'of', '125', 'crore', '\\r\\n', 'standing', 'in', 'ques', 'outside', 'Parliament', 'against', '\\r\\n', '#', 'Demonetization', 'https://t', '\\x85 ', 'RT', '@Atheist_Krishna', ':', 'BEFORE', 'and', 'AFTER', 'Gandhi', 'ji', 'heard', 'they', 'are', 'standing', 'there', 'against', '#', 'Demonetization', '\\r\\n', '.', 'https://t.co/9NheK63TPg', 'RT', '@SharmaKhemchand', ':', '2day', '#', 'namovolunteers', 'had', 'meeting', 'with', '@malviyamit', 'ji', 'over', '#', 'demonetization', ',', 'decided', '2', 'expose', 'opposition', 'by', '\\r\\n', '#', '<', 'U+0938><U+093E><U+0930><U+0947>_<U+091A><U+094B><U+0930>_<U+092E', '>', '\\x85 ', 'RT', '@DrGPradhan', ':', '8', '\\r\\n\\r\\n', 'This', 'tweet', 'of', '@minimathur', 'BIBI', 'explains', 'why', 'she', 'is', 'having', 'a', 'prob', 'with', '#', 'demonetization', '..', 'In', 'first', 'part', 'she', 'says', 'she', 'ca', \"n't\", '\\x85 ', 'RT', '@Dipankar_cpiml', ':', 'The', 'Modi', 'app', 'on', '#', 'DeMonetization', 'proves', 'once', 'again', 'that', 'the', 'govt', 'is', 'totally', 'indifferent', 'to', 'the', 'mounting', 'misery', 'and', 'hards', '\\x85 ', 'Exceptional', 'response', 'by', 'the', 'people', 'in', 'support', 'of', '#', 'Demonetization', 'https://t.co/AntAlYTwYO', 'RT', '@DrGPradhan', ':', '8', '\\r\\n\\r\\n', 'This', 'tweet', 'of', '@minimathur', 'BIBI', 'explains', 'why', 'she', 'is', 'having', 'a', 'prob', 'with', '#', 'demonetization', '..', 'In', 'first', 'part', 'she', 'says', 'she', 'ca', \"n't\", '\\x85 ', 'RT', '@tweepul', ':', 'Even', 'if', 'you', \"'re\", '100', '%', 'white', 'money', '&', 'amp', ';', 'even', 'if', 'you', \"'re\", 'unaffected', ',', 'this', '#', 'demonetization', 'move', 'has', 'given', 'a', 'lot', 'of', 'folks', 'a', 'reason', 'to', 'pa', '\\x85 ', 'Mr.', 'Dust', '-', 'o', '-', 'bin', 'of', 'TMC', 'to', 'release', 'Mamta', 'App', 'world', 'wide', ',', 'to', 'look', 'after', '#', 'demonetization', 'support', '.', ' \\r\\n\\r\\n', '@quizderek', '@Goldenthrust', 'RT', '@DrGPradhan', ':', '8', '\\r\\n\\r\\n', 'This', 'tweet', 'of', '@minimathur', 'BIBI', 'explains', 'why', 'she', 'is', 'having', 'a', 'prob', 'with', '#', 'demonetization', '..', 'In', 'first', 'part', 'she', 'says', 'she', 'ca', \"n't\", '\\x85 ', 'RT', '@TalkOrTweets', ':', '#', 'Demonetization', 'Now', 'affecting', 'even', 'the', 'dumb', 'rich', '...', 'who', 'now', 'have', 'to', 'use', 'public', 'transport', 'https://t.co/8RW0WZat3o', 'Cousin', 'fired', '27', 'staff', 'today', 'with', 'a', 'promise', '2', 'rehire', 'in', '6', 'months', '.', 'Says', 'no', 'new', 'orders', '+', 'no', 'cash', 'to', 'pay', 'them', '.Heartbreaking', '.', '\\r\\n\\r\\n', '#', 'Demonetization', 'I', 'thought', 'only', 'black', 'money', 'holder', 'wud', 'hate', 'demonetization', '.', '\\r\\n', 'No', 'there', 'r', 'many', ',', 'we', 'cal', 'them', 'by', 'many', 'names', 'like', 'C#%', ',', 'l#$', ',', 'etc', 'etc', '\\r\\n', '#', 'demonetization', '.@suraj_agarwal', '_', 'more', 'bhakt', 'abuse', 'more', 'Modi', 'reduce', '#', 'demonetization', 'open', 'pandora', 'box', 'everyone', 'knows', 'Modi', 'has', 'no', 'brain', 'everything', 'go', 'in', 'drain', 'How', 'can', 'a', '#', 'PM', 'who', 'ca', \"n't\", 'even', '#', 'control', 'his', '#', 'emotions', ',', '#', 'control', 'an', '#', 'entire', '#', 'nation', '!', '#', 'Demonetization', '#', 'NotADefaulter', '#', 'PMModi', '#', 'NotProCongress', '!', '<', 'ed><U+00A0><U+00BE><ed><U+00B4><U+0090><ed><U+00A0><U+00BD><ed><U+00B8><U+0092', '>', 'RT', '@DrGPradhan', ':', '8', '\\r\\n\\r\\n', 'This', 'tweet', 'of', '@minimathur', 'BIBI', 'explains', 'why', 'she', 'is', 'having', 'a', 'prob', 'with', '#', 'demonetization', '..', 'In', 'first', 'part', 'she', 'says', 'she', 'ca', \"n't\", '\\x85 ', 'RT', '@Atheist_Krishna', ':', 'The', 'effect', 'of', '#', 'Demonetization', '!', '!', '\\r\\n', '.', 'https://t.co/A8of7zh2f5', 'RT', '@DrGPradhan', ':', '8', '\\r\\n\\r\\n', 'This', 'tweet', 'of', '@minimathur', 'BIBI', 'explains', 'why', 'she', 'is', 'having', 'a', 'prob', 'with', '#', 'demonetization', '..', 'In', 'first', 'part', 'she', 'says', 'she', 'ca', \"n't\", '\\x85 ', 'RT', '@gauravcsawant', ':', 'Rs', '40', 'lakh', 'looted', 'from', 'a', 'bank', 'in', 'Kishtwar', 'in', 'J&amp;K.', 'Third', 'such', 'incident', 'since', '#', 'demonetization', '.', 'That', \"'s\", 'how', 'terrorists', 'have', '\\x85 ', 'RT', '@AAPVind', ':', '#', 'Demonetization', 'Is', 'Disaster', '!', ' ', '@naam_pk', 'RT', '@Dipankar_cpiml', ':', 'The', 'Modi', 'app', 'on', '#', 'DeMonetization', 'proves', 'once', 'again', 'that', 'the', 'govt', 'is', 'totally', 'indifferent', 'to', 'the', 'mounting', 'misery', 'and', 'hards', '\\x85 ', 'RT', '@DrGPradhan', ':', '8', '\\r\\n\\r\\n', 'This', 'tweet', 'of', '@minimathur', 'BIBI', 'explains', 'why', 'she', 'is', 'having', 'a', 'prob', 'with', '#', 'demonetization', '..', 'In', 'first', 'part', 'she', 'says', 'she', 'ca', \"n't\", '\\x85 ', 'RT', '@gauravcsawant', ':', 'Rs', '40', 'lakh', 'looted', 'from', 'a', 'bank', 'in', 'Kishtwar', 'in', 'J&amp;K.', 'Third', 'such', 'incident', 'since', '#', 'demonetization', '.', 'That', \"'s\", 'how', 'terrorists', 'have', '\\x85 ', 'RT', '@kapil_kausik', ':', '#', 'Doltiwal', 'I', 'mean', '#', 'JaiChandKejriwal', 'is', '\"', 'hurt', '\"', 'by', '#', 'Demonetization', 'as', 'the', 'same', 'has', 'rendered', 'USELESS', '<', 'ed><U+00A0><U+00BD><ed><U+00B1><U+0089', '>', '\"', 'acquired', 'funds', '\"', 'No', 'wo', '\\x85 ', 'RT', '@Punitspeaks', ':', 'Survey', 'result', 'so', 'far', 'by', '@PMOIndia', 'on', '#', 'Demonetization', '.', '5', 'lakh', 'response', 'in', '24', 'hrs', '.', '90', '%', 'supports', 'note', 'ban', '.', '#', 'MeraDeshBadalRaha', '\\x85 ', 'RT', '@AAPVind', ':', '#', 'Demonetization', 'Is', 'Disaster', '!', ' ', '@naam_pk', 'RT', '@AAPVind', ':', '#', 'Demonetization', 'Is', 'Disaster', '!', ' ', '@naam_pk', 'RT', '@AAPVind', ':', '#', 'Demonetization', 'Is', 'Disaster', '!', ' ', '@naam_pk', 'RT', '@AAPVind', ':', '#', 'Demonetization', 'Is', 'Disaster', '!', ' ', '@naam_pk', 'RT', '@RoflGandhi', '_', ':', 'No', 'issues', 'with', '#', 'demonetization', ',', 'my', 'maid', \"'s\", 'son', 'exchanged', 'money', 'in', 'just', '15', 'mins', ',', 'that', 'too', 'when', 'she', 'does', \"n't\", 'have', 'a', 'son', 'and', 'I', '\\x85 ', 'RT', '@AAPVind', ':', '#', 'Demonetization', 'Is', 'Disaster', '!', ' ', '@naam_pk', 'RT', '@Atheist_Krishna', ':', 'BEFORE', 'and', 'AFTER', 'Gandhi', 'ji', 'heard', 'they', 'are', 'standing', 'there', 'against', '#', 'Demonetization', '\\r\\n', '.', 'https://t.co/9NheK63TPg', '.@RajanAnandan', 'would', 'be', 'interesting', 'to', 'look', 'at', 'this', 'research', 'again', 'in', 'light', 'of', '#', 'demonetization', '..', 'A', 'real', '#', 'blackswan', '!', '\\x85 ', 'https://t.co/cVUn1WF4IS', '#', 'Demonetization', 'Is', 'Disaster', '!', ' ', '@naam_pk', 'RT', '@Joydeep_911', ':', 'Calling', 'all', 'Nationalists', 'to', 'join', '...', '\\r\\n', 'Walk', 'for', '#', 'CorruptionFreeIndia', 'and', 'spread', 'the', 'benefits', 'of', '#', 'Demonetization', 'among', 'the', 'mas', '\\x85 ', 'RT', '@Atheist_Krishna', ':', 'BEFORE', 'and', 'AFTER', 'Gandhi', 'ji', 'heard', 'they', 'are', 'standing', 'there', 'against', '#', 'Demonetization', '\\r\\n', '.', 'https://t.co/9NheK63TPg', 'RT', '@Hemant_80', ':', 'Did', 'you', 'vote', 'on', '#', 'Demonetization', 'on', 'Modi', 'survey', 'app', '?', 'RT', '@kapil_kausik', ':', '#', 'Doltiwal', 'I', 'mean', '#', 'JaiChandKejriwal', 'is', '\"', 'hurt', '\"', 'by', '#', 'Demonetization', 'as', 'the', 'same', 'has', 'rendered', 'USELESS', '<', 'ed><U+00A0><U+00BD><ed><U+00B1><U+0089', '>', '\"', 'acquired', 'funds', '\"', 'No', 'wo', '\\x85 ', 'Things', 'are', 'very', 'fast', 'getting', 'back', 'to', 'normal', '.', 'No', 'long', 'queues', 'in', 'Bhopal', 'banks', 'and', 'ATMs', 'anymore', '.', '\\r\\n', '#', 'DeMonetization', '@ArvindKejriwal', '@AamAadmiParty', 'how', 'you', 'guys', 'reached', '8', 'lakh', 'ghotala', 'in', '#', 'Demonetization', 'process', '.', 'Pls', 'explain', 'the', 'number', '@TimesNow', 'World', 'is', 'full', 'of', '#', 'smart', '#', 'people', '\\r\\n', '#', 'demonetization', 'https://t.co/JTLnZ8hD2d', 'RT', '@gauravcsawant', ':', 'Rs', '40', 'lakh', 'looted', 'from', 'a', 'bank', 'in', 'Kishtwar', 'in', 'J&amp;K.', 'Third', 'such', 'incident', 'since', '#', 'demonetization', '.', 'That', \"'s\", 'how', 'terrorists', 'have', '\\x85 ', 'RT', '@mrpatel1954', ':', '#', 'Demonetization', 'has', 'long', 'term', 'benefits', '.', 'Pain', 'now', 'is', 'temporary', '.', 'Let', 'us', 'help', '#', 'nation', 'to', 'make', '#', 'India', '#', 'corruption', 'free', '.', 'RT', '@gauravcsawant', ':', 'Rs', '40', 'lakh', 'looted', 'from', 'a', 'bank', 'in', 'Kishtwar', 'in', 'J&amp;K.', 'Third', 'such', 'incident', 'since', '#', 'demonetization', '.', 'That', \"'s\", 'how', 'terrorists', 'have', '\\x85 ', 'RT', '@DrGPradhan', ':', '8', '\\r\\n\\r\\n', 'This', 'tweet', 'of', '@minimathur', 'BIBI', 'explains', 'why', 'she', 'is', 'having', 'a', 'prob', 'with', '#', 'demonetization', '..', 'In', 'first', 'part', 'she', 'says', 'she', 'ca', \"n't\", '\\x85 ', 'RT', '@gauravcsawant', ':', 'Rs', '40', 'lakh', 'looted', 'from', 'a', 'bank', 'in', 'Kishtwar', 'in', 'J&amp;K.', 'Third', 'such', 'incident', 'since', '#', 'demonetization', '.', 'That', \"'s\", 'how', 'terrorists', 'have', '\\x85 ', 'RT', '@Savitri4Ever', ':', 'Wow', '!', '#', 'Demonetization', 'Survey', 'Response', ':', '5', 'Lakh', 'citizens', 'in', 'little', 'over', '24', 'hrs', '!', '\\r\\n', 'Participate', 'now', '!', '\\r\\n', 'https://t.co/pwVrLD6tSg', '\\r\\n', 'via', '\\x85 ', 'RT', '@Atheist_Krishna', ':', 'BEFORE', 'and', 'AFTER', 'Gandhi', 'ji', 'heard', 'they', 'are', 'standing', 'there', 'against', '#', 'Demonetization', '\\r\\n', '.', 'https://t.co/9NheK63TPg', 'RT', '@DrGPradhan', ':', '8', '\\r\\n\\r\\n', 'This', 'tweet', 'of', '@minimathur', 'BIBI', 'explains', 'why', 'she', 'is', 'having', 'a', 'prob', 'with', '#', 'demonetization', '..', 'In', 'first', 'part', 'she', 'says', 'she', 'ca', \"n't\", '\\x85 ', 'RT', '@kapil_kausik', ':', '#', 'Doltiwal', 'I', 'mean', '#', 'JaiChandKejriwal', 'is', '\"', 'hurt', '\"', 'by', '#', 'Demonetization', 'as', 'the', 'same', 'has', 'rendered', 'USELESS', '<', 'ed><U+00A0><U+00BD><ed><U+00B1><U+0089', '>', '\"', 'acquired', 'funds', '\"', 'No', 'wo', '\\x85 ', 'RT', '@Gadgets360', ':', 'After', 'the', '#', 'demonetization', ',', 'searches', 'about', '#', 'NarendraModi', \"'s\", 'app', 'are', 'trending', 'on', 'app', 'stores', 'https://t.co/ZetKRqqClX', 'RT', '@ajit_ranade', ':', 'Not', 'surgical', 'strike', '.', 'It', \"'s\", 'the', 'nuclear', 'button', '.', 'This', 'is', 'Modi', \"'s\", 'Pokhran', '.', 'Kudos', '#', 'demonetization', 'RT', '@DrKumarVishwas', ':', 'And', 'the', 'Oscar', 'goes', 'to', '\"', 'Mr.<U+092D><U+093E><U+0935><U+0941><U+0915', '>', '\"', '<', 'ed><U+00A0><U+00BD><ed><U+00B8><U+00A9><ed><U+00A0><U+00BD><ed><U+00B8><U+00A5><ed><U+00A0><U+00BD><ed><U+00B8><U+00A2><ed><U+00A0><U+00BD><ed><U+00B8><U+00AD>#demonetization', 'https://t.co/ObQrhlNSL6', 'Amazing', 'how', 'videos', 'showing', 'ppl', 'happy', 'with', '#', 'demonetization', 'end', 'up', 'as', 'mobile', 'forwards', ',', 'unhappy', 'videos', 'land', 'on', '@sardesairajdeep', 'tl', '#', 'prestitutes', 'RT', '@gauravcsawant', ':', 'Rs', '40', 'lakh', 'looted', 'from', 'a', 'bank', 'in', 'Kishtwar', 'in', 'J&amp;K.', 'Third', 'such', 'incident', 'since', '#', 'demonetization', '.', 'That', \"'s\", 'how', 'terrorists', 'have', '\\x85 ', 'Rahul', \"Gandhi-'PM\", 'favours', 'Rich', \"people',@OfficeofRG\", 'who', 'do', 'u', 'think', 'Peons', 'and', 'sarkari', 'babu', 'are', '?', '#', 'Demonetization', 'RT', '@harshkkapoor', ':', '#', 'DeMonetization', 'survey', 'results', 'after', '24', 'hours', '\\r\\n', '5Lacs', 'opinions', '\\r\\n', 'Amazing', 'response&amp', ';', 'Commitment', 'in', 'fight', 'against', 'Blackmoney', '\\r\\n', '@na', '\\x85 ', 'RT', '@kanimozhi', ':', 'Ts', 'is', 'exactly', 'what', 'Pappu', '&', 'amp', ';', 'opposition', 'has', 'done', 'to', 'themselves', 'by', 'opposing', '#', 'Demonetization', 'Now', 'none', 'can', 'stop', 'Modi', 'bandwagon', 'ti', '\\x85 ', '#', 'Demonetization', 'modi', 'ji', 'just', 'like', 'your', 'survey', ',', 'mrs', '.', 'clinton', ' ', 'was', 'also', 'winning', 'the', 'elections', 'in', 'all', 'the', 'surveys', '!', 'RT', '@harshkkapoor', ':', '#', 'DeMonetization', 'survey', 'results', 'after', '24', 'hours', '\\r\\n', '5Lacs', 'opinions', '\\r\\n', 'Amazing', 'response&amp', ';', 'Commitment', 'in', 'fight', 'against', 'Blackmoney', '\\r\\n', '@na', '\\x85 ', 'RT', '@gauravcsawant', ':', 'Rs', '40', 'lakh', 'looted', 'from', 'a', 'bank', 'in', 'Kishtwar', 'in', 'J&amp;K.', 'Third', 'such', 'incident', 'since', '#', 'demonetization', '.', 'That', \"'s\", 'how', 'terrorists', 'have', '\\x85 ', 'RT', '@MDiplomacyWORLD', ':', 'Acid', 'test', 'for', '#', 'Modi', 'and', '#', 'BJP', ':', '#', 'Demonetization', 'hits', '#', 'Indian', 'life', '#', 'India', '#', 'banking', '#', 'SouthAsia', 'https://t.co/394uVTOM2l', 'RT', '@MDiplomacyWORLD', ':', 'Acid', 'test', 'for', '#', 'Modi', 'and', '#', 'BJP', ':', '#', 'Demonetization', 'hits', '#', 'Indian', 'life', '#', 'India', '#', 'banking', '#', 'SouthAsia', 'https://t.co/394uVTOM2l', 'RT', '@MDiplomacyWORLD', ':', 'Acid', 'test', 'for', '#', 'Modi', 'and', '#', 'BJP', ':', '#', 'Demonetization', 'hits', '#', 'Indian', 'life', '#', 'India', '#', 'banking', '#', 'SouthAsia', 'https://t.co/394uVTOM2l', 'RT', '@RealHistoryPic', ':', 'Ca', \"n't\", 'say', 'anything', 'about', 'Productivity', 'but', 'Creativity', 'has', 'increased', 'after', '#', 'Demonetization.(2016', ')', 'https://t.co/0fMh3UMbVq', 'RT', '@Hemant_80', ':', 'Did', 'you', 'vote', 'on', '#', 'Demonetization', 'on', 'Modi', 'survey', 'app', '?', 'Acid', 'test', 'for', '#', 'Modi', 'and', '#', 'BJP', ':', '#', 'Demonetization', 'hits', '#', 'Indian', 'life', '#', 'India', '#', 'banking', '#', 'SouthAsia', 'https://t.co/394uVTOM2l', 'RT', '@gauravcsawant', ':', 'Rs', '40', 'lakh', 'looted', 'from', 'a', 'bank', 'in', 'Kishtwar', 'in', 'J&amp;K.', 'Third', 'such', 'incident', 'since', '#', 'demonetization', '.', 'That', \"'s\", 'how', 'terrorists', 'have', '\\x85 ', 'RT', '@ModiBharosa', ':', 'Putting', 'Nation', 'over', 'Party', 'Politics', '#', 'nitishkumar', 'supports', 'PM', '@narendramodi', 'on', '#', 'Demonetization', 'https://t.co/UodwXdPMmG', 'RT', '@kapil_kausik', ':', '#', 'Doltiwal', 'I', 'mean', '#', 'JaiChandKejriwal', 'is', '\"', 'hurt', '\"', 'by', '#', 'Demonetization', 'as', 'the', 'same', 'has', 'rendered', 'USELESS', '<', 'ed><U+00A0><U+00BD><ed><U+00B1><U+0089', '>', '\"', 'acquired', 'funds', '\"', 'No', 'wo', '\\x85 ', 'RT', '@Atheist_Krishna', ':', 'BEFORE', 'and', 'AFTER', 'Gandhi', 'ji', 'heard', 'they', 'are', 'standing', 'there', 'against', '#', 'Demonetization', '\\r\\n', '.', 'https://t.co/9NheK63TPg', 'RT', '@Atheist_Krishna', ':', 'BEFORE', 'and', 'AFTER', 'Gandhi', 'ji', 'heard', 'they', 'are', 'standing', 'there', 'against', '#', 'Demonetization', '\\r\\n', '.', 'https://t.co/9NheK63TPg', 'RT', '@ModiBharosa', ':', 'Huge', 'support', 'for', 'PM', '@narendramodi', '\\x92s', '#', 'demonetization', 'Move', 'Across', 'the', 'Nation', '\\r\\n', '80', '-', '86', '%', 'people', 'back', 'demonetization', ':', 'C', '-', 'voter', 'su', '\\x85 ', 'RT', '@Dipankar_cpiml', ':', 'The', 'Modi', 'app', 'on', '#', 'DeMonetization', 'proves', 'once', 'again', 'that', 'the', 'govt', 'is', 'totally', 'indifferent', 'to', 'the', 'mounting', 'misery', 'and', 'hards', '\\x85 ', 'RT', '@Dipankar_cpiml', ':', 'The', 'Modi', 'app', 'on', '#', 'DeMonetization', 'proves', 'once', 'again', 'that', 'the', 'govt', 'is', 'totally', 'indifferent', 'to', 'the', 'mounting', 'misery', 'and', 'hards', '\\x85 ', 'RT', '@DrGPradhan', ':', '8', '\\r\\n\\r\\n', 'This', 'tweet', 'of', '@minimathur', 'BIBI', 'explains', 'why', 'she', 'is', 'having', 'a', 'prob', 'with', '#', 'demonetization', '..', 'In', 'first', 'part', 'she', 'says', 'she', 'ca', \"n't\", '\\x85 ', 'Post', 'the', '#', 'Indian', 'currency', '#', 'Demonetization', 'move', ',', '#', 'BJP', 'or', '#', 'Modi', 'has', 'garnered', 'a', 'huge', 'base', 'of', '#', 'Foes', 'and', '#', 'Psychopaths', '...', 'https://t.co/AZ4QUvkptF', 'RT', '@Atheist_Krishna', ':', 'The', 'effect', 'of', '#', 'Demonetization', '!', '!', '\\r\\n', '.', 'https://t.co/A8of7zh2f5', 'So', 'this', 'is', 'what', '#', 'Demonetization', 'has', 'done', '(', 'aside', 'killing', 'over', '55', 'people', ')', '.', '\\r\\n', '#', 'CashRush', '#', 'BlackMoney', 'https://t.co/ybgj19WYpo', 'RT', '@Atheist_Krishna', ':', 'BEFORE', 'and', 'AFTER', 'Gandhi', 'ji', 'heard', 'they', 'are', 'standing', 'there', 'against', '#', 'Demonetization', '\\r\\n', '.', 'https://t.co/9NheK63TPg', 'RT', '@gauravcsawant', ':', 'Rs', '40', 'lakh', 'looted', 'from', 'a', 'bank', 'in', 'Kishtwar', 'in', 'J&amp;K.', 'Third', 'such', 'incident', 'since', '#', 'demonetization', '.', 'That', \"'s\", 'how', 'terrorists', 'have', '\\x85 ', 'Reduce', 'the', 'perks', '&', 'amp', ';', 'benefits', 'of', 'all', 'MP', \"'s\", 'and', 'MLA', \"'s\", 'by', '50', '%', '.', '#', 'demonetization', 'RT', '@Dipankar_cpiml', ':', 'The', 'Modi', 'app', 'on', '#', 'DeMonetization', 'proves', 'once', 'again', 'that', 'the', 'govt', 'is', 'totally', 'indifferent', 'to', 'the', 'mounting', 'misery', 'and', 'hards', '\\x85 ', 'RT', '@Atheist_Krishna', ':', 'BEFORE', 'and', 'AFTER', 'Gandhi', 'ji', 'heard', 'they', 'are', 'standing', 'there', 'against', '#', 'Demonetization', '\\r\\n', '.', 'https://t.co/9NheK63TPg', 'RT', '@Atheist_Krishna', ':', 'BEFORE', 'and', 'AFTER', 'Gandhi', 'ji', 'heard', 'they', 'are', 'standing', 'there', 'against', '#', 'Demonetization', '\\r\\n', '.', 'https://t.co/9NheK63TPg', 'The', 'only', 'thing', 'I', 'have', 'gained', 'from', 'Modi', \"'s\", '#', 'demonetization', 'is', 'one', 'addiction', 'to', 'my', 'Hindi', 'vocabulary', '.', 'I', 'now', 'know', 'the', 'meaning', 'of', '\"', 'bewafa', '\"', '.', '\\r\\n', '#', 'India', 'RT', '@kapil_kausik', ':', '#', 'Doltiwal', 'I', 'mean', '#', 'JaiChandKejriwal', 'is', '\"', 'hurt', '\"', 'by', '#', 'Demonetization', 'as', 'the', 'same', 'has', 'rendered', 'USELESS', '<', 'ed><U+00A0><U+00BD><ed><U+00B1><U+0089', '>', '\"', 'acquired', 'funds', '\"', 'No', 'wo', '\\x85 ', 'RT', '@Atheist_Krishna', ':', 'BEFORE', 'and', 'AFTER', 'Gandhi', 'ji', 'heard', 'they', 'are', 'standing', 'there', 'against', '#', 'Demonetization', '\\r\\n', '.', 'https://t.co/9NheK63TPg', 'RT', '@kanimozhi', ':', 'Ts', 'is', 'exactly', 'what', 'Pappu', '&', 'amp', ';', 'opposition', 'has', 'done', 'to', 'themselves', 'by', 'opposing', '#', 'Demonetization', 'Now', 'none', 'can', 'stop', 'Modi', 'bandwagon', 'ti', '\\x85 ', 'RT', '@DrGPradhan', ':', '8', '\\r\\n\\r\\n', 'This', 'tweet', 'of', '@minimathur', 'BIBI', 'explains', 'why', 'she', 'is', 'having', 'a', 'prob', 'with', '#', 'demonetization', '..', 'In', 'first', 'part', 'she', 'says', 'she', 'ca', \"n't\", '\\x85 ', '@ArvindKejriwal', ' ', 'kindly', 'bring', 'your', 'application', 'for', 'real', 'survey', 'on', '#', 'demonetization', 'to', 'know', 'actual', 'truth', 'how', 'unhappy', 'people', 'are', '..', 'RT', '@kanimozhi', ':', 'Ts', 'is', 'exactly', 'what', 'Pappu', '&', 'amp', ';', 'opposition', 'has', 'done', 'to', 'themselves', 'by', 'opposing', '#', 'Demonetization', 'Now', 'none', 'can', 'stop', 'Modi', 'bandwagon', 'ti', '\\x85 ', 'RT', '@harshkkapoor', ':', '#', 'DeMonetization', 'survey', 'results', 'after', '24', 'hours', '\\r\\n', '5Lacs', 'opinions', '\\r\\n', 'Amazing', 'response&amp', ';', 'Commitment', 'in', 'fight', 'against', 'Blackmoney', '\\r\\n', '@na', '\\x85 ', 'RT', '@gauravcsawant', ':', 'Rs', '40', 'lakh', 'looted', 'from', 'a', 'bank', 'in', 'Kishtwar', 'in', 'J&amp;K.', 'Third', 'such', 'incident', 'since', '#', 'demonetization', '.', 'That', \"'s\", 'how', 'terrorists', 'have', '\\x85 ', 'RT', '@Dipankar_cpiml', ':', 'The', 'Modi', 'app', 'on', '#', 'DeMonetization', 'proves', 'once', 'again', 'that', 'the', 'govt', 'is', 'totally', 'indifferent', 'to', 'the', 'mounting', 'misery', 'and', 'hards', '\\x85 ', 'RT', '@kapil_kausik', ':', '#', 'Doltiwal', 'I', 'mean', '#', 'JaiChandKejriwal', 'is', '\"', 'hurt', '\"', 'by', '#', 'Demonetization', 'as', 'the', 'same', 'has', 'rendered', 'USELESS', '<', 'ed><U+00A0><U+00BD><ed><U+00B1><U+0089', '>', '\"', 'acquired', 'funds', '\"', 'No', 'wo', '\\x85 ', 'RT', '@Atheist_Krishna', ':', 'The', 'effect', 'of', '#', 'Demonetization', '!', '!', '\\r\\n', '.', 'https://t.co/A8of7zh2f5', 'RT', '@FTIIndia', ':', 'What', 'is', 'the', 'impact', 'of', '#', 'Demonetization', 'on', 'various', 'sectors', 'like', 'Real', 'Estate', ',', 'Consumption', ',', 'Banks', '.', '\\r\\n', 'Read', 'our', 'views', 'here', '-', 'https://', '\\x85 ', 'RT', '@kanimozhi', ':', 'Ts', 'is', 'exactly', 'what', 'Pappu', '&', 'amp', ';', 'opposition', 'has', 'done', 'to', 'themselves', 'by', 'opposing', '#', 'Demonetization', 'Now', 'none', 'can', 'stop', 'Modi', 'bandwagon', 'ti', '\\x85 ', 'RT', '@FTIIndia', ':', 'How', 'will', 'inflation', 'and', 'interest', 'rates', 'react', 'to', '#', 'Demonetization', '?', '\\r\\n', 'Read', 'our', 'views', 'here', '-', 'https://t.co/kFCVgHbNdL', 'https://t.co/M', '\\x85 ', 'RT', '@DrGPradhan', ':', '8', '\\r\\n\\r\\n', 'This', 'tweet', 'of', '@minimathur', 'BIBI', 'explains', 'why', 'she', 'is', 'having', 'a', 'prob', 'with', '#', 'demonetization', '..', 'In', 'first', 'part', 'she', 'says', 'she', 'ca', \"n't\", '\\x85 ', '@muglikar', '_', ' ', 'SBI', 'slashes', 'bulk', 'deposit', 'term', 'deposit', 'rates', 'drastically', '.', 'CASHualty', 'of', '#', 'demonetization', '?', 'RT', '@centerofright', ':', 'Interesting', 'results', 'from', '@narendramodi', 'APP', 'poll', 'on', '#', 'DeMonetization', '-', 'It', 'is', 'still', 'open', ',', 'Please', 'participate', 'https://t.co/', '\\x85 ', 'RT', '@kapil_kausik', ':', '#', 'Doltiwal', 'I', 'mean', '#', 'JaiChandKejriwal', 'is', '\"', 'hurt', '\"', 'by', '#', 'Demonetization', 'as', 'the', 'same', 'has', 'rendered', 'USELESS', '<', 'ed><U+00A0><U+00BD><ed><U+00B1><U+0089', '>', '\"', 'acquired', 'funds', '\"', 'No', 'wo', '\\x85 ', 'RT', '@DrGPradhan', ':', '8', '\\r\\n\\r\\n', 'This', 'tweet', 'of', '@minimathur', 'BIBI', 'explains', 'why', 'she', 'is', 'having', 'a', 'prob', 'with', '#', 'demonetization', '..', 'In', 'first', 'part', 'she', 'says', 'she', 'ca', \"n't\", '\\x85 ', 'RT', '@Joydeep_911', ':', 'Calling', 'all', 'Nationalists', 'to', 'join', '...', '\\r\\n', 'Walk', 'for', '#', 'CorruptionFreeIndia', 'and', 'spread', 'the', 'benefits', 'of', '#', 'Demonetization', 'among', 'the', 'mas', '\\x85 ', 'RT', '@Ra_THORe', ':', '#', 'Demonetization', '#', 'IndiaFightsCorruption', 'Immense', 'courage', 'needed', 'to', 'take', 'such', 'a', 'momentous', 'decision', '@arunjaitley', '@narendramodi', '@P', '\\x85 ', 'RT', '@Hemant_80', ':', 'Did', 'you', 'vote', 'on', '#', 'Demonetization', 'on', 'Modi', 'survey', 'app', '?', 'RT', '@kapil_kausik', ':', '#', 'Doltiwal', 'I', 'mean', '#', 'JaiChandKejriwal', 'is', '\"', 'hurt', '\"', 'by', '#', 'Demonetization', 'as', 'the', 'same', 'has', 'rendered', 'USELESS', '<', 'ed><U+00A0><U+00BD><ed><U+00B1><U+0089', '>', '\"', 'acquired', 'funds', '\"', 'No', 'wo', '\\x85 ', 'RT', '@Atheist_Krishna', ':', 'BEFORE', 'and', 'AFTER', 'Gandhi', 'ji', 'heard', 'they', 'are', 'standing', 'there', 'against', '#', 'Demonetization', '\\r\\n', '.', 'https://t.co/9NheK63TPg', 'The', 'Modi', 'app', 'on', '#', 'DeMonetization', 'proves', 'once', 'again', 'that', 'the', 'govt', 'is', 'totally', 'indifferent', 'to', 'the', 'mounting', 'misery', 'and', 'hardship', 'of', 'the', 'people', '.', '\"', 'RT', '@Hemant_80', ':', 'Did', 'you', 'vote', 'on', '#', 'Demonetization', 'on', 'Modi', 'survey', 'app', '?', 'RT', '@DrKumarVishwas', ':', 'And', 'the', 'Oscar', 'goes', 'to', '\"', 'Mr.<U+092D><U+093E><U+0935><U+0941><U+0915', '>', '\"', '<', 'ed><U+00A0><U+00BD><ed><U+00B8><U+00A9><ed><U+00A0><U+00BD><ed><U+00B8><U+00A5><ed><U+00A0><U+00BD><ed><U+00B8><U+00A2><ed><U+00A0><U+00BD><ed><U+00B8><U+00AD>#demonetization', 'https://t.co/ObQrhlNSL6', 'RT', '@Punitspeaks', ':', 'Survey', 'result', 'so', 'far', 'by', '@PMOIndia', 'on', '#', 'Demonetization', '.', '5', 'lakh', 'response', 'in', '24', 'hrs', '.', '90', '%', 'supports', 'note', 'ban', '.', '#', 'MeraDeshBadalRaha', '\\x85 ', 'RT', '@harshkkapoor', ':', '#', 'DeMonetization', 'survey', 'results', 'after', '24', 'hours', '\\r\\n', '5Lacs', 'opinions', '\\r\\n', 'Amazing', 'response&amp', ';', 'Commitment', 'in', 'fight', 'against', 'Blackmoney', '\\r\\n', '@na', '\\x85 ', 'RT', '@DrGPradhan', ':', '8', '\\r\\n\\r\\n', 'This', 'tweet', 'of', '@minimathur', 'BIBI', 'explains', 'why', 'she', 'is', 'having', 'a', 'prob', 'with', '#', 'demonetization', '..', 'In', 'first', 'part', 'she', 'says', 'she', 'ca', \"n't\", '\\x85 ', 'RT', '@Atheist_Krishna', ':', 'The', 'effect', 'of', '#', 'Demonetization', '!', '!', '\\r\\n', '.', 'https://t.co/A8of7zh2f5', 'RT', '@gauravcsawant', ':', 'Rs', '40', 'lakh', 'looted', 'from', 'a', 'bank', 'in', 'Kishtwar', 'in', 'J&amp;K.', 'Third', 'such', 'incident', 'since', '#', 'demonetization', '.', 'That', \"'s\", 'how', 'terrorists', 'have', '\\x85 ', 'RT', '@RealZaidHamid', '_', ':', '#', 'DemonetizationMythsBusted', '\\r\\n', 'Anyone', 'dying', 'within', '20', 'km', 'radius', 'of', 'bank', 'is', 'coz', 'of', '#', 'Demonetization', 'and', 'Modi', 'is', 'directly', 'resp', '\\x85 ', 'RT', '@kapil_kausik', ':', '#', 'Doltiwal', 'I', 'mean', '#', 'JaiChandKejriwal', 'is', '\"', 'hurt', '\"', 'by', '#', 'Demonetization', 'as', 'the', 'same', 'has', 'rendered', 'USELESS', '<', 'ed><U+00A0><U+00BD><ed><U+00B1><U+0089', '>', '\"', 'acquired', 'funds', '\"', 'No', 'wo', '\\x85 ', 'RT', '@kapil_kausik', ':', '#', 'Doltiwal', 'I', 'mean', '#', 'JaiChandKejriwal', 'is', '\"', 'hurt', '\"', 'by', '#', 'Demonetization', 'as', 'the', 'same', 'has', 'rendered', 'USELESS', '<', 'ed><U+00A0><U+00BD><ed><U+00B1><U+0089', '>', '\"', 'acquired', 'funds', '\"', 'No', 'wo', '\\x85 ', 'RT', '@kanimozhi', ':', 'Ts', 'is', 'exactly', 'what', 'Pappu', '&', 'amp', ';', 'opposition', 'has', 'done', 'to', 'themselves', 'by', 'opposing', '#', 'Demonetization', 'Now', 'none', 'can', 'stop', 'Modi', 'bandwagon', 'ti', '\\x85 ', '@SriSri', ' ', 'Ravi', 'Shankar', 'roots', 'for', '#', 'demonetization', ',', 'hails', 'PM', '@narendramodi', '\\r\\n', 'https://t.co/GV5gt4sjLW', 'https://t.co/E0ZFRnRjlk', '#', 'Doltiwal', 'I', 'mean', '#', 'JaiChandKejriwal', 'is', '\"', 'hurt', '\"', 'by', '#', 'Demonetization', 'as', 'the', 'same', 'has', 'rendered', 'USELESS', '<', 'ed><U+00A0><U+00BD><ed><U+00B1><U+0089', '>', '\"', 'acquired', 'funds', '\"', '\\x85 ', 'https://t.co/LaNJGLWrN6', 'RT', '@gauravcsawant', ':', 'Rs', '40', 'lakh', 'looted', 'from', 'a', 'bank', 'in', 'Kishtwar', 'in', 'J&amp;K.', 'Third', 'such', 'incident', 'since', '#', 'demonetization', '.', 'That', \"'s\", 'how', 'terrorists', 'have', '\\x85 ', 'RT', '@r_raghuraj', ':', 'Today', 'I', 'saw', '200', 'black', 'money', 'hoarders', 'out', 'of', '125', 'crore', '\\r\\n', 'standing', 'in', 'ques', 'outside', 'Parliament', 'against', '\\r\\n', '#', 'Demonetization', 'https://t', '\\x85 ', 'Heard', 'someone', 'saying', 'Home', 'loans', 'will', 'go', 'down', 'soon', '.', '#', 'Demonetization', 'may', 'work', 'there', '.', 'RT', '@penisgarlic', ':', 'People', 'these', 'days', 'are', 'practicing', 'to', 'get', 'the', 'tickets', 'when', '2.0', 'will', 'release', 'by', 'making', 'queue', 'in', 'bank', 'n', 'ATM', ' ', '#', 'demonetization', '\\x85 ', 'RT', '@Atheist_Krishna', ':', 'BEFORE', 'and', 'AFTER', 'Gandhi', 'ji', 'heard', 'they', 'are', 'standing', 'there', 'against', '#', 'Demonetization', '\\r\\n', '.', 'https://t.co/9NheK63TPg', 'Do', 'you', 'support', 'the', 'Opposition', \"'s\", 'agitation', 'against', '#', 'demonetization', '?', 'Participate', 'n', 'd', 'DNA', 'poll', '&', 'amp', ';', 'see', 'the', 'results', '...', 'https://t.co/HqUtn0blat', 'RT', '@gauravcsawant', ':', 'Rs', '40', 'lakh', 'looted', 'from', 'a', 'bank', 'in', 'Kishtwar', 'in', 'J&amp;K.', 'Third', 'such', 'incident', 'since', '#', 'demonetization', '.', 'That', \"'s\", 'how', 'terrorists', 'have', '\\x85 ', 'RT', '@Atheist_Krishna', ':', 'BEFORE', 'and', 'AFTER', 'Gandhi', 'ji', 'heard', 'they', 'are', 'standing', 'there', 'against', '#', 'Demonetization', '\\r\\n', '.', 'https://t.co/9NheK63TPg', 'RT', '@Atheist_Krishna', ':', 'The', 'effect', 'of', '#', 'Demonetization', '!', '!', '\\r\\n', '.', 'https://t.co/A8of7zh2f5', 'RT', '@Atheist_Krishna', ':', 'BEFORE', 'and', 'AFTER', 'Gandhi', 'ji', 'heard', 'they', 'are', 'standing', 'there', 'against', '#', 'Demonetization', '\\r\\n', '.', 'https://t.co/9NheK63TPg', 'RT', '@gauravcsawant', ':', 'Rs', '40', 'lakh', 'looted', 'from', 'a', 'bank', 'in', 'Kishtwar', 'in', 'J&amp;K.', 'Third', 'such', 'incident', 'since', '#', 'demonetization', '.', 'That', \"'s\", 'how', 'terrorists', 'have', '\\x85 ', 'RT', '@Gadgets360', ':', 'After', 'the', '#', 'demonetization', ',', 'searches', 'about', '#', 'NarendraModi', \"'s\", 'app', 'are', 'trending', 'on', 'app', 'stores', 'https://t.co/ZetKRqqClX', 'RT', '@Joydas', ':', 'Question', 'in', 'Narendra', 'Modi', 'App', 'where', 'PM', 'is', 'taking', 'feedback', 'if', 'people', 'support', 'his', '#', 'DeMonetization', 'strategy', 'https://t.co/pYgK8Rmg7r', 'RT', '@gauravcsawant', ':', 'Rs', '40', 'lakh', 'looted', 'from', 'a', 'bank', 'in', 'Kishtwar', 'in', 'J&amp;K.', 'Third', 'such', 'incident', 'since', '#', 'demonetization', '.', 'That', \"'s\", 'how', 'terrorists', 'have', '\\x85 ', 'RT', '@DrGPradhan', ':', '8', '\\r\\n\\r\\n', 'This', 'tweet', 'of', '@minimathur', 'BIBI', 'explains', 'why', 'she', 'is', 'having', 'a', 'prob', 'with', '#', 'demonetization', '..', 'In', 'first', 'part', 'she', 'says', 'she', 'ca', \"n't\", '\\x85 ', 'RT', '@gauravcsawant', ':', 'Rs', '40', 'lakh', 'looted', 'from', 'a', 'bank', 'in', 'Kishtwar', 'in', 'J&amp;K.', 'Third', 'such', 'incident', 'since', '#', 'demonetization', '.', 'That', \"'s\", 'how', 'terrorists', 'have', '\\x85 ', 'RT', '@kanimozhi', ':', 'Ts', 'is', 'exactly', 'what', 'Pappu', '&', 'amp', ';', 'opposition', 'has', 'done', 'to', 'themselves', 'by', 'opposing', '#', 'Demonetization', 'Now', 'none', 'can', 'stop', 'Modi', 'bandwagon', 'ti', '\\x85 ', 'RT', '@centerofright', ':', 'Interesting', 'results', 'from', '@narendramodi', 'APP', 'poll', 'on', '#', 'DeMonetization', '-', 'It', 'is', 'still', 'open', ',', 'Please', 'participate', 'https://t.co/', '\\x85 ', '@OfficeOfRG', 'u', 'sayin', 'inconvenience', 'due', 'to', '#', 'demonetization', 'but', 'ur', 'govt', 'destroying', 'Karnataka', 'by', 'constructing', '#', 'steelbridge', ' ', '#', 'NetaVilla', 'RT', '@Atheist_Krishna', ':', 'BEFORE', 'and', 'AFTER', 'Gandhi', 'ji', 'heard', 'they', 'are', 'standing', 'there', 'against', '#', 'Demonetization', '\\r\\n', '.', 'https://t.co/9NheK63TPg', 'RT', '@harshkkapoor', ':', '#', 'DeMonetization', 'survey', 'results', 'after', '24', 'hours', '\\r\\n', '5Lacs', 'opinions', '\\r\\n', 'Amazing', 'response&amp', ';', 'Commitment', 'in', 'fight', 'against', 'Blackmoney', '\\r\\n', '@na', '\\x85 ', 'RT', '@rssurjewala', ':', 'Critical', 'question', ':', 'Was', 'PayTM', 'informed', 'about', '#', 'Demonetization', 'edict', 'by', 'PM', '?', 'It', \"'s\", 'clearly', 'fishy', 'and', 'requires', 'full', 'disclosure', '&', 'amp', ';', '\\x85 ', 'Today', 'I', 'saw', '200', 'black', 'money', 'hoarders', 'out', 'of', '125', 'crore', '\\r\\n', 'standing', 'in', 'ques', 'outside', 'Parliament', 'against', '\\r\\n', '#', 'Demonetization', 'https://t.co/CYLkZI3ie8', 'Congress', ',', 'a', 'party', 'which', 'did', 'nothing', 'effective', 'to', 'stop', 'farmer', \"'s\", 'suicide', 'in', 'Maha', 'under', 'it', \"'s\", 'watch', ',', 'now', 'cries', 'over', '#', 'demonetization', 'deaths', '.', '#', 'Demonetization', ' ', 'Can', 'we', 'use', 'Mobile', 'to', 'Mobile', 'cash', 'transfer', 'as', 'a', 'mode', 'of', 'payment', 'to', 'ease', 'cash', 'crunch', 'RT', '@ModiBharosa', ':', 'Putting', 'Nation', 'over', 'Party', 'Politics', '#', 'nitishkumar', 'supports', 'PM', '@narendramodi', 'on', '#', 'Demonetization', 'https://t.co/UodwXdPMmG', 'RT', '@DrGPradhan', ':', '8', '\\r\\n\\r\\n', 'This', 'tweet', 'of', '@minimathur', 'BIBI', 'explains', 'why', 'she', 'is', 'having', 'a', 'prob', 'with', '#', 'demonetization', '..', 'In', 'first', 'part', 'she', 'says', 'she', 'ca', \"n't\", '\\x85 ', 'RT', '@DrKumarVishwas', ':', 'And', 'the', 'Oscar', 'goes', 'to', '\"', 'Mr.<U+092D><U+093E><U+0935><U+0941><U+0915', '>', '\"', '<', 'ed><U+00A0><U+00BD><ed><U+00B8><U+00A9><ed><U+00A0><U+00BD><ed><U+00B8><U+00A5><ed><U+00A0><U+00BD><ed><U+00B8><U+00A2><ed><U+00A0><U+00BD><ed><U+00B8><U+00AD>#demonetization', 'https://t.co/ObQrhlNSL6', 'RT', '@gauravcsawant', ':', 'Rs', '40', 'lakh', 'looted', 'from', 'a', 'bank', 'in', 'Kishtwar', 'in', 'J&amp;K.', 'Third', 'such', 'incident', 'since', '#', 'demonetization', '.', 'That', \"'s\", 'how', 'terrorists', 'have', '\\x85 ', 'RT', '@BaradaDs', ':', 'Oppositions', 'demand', 'strike', '#', '<', 'U+0906><U+092A>_<U+092A><U+093E><U+0917><U+0932>_<U+0939><U+0948><U+0902', '>', '\\r\\n', '#', 'DeMonetization', 'RT', '@Hemant_80', ':', 'Did', 'you', 'vote', 'on', '#', 'Demonetization', 'on', 'Modi', 'survey', 'app', '?', 'RT', '@PIB_India', ':', 'Watch', 'briefing', 'on', '#', 'Demonetization', 'by', 'DEA', 'Secy', '@DasShaktikanta', 'this', 'morning', 'here', ':', '\\r\\n', 'https://t.co/TDj2A6uO5u', 'RT', '@Hemant_80', ':', 'Did', 'you', 'vote', 'on', '#', 'Demonetization', 'on', 'Modi', 'survey', 'app', '?', 'RT', '@abhic_1983', ':', '@SitaramYechury', 'Continue', 'with', 'your', 'rants', 'against', '#', 'demonetization', '\\r\\n', 'People', 'of', 'Bengal', 'has', 'answered', 'you', '.', 'LOL', 'Salaam', '.', 'https://t', '.', '\\x85 ', 'RT', 'Hemant_80', ':', 'Did', 'you', 'vote', 'on', '#', 'Demonetization', 'on', 'Modi', 'survey', 'app', '?', 'really', 'want', 'to', 'know', 'who', 'goofed', 'up', 'the', 'atm', 'calibrations', 'bit', 'of', 'the', 'plann', '..', '#demonetization', '.', 'RT', '@DrGPradhan', ':', '8', '\\r\\n\\r\\n', 'This', 'tweet', 'of', '@minimathur', 'BIBI', 'explains', 'why', 'she', 'is', 'having', 'a', 'prob', 'with', '#', 'demonetization', '..', 'In', 'first', 'part', 'she', 'says', 'she', 'ca', \"n't\", '\\x85 ', 'Delete', '!', 'Pathetic', 'PM', 'who', 'conducts', 'false', 'poll', 'and', 'self', 'praises', 'himself', '.', '#', 'demonetization', '#', 'BogusPoll', '\\x85 ', 'https://t.co/9CgeoDBFNz', 'RT', '@NaIna0806', ':', 'https://t.co/H1ON9xKwtv', '\\r\\n', 'Hell', 'yeah', '#', 'Demonetization', 'has', 'broken', 'all', 'class', 'barriers', 'rich', 'poor', ' ', 'everyone', 'is', 'equal', '!', 'RT', '@Atheist_Krishna', ':', 'BEFORE', 'and', 'AFTER', 'Gandhi', 'ji', 'heard', 'they', 'are', 'standing', 'there', 'against', '#', 'Demonetization', '\\r\\n', '.', 'https://t.co/9NheK63TPg', 'RT', '@DrGPradhan', ':', '8', '\\r\\n\\r\\n', 'This', 'tweet', 'of', '@minimathur', 'BIBI', 'explains', 'why', 'she', 'is', 'having', 'a', 'prob', 'with', '#', 'demonetization', '..', 'In', 'first', 'part', 'she', 'says', 'she', 'ca', \"n't\", '\\x85 ', 'RT', '@Joydeep_911', ':', 'Calling', 'all', 'Nationalists', 'to', 'join', '...', '\\r\\n', 'Walk', 'for', '#', 'CorruptionFreeIndia', 'and', 'spread', 'the', 'benefits', 'of', '#', 'Demonetization', 'among', 'the', 'mas', '\\x85 ', 'RT', '@centerofright', ':', '#', 'DeMonetization', '-', 'Some', 'thoughts', '-', '2', 'weeks', 'over', 'after', 'that', '8.00', 'PM', 'speech', '.', 'Lines', 'hv', 'reduced', 'at', 'banks', 'for', 'exchange', '.', 'ATMs', 'h', '\\x85 ', 'RT', '@Joydeep_911', ':', 'Calling', 'all', 'Nationalists', 'to', 'join', '...', '\\r\\n', 'Walk', 'for', '#', 'CorruptionFreeIndia', 'and', 'spread', 'the', 'benefits', 'of', '#', 'Demonetization', 'among', 'the', 'mas', '\\x85 ', 'RT', '@Hemant_80', ':', 'Did', 'you', 'vote', 'on', '#', 'Demonetization', 'on', 'Modi', 'survey', 'app', '?', 'RT', '@dnaAfterHrs', ':', 'Watch', ':', 'Somebody', 'made', 'a', 'spoof', 'video', 'on', '#', 'demonetization', 'with', '#', 'AeDilHaiMushkil', 'trailer', 'and', 'it', \"'s\", 'hilarious', 'https://t.co/oRYBrW', '\\x85 ', 'RT', '@Hemant_80', ':', 'Did', 'you', 'vote', 'on', '#', 'Demonetization', 'on', 'Modi', 'survey', 'app', '?', 'RT', '@justtneeraj', ':', 'Thousands', 'of', 'farmers', 'took', 'out', 'a', 'protest', 'rally', 'in', 'Surat', 'against', '#', 'demonetization', '.', '\\r\\n', '<', 'U+0915><U+0939><U+0940><U+0902', '>', '<', 'U+092F><U+0947', '>', '<', 'U+092D><U+093E><U+0921><U+093C><U+0947', '>', '<', 'U+0915><U+0947', '>', '<', 'U+0924><U+094B', '>', '<', 'U+0928><U+0939><U+0940><U+0902', '>', '!', '\\r\\n', '#', 'AcheDin', 'https:/', '\\x85 ', 'RT', '@ItzCash', ':', '@suryanavin', ' ', 'on', 'how', 'the', 'current', 'wave', 'of', '#', 'Demonetization', 'is', 'the', 'apt', 'way', 'towards', 'digitization', 'of', 'the', 'Indian', 'economy', '.', '\\r\\n', 'https://t', '.', '\\x85 ', 'RT', '@ItzCash', ':', '@suryanavin', 'MD', 'ItzCash', ',', 'was', 'live', 'on', 'ET', 'talking', 'about', 'the', 'impact', 'of', '#', 'Demonetization', 'towards', 'digitization', 'in', 'India', '.', '\\r\\n', 'https://t.c', '\\x85 ', \"'\", 'Thank', 'You', 'For', 'Historic', 'Participation', ',', \"'\", 'Says', 'PM', 'Modi', 'On', 'Notes', 'Ban', 'Feedback', 'https://t.co/wKTlB9C11B', '-', '\\r\\n', 'Massive', 'support', 'to', '#', 'Demonetization', '!', '!', '!', 'RT', '@DrGPradhan', ':', '8', '\\r\\n\\r\\n', 'This', 'tweet', 'of', '@minimathur', 'BIBI', 'explains', 'why', 'she', 'is', 'having', 'a', 'prob', 'with', '#', 'demonetization', '..', 'In', 'first', 'part', 'she', 'says', 'she', 'ca', \"n't\", '\\x85 ', '#', 'Demonetization', 'side', '-', 'effect', ':', '\\r\\n ', 'WTF', 'Philosophers', '\\r\\n ', '(', 'Whatsapp', ',', 'Facebook', ',', 'Twitter', ')', '\"', 'Quizzer', '\"', '@quizderek', 'on', '#', 'DeMonetization', '@thenewshour', 'says', 'polls', 'ansrd', 'on', '#', 'Saradha', 'n', 'do', 'nt', 'quote', 'martyrs', 'forgetting', '#', 'GhulamNabiAzad', 'n', '#', 'Bypolls', 'RT', '@DrKumarVishwas', ':', 'And', 'the', 'Oscar', 'goes', 'to', '\"', 'Mr.<U+092D><U+093E><U+0935><U+0941><U+0915', '>', '\"', '<', 'ed><U+00A0><U+00BD><ed><U+00B8><U+00A9><ed><U+00A0><U+00BD><ed><U+00B8><U+00A5><ed><U+00A0><U+00BD><ed><U+00B8><U+00A2><ed><U+00A0><U+00BD><ed><U+00B8><U+00AD>#demonetization', 'https://t.co/ObQrhlNSL6', '#', 'Demonetization', 'will', 'be', 'due', 'from', 'a', 'thousand', 'cuts', '-', 'each', 'loophole', 'that', 'legalizes', 'the', 'old', 'currency', '.', 'This', 'is', '1', 'of', 'them', '\\x85 ', 'https://t.co/smM9g2sP71', 'RT', '@DrGPradhan', ':', '8', '\\r\\n\\r\\n', 'This', 'tweet', 'of', '@minimathur', 'BIBI', 'explains', 'why', 'she', 'is', 'having', 'a', 'prob', 'with', '#', 'demonetization', '..', 'In', 'first', 'part', 'she', 'says', 'she', 'ca', \"n't\", '\\x85 ', 'till', '2014', 'it', 'was', 'people', 'Vs', 'corrupt', '@INCIndia', 'led', 'UPA', 'etc;now', 'after', '#', 'demonetization', 'it', 'is', 'people', 'Vs', 'tax', 'terrorist', 'Govt', 'of', '@narendramodi', 'RT', '@Dipankar_cpiml', ':', 'The', 'Modi', 'app', 'on', '#', 'DeMonetization', 'proves', 'once', 'again', 'that', 'the', 'govt', 'is', 'totally', 'indifferent', 'to', 'the', 'mounting', 'misery', 'and', 'hards', '\\x85 ', 'RT', '@Atheist_Krishna', ':', 'BEFORE', 'and', 'AFTER', 'Gandhi', 'ji', 'heard', 'they', 'are', 'standing', 'there', 'against', '#', 'Demonetization', '\\r\\n', '.', 'https://t.co/9NheK63TPg', 'EXCLUSIVE', ':', 'Inside', 'Paytm', ',', 'the', 'first', '24', 'hours', 'after', '#', 'demonetization', 'https://t.co/MGg8yfaEaw', 'via', '@bi_india', 'RT', '@pGurus1', ':', '#', 'Demonetization', 'move', 'of', 'Modi', ';', 'Who', 'is', 'supporting', 'it', ',', 'who', 'is', 'opposing', 'it', 'and', 'why', '?', 'A', 'complete', 'coverage', 'of', 'all', 'parties', '-', 'https://t', '\\x85 ', 'RT', '@kanimozhi', ':', 'Ts', 'is', 'exactly', 'what', 'Pappu', '&', 'amp', ';', 'opposition', 'has', 'done', 'to', 'themselves', 'by', 'opposing', '#', 'Demonetization', 'Now', 'none', 'can', 'stop', 'Modi', 'bandwagon', 'ti', '\\x85 ', 'RT', '@Atheist_Krishna', ':', 'BEFORE', 'and', 'AFTER', 'Gandhi', 'ji', 'heard', 'they', 'are', 'standing', 'there', 'against', '#', 'Demonetization', '\\r\\n', '.', 'https://t.co/9NheK63TPg', 'RT', '@MBQasmi', ':', 'This', 'is', 'a', 'simple', 'survey', 'at', 'my', 'Facebook', 'page', '.', 'This', 'too', 'shows', 'mood', 'of', 'the', 'nation', 'on', '#', 'demonetization', 'Modi', 'has', 'asked', 'wrong', 'questio', '\\x85 ', 'RT', '@Atheist_Krishna', ':', 'BEFORE', 'and', 'AFTER', 'Gandhi', 'ji', 'heard', 'they', 'are', 'standing', 'there', 'against', '#', 'Demonetization', '\\r\\n', '.', 'https://t.co/9NheK63TPg', 'RT', '@anechidna', ':', 'nov', '28', '-', 'work', '1', 'hr', ',', ' ', 'stand', 'in', 'queue', 'for', '8', 'hr', '.', ' ', '#', 'IAmWithModi', ' ', '#', 'demonization', '#', 'tughlakmodi', '#', 'demonetization', 'RT', '@siri_notsiri', ':', 'Spoke', 'about', '#', 'demonetization', 'in', '#', 'India', 'and', 'its', 'impact', 'on', '#', 'women', 'with', '@MarcoWerman', '@pritheworld', ' ', 'https://t.co/EYJfem34nO', 'RT', '@MahikaInfra', ':', 'Must', 'Vote', '\\r\\n\\r\\n', 'After', '9days', 'of', '#', 'demonetization', 'Only', '4', '-', '5Lakhs', 'cr', 'returned', 'to', 'Bank', 'out', 'of', '14.5', 'Lakhs', 'cr', '\\r\\n\\r\\n', 'Kahan', 'gaya', '10', 'Lakhs', 'Cr', '\\x85 ', 'RT', '@MahikaInfra', ':', 'Must', 'Vote', '\\r\\n\\r\\n', 'After', '9days', 'of', '#', 'demonetization', 'Only', '4', '-', '5Lakhs', 'cr', 'returned', 'to', 'Bank', 'out', 'of', '14.5', 'Lakhs', 'cr', '\\r\\n\\r\\n', 'Kahan', 'gaya', '10', 'Lakhs', 'Cr', '\\x85 ', 'Why', 'some', 'bullshits', 'are', 'trying', 'g', 'to', 'be', 'spokesperson', 'of', 'public', 'on', '#', 'Demonetization', '.', 'Let', 'them', 'decide', '.', 'RT', '@Punitspeaks', ':', 'Survey', 'result', 'so', 'far', 'by', '@PMOIndia', 'on', '#', 'Demonetization', '.', '5', 'lakh', 'response', 'in', '24', 'hrs', '.', '90', '%', 'supports', 'note', 'ban', '.', '#', 'MeraDeshBadalRaha', '\\x85 ', 'RT', '@rajeev_mp', ':', 'Today', 'again', '#', 'demonetization', 'debate', 'in', 'Parlmnt', 'stalled', 'due', 'to', 'disruption', '!', '<', 'ed><U+00A0><U+00BD><ed><U+00B9><U+0084', '>', 'i', 'do', 'nt', 'undrstnd', 'why', 'oppstn', 'wants', 'to', 'stall', 'its', 'ow', '\\x85 ', 'nov', '28', '-', 'work', '1', 'hr', ',', ' ', 'stand', 'in', 'queue', 'for', '8', 'hr', '.', ' ', '#', 'IAmWithModi', ' ', '#', 'demonization', '#', 'tughlakmodi', '#', 'demonetization', 'RT', '@DrGPradhan', ':', '8', '\\r\\n\\r\\n', 'This', 'tweet', 'of', '@minimathur', 'BIBI', 'explains', 'why', 'she', 'is', 'having', 'a', 'prob', 'with', '#', 'demonetization', '..', 'In', 'first', 'part', 'she', 'says', 'she', 'ca', \"n't\", '\\x85 ', 'RT', '@RealHistoryPic', ':', 'Ca', \"n't\", 'say', 'anything', 'about', 'Productivity', 'but', 'Creativity', 'has', 'increased', 'after', '#', 'Demonetization.(2016', ')', 'https://t.co/0fMh3UMbVq', 'RT', '@Atheist_Krishna', ':', 'BEFORE', 'and', 'AFTER', 'Gandhi', 'ji', 'heard', 'they', 'are', 'standing', 'there', 'against', '#', 'Demonetization', '\\r\\n', '.', 'https://t.co/9NheK63TPg', '@chaks1969', '@mvmeet', 'Well', 'educated', 'Keralites', '&', 'amp', ';', 'Bengali', \"'s\", 'will', 'support', 'Bandh', 'not', 'coz', '#', 'Demonetization', 'they', 'only', 'know', 'to', 'react', 'not', 'respond', 'RT', '@MahikaInfra', ':', 'Must', 'Vote', '\\r\\n\\r\\n', 'After', '9days', 'of', '#', 'demonetization', 'Only', '4', '-', '5Lakhs', 'cr', 'returned', 'to', 'Bank', 'out', 'of', '14.5', 'Lakhs', 'cr', '\\r\\n\\r\\n', 'Kahan', 'gaya', '10', 'Lakhs', 'Cr', '\\x85 ', 'RT', '@BrainandMoney', ':', 'The', 'effect', 'of', '#', 'Demonetization', '!', '!', '\\r\\n', '@ravishndtv', '@ShekharGupta', '@hvgoenka', '@mrsfunnybones', '@GabbbarSingh', '@Iamanirudhsethi', 'https', '\\x85 ', 'RT', '@Hemant_80', ':', 'Did', 'you', 'vote', 'on', '#', 'Demonetization', 'on', 'Modi', 'survey', 'app', '?', 'RT', '@DrGPradhan', ':', '8', '\\r\\n\\r\\n', 'This', 'tweet', 'of', '@minimathur', 'BIBI', 'explains', 'why', 'she', 'is', 'having', 'a', 'prob', 'with', '#', 'demonetization', '..', 'In', 'first', 'part', 'she', 'says', 'she', 'ca', \"n't\", '\\x85 ', 'RT', '@Hemant_80', ':', 'Did', 'you', 'vote', 'on', '#', 'Demonetization', 'on', 'Modi', 'survey', 'app', '?', 'RT', '@ShashiTharoor', ':', 'Joined', 'the', 'line', 'of', 'Opposition', 'MPs', 'demonstrating', 'solidarity', 'on', '#', 'demonetization', '&', 'amp;demanding', 'that', '@PMOIndia', 'address', 'Parliame', '\\x85 ', 'RT', '@ModiBharosa', ':', 'Huge', 'support', 'for', 'PM', '@narendramodi', '\\x92s', '#', 'demonetization', 'Move', 'Across', 'the', 'Nation', '\\r\\n', '80', '-', '86', '%', 'people', 'back', 'demonetization', ':', 'C', '-', 'voter', 'su', '\\x85 ', 'RT', '@ShashiTharoor', ':', 'Joined', 'the', 'line', 'of', 'Opposition', 'MPs', 'demonstrating', 'solidarity', 'on', '#', 'demonetization', '&', 'amp;demanding', 'that', '@PMOIndia', 'address', 'Parliame', '\\x85 ', 'RT', '@DrGPradhan', ':', '8', '\\r\\n\\r\\n', 'This', 'tweet', 'of', '@minimathur', 'BIBI', 'explains', 'why', 'she', 'is', 'having', 'a', 'prob', 'with', '#', 'demonetization', '..', 'In', 'first', 'part', 'she', 'says', 'she', 'ca', \"n't\", '\\x85 ', 'How', 'to', 'convert', 'all', 'your', 'black', 'money', 'into', 'white', 'following', 'the', '#', 'DeMonetization', ':', 'How', 'to', '\\x85 ', 'https://t.co/kHiIqcCJqO', 'RT', '@harshkkapoor', ':', '#', 'DeMonetization', 'survey', 'results', 'after', '24', 'hours', '\\r\\n', '5Lacs', 'opinions', '\\r\\n', 'Amazing', 'response&amp', ';', 'Commitment', 'in', 'fight', 'against', 'Blackmoney', '\\r\\n', '@na', '\\x85 ', 'RT', '@DrGPradhan', ':', '8', '\\r\\n\\r\\n', 'This', 'tweet', 'of', '@minimathur', 'BIBI', 'explains', 'why', 'she', 'is', 'having', 'a', 'prob', 'with', '#', 'demonetization', '..', 'In', 'first', 'part', 'she', 'says', 'she', 'ca', \"n't\", '\\x85 ', 'We', 'd', '23', 'Nov', '2016', 'Communist', 'Party', 'of', '#', 'India', 'files', 'petition', 'with', 'Supreme', 'Court', '#', 'challenging', 'government', \"'s\", 'controversial', '#', 'demonetization', 'decision', 'Any', 'move', 'against', '#', 'demonetization', 'should', 'b', 'compared', '2', 'treason', '!', 'This', 'move', 'may', 'hv', 'created', 'little', 'trouble', 'but', 'it', \"'s\", 'gon', 'na', 'save', 'India', '\\r\\n', '#', 'netascashin', 'RT', '@Punitspeaks', ':', 'Survey', 'result', 'so', 'far', 'by', '@PMOIndia', 'on', '#', 'Demonetization', '.', '5', 'lakh', 'response', 'in', '24', 'hrs', '.', '90', '%', 'supports', 'note', 'ban', '.', '#', 'MeraDeshBadalRaha', '\\x85 ', 'then', 'the', 'result', 'will', 'be', '#', 'Demonetization', 'regrets', '.', 'Will', 'rural', 'economy', 'turn', '#', 'cashless', '.', 'Remains', 'to', 'be', 'seen', '.', 'RT', '@BaradaDs', ':', 'Oppositions', 'demand', 'strike', '#', '<', 'U+0906><U+092A>_<U+092A><U+093E><U+0917><U+0932>_<U+0939><U+0948><U+0902', '>', '\\r\\n', '#', 'DeMonetization', 'RT', '@DrGPradhan', ':', '8', '\\r\\n\\r\\n', 'This', 'tweet', 'of', '@minimathur', 'BIBI', 'explains', 'why', 'she', 'is', 'having', 'a', 'prob', 'with', '#', 'demonetization', '..', 'In', 'first', 'part', 'she', 'says', 'she', 'ca', \"n't\", '\\x85 ', 'RT', '@Atheist_Krishna', ':', 'The', 'effect', 'of', '#', 'Demonetization', '!', '!', '\\r\\n', '.', 'https://t.co/A8of7zh2f5', 'RT', '@Hemant_80', ':', 'Did', 'you', 'vote', 'on', '#', 'Demonetization', 'on', 'Modi', 'survey', 'app', '?', '#', 'Demonetization', '#', 'India', '#', 'EconomicsBehind', '\\r\\n', 'Economics', 'behind', 'demonetization', 'of', 'Rs', '1000', '&', 'amp', ';', '500', 'notes', '.', '\\r\\n', 'https://t.co/XK1TlhmT8c', 'RT', '@Punitspeaks', ':', 'Survey', 'result', 'so', 'far', 'by', '@PMOIndia', 'on', '#', 'Demonetization', '.', '5', 'lakh', 'response', 'in', '24', 'hrs', '.', '90', '%', 'supports', 'note', 'ban', '.', '#', 'MeraDeshBadalRaha', '\\x85 ', 'RT', '@harshkkapoor', ':', '#', 'DeMonetization', 'survey', 'results', 'after', '24', 'hours', '\\r\\n', '5Lacs', 'opinions', '\\r\\n', 'Amazing', 'response&amp', ';', 'Commitment', 'in', 'fight', 'against', 'Blackmoney', '\\r\\n', '@na', '\\x85 ', 'RT', '@Atheist_Krishna', ':', 'BEFORE', 'and', 'AFTER', 'Gandhi', 'ji', 'heard', 'they', 'are', 'standing', 'there', 'against', '#', 'Demonetization', '\\r\\n', '.', 'https://t.co/9NheK63TPg', 'RT', '@Punitspeaks', ':', 'Survey', 'result', 'so', 'far', 'by', '@PMOIndia', 'on', '#', 'Demonetization', '.', '5', 'lakh', 'response', 'in', '24', 'hrs', '.', '90', '%', 'supports', 'note', 'ban', '.', '#', 'MeraDeshBadalRaha', '\\x85 ', 'RT', '@Dipankar_cpiml', ':', 'The', 'Modi', 'app', 'on', '#', 'DeMonetization', 'proves', 'once', 'again', 'that', 'the', 'govt', 'is', 'totally', 'indifferent', 'to', 'the', 'mounting', 'misery', 'and', 'hards', '\\x85 ', 'RT', '@Hemant_80', ':', 'Did', 'you', 'vote', 'on', '#', 'Demonetization', 'on', 'Modi', 'survey', 'app', '?', 'RT', '@Atheist_Krishna', ':', 'BEFORE', 'and', 'AFTER', 'Gandhi', 'ji', 'heard', 'they', 'are', 'standing', 'there', 'against', '#', 'Demonetization', '\\r\\n', '.', 'https://t.co/9NheK63TPg', 'Oppositions', 'demand', 'strike', '#', '<', 'U+0906><U+092A>_<U+092A><U+093E><U+0917><U+0932>_<U+0939><U+0948><U+0902', '>', '\\r\\n', '#', 'DeMonetization', 'RT', '@Punitspeaks', ':', 'Survey', 'result', 'so', 'far', 'by', '@PMOIndia', 'on', '#', 'Demonetization', '.', '5', 'lakh', 'response', 'in', '24', 'hrs', '.', '90', '%', 'supports', 'note', 'ban', '.', '#', 'MeraDeshBadalRaha', '\\x85 ', 'RT', '@DrGPradhan', ':', '8', '\\r\\n\\r\\n', 'This', 'tweet', 'of', '@minimathur', 'BIBI', 'explains', 'why', 'she', 'is', 'having', 'a', 'prob', 'with', '#', 'demonetization', '..', 'In', 'first', 'part', 'she', 'says', 'she', 'ca', \"n't\", '\\x85 ', 'RT', '@gauravcsawant', ':', 'Rs', '40', 'lakh', 'looted', 'from', 'a', 'bank', 'in', 'Kishtwar', 'in', 'J&amp;K.', 'Third', 'such', 'incident', 'since', '#', 'demonetization', '.', 'That', \"'s\", 'how', 'terrorists', 'have', '\\x85 ', 'RT', '@Punitspeaks', ':', 'Survey', 'result', 'so', 'far', 'by', '@PMOIndia', 'on', '#', 'Demonetization', '.', '5', 'lakh', 'response', 'in', '24', 'hrs', '.', '90', '%', 'supports', 'note', 'ban', '.', '#', 'MeraDeshBadalRaha', '\\x85 ', 'When', 'u', 'see', 'ppl', 'like', 'Mamta', '&', 'amp', ';', 'Mayawati', 'raising', 'question', 'abt', '#', 'demonetization', ',', 'thn', 'anyone', 'will', 'be', 'agree', 'that', 'it', \"'s\", 'good', 'move', 'by', 'Modi', '#', 'NoteBandi', 'RT', '@ShashiTharoor', ':', 'Joined', 'the', 'line', 'of', 'Opposition', 'MPs', 'demonstrating', 'solidarity', 'on', '#', 'demonetization', '&', 'amp;demanding', 'that', '@PMOIndia', 'address', 'Parliame', '\\x85 ', 'RT', '@Bollywood_Stuff', ':', '#', 'RakhiSawant', 'Support', '#', 'demonetization', 'of', '#', 'Currency', 'By', '#', 'PMModi', '\\r\\n\\r\\n', 'VIDEO', '<', 'U+279C', '>', 'https://t.co', '/', 'n7kvc1wsCy', '\\r\\n\\r\\n', '#', 'Rs500andRs1000', '#', 'bollywo', '\\x85 ', 'Spoke', 'about', '#', 'demonetization', 'in', '#', 'India', 'and', 'its', 'impact', 'on', '#', 'women', 'with', '@MarcoWerman', '@pritheworld', ' ', 'https://t.co/EYJfem34nO', 'RT', '@SreeIyer1', ':', '#', 'Demonetization', 'The', 'time', 'has', 'come', 'to', 'put', 'MUDRA', 'into', 'action', ',', 'writes', 'Prof.', 'R', 'Vaidyanathan', '-', 'https://t.co/7SESPjFTD4', '@Swamy39', '@', '\\x85 ', 'RT', '@Punitspeaks', ':', 'Survey', 'result', 'so', 'far', 'by', '@PMOIndia', 'on', '#', 'Demonetization', '.', '5', 'lakh', 'response', 'in', '24', 'hrs', '.', '90', '%', 'supports', 'note', 'ban', '.', '#', 'MeraDeshBadalRaha', '\\x85 ', '5lakh', 'from', '24.7mil', 'followers', 'of', '@narendramodi', 'is', '~2', '%', 'only', '&', 'amp', ';', 'abt', '0.04', '%', 'only', 'frm', '1.2bil', 'India', 'population', '#', 'demonetization', '@ndtv', '#', 'NOT90%ofIndia', 'RT', '@DrGPradhan', ':', '8', '\\r\\n\\r\\n', 'This', 'tweet', 'of', '@minimathur', 'BIBI', 'explains', 'why', 'she', 'is', 'having', 'a', 'prob', 'with', '#', 'demonetization', '..', 'In', 'first', 'part', 'she', 'says', 'she', 'ca', \"n't\", '\\x85 ', 'RT', '@DrGPradhan', ':', '8', '\\r\\n\\r\\n', 'This', 'tweet', 'of', '@minimathur', 'BIBI', 'explains', 'why', 'she', 'is', 'having', 'a', 'prob', 'with', '#', 'demonetization', '..', 'In', 'first', 'part', 'she', 'says', 'she', 'ca', \"n't\", '\\x85 ', 'Only', '5', 'Lakhs', 'Responses', \"'\", 'on', '#', 'Demonetization', '?', '?', '#', 'Modi', 'ji', 'has', 'more', 'than', '20.4', 'millions', 'follower', \"'s\", 'on', '#', 'Twitter', '&', 'amp', ';', 'approx', '...', 'https://t.co/WdoITzJ7n2', 'RT', '@DrGPradhan', ':', '8', '\\r\\n\\r\\n', 'This', 'tweet', 'of', '@minimathur', 'BIBI', 'explains', 'why', 'she', 'is', 'having', 'a', 'prob', 'with', '#', 'demonetization', '..', 'In', 'first', 'part', 'she', 'says', 'she', 'ca', \"n't\", '\\x85 ', 'RT', '@Atheist_Krishna', ':', 'BEFORE', 'and', 'AFTER', 'Gandhi', 'ji', 'heard', 'they', 'are', 'standing', 'there', 'against', '#', 'Demonetization', '\\r\\n', '.', 'https://t.co/9NheK63TPg', 'This', 'is', 'a', 'simple', 'survey', 'at', 'my', 'Facebook', 'page', '.', 'This', 'too', 'shows', 'mood', 'of', 'the', 'nation', 'on', '#', 'demonetization', 'Modi', 'has', 'asked', '...', 'https://t.co/AE6asWMMtB', '@narendramodi', '#', 'Demonetization', 'is', 'the', 'last', 'refuge', 'of', 'a', 'political', 'scoundrel', 'who', 'keeps', '@arunjaitley', '@DasShaktikanta', 'etc', 'as', 'aids', 'RT', '@Atheist_Krishna', ':', 'BEFORE', 'and', 'AFTER', 'Gandhi', 'ji', 'heard', 'they', 'are', 'standing', 'there', 'against', '#', 'Demonetization', '\\r\\n', '.', 'https://t.co/9NheK63TPg', 'This', 'is', 'a', 'simple', 'survey', 'at', 'my', 'Facebook', 'page', '.', 'This', 'too', 'shows', 'mood', 'of', 'the', 'nation', 'on', '#', 'demonetization', 'Modi', 'has', 'asked', 'wr', '\\x85 ', 'https://t.co/Hn94KBvm8J', 'After', 'the', '#', 'demonetization', ',', 'searches', 'about', '#', 'NarendraModi', \"'s\", 'app', 'are', 'trending', 'on', 'app', 'stores', 'https://t.co/BsMvVEf5S4', 'RT', '@Hemant_80', ':', 'Did', 'you', 'vote', 'on', '#', 'Demonetization', 'on', 'Modi', 'survey', 'app', '?', 'RT', '@Punitspeaks', ':', 'Survey', 'result', 'so', 'far', 'by', '@PMOIndia', 'on', '#', 'Demonetization', '.', '5', 'lakh', 'response', 'in', '24', 'hrs', '.', '90', '%', 'supports', 'note', 'ban', '.', '#', 'MeraDeshBadalRaha', '\\x85 ', 'RT', '@Punitspeaks', ':', 'Survey', 'result', 'so', 'far', 'by', '@PMOIndia', 'on', '#', 'Demonetization', '.', '5', 'lakh', 'response', 'in', '24', 'hrs', '.', '90', '%', 'supports', 'note', 'ban', '.', '#', 'MeraDeshBadalRaha', '\\x85 ', 'RT', '@harshkkapoor', ':', '#', 'DeMonetization', 'survey', 'results', 'after', '24', 'hours', '\\r\\n', '5Lacs', 'opinions', '\\r\\n', 'Amazing', 'response&amp', ';', 'Commitment', 'in', 'fight', 'against', 'Blackmoney', '\\r\\n', '@na', '\\x85 ', 'RT', '@ModiBharosa', ':', 'Huge', 'support', 'for', 'PM', '@narendramodi', '\\x92s', '#', 'demonetization', 'Move', 'Across', 'the', 'Nation', '\\r\\n', '80', '-', '86', '%', 'people', 'back', 'demonetization', ':', 'C', '-', 'voter', 'su', '\\x85 ', 'RT', '@Atheist_Krishna', ':', 'BEFORE', 'and', 'AFTER', 'Gandhi', 'ji', 'heard', 'they', 'are', 'standing', 'there', 'against', '#', 'Demonetization', '\\r\\n', '.', 'https://t.co/9NheK63TPg', '#', 'sirjadeja', ' ', 'title', 'has', 'been', 'substituted', 'by', '#', 'moderndayhitler', 'after', '#', 'demonetization', '.', 'RT', '@Hemant_80', ':', 'Did', 'you', 'vote', 'on', '#', 'Demonetization', 'on', 'Modi', 'survey', 'app', '?', 'RT', '@Atheist_Krishna', ':', 'BEFORE', 'and', 'AFTER', 'Gandhi', 'ji', 'heard', 'they', 'are', 'standing', 'there', 'against', '#', 'Demonetization', '\\r\\n', '.', 'https://t.co/9NheK63TPg', 'RT', '@Atheist_Krishna', ':', 'BEFORE', 'and', 'AFTER', 'Gandhi', 'ji', 'heard', 'they', 'are', 'standing', 'there', 'against', '#', 'Demonetization', '\\r\\n', '.', 'https://t.co/9NheK63TPg', 'RT', '@DrGPradhan', ':', '8', '\\r\\n\\r\\n', 'This', 'tweet', 'of', '@minimathur', 'BIBI', 'explains', 'why', 'she', 'is', 'having', 'a', 'prob', 'with', '#', 'demonetization', '..', 'In', 'first', 'part', 'she', 'says', 'she', 'ca', \"n't\", '\\x85 ', 'RT', '@ShashiTharoor', ':', 'Joined', 'the', 'line', 'of', 'Opposition', 'MPs', 'demonstrating', 'solidarity', 'on', '#', 'demonetization', '&', 'amp;demanding', 'that', '@PMOIndia', 'address', 'Parliame', '\\x85 ', 'RT', '@Hemant_80', ':', 'Did', 'you', 'vote', 'on', '#', 'Demonetization', 'on', 'Modi', 'survey', 'app', '?', 'RT', '@Dipankar_cpiml', ':', 'The', 'Modi', 'app', 'on', '#', 'DeMonetization', 'proves', 'once', 'again', 'that', 'the', 'govt', 'is', 'totally', 'indifferent', 'to', 'the', 'mounting', 'misery', 'and', 'hards', '\\x85 ', 'RT', '@Punitspeaks', ':', 'Survey', 'result', 'so', 'far', 'by', '@PMOIndia', 'on', '#', 'Demonetization', '.', '5', 'lakh', 'response', 'in', '24', 'hrs', '.', '90', '%', 'supports', 'note', 'ban', '.', '#', 'MeraDeshBadalRaha', '\\x85 ', 'RT', '@YSRCParty', ':', 'Days', 'before', '#', 'Demonetization', 'announcement', ',', '@ncbn', 'sold', 'his', 'Heritage', 'shares', ',', 'clearly', 'evident', 'that', 'he', 'had', 'prior', 'knowledge', 'of', 'the', '\\x85 ', 'RT', '@DrGPradhan', ':', '8', '\\r\\n\\r\\n', 'This', 'tweet', 'of', '@minimathur', 'BIBI', 'explains', 'why', 'she', 'is', 'having', 'a', 'prob', 'with', '#', 'demonetization', '..', 'In', 'first', 'part', 'she', 'says', 'she', 'ca', \"n't\", '\\x85 ', 'RT', '@Atheist_Krishna', ':', 'BEFORE', 'and', 'AFTER', 'Gandhi', 'ji', 'heard', 'they', 'are', 'standing', 'there', 'against', '#', 'Demonetization', '\\r\\n', '.', 'https://t.co/9NheK63TPg', 'RT', '@Atheist_Krishna', ':', 'The', 'effect', 'of', '#', 'Demonetization', '!', '!', '\\r\\n', '.', 'https://t.co/A8of7zh2f5', 'RT', '@FTIIndia', ':', '#', 'Demonetization', '\\x96', 'How', 'does', 'it', 'impact', 'the', 'common', 'man', '?', '\\r\\n', 'Read', 'our', 'views', 'here', '-', 'https://t.co/kFCVgGUcmd', 'https://t.co/n5CjxRgCzr', 'RT', '@Hemant_80', ':', 'Did', 'you', 'vote', 'on', '#', 'Demonetization', 'on', 'Modi', 'survey', 'app', '?', 'RT', '@ShashiTharoor', ':', 'Joined', 'the', 'line', 'of', 'Opposition', 'MPs', 'demonstrating', 'solidarity', 'on', '#', 'demonetization', '&', 'amp;demanding', 'that', '@PMOIndia', 'address', 'Parliame', '\\x85 ', 'RT', '@DrGPradhan', ':', '8', '\\r\\n\\r\\n', 'This', 'tweet', 'of', '@minimathur', 'BIBI', 'explains', 'why', 'she', 'is', 'having', 'a', 'prob', 'with', '#', 'demonetization', '..', 'In', 'first', 'part', 'she', 'says', 'she', 'ca', \"n't\", '\\x85 ', 'RT', '@Punitspeaks', ':', 'Survey', 'result', 'so', 'far', 'by', '@PMOIndia', 'on', '#', 'Demonetization', '.', '5', 'lakh', 'response', 'in', '24', 'hrs', '.', '90', '%', 'supports', 'note', 'ban', '.', '#', 'MeraDeshBadalRaha', '\\x85 ', 'RT', '@centerofright', ':', 'Interesting', 'results', 'from', '@narendramodi', 'APP', 'poll', 'on', '#', 'DeMonetization', '-', 'It', 'is', 'still', 'open', ',', 'Please', 'participate', 'https://t.co/', '\\x85 ', 'RT', '@Atheist_Krishna', ':', 'BEFORE', 'and', 'AFTER', 'Gandhi', 'ji', 'heard', 'they', 'are', 'standing', 'there', 'against', '#', 'Demonetization', '\\r\\n', '.', 'https://t.co/9NheK63TPg', 'RT', '@MahikaInfra', ':', '@narendramodi', 'Ji', '\\r\\n\\r\\n', 'An', 'unbiased', 'POLL', '\\r\\n', 'Of', 'the', 'people', '\\r\\n', 'By', 'the', 'people', '\\r\\n', 'For', 'the', 'people', '\\r\\n', 'of', '#', '<', 'U+092D><U+093E><U+0930><U+0924><U+0935><U+0930><U+094D><U+0937', '>', 'abt', '\\r\\n', '#', 'demonetization', '\\r\\n', '<', 'ed><U+00A0><U+00BD><ed><U+00B1><U+008C><ed><U+00A0><U+00BC><ed><U+00BF><U+00BB><ed><U+00A0><U+00BD><ed><U+00B9><U+008F><ed><U+00A0><U+00BD><ed><U+00B1><U+0087', '>', '\\r\\n', 'https', ':', '\\x85 ', 'RT', '@DrGPradhan', ':', '8', '\\r\\n\\r\\n', 'This', 'tweet', 'of', '@minimathur', 'BIBI', 'explains', 'why', 'she', 'is', 'having', 'a', 'prob', 'with', '#', 'demonetization', '..', 'In', 'first', 'part', 'she', 'says', 'she', 'ca', \"n't\", '\\x85 ', 'RT', '@MahikaInfra', ':', '@narendramodi', '\\r\\n', '1st', 'Phase', 'deposits', 'of', '#', 'demonetization', 'is', '\"', 'The', 'Real', 'Currency', 'Requirement', '\"', 'of', 'our', 'nation', 'as', 'liquid', 'cash', '\\r\\n', 'https', ':', '\\x85 ', 'RT', '@YSRCParty', ':', 'Days', 'before', '#', 'Demonetization', 'announcement', ',', '@ncbn', 'sold', 'his', 'Heritage', 'shares', ',', 'clearly', 'evident', 'that', 'he', 'had', 'prior', 'knowledge', 'of', 'the', '\\x85 ', 'RT', '@Hemant_80', ':', 'Did', 'you', 'vote', 'on', '#', 'Demonetization', 'on', 'Modi', 'survey', 'app', '?', 'RT', '@DrGPradhan', ':', '8', '\\r\\n\\r\\n', 'This', 'tweet', 'of', '@minimathur', 'BIBI', 'explains', 'why', 'she', 'is', 'having', 'a', 'prob', 'with', '#', 'demonetization', '..', 'In', 'first', 'part', 'she', 'says', 'she', 'ca', \"n't\", '\\x85 ', 'RT', '@Dipankar_cpiml', ':', 'The', 'Modi', 'app', 'on', '#', 'DeMonetization', 'proves', 'once', 'again', 'that', 'the', 'govt', 'is', 'totally', 'indifferent', 'to', 'the', 'mounting', 'misery', 'and', 'hards', '\\x85 ', 'RT', '@DrGPradhan', ':', '8', '\\r\\n\\r\\n', 'This', 'tweet', 'of', '@minimathur', 'BIBI', 'explains', 'why', 'she', 'is', 'having', 'a', 'prob', 'with', '#', 'demonetization', '..', 'In', 'first', 'part', 'she', 'says', 'she', 'ca', \"n't\", '\\x85 ', 'RT', '@Atheist_Krishna', ':', 'BEFORE', 'and', 'AFTER', 'Gandhi', 'ji', 'heard', 'they', 'are', 'standing', 'there', 'against', '#', 'Demonetization', '\\r\\n', '.', 'https://t.co/9NheK63TPg', 'RT', '@Ra_THORe', ':', '#', 'IndiaFightsCorruption', 'The', 'honest', 'feel', 'vindicated', 'by', 'the', 'historic', 'move', 'on', '#', 'Demonetization', ':', '@arunjaitley', 'ji', '@', 'BJP', 'Parliamenta', '\\x85 ', 'RT', '@kanimozhi', ':', 'Ts', 'is', 'exactly', 'what', 'Pappu', '&', 'amp', ';', 'opposition', 'has', 'done', 'to', 'themselves', 'by', 'opposing', '#', 'Demonetization', 'Now', 'none', 'can', 'stop', 'Modi', 'bandwagon', 'ti', '\\x85 ', 'Just', 'think', ':', '\\r\\n\\r\\n', 'What', 'If', 'RBI', 'removed', '500', 'and', '1000', 'notes', ',', 'without', 'telling', 'anyone', '(', 'Ruling', 'and', 'opposition', ')', '\\r\\n\\r\\n', 'shock', 'n', 'surprise', '<', 'ed><U+00A0><U+00BD><ed><U+00B8><U+009B', '>', '\\r\\n\\r\\n', '#', 'demonetization', 'RT', '@Atheist_Krishna', ':', 'BEFORE', 'and', 'AFTER', 'Gandhi', 'ji', 'heard', 'they', 'are', 'standing', 'there', 'against', '#', 'Demonetization', '\\r\\n', '.', 'https://t.co/9NheK63TPg', 'RT', '@Ra_THORe', ':', '#', 'Demonetization', '#', 'IndiaFightsCorruption', 'Immense', 'courage', 'needed', 'to', 'take', 'such', 'a', 'momentous', 'decision', '@arunjaitley', '@narendramodi', '@P', '\\x85 ', 'RT', '@Hemant_80', ':', 'Did', 'you', 'vote', 'on', '#', 'Demonetization', 'on', 'Modi', 'survey', 'app', '?', 'RT', '@Gadgets360', ':', 'After', 'the', '#', 'demonetization', ',', 'searches', 'about', '#', 'NarendraModi', \"'s\", 'app', 'are', 'trending', 'on', 'app', 'stores', 'https://t.co/ZetKRqqClX', 'RT', '@DrGPradhan', ':', '8', '\\r\\n\\r\\n', 'This', 'tweet', 'of', '@minimathur', 'BIBI', 'explains', 'why', 'she', 'is', 'having', 'a', 'prob', 'with', '#', 'demonetization', '..', 'In', 'first', 'part', 'she', 'says', 'she', 'ca', \"n't\", '\\x85 ', 'RT', '@Atheist_Krishna', ':', 'BEFORE', 'and', 'AFTER', 'Gandhi', 'ji', 'heard', 'they', 'are', 'standing', 'there', 'against', '#', 'Demonetization', '\\r\\n', '.', 'https://t.co/9NheK63TPg', 'RT', '@Atheist_Krishna', ':', 'BEFORE', 'and', 'AFTER', 'Gandhi', 'ji', 'heard', 'they', 'are', 'standing', 'there', 'against', '#', 'Demonetization', '\\r\\n', '.', 'https://t.co/9NheK63TPg', 'RT', '@kanimozhi', ':', 'Ts', 'is', 'exactly', 'what', 'Pappu', '&', 'amp', ';', 'opposition', 'has', 'done', 'to', 'themselves', 'by', 'opposing', '#', 'Demonetization', 'Now', 'none', 'can', 'stop', 'Modi', 'bandwagon', 'ti', '\\x85 ', 'RT', '@Atheist_Krishna', ':', 'BEFORE', 'and', 'AFTER', 'Gandhi', 'ji', 'heard', 'they', 'are', 'standing', 'there', 'against', '#', 'Demonetization', '\\r\\n', '.', 'https://t.co/9NheK63TPg', 'RT', '@Atheist_Krishna', ':', 'BEFORE', 'and', 'AFTER', 'Gandhi', 'ji', 'heard', 'they', 'are', 'standing', 'there', 'against', '#', 'Demonetization', '\\r\\n', '.', 'https://t.co/9NheK63TPg', 'RT', '@Dipankar_cpiml', ':', 'The', 'Modi', 'app', 'on', '#', 'DeMonetization', 'proves', 'once', 'again', 'that', 'the', 'govt', 'is', 'totally', 'indifferent', 'to', 'the', 'mounting', 'misery', 'and', 'hards', '\\x85 ', 'RT', '@DrGPradhan', ':', '8', '\\r\\n\\r\\n', 'This', 'tweet', 'of', '@minimathur', 'BIBI', 'explains', 'why', 'she', 'is', 'having', 'a', 'prob', 'with', '#', 'demonetization', '..', 'In', 'first', 'part', 'she', 'says', 'she', 'ca', \"n't\", '\\x85 ', 'RT', '@Atheist_Krishna', ':', 'The', 'effect', 'of', '#', 'Demonetization', '!', '!', '\\r\\n', '.', 'https://t.co/A8of7zh2f5', 'Watch', ':', 'Somebody', 'made', 'a', 'spoof', 'video', 'on', '#', 'demonetization', 'with', '#', 'AeDilHaiMushkil', 'trailer', 'and', 'it', \"'s\", 'hilarious', '\\x85 ', 'https://t.co/L6NdndHSWp', 'RT', '@ShashiTharoor', ':', 'Joined', 'the', 'line', 'of', 'Opposition', 'MPs', 'demonstrating', 'solidarity', 'on', '#', 'demonetization', '&', 'amp;demanding', 'that', '@PMOIndia', 'address', 'Parliame', '\\x85 ', 'RT', '@DrGPradhan', ':', '8', '\\r\\n\\r\\n', 'This', 'tweet', 'of', '@minimathur', 'BIBI', 'explains', 'why', 'she', 'is', 'having', 'a', 'prob', 'with', '#', 'demonetization', '..', 'In', 'first', 'part', 'she', 'says', 'she', 'ca', \"n't\", '\\x85 ', 'RT', '@Hemant_80', ':', 'Did', 'you', 'vote', 'on', '#', 'Demonetization', 'on', 'Modi', 'survey', 'app', '?', 'Gadgets360', ':', 'After', 'the', '#', 'demonetization', ',', 'searches', 'about', '#', 'NarendraModi', \"'s\", 'app', 'are', 'trending', 'on', 'app', 'stores', 'https://t.co/zniLvLrJdV', 'RT', '@pGurus1', ':', '#', 'Demonetization', 'move', 'of', 'Modi', ';', 'Who', 'is', 'supporting', 'it', ',', 'who', 'is', 'opposing', 'it', 'and', 'why', '?', 'A', 'complete', 'coverage', 'of', 'all', 'parties', '-', 'https://t', '\\x85 ', 'RT', '@Hemant_80', ':', 'Did', 'you', 'vote', 'on', '#', 'Demonetization', 'on', 'Modi', 'survey', 'app', '?', 'RT', '@Hemant_80', ':', 'Did', 'you', 'vote', 'on', '#', 'Demonetization', 'on', 'Modi', 'survey', 'app', '?', 'RT', '@Punitspeaks', ':', 'Survey', 'result', 'so', 'far', 'by', '@PMOIndia', 'on', '#', 'Demonetization', '.', '5', 'lakh', 'response', 'in', '24', 'hrs', '.', '90', '%', 'supports', 'note', 'ban', '.', '#', 'MeraDeshBadalRaha', '\\x85 ', 'RT', '@arvind_69', ':', 'MamataOfficial', 'After', '#', 'Demonetization', 'max', 'amount', 'was', 'deposited', 'in', '#', 'JanDhanAccount', 'in', 'WB', '.', 'What', 'is', 'the', 'matter', '?', 'How', 'u', 'brought', 'so', '\\x85 ', 'RT', '@Dipankar_cpiml', ':', 'The', 'Modi', 'app', 'on', '#', 'DeMonetization', 'proves', 'once', 'again', 'that', 'the', 'govt', 'is', 'totally', 'indifferent', 'to', 'the', 'mounting', 'misery', 'and', 'hards', '\\x85 ', 'India', \"'s\", 'capacity', 'utilization', 'rate', 'on', 'neg', '.', 'trend', '-', 'wo', \"n't\", 'be', 'helped', 'in', 'short', 'term', 'by', 'investment', 'and', 'consumption', 'shock', 'due', 'to', '#', 'demonetization', 'Additonal', 'Secretary', ',', 'Economic', 'Affairs', ',', '\\xa0', 'GOI', ',', 'MM', 'Kutty', 'called', 'on', 'CM', 'Khandu', 'to', 'discuss', 'on', '#', 'demonetization', '.', '\\x85 ', 'https://t.co/F6HUa5eOSl', 'RT', '@Atheist_Krishna', ':', 'The', 'effect', 'of', '#', 'Demonetization', '!', '!', '\\r\\n', '.', 'https://t.co/A8of7zh2f5', 'RT', '@DrGPradhan', ':', '8', '\\r\\n\\r\\n', 'This', 'tweet', 'of', '@minimathur', 'BIBI', 'explains', 'why', 'she', 'is', 'having', 'a', 'prob', 'with', '#', 'demonetization', '..', 'In', 'first', 'part', 'she', 'says', 'she', 'ca', \"n't\", '\\x85 ', 'RT', '@Atheist_Krishna', ':', 'BEFORE', 'and', 'AFTER', 'Gandhi', 'ji', 'heard', 'they', 'are', 'standing', 'there', 'against', '#', 'Demonetization', '\\r\\n', '.', 'https://t.co/9NheK63TPg', 'RT', '@Hemant_80', ':', 'Did', 'you', 'vote', 'on', '#', 'Demonetization', 'on', 'Modi', 'survey', 'app', '?', 'RT', '@Gadgets360', ':', 'After', 'the', '#', 'demonetization', ',', 'searches', 'about', '#', 'NarendraModi', \"'s\", 'app', 'are', 'trending', 'on', 'app', 'stores', 'https://t.co/ZetKRqqClX', 'RT', '@Punitspeaks', ':', 'Survey', 'result', 'so', 'far', 'by', '@PMOIndia', 'on', '#', 'Demonetization', '.', '5', 'lakh', 'response', 'in', '24', 'hrs', '.', '90', '%', 'supports', 'note', 'ban', '.', '#', 'MeraDeshBadalRaha', '\\x85 ', 'RT', '@Hemant_80', ':', 'Did', 'you', 'vote', 'on', '#', 'Demonetization', 'on', 'Modi', 'survey', 'app', '?', 'RT', '@dnaAfterHrs', ':', 'Watch', ':', 'Somebody', 'made', 'a', 'spoof', 'video', 'on', '#', 'demonetization', 'with', '#', 'AeDilHaiMushkil', 'trailer', 'and', 'it', \"'s\", 'hilarious', 'https://t.co/oRYBrW', '\\x85 ', 'RT', '@DrGPradhan', ':', '8', '\\r\\n\\r\\n', 'This', 'tweet', 'of', '@minimathur', 'BIBI', 'explains', 'why', 'she', 'is', 'having', 'a', 'prob', 'with', '#', 'demonetization', '..', 'In', 'first', 'part', 'she', 'says', 'she', 'ca', \"n't\", '\\x85 ', 'RT', '@DrGPradhan', ':', '8', '\\r\\n\\r\\n', 'This', 'tweet', 'of', '@minimathur', 'BIBI', 'explains', 'why', 'she', 'is', 'having', 'a', 'prob', 'with', '#', 'demonetization', '..', 'In', 'first', 'part', 'she', 'says', 'she', 'ca', \"n't\", '\\x85 ', 'RT', '@Punitspeaks', ':', 'Survey', 'result', 'so', 'far', 'by', '@PMOIndia', 'on', '#', 'Demonetization', '.', '5', 'lakh', 'response', 'in', '24', 'hrs', '.', '90', '%', 'supports', 'note', 'ban', '.', '#', 'MeraDeshBadalRaha', '\\x85 ', 'RT', '@Hemant_80', ':', 'Did', 'you', 'vote', 'on', '#', 'Demonetization', 'on', 'Modi', 'survey', 'app', '?', 'RT', '@DrGPradhan', ':', '8', '\\r\\n\\r\\n', 'This', 'tweet', 'of', '@minimathur', 'BIBI', 'explains', 'why', 'she', 'is', 'having', 'a', 'prob', 'with', '#', 'demonetization', '..', 'In', 'first', 'part', 'she', 'says', 'she', 'ca', \"n't\", '\\x85 ', 'RT', '@DrGPradhan', ':', '8', '\\r\\n\\r\\n', 'This', 'tweet', 'of', '@minimathur', 'BIBI', 'explains', 'why', 'she', 'is', 'having', 'a', 'prob', 'with', '#', 'demonetization', '..', 'In', 'first', 'part', 'she', 'says', 'she', 'ca', \"n't\", '\\x85 ', 'RT', '@kanimozhi', ':', 'Ts', 'is', 'exactly', 'what', 'Pappu', '&', 'amp', ';', 'opposition', 'has', 'done', 'to', 'themselves', 'by', 'opposing', '#', 'Demonetization', 'Now', 'none', 'can', 'stop', 'Modi', 'bandwagon', 'ti', '\\x85 ', 'RT', '@Punitspeaks', ':', 'Survey', 'result', 'so', 'far', 'by', '@PMOIndia', 'on', '#', 'Demonetization', '.', '5', 'lakh', 'response', 'in', '24', 'hrs', '.', '90', '%', 'supports', 'note', 'ban', '.', '#', 'MeraDeshBadalRaha', '\\x85 ', 'RT', '@CMOMaharashtra', ':', 'One', 'of', 'the', 'greatest', 'computer', 'scientists', 'Dr.', 'Vijay', 'Bhatkar', \"'s\", 'views', 'on', '#', 'demonetization', 'decision', 'by', 'Hon', 'PM', '@narendramodi', 'h', '\\x85 ', 'RT', '@DrGPradhan', ':', '8', '\\r\\n\\r\\n', 'This', 'tweet', 'of', '@minimathur', 'BIBI', 'explains', 'why', 'she', 'is', 'having', 'a', 'prob', 'with', '#', 'demonetization', '..', 'In', 'first', 'part', 'she', 'says', 'she', 'ca', \"n't\", '\\x85 ', 'RT', '@DrGPradhan', ':', '8', '\\r\\n\\r\\n', 'This', 'tweet', 'of', '@minimathur', 'BIBI', 'explains', 'why', 'she', 'is', 'having', 'a', 'prob', 'with', '#', 'demonetization', '..', 'In', 'first', 'part', 'she', 'says', 'she', 'ca', \"n't\", '\\x85 ', 'RT', '@CMOMaharashtra', ':', '.@ArshadWarsi', 'thanks', 'Hon', 'PM', '@narendramodi', 'for', 'the', 'decision', 'on', '#', 'demonetization', 'and', '#', 'BlackMoney', 'https://t.co/9AwGwJAc5w', 'RT', '@Dipankar_cpiml', ':', 'The', 'Modi', 'app', 'on', '#', 'DeMonetization', 'proves', 'once', 'again', 'that', 'the', 'govt', 'is', 'totally', 'indifferent', 'to', 'the', 'mounting', 'misery', 'and', 'hards', '\\x85 ', 'RT', '@Hemant_80', ':', 'Did', 'you', 'vote', 'on', '#', 'Demonetization', 'on', 'Modi', 'survey', 'app', '?', 'RT', '@Atheist_Krishna', ':', 'BEFORE', 'and', 'AFTER', 'Gandhi', 'ji', 'heard', 'they', 'are', 'standing', 'there', 'against', '#', 'Demonetization', '\\r\\n', '.', 'https://t.co/9NheK63TPg', 'Survey', 'result', 'so', 'far', 'by', '@PMOIndia', 'on', '#', 'Demonetization', '.', '5', 'lakh', 'response', 'in', '24', 'hrs', '.', '90', '%', 'supports', 'note', 'ban', '.', '\\x85 ', 'https://t.co/9ObJgwqtO1', 'RT', '@DrGPradhan', ':', '8', '\\r\\n\\r\\n', 'This', 'tweet', 'of', '@minimathur', 'BIBI', 'explains', 'why', 'she', 'is', 'having', 'a', 'prob', 'with', '#', 'demonetization', '..', 'In', 'first', 'part', 'she', 'says', 'she', 'ca', \"n't\", '\\x85 ', 'RT', '@Gadgets360', ':', 'After', 'the', '#', 'demonetization', ',', 'searches', 'about', '#', 'NarendraModi', \"'s\", 'app', 'are', 'trending', 'on', 'app', 'stores', 'https://t.co/ZetKRqqClX', 'RT', '@DrGPradhan', ':', '8', '\\r\\n\\r\\n', 'This', 'tweet', 'of', '@minimathur', 'BIBI', 'explains', 'why', 'she', 'is', 'having', 'a', 'prob', 'with', '#', 'demonetization', '..', 'In', 'first', 'part', 'she', 'says', 'she', 'ca', \"n't\", '\\x85 ', 'RT', '@DrGPradhan', ':', '8', '\\r\\n\\r\\n', 'This', 'tweet', 'of', '@minimathur', 'BIBI', 'explains', 'why', 'she', 'is', 'having', 'a', 'prob', 'with', '#', 'demonetization', '..', 'In', 'first', 'part', 'she', 'says', 'she', 'ca', \"n't\", '\\x85 ', 'RT', '@kanimozhi', ':', 'Ts', 'is', 'exactly', 'what', 'Pappu', '&', 'amp', ';', 'opposition', 'has', 'done', 'to', 'themselves', 'by', 'opposing', '#', 'Demonetization', 'Now', 'none', 'can', 'stop', 'Modi', 'bandwagon', 'ti', '\\x85 ', 'RT', '@DrGPradhan', ':', '8', '\\r\\n\\r\\n', 'This', 'tweet', 'of', '@minimathur', 'BIBI', 'explains', 'why', 'she', 'is', 'having', 'a', 'prob', 'with', '#', 'demonetization', '..', 'In', 'first', 'part', 'she', 'says', 'she', 'ca', \"n't\", '\\x85 ', 'RT', '<', 'U+25CF', '>', 'DrGPradhan', '<', 'U+25CF>8', '\\r\\n\\r\\n', 'This', 'tweet', 'of', 'minimathur', 'BIBI', 'explains', 'why', 'she', 'is', 'having', 'a', 'prob', 'with', '#', 'demonetization', '..', 'In', 'first', 'p', '\\x85 ', 'https://t.co/iUEGK73nTX', 'RT', '@Gadgets360', ':', 'After', 'the', '#', 'demonetization', ',', 'searches', 'about', '#', 'NarendraModi', \"'s\", 'app', 'are', 'trending', 'on', 'app', 'stores', 'https://t.co/ZetKRqqClX', 'RT', '@DrGPradhan', ':', '8', '\\r\\n\\r\\n', 'This', 'tweet', 'of', '@minimathur', 'BIBI', 'explains', 'why', 'she', 'is', 'having', 'a', 'prob', 'with', '#', 'demonetization', '..', 'In', 'first', 'part', 'she', 'says', 'she', 'ca', \"n't\", '\\x85 ', 'RT', '@DrGPradhan', ':', '8', '\\r\\n\\r\\n', 'This', 'tweet', 'of', '@minimathur', 'BIBI', 'explains', 'why', 'she', 'is', 'having', 'a', 'prob', 'with', '#', 'demonetization', '..', 'In', 'first', 'part', 'she', 'says', 'she', 'ca', \"n't\", '\\x85 ', 'RT', '@vijaychavda9', ':', 'Retweeted', 'Harsh', 'K.', 'Kapoor', '(', '@harshkkapoor', '):', '\\r\\n\\r\\n', '#', 'DeMonetization', 'survey', 'results', 'after', '24', 'hours', '\\r\\n', '5Lacs', 'opinions', '\\r\\n', 'Amazing', '...', 'https', '\\x85 ', 'RT', '@ModiBharosa', ':', 'Huge', 'support', 'for', 'PM', '@narendramodi', '\\x92s', '#', 'demonetization', 'Move', 'Across', 'the', 'Nation', '\\r\\n', '80', '-', '86', '%', 'people', 'back', 'demonetization', ':', 'C', '-', 'voter', 'su', '\\x85 ', 'RT', '@ModiBharosa', ':', '#', 'RatanTata', 'supports', 'PM', 'Narendra', 'Modi', 'for', '#', 'Demonetization', 'https://t.co/fRTHY2Ltth', 'RT', '@ModiBharosa', ':', 'Putting', 'Nation', 'over', 'Party', 'Politics', '#', 'nitishkumar', 'supports', 'PM', '@narendramodi', 'on', '#', 'Demonetization', 'https://t.co/UodwXdPMmG', 'RT', '@DrGPradhan', ':', '8', '\\r\\n\\r\\n', 'This', 'tweet', 'of', '@minimathur', 'BIBI', 'explains', 'why', 'she', 'is', 'having', 'a', 'prob', 'with', '#', 'demonetization', '..', 'In', 'first', 'part', 'she', 'says', 'she', 'ca', \"n't\", '\\x85 ', 'RT', '@Gadgets360', ':', 'After', 'the', '#', 'demonetization', ',', 'searches', 'about', '#', 'NarendraModi', \"'s\", 'app', 'are', 'trending', 'on', 'app', 'stores', 'https://t.co/ZetKRqqClX', 'RT', '@DrGPradhan', ':', '8', '\\r\\n\\r\\n', 'This', 'tweet', 'of', '@minimathur', 'BIBI', 'explains', 'why', 'she', 'is', 'having', 'a', 'prob', 'with', '#', 'demonetization', '..', 'In', 'first', 'part', 'she', 'says', 'she', 'ca', \"n't\", '\\x85 ', 'RT', '@Tata_ValueHomes', ':', 'Lower', 'interest', 'rate', 'will', 'ultimately', 'lead', 'to', 'more', 'buyers', 'because', 'of', '#', 'LowerEMI', '.', '#', 'HappyHomes', '#', 'Demonetization', 'https://t.co', '\\x85 ', 'RT', '@kanimozhi', ':', 'Ts', 'is', 'exactly', 'what', 'Pappu', '&', 'amp', ';', 'opposition', 'has', 'done', 'to', 'themselves', 'by', 'opposing', '#', 'Demonetization', 'Now', 'none', 'can', 'stop', 'Modi', 'bandwagon', 'ti', '\\x85 ', 'RT', '@Atheist_Krishna', ':', 'BEFORE', 'and', 'AFTER', 'Gandhi', 'ji', 'heard', 'they', 'are', 'standing', 'there', 'against', '#', 'Demonetization', '\\r\\n', '.', 'https://t.co/9NheK63TPg', 'RT', '@Dipankar_cpiml', ':', 'The', 'Modi', 'app', 'on', '#', 'DeMonetization', 'proves', 'once', 'again', 'that', 'the', 'govt', 'is', 'totally', 'indifferent', 'to', 'the', 'mounting', 'misery', 'and', 'hards', '\\x85 ', 'RT', '@DrGPradhan', ':', '8', '\\r\\n\\r\\n', 'This', 'tweet', 'of', '@minimathur', 'BIBI', 'explains', 'why', 'she', 'is', 'having', 'a', 'prob', 'with', '#', 'demonetization', '..', 'In', 'first', 'part', 'she', 'says', 'she', 'ca', \"n't\", '\\x85 ', 'RT', '@Atheist_Krishna', ':', 'BEFORE', 'and', 'AFTER', 'Gandhi', 'ji', 'heard', 'they', 'are', 'standing', 'there', 'against', '#', 'Demonetization', '\\r\\n', '.', 'https://t.co/9NheK63TPg', 'RT', '@Hemant_80', ':', 'Did', 'you', 'vote', 'on', '#', 'Demonetization', 'on', 'Modi', 'survey', 'app', '?', 'Gadgets360', ':', 'After', 'the', '#', 'demonetization', ',', 'searches', 'about', '#', 'NarendraModi', \"'s\", 'app', 'are', 'trending', 'on', 'app', 'stores', 'https://t.co/jOjwGrpSB5', '8', '\\r\\n\\r\\n', 'This', 'tweet', 'of', '@minimathur', 'BIBI', 'explains', 'why', 'she', 'is', 'having', 'a', 'prob', 'with', '#', 'demonetization', '..', 'In', 'first', 'part', 'she', 'says', 's', '\\x85 ', 'https://t.co/XhSMMqnemQ', 'RT', '@Gadgets360', ':', 'After', 'the', '#', 'demonetization', ',', 'searches', 'about', '#', 'NarendraModi', \"'s\", 'app', 'are', 'trending', 'on', 'app', 'stores', 'https://t.co/ZetKRqqClX', 'RT', '@kanimozhi', ':', 'Ts', 'is', 'exactly', 'what', 'Pappu', '&', 'amp', ';', 'opposition', 'has', 'done', 'to', 'themselves', 'by', 'opposing', '#', 'Demonetization', 'Now', 'none', 'can', 'stop', 'Modi', 'bandwagon', 'ti', '\\x85 ', 'RT', '@sajid_Yousuf', '_', ':', 'Police', 'men', 'beats', 'industrialists', ',', 'Ambani', 'groups', ',', 'Black', 'Money', 'holders', 'for', 'standing', 'in', '#', 'queue', '#', 'Demonetization', '.', 'This', 'cop', 'des', '\\x85 ', 'RT', '@Atheist_Krishna', ':', 'BEFORE', 'and', 'AFTER', 'Gandhi', 'ji', 'heard', 'they', 'are', 'standing', 'there', 'against', '#', 'Demonetization', '\\r\\n', '.', 'https://t.co/9NheK63TPg', 'After', 'the', '#', 'demonetization', ',', 'searches', 'about', '#', 'NarendraModi', \"'s\", 'app', 'are', 'trending', 'on', 'app', 'stores', 'https://t.co/ZetKRqqClX', 'RT', '@Atheist_Krishna', ':', 'BEFORE', 'and', 'AFTER', 'Gandhi', 'ji', 'heard', 'they', 'are', 'standing', 'there', 'against', '#', 'Demonetization', '\\r\\n', '.', 'https://t.co/9NheK63TPg', 'RT', '@ItzCash', ':', '@suryanavin', 'MD', 'ItzCash', ',', 'was', 'live', 'on', 'ET', 'talking', 'about', 'the', 'impact', 'of', '#', 'Demonetization', 'towards', 'digitization', 'in', 'India', '.', '\\r\\n', 'https://t.c', '\\x85 ', 'RT', '@Atheist_Krishna', ':', 'BEFORE', 'and', 'AFTER', 'Gandhi', 'ji', 'heard', 'they', 'are', 'standing', 'there', 'against', '#', 'Demonetization', '\\r\\n', '.', 'https://t.co/9NheK63TPg', 'RT', '@kanimozhi', ':', 'Ts', 'is', 'exactly', 'what', 'Pappu', '&', 'amp', ';', 'opposition', 'has', 'done', 'to', 'themselves', 'by', 'opposing', '#', 'Demonetization', 'Now', 'none', 'can', 'stop', 'Modi', 'bandwagon', 'ti', '\\x85 ', 'RT', '@MahikaInfra', ':', 'Must', 'Vote', '\\r\\n\\r\\n', 'After', '9days', 'of', '#', 'demonetization', 'Only', '4', '-', '5Lakhs', 'cr', 'returned', 'to', 'Bank', 'out', 'of', '14.5', 'Lakhs', 'cr', '\\r\\n\\r\\n', 'Kahan', 'gaya', '10', 'Lakhs', 'Cr', '\\x85 ', 'RT', '@UrjitPatelRBI', ':', 'What', 'do', 'think', 'of', 'the', '#', 'demonetisation', 'of', 'notes', '?', '#', 'demonetization', 'poll', '#', 'RBI', '#', 'Modi', 'RT', '@Atheist_Krishna', ':', 'BEFORE', 'and', 'AFTER', 'Gandhi', 'ji', 'heard', 'they', 'are', 'standing', 'there', 'against', '#', 'Demonetization', '\\r\\n', '.', 'https://t.co/9NheK63TPg', 'RT', '@Atheist_Krishna', ':', 'BEFORE', 'and', 'AFTER', 'Gandhi', 'ji', 'heard', 'they', 'are', 'standing', 'there', 'against', '#', 'Demonetization', '\\r\\n', '.', 'https://t.co/9NheK63TPg', 'RT', '@sambitswaraj', ':', 'On', '@IndiaToday', 'at', '9', 'pm', '#', 'DeMonetization', 'RT', '@abhic_1983', ':', '@SitaramYechury', 'Continue', 'with', 'your', 'rants', 'against', '#', 'demonetization', '\\r\\n', 'People', 'of', 'Bengal', 'has', 'answered', 'you', '.', 'LOL', 'Salaam', '.', 'https://t', '.', '\\x85 ', 'RT', '@kanimozhi', ':', 'Ts', 'is', 'exactly', 'what', 'Pappu', '&', 'amp', ';', 'opposition', 'has', 'done', 'to', 'themselves', 'by', 'opposing', '#', 'Demonetization', 'Now', 'none', 'can', 'stop', 'Modi', 'bandwagon', 'ti', '\\x85 ', 'Total', 'population', 'effected', 'by', '#', 'demonetization', ':', '1,326,801,576', '\\r\\n', 'Internet', 'users', ':', '462,124,989', '\\r\\n', 'Smartphone', 'users', ':', '292', 'million', '\\r\\n', '5', 'lakh', 'app', 'responses', 'RT', '@Dipankar_cpiml', ':', 'The', 'Modi', 'app', 'on', '#', 'DeMonetization', 'proves', 'once', 'again', 'that', 'the', 'govt', 'is', 'totally', 'indifferent', 'to', 'the', 'mounting', 'misery', 'and', 'hards', '\\x85 ', 'RT', '@harshkkapoor', ':', '#', 'DeMonetization', 'survey', 'results', 'after', '24', 'hours', '\\r\\n', '5Lacs', 'opinions', '\\r\\n', 'Amazing', 'response&amp', ';', 'Commitment', 'in', 'fight', 'against', 'Blackmoney', '\\r\\n', '@na', '\\x85 ', 'RT', '@Atheist_Krishna', ':', 'BEFORE', 'and', 'AFTER', 'Gandhi', 'ji', 'heard', 'they', 'are', 'standing', 'there', 'against', '#', 'Demonetization', '\\r\\n', '.', 'https://t.co/9NheK63TPg', 'RT', '@Atheist_Krishna', ':', 'BEFORE', 'and', 'AFTER', 'Gandhi', 'ji', 'heard', 'they', 'are', 'standing', 'there', 'against', '#', 'Demonetization', '\\r\\n', '.', 'https://t.co/9NheK63TPg', 'RT', '@Atheist_Krishna', ':', 'BEFORE', 'and', 'AFTER', 'Gandhi', 'ji', 'heard', 'they', 'are', 'standing', 'there', 'against', '#', 'Demonetization', '\\r\\n', '.', 'https://t.co/9NheK63TPg', 'RT', '@Atheist_Krishna', ':', 'BEFORE', 'and', 'AFTER', 'Gandhi', 'ji', 'heard', 'they', 'are', 'standing', 'there', 'against', '#', 'Demonetization', '\\r\\n', '.', 'https://t.co/9NheK63TPg', 'RT', '@myvotetoday', ':', 'So', '#', 'CJIThakur', 'says', 'there', 'will', 'be', 'riots', 'due', 'to', '#', 'DeMonetization', 'Qs', '\\r\\n', '.', '\\r\\n', 'No', '#', 'SpicesNSecrets', '\\r\\n', '.', '\\r\\n', 'No', 'riots', 'due', 'to', 'citizens', '#', 'Waiting', '\\x85 ', 'The', 'who', \"'s\", 'who', 'of', 'Indian', '#', 'scams', 'line', 'up', '.', '\\r\\n', '#', 'demonetization', 'https://t.co/odLvO4Hw0', 'm', 'RT', '@Atheist_Krishna', ':', 'BEFORE', 'and', 'AFTER', 'Gandhi', 'ji', 'heard', 'they', 'are', 'standing', 'there', 'against', '#', 'Demonetization', '\\r\\n', '.', 'https://t.co/9NheK63TPg', 'RT', '@Atheist_Krishna', ':', 'BEFORE', 'and', 'AFTER', 'Gandhi', 'ji', 'heard', 'they', 'are', 'standing', 'there', 'against', '#', 'Demonetization', '\\r\\n', '.', 'https://t.co/9NheK63TPg', 'RT', '@Atheist_Krishna', ':', 'BEFORE', 'and', 'AFTER', 'Gandhi', 'ji', 'heard', 'they', 'are', 'standing', 'there', 'against', '#', 'Demonetization', '\\r\\n', '.', 'https://t.co/9NheK63TPg', 'How', 'to', 'convert', 'all', 'your', 'black', 'money', 'into', 'white', 'following', 'the', '#', 'DeMonetization', ':', 'How', 'to', '\\x85 ', 'https://t.co/GJ0WDNCwQD', 'RT', '@Atheist_Krishna', ':', 'The', 'effect', 'of', '#', 'Demonetization', '!', '!', '\\r\\n', '.', 'https://t.co/A8of7zh2f5', '@SrBachchan', 'sir', 'you', 'are', 'in', 'favour', 'of', '#', 'demonetization', 'and', '#', 'JayaBachchan', 'joins', '#', 'tmc', 'in', 'protest', 'against', '#', 'DeMonetisation', 'is', 'she', 'had', 'lots', 'of', 'bk', '<', 'U+20B9', '>', 'RT', '@Atheist_Krishna', ':', 'BEFORE', 'and', 'AFTER', 'Gandhi', 'ji', 'heard', 'they', 'are', 'standing', 'there', 'against', '#', 'Demonetization', '\\r\\n', '.', 'https://t.co/9NheK63TPg', 'RT', '@Atheist_Krishna', ':', 'BEFORE', 'and', 'AFTER', 'Gandhi', 'ji', 'heard', 'they', 'are', 'standing', 'there', 'against', '#', 'Demonetization', '\\r\\n', '.', 'https://t.co/9NheK63TPg', 'RT', '@AUTOTODAYMAG', ':', 'On', 'the', 'topic', 'of', '#', 'demonetization', ',', 'we', 'have', 'an', 'idea', 'what', 'you', 'can', 'do', 'with', 'those', 'old', 'notes', '-', 'go', 'out', ',', 'fill', 'up', '&', 'amp', ';', 'explore', '!', '#', 'Uncha', '\\x85 ', 'RT', '@Dipankar_cpiml', ':', 'The', 'Modi', 'app', 'on', '#', 'DeMonetization', 'proves', 'once', 'again', 'that', 'the', 'govt', 'is', 'totally', 'indifferent', 'to', 'the', 'mounting', 'misery', 'and', 'hards', '\\x85 ', 'RT', '@Hemant_80', ':', 'Did', 'you', 'vote', 'on', '#', 'Demonetization', 'on', 'Modi', 'survey', 'app', '?', 'RT', '@harshkkapoor', ':', '#', 'DeMonetization', 'survey', 'results', 'after', '24', 'hours', '\\r\\n', '5Lacs', 'opinions', '\\r\\n', 'Amazing', 'response&amp', ';', 'Commitment', 'in', 'fight', 'against', 'Blackmoney', '\\r\\n', '@na', '\\x85 ', 'RT', '@Dipankar_cpiml', ':', 'The', 'Modi', 'app', 'on', '#', 'DeMonetization', 'proves', 'once', 'again', 'that', 'the', 'govt', 'is', 'totally', 'indifferent', 'to', 'the', 'mounting', 'misery', 'and', 'hards', '\\x85 ', '@narendramodi', '@PMOIndia', '@PMOinIndia', '#', 'demonetization', '#', 'Demonetisationsurvey', 'App', 'is', 'not', 'working', 'on', 'windows', 'phone', '<', 'U+2639', '>', '#', 'PMModi', 'RT', '@Atheist_Krishna', ':', 'BEFORE', 'and', 'AFTER', 'Gandhi', 'ji', 'heard', 'they', 'are', 'standing', 'there', 'against', '#', 'Demonetization', '\\r\\n', '.', 'https://t.co/9NheK63TPg', 'Who', 'is', 'most', 'corruption', 'party', ' \\r\\n\\r\\n', '#', 'DeModitisation_March', '\\r\\n', '#', 'BlackMoney', '\\r\\n', '#', 'demonetization', '\\r\\n', '#', 'congress', '\\r\\n', '#', 'aap', '\\r\\n', '#', 'BJP', '\\r\\n', '#', 'other', 'RT', '@myvotetoday', ':', 'So', '#', 'CJIThakur', 'says', 'there', 'will', 'be', 'riots', 'due', 'to', '#', 'DeMonetization', 'Qs', '\\r\\n', '.', '\\r\\n', 'No', '#', 'SpicesNSecrets', '\\r\\n', '.', '\\r\\n', 'No', 'riots', 'due', 'to', 'citizens', '#', 'Waiting', '\\x85 ', 'RT', '@Hemant_80', ':', 'Did', 'you', 'vote', 'on', '#', 'Demonetization', 'on', 'Modi', 'survey', 'app', '?', '@sardesairajdeep', '@timesofindia', 'Surprise', '...', 'Surprise', '!', '!', '!', 'So', 'that', 's', 'why', '@MamataOfficial', 'has', 'been', 'protesting', '#', 'Demonetization', 'from', 'day', 'one', '!', '!', 'RT', '@deeepakkher', ':', '#', 'Demonetization', '21', 'K', 'Crore', 'Deposited', 'In', '#', 'JanDhanAccount', 'Most', 'From', 'Bengal', ',', 'Karnataka', '.', 'The', 'reason', 'for', 'protests', '?', '-', 'NDTV', 'https', ':', '\\x85 ', '#', 'Demonetization', 'is', 'a', 'bit', 'like', 'Marxism', '.', 'Great', 'on', 'paper', 'but', 'impractical', 'on', 'ground', '.', '@rsprasad', 'bcoz', 'they', 'only', 'have', 'black', 'money', 'and', 'they', 'do', 'nt', 'have', 'facts', 'or', 'points', 'to', 'talk', 'abt', '#', 'demonetization', '.', 'RT', '@BrainandMoney', ':', 'The', 'effect', 'of', '#', 'Demonetization', '!', '!', '\\r\\n', '@ravishndtv', '@ShekharGupta', '@hvgoenka', '@mrsfunnybones', '@GabbbarSingh', '@Iamanirudhsethi', 'https', '\\x85 ', 'RT', '@Dipankar_cpiml', ':', 'The', 'Modi', 'app', 'on', '#', 'DeMonetization', 'proves', 'once', 'again', 'that', 'the', 'govt', 'is', 'totally', 'indifferent', 'to', 'the', 'mounting', 'misery', 'and', 'hards', '\\x85 ', 'RT', '@harshkkapoor', ':', '#', 'DeMonetization', 'survey', 'results', 'after', '24', 'hours', '\\r\\n', '5Lacs', 'opinions', '\\r\\n', 'Amazing', 'response&amp', ';', 'Commitment', 'in', 'fight', 'against', 'Blackmoney', '\\r\\n', '@na', '\\x85 ', 'Superb', 'innovation', 'by', '#', 'paytm', '.', 'Paytm', ' ', 'app', 'starts', 'acting', 'as', 'a', 'card', 'swiping', 'machine', '.', '#', 'Demonetization', '\\r\\n', 'https://t.co/MqOXhLDVyO', '\\r\\n', '-via', '@inshorts', 'RT', '@BrainandMoney', ':', 'The', 'effect', 'of', '#', 'Demonetization', '!', '!', '\\r\\n', '@ravishndtv', '@ShekharGupta', '@hvgoenka', '@mrsfunnybones', '@GabbbarSingh', '@Iamanirudhsethi', 'https', '\\x85 ', 'The', 'effect', 'of', '#', 'Demonetization', '!', '!', '\\r\\n', '@ravishndtv', '@ShekharGupta', '@hvgoenka', '@mrsfunnybones', '@GabbbarSingh', '@Iamanirudhsethi', 'https://t.co/Q8PwntFYFC', 'RT', '@Atheist_Krishna', ':', 'BEFORE', 'and', 'AFTER', 'Gandhi', 'ji', 'heard', 'they', 'are', 'standing', 'there', 'against', '#', 'Demonetization', '\\r\\n', '.', 'https://t.co/9NheK63TPg', 'RT', '@Atheist_Krishna', ':', 'BEFORE', 'and', 'AFTER', 'Gandhi', 'ji', 'heard', 'they', 'are', 'standing', 'there', 'against', '#', 'Demonetization', '\\r\\n', '.', 'https://t.co/9NheK63TPg', 'RT', '@Atheist_Krishna', ':', 'BEFORE', 'and', 'AFTER', 'Gandhi', 'ji', 'heard', 'they', 'are', 'standing', 'there', 'against', '#', 'Demonetization', '\\r\\n', '.', 'https://t.co/9NheK63TPg', 'RT', '@kanimozhi', ':', 'Ts', 'is', 'exactly', 'what', 'Pappu', '&', 'amp', ';', 'opposition', 'has', 'done', 'to', 'themselves', 'by', 'opposing', '#', 'Demonetization', 'Now', 'none', 'can', 'stop', 'Modi', 'bandwagon', 'ti', '\\x85 ', 'RT', '@ShirishKunder', ':', '\"', 'Minor', 'inconvenience', '\"', 'for', '\"', 'major', 'convenience', '\"', 'of', 'Vijay', 'Mallya', 'and', 'friends', '.', '#', 'demonetization', 'https://t.co/4RMD7Fpfaw', 'RT', '@Dipankar_cpiml', ':', 'The', 'Modi', 'app', 'on', '#', 'DeMonetization', 'proves', 'once', 'again', 'that', 'the', 'govt', 'is', 'totally', 'indifferent', 'to', 'the', 'mounting', 'misery', 'and', 'hards', '\\x85 ', 'RT', '@Atheist_Krishna', ':', 'BEFORE', 'and', 'AFTER', 'Gandhi', 'ji', 'heard', 'they', 'are', 'standing', 'there', 'against', '#', 'Demonetization', '\\r\\n', '.', 'https://t.co/9NheK63TPg', 'RT', '@iarunmani', ':', 'Left', 'is', 'going', 'to', 'file', 'a', 'petition', 'in', 'SC', 'against', 'govts', 'decision', 'on', '#', 'demonetization', '.', 'My', 'que', 'is', 'why', 'the', 'hell', 'do', \"n't\", 'you', 'debate', 'i', '\\x85 ', 'RT', '@Dipankar_cpiml', ':', 'The', 'Modi', 'app', 'on', '#', 'DeMonetization', 'proves', 'once', 'again', 'that', 'the', 'govt', 'is', 'totally', 'indifferent', 'to', 'the', 'mounting', 'misery', 'and', 'hards', '\\x85 ', 'RT', '@Hemant_80', ':', 'Did', 'you', 'vote', 'on', '#', 'Demonetization', 'on', 'Modi', 'survey', 'app', '?', '#', 'GST', 'Council', 'got', 'postponed', 'today', '.', '#', 'Pakistan', 'has', 'consecutively', 'breached', 'LOC', 'the', 'last', 'week', '.', '\\r\\n', 'Bad', 'state', 'of', '#', 'Railways', '.', '\\r\\n', '#', 'Demonetization', 'effect', 'RT', '@Atheist_Krishna', ':', 'BEFORE', 'and', 'AFTER', 'Gandhi', 'ji', 'heard', 'they', 'are', 'standing', 'there', 'against', '#', 'Demonetization', '\\r\\n', '.', 'https://t.co/9NheK63TPg', 'RT', '@Dipankar_cpiml', ':', 'The', 'Modi', 'app', 'on', '#', 'DeMonetization', 'proves', 'once', 'again', 'that', 'the', 'govt', 'is', 'totally', 'indifferent', 'to', 'the', 'mounting', 'misery', 'and', 'hards', '\\x85 ', 'RT', '@Dipankar_cpiml', ':', 'The', 'Modi', 'app', 'on', '#', 'DeMonetization', 'proves', 'once', 'again', 'that', 'the', 'govt', 'is', 'totally', 'indifferent', 'to', 'the', 'mounting', 'misery', 'and', 'hards', '\\x85 ', 'RT', '@Joydeep_911', ':', 'Calling', 'all', 'Nationalists', 'to', 'join', '...', '\\r\\n', 'Walk', 'for', '#', 'CorruptionFreeIndia', 'and', 'spread', 'the', 'benefits', 'of', '#', 'Demonetization', 'among', 'the', 'mas', '\\x85 ', 'RT', '@gauravcsawant', ':', 'Rs', '40', 'lakh', 'looted', 'from', 'a', 'bank', 'in', 'Kishtwar', 'in', 'J&amp;K.', 'Third', 'such', 'incident', 'since', '#', 'demonetization', '.', 'That', \"'s\", 'how', 'terrorists', 'have', '\\x85 ', 'RT', '@Dipankar_cpiml', ':', 'The', 'Modi', 'app', 'on', '#', 'DeMonetization', 'proves', 'once', 'again', 'that', 'the', 'govt', 'is', 'totally', 'indifferent', 'to', 'the', 'mounting', 'misery', 'and', 'hards', '\\x85 ', 'RT', '@Atheist_Krishna', ':', 'BEFORE', 'and', 'AFTER', 'Gandhi', 'ji', 'heard', 'they', 'are', 'standing', 'there', 'against', '#', 'Demonetization', '\\r\\n', '.', 'https://t.co/9NheK63TPg', 'RT', '@Atheist_Krishna', ':', 'BEFORE', 'and', 'AFTER', 'Gandhi', 'ji', 'heard', 'they', 'are', 'standing', 'there', 'against', '#', 'Demonetization', '\\r\\n', '.', 'https://t.co/9NheK63TPg', 'That', 's', 'why', '86', '%', 'public', 'in', 'favor', 'of', '#', 'DeMonetization', 'https://t.co/3LbbTJHUaA', 'RT', '@MahikaInfra', ':', '@narendramodi', '\\r\\n', '1st', 'Phase', 'deposits', 'of', '#', 'demonetization', 'is', '\"', 'The', 'Real', 'Currency', 'Requirement', '\"', 'of', 'our', 'nation', 'as', 'liquid', 'cash', '\\r\\n', 'https', ':', '\\x85 ', 'RT', '@ItzCash', ':', '@suryanavin', 'MD', 'ItzCash', ',', 'was', 'live', 'on', 'ET', 'talking', 'about', 'the', 'impact', 'of', '#', 'Demonetization', 'towards', 'digitization', 'in', 'India', '.', '\\r\\n', 'https://t.c', '\\x85 ', 'RT', '@Atheist_Krishna', ':', 'BEFORE', 'and', 'AFTER', 'Gandhi', 'ji', 'heard', 'they', 'are', 'standing', 'there', 'against', '#', 'Demonetization', '\\r\\n', '.', 'https://t.co/9NheK63TPg', 'RT', '@Atheist_Krishna', ':', 'BEFORE', 'and', 'AFTER', 'Gandhi', 'ji', 'heard', 'they', 'are', 'standing', 'there', 'against', '#', 'Demonetization', '\\r\\n', '.', 'https://t.co/9NheK63TPg', 'The', 'ratio', 'of', 'people', 'inconvenienced', 'by', '#', 'demonetization', 'to', 'those', 'taking', 'the', 'survey', 'on', 'the', 'NaMo', 'app', 'would', 'be', '10:1', 'or', 'perhaps', 'worse', '.', 'RT', '@godavar', ':', 'So', ',', 'a', 'story', 'that', 'tells', 'you', 'the', 'flipside', 'of', 'the', 'digital', 'revolution', '@Paytm', 'and', '#', 'Demonetization', 'are', 'busy', 'celebrating', '.', 'My', 'phone', 'go', '\\x85 ', 'RT', '@Atheist_Krishna', ':', 'BEFORE', 'and', 'AFTER', 'Gandhi', 'ji', 'heard', 'they', 'are', 'standing', 'there', 'against', '#', 'Demonetization', '\\r\\n', '.', 'https://t.co/9NheK63TPg', 'RT', '@Atheist_Krishna', ':', 'BEFORE', 'and', 'AFTER', 'Gandhi', 'ji', 'heard', 'they', 'are', 'standing', 'there', 'against', '#', 'Demonetization', '\\r\\n', '.', 'https://t.co/9NheK63TPg', 'RT', '@Dipankar_cpiml', ':', 'The', 'Modi', 'app', 'on', '#', 'DeMonetization', 'proves', 'once', 'again', 'that', 'the', 'govt', 'is', 'totally', 'indifferent', 'to', 'the', 'mounting', 'misery', 'and', 'hards', '\\x85 ', 'RT', '@MahikaInfra', ':', 'Must', 'Vote', '\\r\\n\\r\\n', 'After', '9days', 'of', '#', 'demonetization', 'Only', '4', '-', '5Lakhs', 'cr', 'returned', 'to', 'Bank', 'out', 'of', '14.5', 'Lakhs', 'cr', '\\r\\n\\r\\n', 'Kahan', 'gaya', '10', 'Lakhs', 'Cr', '\\x85 ', 'RT', '@Atheist_Krishna', ':', 'BEFORE', 'and', 'AFTER', 'Gandhi', 'ji', 'heard', 'they', 'are', 'standing', 'there', 'against', '#', 'Demonetization', '\\r\\n', '.', 'https://t.co/9NheK63TPg', 'RT', '@Hemant_80', ':', 'Did', 'you', 'vote', 'on', '#', 'Demonetization', 'on', 'Modi', 'survey', 'app', '?', 'RT', '@MahikaInfra', ':', '@narendramodi', 'Ji', '\\r\\n\\r\\n', 'An', 'unbiased', 'POLL', '\\r\\n', 'Of', 'the', 'people', '\\r\\n', 'By', 'the', 'people', '\\r\\n', 'For', 'the', 'people', '\\r\\n', 'of', '#', '<', 'U+092D><U+093E><U+0930><U+0924><U+0935><U+0930><U+094D><U+0937', '>', 'abt', '\\r\\n', '#', 'demonetization', '\\r\\n', '<', 'ed><U+00A0><U+00BD><ed><U+00B1><U+008C><ed><U+00A0><U+00BC><ed><U+00BF><U+00BB><ed><U+00A0><U+00BD><ed><U+00B9><U+008F><ed><U+00A0><U+00BD><ed><U+00B1><U+0087', '>', '\\r\\n', 'https', ':', '\\x85 ', 'RT', '@Atheist_Krishna', ':', 'BEFORE', 'and', 'AFTER', 'Gandhi', 'ji', 'heard', 'they', 'are', 'standing', 'there', 'against', '#', 'Demonetization', '\\r\\n', '.', 'https://t.co/9NheK63TPg', 'RT', '@Atheist_Krishna', ':', 'BEFORE', 'and', 'AFTER', 'Gandhi', 'ji', 'heard', 'they', 'are', 'standing', 'there', 'against', '#', 'Demonetization', '\\r\\n', '.', 'https://t.co/9NheK63TPg', 'RT', '@kanimozhi', ':', 'Ts', 'is', 'exactly', 'what', 'Pappu', '&', 'amp', ';', 'opposition', 'has', 'done', 'to', 'themselves', 'by', 'opposing', '#', 'Demonetization', 'Now', 'none', 'can', 'stop', 'Modi', 'bandwagon', 'ti', '\\x85 ', 'Now', 'country', 'is', 'divided', 'into', 'two', 'religion', '#', 'Modi', '&', 'amp;#AntiModi', ',', 'whose', 'riot', 'potentially', 'can', 'way', 'bigger', 'than', 'other', 'riots', '.', '\\r\\n', '#', 'Demonetization', 'RT', '@gauravcsawant', ':', 'Rs', '40', 'lakh', 'looted', 'from', 'a', 'bank', 'in', 'Kishtwar', 'in', 'J&amp;K.', 'Third', 'such', 'incident', 'since', '#', 'demonetization', '.', 'That', \"'s\", 'how', 'terrorists', 'have', '\\x85 ', 'RT', '@Dipankar_cpiml', ':', 'The', 'Modi', 'app', 'on', '#', 'DeMonetization', 'proves', 'once', 'again', 'that', 'the', 'govt', 'is', 'totally', 'indifferent', 'to', 'the', 'mounting', 'misery', 'and', 'hards', '\\x85 ', 'RT', '@harshkkapoor', ':', '#', 'DeMonetization', 'survey', 'results', 'after', '24', 'hours', '\\r\\n', '5Lacs', 'opinions', '\\r\\n', 'Amazing', 'response&amp', ';', 'Commitment', 'in', 'fight', 'against', 'Blackmoney', '\\r\\n', '@na', '\\x85 ', 'RT', '@HPCL', ':', 'HPCL', 'Bangalore', 'RO', 'Helping', 'Banks', 'with', '#', 'Demonetization', 'Drive', 'https://t.co/lKvkYuCd1', 'K', 'RT', '@centerofright', ':', 'Interesting', 'results', 'from', '@narendramodi', 'APP', 'poll', 'on', '#', 'DeMonetization', '-', 'It', 'is', 'still', 'open', ',', 'Please', 'participate', 'https://t.co/', '\\x85 ', 'RT', '@Atheist_Krishna', ':', 'BEFORE', 'and', 'AFTER', 'Gandhi', 'ji', 'heard', 'they', 'are', 'standing', 'there', 'against', '#', 'Demonetization', '\\r\\n', '.', 'https://t.co/9NheK63TPg', 'RT', '@DrKumarVishwas', ':', 'And', 'the', 'Oscar', 'goes', 'to', '\"', 'Mr.<U+092D><U+093E><U+0935><U+0941><U+0915', '>', '\"', '<', 'ed><U+00A0><U+00BD><ed><U+00B8><U+00A9><ed><U+00A0><U+00BD><ed><U+00B8><U+00A5><ed><U+00A0><U+00BD><ed><U+00B8><U+00A2><ed><U+00A0><U+00BD><ed><U+00B8><U+00AD>#demonetization', 'https://t.co/ObQrhlNSL6', 'RT', '@Dipankar_cpiml', ':', 'The', 'Modi', 'app', 'on', '#', 'DeMonetization', 'proves', 'once', 'again', 'that', 'the', 'govt', 'is', 'totally', 'indifferent', 'to', 'the', 'mounting', 'misery', 'and', 'hards', '\\x85 ', 'RT', '@Atheist_Krishna', ':', 'BEFORE', 'and', 'AFTER', 'Gandhi', 'ji', 'heard', 'they', 'are', 'standing', 'there', 'against', '#', 'Demonetization', '\\r\\n', '.', 'https://t.co/9NheK63TPg', 'With', 'due', 'respect', 'to', 'the', 'modi', 'govt', '&', 'amp', ';', 'not', 'meaning', 'to', 'offend', 'any', 'of', 'his', 'supporters', ',', ' ', '#', 'demonetization', 'might', 'be', 'good', 'or', 'bad', 'or', 'whatever', '.', '..', 'tbc', 'RT', '@Atheist_Krishna', ':', 'BEFORE', 'and', 'AFTER', 'Gandhi', 'ji', 'heard', 'they', 'are', 'standing', 'there', 'against', '#', 'Demonetization', '\\r\\n', '.', 'https://t.co/9NheK63TPg', 'RT', '@gauravcsawant', ':', 'Rs', '40', 'lakh', 'looted', 'from', 'a', 'bank', 'in', 'Kishtwar', 'in', 'J&amp;K.', 'Third', 'such', 'incident', 'since', '#', 'demonetization', '.', 'That', \"'s\", 'how', 'terrorists', 'have', '\\x85 ', 'RT', '@Dipankar_cpiml', ':', 'The', 'Modi', 'app', 'on', '#', 'DeMonetization', 'proves', 'once', 'again', 'that', 'the', 'govt', 'is', 'totally', 'indifferent', 'to', 'the', 'mounting', 'misery', 'and', 'hards', '\\x85 ', 'RT', '@Atheist_Krishna', ':', 'BEFORE', 'and', 'AFTER', 'Gandhi', 'ji', 'heard', 'they', 'are', 'standing', 'there', 'against', '#', 'Demonetization', '\\r\\n', '.', 'https://t.co/9NheK63TPg', 'Narendra', '#', 'Modi', 'App', '#', 'Demonetization', 'Survey', 'Results', 'are', 'out', '!', 'https://t.co/eyEDJoCYmz', 'https://t.co/oxBipqOuB8', 'RT', '@Atheist_Krishna', ':', 'BEFORE', 'and', 'AFTER', 'Gandhi', 'ji', 'heard', 'they', 'are', 'standing', 'there', 'against', '#', 'Demonetization', '\\r\\n', '.', 'https://t.co/9NheK63TPg', 'RT', '@Atheist_Krishna', ':', 'BEFORE', 'and', 'AFTER', 'Gandhi', 'ji', 'heard', 'they', 'are', 'standing', 'there', 'against', '#', 'Demonetization', '\\r\\n', '.', 'https://t.co/9NheK63TPg', 'RT', '@Atheist_Krishna', ':', 'BEFORE', 'and', 'AFTER', 'Gandhi', 'ji', 'heard', 'they', 'are', 'standing', 'there', 'against', '#', 'Demonetization', '\\r\\n', '.', 'https://t.co/9NheK63TPg', 'RT', '@kanimozhi', ':', 'Ts', 'is', 'exactly', 'what', 'Pappu', '&', 'amp', ';', 'opposition', 'has', 'done', 'to', 'themselves', 'by', 'opposing', '#', 'Demonetization', 'Now', 'none', 'can', 'stop', 'Modi', 'bandwagon', 'ti', '\\x85 ', 'BEFORE', 'and', 'AFTER', 'Gandhi', 'ji', 'heard', 'they', 'are', 'standing', 'there', 'against', '#', 'Demonetization', '\\r\\n', '.', 'https://t.co/9NheK63TPg', 'RT', '@harshkkapoor', ':', '#', 'DeMonetization', 'survey', 'results', 'after', '24', 'hours', '\\r\\n', '5Lacs', 'opinions', '\\r\\n', 'Amazing', 'response&amp', ';', 'Commitment', 'in', 'fight', 'against', 'Blackmoney', '\\r\\n', '@na', '\\x85 ', '@Vidyut', 'Real', 'Estate', 'is', 'Indian', '\\r\\n', 'Gold', 'is', 'global', '\\r\\n', 'And', 'you', 'want', 'to', 'fire', '@narendramodi', 'on', '#', 'demonetization', '?', 'Gave', 'a', 'cheque', 'to', 'a', 'local', 'car', 'mechanic', 'today', '.', 'He', 'gladly', 'took', 'it&amp;narrated', 'his', 'life', 'story', 'to', 'keep', 'me', 'entertained', '.', '#', 'demonetization', 'RT', '@raveeshbhalla', ':', 'I', 'reserve', 'the', 'right', 'to', 'seriously', 'judge', 'anyone', 'who', 'uses', 'these', 'stats', 'to', 'justify', '#', 'demonetization', 'knowing', 'how', 'the', 'survey', 'is', '\\x85 ', '@suryanavin', ' ', 'on', 'how', 'the', 'current', 'wave', 'of', '#', 'Demonetization', 'is', 'the', 'apt', 'way', 'towards', 'digitization', 'of', 'the', 'Indian', 'economy', '.', '\\r\\n', 'https://t.co/B0rYYBkL2J', 'RT', '@pGurus1', ':', '#', 'Demonetization', 'move', 'of', 'Modi', ';', 'Who', 'is', 'supporting', 'it', ',', 'who', 'is', 'opposing', 'it', 'and', 'why', '?', 'A', 'complete', 'coverage', 'of', 'all', 'parties', '-', 'https://t', '\\x85 ', '80', '%', 'Indians', 'supports', 'PM', 'Modi', \"'s\", '#', 'demonetization', '.', 'All', 'political', 'parties', 'raising', 'hue', 'and', 'cry', 'on', 'this', 'issue', 'surrender', 'please', 'and', 'let', 'it', 'be', '.', 'RT', '@kanimozhi', ':', 'Ts', 'is', 'exactly', 'what', 'Pappu', '&', 'amp', ';', 'opposition', 'has', 'done', 'to', 'themselves', 'by', 'opposing', '#', 'Demonetization', 'Now', 'none', 'can', 'stop', 'Modi', 'bandwagon', 'ti', '\\x85 ', 'RT', '@Dipankar_cpiml', ':', 'The', 'Modi', 'app', 'on', '#', 'DeMonetization', 'proves', 'once', 'again', 'that', 'the', 'govt', 'is', 'totally', 'indifferent', 'to', 'the', 'mounting', 'misery', 'and', 'hards', '\\x85 ', 'Retweeted', 'Harsh', 'K.', 'Kapoor', '(', '@harshkkapoor', '):', '\\r\\n\\r\\n', '#', 'DeMonetization', 'survey', 'results', 'after', '24', 'hours', '\\r\\n', '5Lacs', 'opinions', '\\r\\n', 'Amazing', '...', 'https://t.co/57MdA6rcml', 'RT', '@harshkkapoor', ':', '#', 'DeMonetization', 'survey', 'results', 'after', '24', 'hours', '\\r\\n', '5Lacs', 'opinions', '\\r\\n', 'Amazing', 'response&amp', ';', 'Commitment', 'in', 'fight', 'against', 'Blackmoney', '\\r\\n', '@na', '\\x85 ', 'RT', '@YSRCParty', ':', 'Days', 'before', '#', 'Demonetization', 'announcement', ',', '@ncbn', 'sold', 'his', 'Heritage', 'shares', ',', 'clearly', 'evident', 'that', 'he', 'had', 'prior', 'knowledge', 'of', 'the', '\\x85 ', 'RT', '@YSRCParty', ':', 'YSRCP', 'Chief', 'YS', 'Jagan', 'Mohan', 'Reddy', \"'s\", 'response', 'to', 'a', 'media', 'friend', \"'s\", 'question', '\\r\\n', '#', 'Demonetization', '#', 'YSJagan', '#', 'Ysrcp', '#', 'NCBN', '#', 'Tdp', 'https://', '\\x85 ', 'RT', '@Dipankar_cpiml', ':', 'The', 'Modi', 'app', 'on', '#', 'DeMonetization', 'proves', 'once', 'again', 'that', 'the', 'govt', 'is', 'totally', 'indifferent', 'to', 'the', 'mounting', 'misery', 'and', 'hards', '\\x85 ', 'RT', '@YSRCParty', ':', 'Chandrababu', 'first', 'said', 'that', 'Narendra', 'Modi', 'had', 'implemented', '#', 'Demonetization', ',', 'taking', 'his', 'advice', '.', 'Upon', 'seeing', '...', 'https://t.co/dx', '\\x85 ', 'RT', '@HPCL', ':', '#', 'Demonetization', '\\r\\n', 'HPNEs', 'Ladies', 'at', 'Mmbi', 'extend', 'help', '4', 'FillingForms', ',', 'Water', 'at', 'SBI', 'Mahul', 'Rd', '.', 'Brnch', '\\r\\n', 'BringingSmilles', '\\r\\n', '@dpradhanbjp', '@Ashut', '\\x85 ', 'RT', '@saaxenanurag', ':', 'The', 'visionary', 'political', 'leader', '#', 'ChandrababuNaidu', 'leading', 'support', 'eco', '-', 'system', 'for', 'an', 'efficient', 'running', 'of', '#', 'DeMonetization', 'h', '\\x85 ', 'RT', '@raveeshbhalla', ':', 'I', 'reserve', 'the', 'right', 'to', 'seriously', 'judge', 'anyone', 'who', 'uses', 'these', 'stats', 'to', 'justify', '#', 'demonetization', 'knowing', 'how', 'the', 'survey', 'is', '\\x85 ', 'If', 'even', '50', '%', 'of', 'those', 'who', 'downloaded', 'the', 'app', 'have', 'taken', 'the', '#', 'demonetization', 'survey', ',', 'that', \"'d\", 'make', 'the', 'sample', 'size', '1', 'mln', '.', 'We', 'are', '130', 'mln', 'people', '.', 'RT', '@finiterecursion', ':', 'The', 'two', 'thousand', 'rupee', 'note', 'video', 'review', '\\r\\n\\r\\n', '#', 'DeMonetization', '\\r\\n', '#', 'DeMonetisation', 'https://t.co/BOx57K5yXa', 'RT', '@Dipankar_cpiml', ':', 'The', 'Modi', 'app', 'on', '#', 'De']\n"
          ]
        }
      ]
    },
    {
      "cell_type": "code",
      "source": [],
      "metadata": {
        "id": "HDbyfp0SFn6-"
      },
      "execution_count": null,
      "outputs": []
    },
    {
      "cell_type": "code",
      "source": [
        "# Lemmatizing the text\n",
        "[(token.text,token.lemma_) for token in doc]"
      ],
      "metadata": {
        "id": "44gPC8ZJB0t6"
      },
      "execution_count": null,
      "outputs": []
    },
    {
      "cell_type": "code",
      "source": [
        "# Removing stopwords and punctuations\n",
        "new_tokens=[token for token in doc if (token.is_stop==False|token.is_punct==False)]"
      ],
      "metadata": {
        "id": "BYqgrVoWCa8F"
      },
      "execution_count": 26,
      "outputs": []
    },
    {
      "cell_type": "code",
      "source": [],
      "metadata": {
        "id": "CTrJqVVaCJHK"
      },
      "execution_count": null,
      "outputs": []
    },
    {
      "cell_type": "code",
      "metadata": {
        "id": "fE2WUL65nQPp"
      },
      "source": [
        "# Function for generating word frequency\n",
        "def gen_freq(tokens):\n",
        "\n",
        "    # Creating a pandas series with word frequencies\n",
        "    #see Dataframe.value_counts:Return a Series containing counts of unique rows in the DataFrame.\n",
        "    word_freq = pd.Series([token.text for token in tokens]).value_counts()\n",
        "    #Series is like and a vector but inmutable and each element separte by coma\n",
        "\n",
        "    # Printing frequencies: is the number of most frecuents words\n",
        "    print(word_freq[:20])\n",
        "\n",
        "\n",
        "    return word_freq"
      ],
      "execution_count": 27,
      "outputs": []
    },
    {
      "cell_type": "code",
      "source": [],
      "metadata": {
        "id": "XanQ0HuhCZ-W"
      },
      "execution_count": null,
      "outputs": []
    },
    {
      "cell_type": "code",
      "metadata": {
        "id": "sF3THjydnQPw",
        "colab": {
          "base_uri": "https://localhost:8080/"
        },
        "outputId": "832d46dc-e20b-4ec1-c200-4ed20350f32b"
      },
      "source": [
        "# Getting word frequency\n",
        "#See pandas.Series\n",
        "word_freq=gen_freq(doc)\n",
        "#accessing serie\n",
        "word_freq.keys()\n",
        "word_freq[:3]\n",
        "word_freq['the']\n",
        "#word_freq[['Ishmael','ship']]\n",
        "print(word_freq.size)\n",
        "print(len(word_freq))"
      ],
      "execution_count": 28,
      "outputs": [
        {
          "output_type": "stream",
          "name": "stdout",
          "text": [
            "#                 1015\n",
            ":                  697\n",
            "RT                 629\n",
            "                  425\n",
            "Demonetization     415\n",
            ".                  375\n",
            "\\r\\n               328\n",
            "on                 262\n",
            "demonetization     251\n",
            "is                 238\n",
            "of                 226\n",
            "the                225\n",
            "she                218\n",
            "and                185\n",
            "to                 180\n",
            "in                 164\n",
            ",                  147\n",
            "Modi               146\n",
            "a                  137\n",
            "\\r\\n\\r\\n           136\n",
            "dtype: int64\n",
            "1880\n",
            "1880\n"
          ]
        }
      ]
    },
    {
      "cell_type": "markdown",
      "source": [
        "## Dependency Tags"
      ],
      "metadata": {
        "id": "C7FcjvqueWAc"
      }
    },
    {
      "cell_type": "code",
      "source": [
        "# Getting dependency tags\n",
        "for token in doc:\n",
        "    print(token.text,'=>',token.dep_)\n",
        "HTML(rep_sentence(text[1:1000]))"
      ],
      "metadata": {
        "id": "ap6fc4mIDxe5"
      },
      "execution_count": null,
      "outputs": []
    },
    {
      "cell_type": "code",
      "source": [],
      "metadata": {
        "id": "_LM3MT3LGnPC"
      },
      "execution_count": null,
      "outputs": []
    },
    {
      "cell_type": "code",
      "metadata": {
        "id": "alk8jkknkLID",
        "colab": {
          "base_uri": "https://localhost:8080/",
          "height": 221
        },
        "outputId": "1cf142eb-fb2e-42d3-b834-1361e8f87f87"
      },
      "source": [
        "# Getting dependency tags\n",
        "for token in doc:\n",
        "    print(token.text,'=>',token.dep_)\n",
        "HTML(rep_sentence(text))"
      ],
      "execution_count": null,
      "outputs": [
        {
          "output_type": "stream",
          "name": "stdout",
          "text": [
            "I => nsubj\n",
            "will => aux\n",
            "wear => ROOT\n",
            "a => det\n",
            "white => amod\n",
            "shirt => dobj\n",
            "on => prep\n",
            "Monday => pobj\n",
            ". => punct\n"
          ]
        },
        {
          "output_type": "execute_result",
          "data": {
            "text/plain": [
              "<IPython.core.display.HTML object>"
            ],
            "text/html": [
              "<table width=100%><style>.word{font-weight:bold;}</style><style>.det{background-color:SkyBlue;}</style><style>.aux{background-color:red;}</style><style>.punct{background-color:YellowGreen;}</style><style>.pobj{background-color:yellow;}</style><style>.ROOT{background-color:orange;}</style><style>.amod{background-color:pink;}</style><style>.dobj{background-color:brown;}</style><style>.prep{background-color:purple;}</style><style>.nsubj{background-color:CadetBlue;}</style><tr><td><span class='word'>I</span></td><td><span class='word'>will</span></td><td><span class='word'>wear</span></td><td><span class='word'>a</span></td><td><span class='word'>white</span></td><td><span class='word'>shirt</span></td><td><span class='word'>on</span></td><td><span class='word'>Monday</span></td><td><span class='word'>.</span></td></tr><tr><td><span class='nsubj'>nsubj</span></td><td><span class='aux'>aux</span></td><td><span class='ROOT'>ROOT</span></td><td><span class='det'>det</span></td><td><span class='amod'>amod</span></td><td><span class='dobj'>dobj</span></td><td><span class='prep'>prep</span></td><td><span class='pobj'>pobj</span></td><td><span class='punct'>punct</span></td></tr>"
            ]
          },
          "metadata": {},
          "execution_count": 8
        }
      ]
    },
    {
      "cell_type": "code",
      "metadata": {
        "id": "VgnATZLPkLIP"
      },
      "source": [
        "# Importing visualizer\n",
        "from spacy import displacy"
      ],
      "execution_count": null,
      "outputs": []
    },
    {
      "cell_type": "code",
      "metadata": {
        "id": "qZAg0YtSkLId",
        "colab": {
          "base_uri": "https://localhost:8080/",
          "height": 508
        },
        "outputId": "26ce4b1c-556f-435f-c442-b5d0a3796b34"
      },
      "source": [
        "# Visualizing dependency tree\n",
        "displacy.render(doc,jupyter=True)"
      ],
      "execution_count": null,
      "outputs": [
        {
          "output_type": "display_data",
          "data": {
            "text/plain": [
              "<IPython.core.display.HTML object>"
            ],
            "text/html": [
              "<span class=\"tex2jax_ignore\"><svg xmlns=\"http://www.w3.org/2000/svg\" xmlns:xlink=\"http://www.w3.org/1999/xlink\" xml:lang=\"en\" id=\"d54ea9604ef1461e95e6934825c44bd1-0\" class=\"displacy\" width=\"1450\" height=\"487.0\" direction=\"ltr\" style=\"max-width: none; height: 487.0px; color: #000000; background: #ffffff; font-family: Arial; direction: ltr\">\n",
              "<text class=\"displacy-token\" fill=\"currentColor\" text-anchor=\"middle\" y=\"397.0\">\n",
              "    <tspan class=\"displacy-word\" fill=\"currentColor\" x=\"50\">I</tspan>\n",
              "    <tspan class=\"displacy-tag\" dy=\"2em\" fill=\"currentColor\" x=\"50\">PRON</tspan>\n",
              "</text>\n",
              "\n",
              "<text class=\"displacy-token\" fill=\"currentColor\" text-anchor=\"middle\" y=\"397.0\">\n",
              "    <tspan class=\"displacy-word\" fill=\"currentColor\" x=\"225\">will</tspan>\n",
              "    <tspan class=\"displacy-tag\" dy=\"2em\" fill=\"currentColor\" x=\"225\">AUX</tspan>\n",
              "</text>\n",
              "\n",
              "<text class=\"displacy-token\" fill=\"currentColor\" text-anchor=\"middle\" y=\"397.0\">\n",
              "    <tspan class=\"displacy-word\" fill=\"currentColor\" x=\"400\">wear</tspan>\n",
              "    <tspan class=\"displacy-tag\" dy=\"2em\" fill=\"currentColor\" x=\"400\">VERB</tspan>\n",
              "</text>\n",
              "\n",
              "<text class=\"displacy-token\" fill=\"currentColor\" text-anchor=\"middle\" y=\"397.0\">\n",
              "    <tspan class=\"displacy-word\" fill=\"currentColor\" x=\"575\">a</tspan>\n",
              "    <tspan class=\"displacy-tag\" dy=\"2em\" fill=\"currentColor\" x=\"575\">DET</tspan>\n",
              "</text>\n",
              "\n",
              "<text class=\"displacy-token\" fill=\"currentColor\" text-anchor=\"middle\" y=\"397.0\">\n",
              "    <tspan class=\"displacy-word\" fill=\"currentColor\" x=\"750\">white</tspan>\n",
              "    <tspan class=\"displacy-tag\" dy=\"2em\" fill=\"currentColor\" x=\"750\">ADJ</tspan>\n",
              "</text>\n",
              "\n",
              "<text class=\"displacy-token\" fill=\"currentColor\" text-anchor=\"middle\" y=\"397.0\">\n",
              "    <tspan class=\"displacy-word\" fill=\"currentColor\" x=\"925\">shirt</tspan>\n",
              "    <tspan class=\"displacy-tag\" dy=\"2em\" fill=\"currentColor\" x=\"925\">NOUN</tspan>\n",
              "</text>\n",
              "\n",
              "<text class=\"displacy-token\" fill=\"currentColor\" text-anchor=\"middle\" y=\"397.0\">\n",
              "    <tspan class=\"displacy-word\" fill=\"currentColor\" x=\"1100\">on</tspan>\n",
              "    <tspan class=\"displacy-tag\" dy=\"2em\" fill=\"currentColor\" x=\"1100\">ADP</tspan>\n",
              "</text>\n",
              "\n",
              "<text class=\"displacy-token\" fill=\"currentColor\" text-anchor=\"middle\" y=\"397.0\">\n",
              "    <tspan class=\"displacy-word\" fill=\"currentColor\" x=\"1275\">Monday.</tspan>\n",
              "    <tspan class=\"displacy-tag\" dy=\"2em\" fill=\"currentColor\" x=\"1275\">PROPN</tspan>\n",
              "</text>\n",
              "\n",
              "<g class=\"displacy-arrow\">\n",
              "    <path class=\"displacy-arc\" id=\"arrow-d54ea9604ef1461e95e6934825c44bd1-0-0\" stroke-width=\"2px\" d=\"M70,352.0 C70,177.0 390.0,177.0 390.0,352.0\" fill=\"none\" stroke=\"currentColor\"/>\n",
              "    <text dy=\"1.25em\" style=\"font-size: 0.8em; letter-spacing: 1px\">\n",
              "        <textPath xlink:href=\"#arrow-d54ea9604ef1461e95e6934825c44bd1-0-0\" class=\"displacy-label\" startOffset=\"50%\" side=\"left\" fill=\"currentColor\" text-anchor=\"middle\">nsubj</textPath>\n",
              "    </text>\n",
              "    <path class=\"displacy-arrowhead\" d=\"M70,354.0 L62,342.0 78,342.0\" fill=\"currentColor\"/>\n",
              "</g>\n",
              "\n",
              "<g class=\"displacy-arrow\">\n",
              "    <path class=\"displacy-arc\" id=\"arrow-d54ea9604ef1461e95e6934825c44bd1-0-1\" stroke-width=\"2px\" d=\"M245,352.0 C245,264.5 385.0,264.5 385.0,352.0\" fill=\"none\" stroke=\"currentColor\"/>\n",
              "    <text dy=\"1.25em\" style=\"font-size: 0.8em; letter-spacing: 1px\">\n",
              "        <textPath xlink:href=\"#arrow-d54ea9604ef1461e95e6934825c44bd1-0-1\" class=\"displacy-label\" startOffset=\"50%\" side=\"left\" fill=\"currentColor\" text-anchor=\"middle\">aux</textPath>\n",
              "    </text>\n",
              "    <path class=\"displacy-arrowhead\" d=\"M245,354.0 L237,342.0 253,342.0\" fill=\"currentColor\"/>\n",
              "</g>\n",
              "\n",
              "<g class=\"displacy-arrow\">\n",
              "    <path class=\"displacy-arc\" id=\"arrow-d54ea9604ef1461e95e6934825c44bd1-0-2\" stroke-width=\"2px\" d=\"M595,352.0 C595,177.0 915.0,177.0 915.0,352.0\" fill=\"none\" stroke=\"currentColor\"/>\n",
              "    <text dy=\"1.25em\" style=\"font-size: 0.8em; letter-spacing: 1px\">\n",
              "        <textPath xlink:href=\"#arrow-d54ea9604ef1461e95e6934825c44bd1-0-2\" class=\"displacy-label\" startOffset=\"50%\" side=\"left\" fill=\"currentColor\" text-anchor=\"middle\">det</textPath>\n",
              "    </text>\n",
              "    <path class=\"displacy-arrowhead\" d=\"M595,354.0 L587,342.0 603,342.0\" fill=\"currentColor\"/>\n",
              "</g>\n",
              "\n",
              "<g class=\"displacy-arrow\">\n",
              "    <path class=\"displacy-arc\" id=\"arrow-d54ea9604ef1461e95e6934825c44bd1-0-3\" stroke-width=\"2px\" d=\"M770,352.0 C770,264.5 910.0,264.5 910.0,352.0\" fill=\"none\" stroke=\"currentColor\"/>\n",
              "    <text dy=\"1.25em\" style=\"font-size: 0.8em; letter-spacing: 1px\">\n",
              "        <textPath xlink:href=\"#arrow-d54ea9604ef1461e95e6934825c44bd1-0-3\" class=\"displacy-label\" startOffset=\"50%\" side=\"left\" fill=\"currentColor\" text-anchor=\"middle\">amod</textPath>\n",
              "    </text>\n",
              "    <path class=\"displacy-arrowhead\" d=\"M770,354.0 L762,342.0 778,342.0\" fill=\"currentColor\"/>\n",
              "</g>\n",
              "\n",
              "<g class=\"displacy-arrow\">\n",
              "    <path class=\"displacy-arc\" id=\"arrow-d54ea9604ef1461e95e6934825c44bd1-0-4\" stroke-width=\"2px\" d=\"M420,352.0 C420,89.5 920.0,89.5 920.0,352.0\" fill=\"none\" stroke=\"currentColor\"/>\n",
              "    <text dy=\"1.25em\" style=\"font-size: 0.8em; letter-spacing: 1px\">\n",
              "        <textPath xlink:href=\"#arrow-d54ea9604ef1461e95e6934825c44bd1-0-4\" class=\"displacy-label\" startOffset=\"50%\" side=\"left\" fill=\"currentColor\" text-anchor=\"middle\">dobj</textPath>\n",
              "    </text>\n",
              "    <path class=\"displacy-arrowhead\" d=\"M920.0,354.0 L928.0,342.0 912.0,342.0\" fill=\"currentColor\"/>\n",
              "</g>\n",
              "\n",
              "<g class=\"displacy-arrow\">\n",
              "    <path class=\"displacy-arc\" id=\"arrow-d54ea9604ef1461e95e6934825c44bd1-0-5\" stroke-width=\"2px\" d=\"M420,352.0 C420,2.0 1100.0,2.0 1100.0,352.0\" fill=\"none\" stroke=\"currentColor\"/>\n",
              "    <text dy=\"1.25em\" style=\"font-size: 0.8em; letter-spacing: 1px\">\n",
              "        <textPath xlink:href=\"#arrow-d54ea9604ef1461e95e6934825c44bd1-0-5\" class=\"displacy-label\" startOffset=\"50%\" side=\"left\" fill=\"currentColor\" text-anchor=\"middle\">prep</textPath>\n",
              "    </text>\n",
              "    <path class=\"displacy-arrowhead\" d=\"M1100.0,354.0 L1108.0,342.0 1092.0,342.0\" fill=\"currentColor\"/>\n",
              "</g>\n",
              "\n",
              "<g class=\"displacy-arrow\">\n",
              "    <path class=\"displacy-arc\" id=\"arrow-d54ea9604ef1461e95e6934825c44bd1-0-6\" stroke-width=\"2px\" d=\"M1120,352.0 C1120,264.5 1260.0,264.5 1260.0,352.0\" fill=\"none\" stroke=\"currentColor\"/>\n",
              "    <text dy=\"1.25em\" style=\"font-size: 0.8em; letter-spacing: 1px\">\n",
              "        <textPath xlink:href=\"#arrow-d54ea9604ef1461e95e6934825c44bd1-0-6\" class=\"displacy-label\" startOffset=\"50%\" side=\"left\" fill=\"currentColor\" text-anchor=\"middle\">pobj</textPath>\n",
              "    </text>\n",
              "    <path class=\"displacy-arrowhead\" d=\"M1260.0,354.0 L1268.0,342.0 1252.0,342.0\" fill=\"currentColor\"/>\n",
              "</g>\n",
              "</svg></span>"
            ]
          },
          "metadata": {}
        }
      ]
    },
    {
      "cell_type": "code",
      "metadata": {
        "id": "Xk1rAKNNkLIs",
        "colab": {
          "base_uri": "https://localhost:8080/"
        },
        "outputId": "31b401b8-e741-4e35-c07f-8649b65b07cf"
      },
      "source": [
        "# Getting head word (parent)\n",
        "for token in doc:\n",
        "    print(token.text,'=>',token.head.text)"
      ],
      "execution_count": null,
      "outputs": [
        {
          "output_type": "stream",
          "name": "stdout",
          "text": [
            "I => wear\n",
            "will => wear\n",
            "wear => wear\n",
            "a => shirt\n",
            "white => shirt\n",
            "shirt => wear\n",
            "on => wear\n",
            "Monday => on\n",
            ". => wear\n"
          ]
        }
      ]
    },
    {
      "cell_type": "code",
      "metadata": {
        "id": "W95_MGrKkLI2",
        "colab": {
          "base_uri": "https://localhost:8080/"
        },
        "outputId": "20da04ad-b820-4445-f0b6-f28e10920745"
      },
      "source": [
        "# Getting immediate children\n",
        "for token in doc:\n",
        "    print(token.text,'=>',token.children)"
      ],
      "execution_count": null,
      "outputs": [
        {
          "output_type": "stream",
          "text": [
            "I => <generator object at 0x7f7d25a12370>\n",
            "will => <generator object at 0x7f7d25a12370>\n",
            "wear => <generator object at 0x7f7d25a12370>\n",
            "a => <generator object at 0x7f7d25a12370>\n",
            "white => <generator object at 0x7f7d25a12370>\n",
            "shirt => <generator object at 0x7f7d25a12370>\n",
            "on => <generator object at 0x7f7d25a12370>\n",
            "Monday => <generator object at 0x7f7d25a12370>\n",
            ". => <generator object at 0x7f7d25a12370>\n"
          ],
          "name": "stdout"
        }
      ]
    },
    {
      "cell_type": "code",
      "metadata": {
        "id": "lSyf6uyXkLI_",
        "colab": {
          "base_uri": "https://localhost:8080/"
        },
        "outputId": "9a97cc90-5b21-45cb-dfdf-dc91e7d6f0a2"
      },
      "source": [
        "# Getting immediate children\n",
        "for token in doc:\n",
        "    print(token.text,'=>',[child.text for child in token.children])"
      ],
      "execution_count": null,
      "outputs": [
        {
          "output_type": "stream",
          "name": "stdout",
          "text": [
            "I => []\n",
            "will => []\n",
            "wear => ['I', 'will', 'shirt', 'on', '.']\n",
            "a => []\n",
            "white => []\n",
            "shirt => ['a', 'white']\n",
            "on => ['Monday']\n",
            "Monday => []\n",
            ". => []\n"
          ]
        }
      ]
    },
    {
      "cell_type": "code",
      "metadata": {
        "id": "eUnk0p34kLJG",
        "colab": {
          "base_uri": "https://localhost:8080/"
        },
        "outputId": "57053ff1-50f1-4364-d8a5-00a1766840ce"
      },
      "source": [
        "# Getting left and right children\n",
        "for token in doc:\n",
        "    print(token.text,'=>',token.lefts,'=>',token.rights)\n",
        "\n",
        "type(token.lefts)"
      ],
      "execution_count": null,
      "outputs": [
        {
          "output_type": "stream",
          "text": [
            "I => <generator object at 0x7f7d25a120f0> => <generator object at 0x7f7d25a12910>\n",
            "will => <generator object at 0x7f7d25a120f0> => <generator object at 0x7f7d25a12910>\n",
            "wear => <generator object at 0x7f7d25a120f0> => <generator object at 0x7f7d25a12910>\n",
            "a => <generator object at 0x7f7d25a120f0> => <generator object at 0x7f7d25a12910>\n",
            "white => <generator object at 0x7f7d25a120f0> => <generator object at 0x7f7d25a12910>\n",
            "shirt => <generator object at 0x7f7d25a120f0> => <generator object at 0x7f7d25a12910>\n",
            "on => <generator object at 0x7f7d25a120f0> => <generator object at 0x7f7d25a12910>\n",
            "Monday => <generator object at 0x7f7d25a120f0> => <generator object at 0x7f7d25a12910>\n",
            ". => <generator object at 0x7f7d25a120f0> => <generator object at 0x7f7d25a12910>\n"
          ],
          "name": "stdout"
        },
        {
          "output_type": "execute_result",
          "data": {
            "text/plain": [
              "generator"
            ]
          },
          "metadata": {
            "tags": []
          },
          "execution_count": 16
        }
      ]
    },
    {
      "cell_type": "code",
      "metadata": {
        "id": "L4M1lUDNkLJO",
        "colab": {
          "base_uri": "https://localhost:8080/"
        },
        "outputId": "293963ef-da6b-4722-ab95-46cbdedfa5ab"
      },
      "source": [
        "# Getting left children\n",
        "for token in doc:\n",
        "    print(token.text,'=>',token.n_lefts,'=>',[left for left in token.lefts])"
      ],
      "execution_count": null,
      "outputs": [
        {
          "output_type": "stream",
          "name": "stdout",
          "text": [
            "I => 0 => []\n",
            "will => 0 => []\n",
            "wear => 2 => [I, will]\n",
            "a => 0 => []\n",
            "white => 0 => []\n",
            "shirt => 2 => [a, white]\n",
            "on => 0 => []\n",
            "Monday => 0 => []\n",
            ". => 0 => []\n"
          ]
        }
      ]
    },
    {
      "cell_type": "code",
      "metadata": {
        "id": "8YTJlA-ikLJX"
      },
      "source": [
        "# Getting right children\n",
        "for token in doc:\n",
        "    print(token.text,'=>',token.n_rights,'=>',[right for right in token.rights])"
      ],
      "execution_count": null,
      "outputs": []
    },
    {
      "cell_type": "code",
      "source": [],
      "metadata": {
        "id": "GrKVmdxaHDaF"
      },
      "execution_count": null,
      "outputs": []
    },
    {
      "cell_type": "markdown",
      "source": [
        "## Matcher"
      ],
      "metadata": {
        "id": "uE7kM7ibbikY"
      }
    },
    {
      "cell_type": "code",
      "source": [
        "import spacy\n",
        "\n",
        "# Import the Matcher\n",
        "from spacy.matcher import Matcher\n",
        "\n",
        "# Load a pipeline and create the nlp object\n",
        "nlp = spacy.load(\"en_core_web_sm\")\n",
        "\n",
        "# Initialize the matcher with the shared vocab\n",
        "matcher = Matcher(nlp.vocab)\n",
        "\n",
        "# Add the pattern to the matcher\n",
        "pattern = [{\"TEXT\": \"iPhone\"}, {\"TEXT\": \"X\"}]\n",
        "matcher.add(\"IPHONE_PATTERN\", [pattern])\n",
        "\n",
        "# Process some text\n",
        "doc = nlp(\"Upcoming iPhone X release date leaked\")\n",
        "\n",
        "# Call the matcher on the doc\n",
        "matches = matcher(doc)"
      ],
      "metadata": {
        "id": "ngvZefpabmb7"
      },
      "execution_count": 40,
      "outputs": []
    },
    {
      "cell_type": "code",
      "source": [
        "# Iterate over the matches\n",
        "for match_id, start, end in matches:\n",
        "    # Get the matched span\n",
        "    matched_span = doc[start:end]\n",
        "    print(matched_span.text)"
      ],
      "metadata": {
        "id": "oZRR8rWEb1SC"
      },
      "execution_count": 41,
      "outputs": []
    },
    {
      "cell_type": "code",
      "source": [
        "pattern = [\n",
        "    {\"IS_DIGIT\": True},\n",
        "    {\"LOWER\": \"fifa\"},\n",
        "    {\"LOWER\": \"world\"},\n",
        "    {\"LOWER\": \"cup\"},\n",
        "    {\"IS_PUNCT\": True}\n",
        "]\n",
        "matcher.add(\"digito+fifa+wworld+cup+.\", [pattern])"
      ],
      "metadata": {
        "id": "-aZG6G1Fb6w6"
      },
      "execution_count": 45,
      "outputs": []
    },
    {
      "cell_type": "code",
      "source": [
        "doc = nlp(\"2018 FIFA World Cup: France won!\")"
      ],
      "metadata": {
        "id": "_eb4v--pcLKZ"
      },
      "execution_count": 48,
      "outputs": []
    },
    {
      "cell_type": "code",
      "source": [
        "matches = matcher(doc)\n",
        "print (type(matches))\n",
        "#for match_id, start, end in matches:\n",
        "    # Get the matched span\n",
        "#    matched_span = doc[start:end]\n",
        "  # print(matcheds.text)\n",
        "len(matches)"
      ],
      "metadata": {
        "colab": {
          "base_uri": "https://localhost:8080/"
        },
        "id": "nNsCwI60cqoL",
        "outputId": "38c75888-8338-4558-c18a-5249e709e3c3"
      },
      "execution_count": 57,
      "outputs": [
        {
          "output_type": "stream",
          "name": "stdout",
          "text": [
            "<class 'list'>\n"
          ]
        },
        {
          "output_type": "execute_result",
          "data": {
            "text/plain": [
              "2"
            ]
          },
          "metadata": {},
          "execution_count": 57
        }
      ]
    },
    {
      "cell_type": "code",
      "source": [
        "pattern = [\n",
        "    {\"LEMMA\": \"love\", \"POS\": \"VERB\"},\n",
        "    {\"POS\": \"NOUN\"}\n",
        "]\n",
        "matcher.add(\"lema+pos+pos.\", [pattern])"
      ],
      "metadata": {
        "id": "Ans7naOjde3c"
      },
      "execution_count": 58,
      "outputs": []
    },
    {
      "cell_type": "code",
      "source": [
        "doc = nlp(\"I loved dogs but now I love cats more.\")\n",
        "matches = matcher(doc)\n",
        "print (type(matches))\n",
        "for match_id, start, end in matches:\n",
        "    # Get the matched span\n",
        "    matched_span = doc[start:end]\n",
        "    print(matched_span.text)\n",
        "len(matches)"
      ],
      "metadata": {
        "colab": {
          "base_uri": "https://localhost:8080/"
        },
        "id": "ysNGGZQSdr_-",
        "outputId": "67183007-f266-459b-9535-47779bdc4f48"
      },
      "execution_count": 63,
      "outputs": [
        {
          "output_type": "stream",
          "name": "stdout",
          "text": [
            "<class 'list'>\n",
            "loved dogs\n",
            "love cats\n"
          ]
        },
        {
          "output_type": "execute_result",
          "data": {
            "text/plain": [
              "2"
            ]
          },
          "metadata": {},
          "execution_count": 63
        }
      ]
    },
    {
      "cell_type": "markdown",
      "source": [
        "## TD-idf\n"
      ],
      "metadata": {
        "id": "GM79QGZibblH"
      }
    },
    {
      "cell_type": "code",
      "metadata": {
        "id": "2NkzXpHzaglz"
      },
      "source": [
        "!pip install spacy\n",
        "!python -m spacy download en_core_web_lg\n",
        "import spacy\n"
      ],
      "execution_count": null,
      "outputs": []
    },
    {
      "cell_type": "code",
      "metadata": {
        "id": "mXWWSJ-Pa1nl"
      },
      "source": [
        "nlp = spacy.load(\"en_core_web_sm\")\n",
        "def spacy_tokenizer(document):\n",
        "    tokens = nlp(document)\n",
        "    tokens = [token.lemma_ for token in tokens if (\n",
        "        token.is_stop == False and \\\n",
        "        token.is_punct == False and \\\n",
        "        token.lemma_.strip()!= '')]\n",
        "    return tokens"
      ],
      "execution_count": null,
      "outputs": []
    },
    {
      "cell_type": "code",
      "metadata": {
        "id": "yo9BPTmQbf-l"
      },
      "source": [
        "example_corpus = [\n",
        "    \"Monsters are bad.\", \\\n",
        "    \"I saw a monster yesterday.\", \\\n",
        "    \"Why are we talking about bad monsters?\"]\n"
      ],
      "execution_count": null,
      "outputs": []
    },
    {
      "cell_type": "code",
      "metadata": {
        "id": "Zyqq_jkFcWeA"
      },
      "source": [
        "import sklearn\n",
        "from sklearn.feature_extraction.text import TfidfVectorizer,CountVectorizer\n",
        "tfidf_vector = TfidfVectorizer(input = 'content', tokenizer = spacy_tokenizer)\n",
        "result = tfidf_vector.fit_transform(example_corpus)"
      ],
      "execution_count": null,
      "outputs": []
    },
    {
      "cell_type": "code",
      "metadata": {
        "colab": {
          "base_uri": "https://localhost:8080/"
        },
        "id": "YPQOIjx3eMyl",
        "outputId": "c7a2b9e4-dfc5-4dc8-ac50-90229755d354"
      },
      "source": [
        "tfidf_vector.get_feature_names()"
      ],
      "execution_count": null,
      "outputs": [
        {
          "output_type": "execute_result",
          "data": {
            "text/plain": [
              "['bad', 'monster', 'see', 'talk', 'yesterday']"
            ]
          },
          "metadata": {},
          "execution_count": 14
        }
      ]
    },
    {
      "cell_type": "code",
      "metadata": {
        "id": "HjdTRo46ecrC"
      },
      "source": [
        "import pandas as pd\n",
        "dense = result.todense()\n",
        "denselist = dense.tolist()\n",
        "df = pd.DataFrame(\n",
        "    denselist,columns=tfidf_vector.get_feature_names())"
      ],
      "execution_count": null,
      "outputs": []
    },
    {
      "cell_type": "code",
      "metadata": {
        "colab": {
          "base_uri": "https://localhost:8080/",
          "height": 143
        },
        "id": "UZti6kOnd91g",
        "outputId": "8044854b-b8fd-4dae-c1ef-fe694d4a50d2"
      },
      "source": [
        "result\n",
        "df\n"
      ],
      "execution_count": null,
      "outputs": [
        {
          "output_type": "execute_result",
          "data": {
            "text/html": [
              "<div>\n",
              "<style scoped>\n",
              "    .dataframe tbody tr th:only-of-type {\n",
              "        vertical-align: middle;\n",
              "    }\n",
              "\n",
              "    .dataframe tbody tr th {\n",
              "        vertical-align: top;\n",
              "    }\n",
              "\n",
              "    .dataframe thead th {\n",
              "        text-align: right;\n",
              "    }\n",
              "</style>\n",
              "<table border=\"1\" class=\"dataframe\">\n",
              "  <thead>\n",
              "    <tr style=\"text-align: right;\">\n",
              "      <th></th>\n",
              "      <th>bad</th>\n",
              "      <th>monster</th>\n",
              "      <th>see</th>\n",
              "      <th>talk</th>\n",
              "      <th>yesterday</th>\n",
              "    </tr>\n",
              "  </thead>\n",
              "  <tbody>\n",
              "    <tr>\n",
              "      <th>0</th>\n",
              "      <td>0.789807</td>\n",
              "      <td>0.613356</td>\n",
              "      <td>0.000000</td>\n",
              "      <td>0.000000</td>\n",
              "      <td>0.000000</td>\n",
              "    </tr>\n",
              "    <tr>\n",
              "      <th>1</th>\n",
              "      <td>0.000000</td>\n",
              "      <td>0.385372</td>\n",
              "      <td>0.652491</td>\n",
              "      <td>0.000000</td>\n",
              "      <td>0.652491</td>\n",
              "    </tr>\n",
              "    <tr>\n",
              "      <th>2</th>\n",
              "      <td>0.547832</td>\n",
              "      <td>0.425441</td>\n",
              "      <td>0.000000</td>\n",
              "      <td>0.720333</td>\n",
              "      <td>0.000000</td>\n",
              "    </tr>\n",
              "  </tbody>\n",
              "</table>\n",
              "</div>"
            ],
            "text/plain": [
              "        bad   monster       see      talk  yesterday\n",
              "0  0.789807  0.613356  0.000000  0.000000   0.000000\n",
              "1  0.000000  0.385372  0.652491  0.000000   0.652491\n",
              "2  0.547832  0.425441  0.000000  0.720333   0.000000"
            ]
          },
          "metadata": {},
          "execution_count": 17
        }
      ]
    },
    {
      "cell_type": "code",
      "metadata": {
        "colab": {
          "base_uri": "https://localhost:8080/"
        },
        "id": "3jRlLH9EgfnO",
        "outputId": "2bec2b02-070a-49a8-9583-ead8e7d8bc68"
      },
      "source": [
        "mean_df = df.mean()\n",
        "print(mean_df)"
      ],
      "execution_count": null,
      "outputs": [
        {
          "output_type": "stream",
          "name": "stdout",
          "text": [
            "bad          0.445880\n",
            "monster      0.474723\n",
            "see          0.217497\n",
            "talk         0.240111\n",
            "yesterday    0.217497\n",
            "dtype: float64\n"
          ]
        }
      ]
    }
  ]
}