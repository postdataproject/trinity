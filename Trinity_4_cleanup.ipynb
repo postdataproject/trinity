{
  "nbformat": 4,
  "nbformat_minor": 5,
  "metadata": {
    "colab": {
      "name": "Trinity_4_cleanup.ipynb",
      "provenance": [],
      "toc_visible": true
    },
    "kernelspec": {
      "display_name": "Python 3",
      "language": "python",
      "name": "python3"
    },
    "language_info": {
      "codemirror_mode": {
        "name": "ipython",
        "version": 3
      },
      "file_extension": ".py",
      "mimetype": "text/x-python",
      "name": "python",
      "nbconvert_exporter": "python",
      "pygments_lexer": "ipython3",
      "version": "3.8.5"
    }
  },
  "cells": [
    {
      "cell_type": "markdown",
      "metadata": {
        "id": "jewish-software"
      },
      "source": [
        "# ***CLEAN UP TEXT***\n",
        "\n",
        "We can clean up a text in different ways. The most common method is using regular exprexions. In python we can use `re` module.\n",
        "\n",
        "https://docs.python.org/3/library/re.html"
      ],
      "id": "jewish-software"
    },
    {
      "cell_type": "markdown",
      "metadata": {
        "id": "gShCpqd-ONUq"
      },
      "source": [
        "# Regular Expressions in Python\n",
        "### Table of contents:\n",
        " **Regexp cheatsheet**\n",
        "0. **sub()**\n",
        "1. **match()**\n",
        "2. **search()**\n",
        "3. **findall()**\n",
        "4. **finditer()**\n",
        "5. **split()**\n",
        "6. **Groups**"
      ],
      "id": "gShCpqd-ONUq"
    },
    {
      "cell_type": "markdown",
      "metadata": {
        "id": "gentle-standing"
      },
      "source": [
        "## The clean Up process is like to paint a picture, maybe 20% technique , maybe 80% creativity. You have to know what you want to obtain at the end of the process.\n"
      ],
      "id": "gentle-standing"
    },
    {
      "cell_type": "markdown",
      "metadata": {
        "id": "IFNNl4rQNBG6"
      },
      "source": [
        "# Building Regular expresions \n",
        "\n",
        "## a) Simple regular expressions\n",
        "\n",
        "###We put in braquets characters we want to match\n",
        "\n",
        "e.g [L|l]it[t|z]le. \n",
        "\n",
        "Python help us with some funtions to use regular expressions.\n",
        "\n"
      ],
      "id": "IFNNl4rQNBG6"
    },
    {
      "cell_type": "markdown",
      "metadata": {
        "id": "stopped-douglas"
      },
      "source": [
        "Then, we replace any other character we want."
      ],
      "id": "stopped-douglas"
    },
    {
      "cell_type": "markdown",
      "metadata": {
        "id": "fuzzy-chain"
      },
      "source": [
        "## b) Complex regular expression \n",
        "### We can define  GROUPS. \n",
        "A group is all the characters that match a regular expression defines in  parentheses. Each group defines a search pattern\n",
        "\n",
        "   e.g. ([A-Z]+) ,([0-9]+[A-Z])\n",
        "    \n",
        "    The string is formed by a cero or more capital letters A-Z \n",
        "    followed by a white space and a coma followed by cero or more \n",
        "    figures and end in a capital letter.\n",
        "    \n",
        "    +\n",
        "    Cero or more times\n",
        "    [A-Z]\n",
        "    Letters A,B.....Z\n",
        "    [0-9]\n",
        "    digit 0,1,...9\n"
      ],
      "id": "fuzzy-chain"
    },
    {
      "cell_type": "markdown",
      "metadata": {
        "id": "5xA-Pu6TVwbx"
      },
      "source": [
        ""
      ],
      "id": "5xA-Pu6TVwbx"
    },
    {
      "cell_type": "markdown",
      "metadata": {
        "id": "straight-shelter"
      },
      "source": [
        "## c) **Regexp cheatsheet:**\n",
        "\n",
        "\n",
        "**\\d**\n",
        "\n",
        "    Matches any decimal digit; this is equivalent to the class [0-9].\n",
        "**\\D**\n",
        "\n",
        "    Matches any non-digit character; this is equivalent to the class [^0-9].\n",
        "**\\s**\n",
        "\n",
        "    Matches any whitespace character; this is equivalent to the class [ \\t\\n\\r\\f\\v].\n",
        "**\\S**\n",
        "\n",
        "    Matches any non-whitespace character; this is equivalent to the class [^ \\t\\n\\r\\f\\v].\n",
        "**\\w**\n",
        "\n",
        "    Matches any alphanumeric character; this is equivalent to the class [a-zA-Z0-9_].\n",
        "**\\W**\n",
        "\n",
        "    Matches any non-alphanumeric character; this is equivalent to the class [^a-zA-Z0-9_].\n",
        "    \\*\tcero or more, similar to {0,}.\n",
        "\n",
        "**\\+**\n",
        "\n",
        "    one or more, similar to {1,}.\n",
        "\n",
        "**?**\n",
        "\n",
        "    cero or one, similar to {0,1}.\n",
        "\n",
        "**{n}**\t\n",
        "\n",
        "    Exactly the specified number of occurrences\n",
        "\n",
        "**{n,}**\n",
        "\n",
        "    At least the specified number of occurrences.\n",
        "\n",
        "**{n,m}**\t\n",
        "    \n",
        "    Al least n number of occurrences but not more than  m number of occurrences.\n",
        "\n",
        "**\\[\\]**\n",
        "    \n",
        "    A set of characters\t\"[a-m]\"\t\n",
        "\n",
        "**\\\\**\n",
        "\n",
        "    Signals a special sequence (can also be used to escape special characters)\t\"\\d\"\t\n",
        "\n",
        "**.**\t\n",
        "\n",
        "    Any character (except newline character)\t\"he..o\"\t\n",
        "\n",
        "**^**\n",
        "    \n",
        "    Starts with\t\"^hello\"\t\n",
        "\t\n",
        "**|**\t\n",
        "\n",
        "    Either or\t\"falls|stays\"\t\n",
        "\n",
        "**()**\t\n",
        "\n",
        "    Capture and group\t \n"
      ],
      "id": "straight-shelter"
    },
    {
      "cell_type": "markdown",
      "metadata": {
        "id": "c5PP1R3Qr01p"
      },
      "source": [
        "https://docs.python.org/3/library/re.html"
      ],
      "id": "c5PP1R3Qr01p"
    },
    {
      "cell_type": "markdown",
      "metadata": {
        "id": "ufKKnAkuNBG4"
      },
      "source": [
        "#CODE"
      ],
      "id": "ufKKnAkuNBG4"
    },
    {
      "cell_type": "code",
      "metadata": {
        "id": "Xmg2fm4Jm67r"
      },
      "source": [
        "import re"
      ],
      "id": "Xmg2fm4Jm67r",
      "execution_count": 1,
      "outputs": []
    },
    {
      "cell_type": "markdown",
      "metadata": {
        "id": "l4ZatWPxA1us"
      },
      "source": [
        "# 0. sub()\n",
        "Searches for a substring and replaces it with another string"
      ],
      "id": "l4ZatWPxA1us"
    },
    {
      "cell_type": "markdown",
      "metadata": {
        "id": "XuPWHcAHm67s"
      },
      "source": [
        "Then, we replace any other character we want."
      ],
      "id": "XuPWHcAHm67s"
    },
    {
      "cell_type": "markdown",
      "metadata": {
        "id": "M5MeDbzcNBG9"
      },
      "source": [
        "### c) We can look for a pattern and replace it for another string\n",
        "\n",
        "e.g. cero or more tabs replace by blank `r'\\t+', ' '`\n",
        "\n",
        "e.g. Carriage return replace by blank `r'\\n', ''`"
      ],
      "id": "M5MeDbzcNBG9"
    },
    {
      "cell_type": "code",
      "metadata": {
        "colab": {
          "base_uri": "https://localhost:8080/"
        },
        "id": "TUyGHQMOA1ut",
        "outputId": "47eff8d7-34ce-4243-cea6-2c7bf47c3faa"
      },
      "source": [
        "text=\"XXXXX largest Analytics community of India.\"\n",
        "\n",
        "# Replacing a substring using sub()\n",
        "result=re.sub('India', 'the World',text)\n",
        "print(result)"
      ],
      "id": "TUyGHQMOA1ut",
      "execution_count": 2,
      "outputs": [
        {
          "output_type": "stream",
          "name": "stdout",
          "text": [
            "XXXXX largest Analytics community of the World.\n"
          ]
        }
      ]
    },
    {
      "cell_type": "code",
      "metadata": {
        "id": "nuVYdfRfNBG-"
      },
      "source": [
        "text = \"\"\"http://gutember-project.org la 123.245.78.9 \\n\\n Call me Ishmael.% Some years ago—never mind how long precisely—having % littLe or no money in / my purse, and nothing particular to  -- interest me\n",
        "  on    shore, I    thought I would sail about \\n a little- Little litzle and % see the watery part\n",
        "of the world.  NOTE ,999A  \"\"\"\n",
        "\n",
        "text = re.sub(r'%', '', text)\n",
        "text = re.sub(r'/', '', text)\n",
        "text = re.sub(r'-', '', text)"
      ],
      "id": "nuVYdfRfNBG-",
      "execution_count": 10,
      "outputs": []
    },
    {
      "cell_type": "code",
      "metadata": {
        "colab": {
          "base_uri": "https://localhost:8080/",
          "height": 53
        },
        "id": "dense-witness",
        "outputId": "7e54d30b-cbd2-483c-8bdc-552f94fdf1ff"
      },
      "source": [
        "text"
      ],
      "id": "dense-witness",
      "execution_count": 11,
      "outputs": [
        {
          "output_type": "execute_result",
          "data": {
            "application/vnd.google.colaboratory.intrinsic+json": {
              "type": "string"
            },
            "text/plain": [
              "'http:gutemberproject.org la 123.245.78.9 \\n\\n Call me Ishmael. Some years ago—never mind how long precisely—having  littLe or no money in  my purse, and nothing particular to   interest me\\n  on    shore, I    thought I would sail about \\n a little Little litzle and  see the watery part\\nof the world.  NOTE ,999A  '"
            ]
          },
          "metadata": {},
          "execution_count": 11
        }
      ]
    },
    {
      "cell_type": "code",
      "metadata": {
        "id": "animal-representative"
      },
      "source": [
        "text = re.sub(r'\\n', '', text)"
      ],
      "id": "animal-representative",
      "execution_count": 5,
      "outputs": []
    },
    {
      "cell_type": "code",
      "metadata": {
        "id": "systematic-lighter",
        "outputId": "de0f1e0d-f831-45c8-ce4b-f2400bf01b40",
        "colab": {
          "base_uri": "https://localhost:8080/",
          "height": 53
        }
      },
      "source": [
        "text = re.sub(r'\\t+', ' ', text)\n",
        "text = re.sub(r'\\n{2,}', '', text)\n",
        "text = re.sub(r' {2,}', ' ', text)\n",
        "text"
      ],
      "id": "systematic-lighter",
      "execution_count": 7,
      "outputs": [
        {
          "output_type": "execute_result",
          "data": {
            "application/vnd.google.colaboratory.intrinsic+json": {
              "type": "string"
            },
            "text/plain": [
              "'http:gutemberproject.org la 123.245.78.9 Call me Ishmael. Some years ago—never mind how long precisely—having littLe or no money in my purse, and nothing particular to interest me on shore, I thought I would sail about a little Little litzle and see the watery partof the world. NOTE ,999A '"
            ]
          },
          "metadata": {},
          "execution_count": 7
        }
      ]
    },
    {
      "cell_type": "markdown",
      "metadata": {
        "id": "GOz2gQbhm67t"
      },
      "source": [
        "Any sequence of two or more spaces should be converted into one space"
      ],
      "id": "GOz2gQbhm67t"
    },
    {
      "cell_type": "markdown",
      "metadata": {
        "id": "union-circuit"
      },
      "source": [
        "Additionally, we can remove any carriage return"
      ],
      "id": "union-circuit"
    },
    {
      "cell_type": "code",
      "metadata": {
        "id": "tLj3GUt4m67t"
      },
      "source": [
        "text = re.sub(r'\\n', '', text)"
      ],
      "id": "tLj3GUt4m67t",
      "execution_count": 12,
      "outputs": []
    },
    {
      "cell_type": "code",
      "metadata": {
        "colab": {
          "base_uri": "https://localhost:8080/",
          "height": 53
        },
        "id": "established-scope",
        "outputId": "5249caf8-7577-4b42-c05f-14ce827d9075"
      },
      "source": [
        "text"
      ],
      "id": "established-scope",
      "execution_count": 13,
      "outputs": [
        {
          "output_type": "execute_result",
          "data": {
            "application/vnd.google.colaboratory.intrinsic+json": {
              "type": "string"
            },
            "text/plain": [
              "'http:gutemberproject.org la 123.245.78.9  Call me Ishmael. Some years ago—never mind how long precisely—having  littLe or no money in  my purse, and nothing particular to   interest me  on    shore, I    thought I would sail about  a little Little litzle and  see the watery partof the world.  NOTE ,999A  '"
            ]
          },
          "metadata": {},
          "execution_count": 13
        }
      ]
    },
    {
      "cell_type": "markdown",
      "metadata": {
        "id": "mTo7BrfvA1th"
      },
      "source": [
        "# 1. match()\n",
        "Checks for a match only at the beginning of the string"
      ],
      "id": "mTo7BrfvA1th"
    },
    {
      "cell_type": "code",
      "metadata": {
        "colab": {
          "base_uri": "https://localhost:8080/"
        },
        "id": "x51ZeL5YA1tm",
        "scrolled": true,
        "outputId": "011b0315-6aac-4fd0-c84a-a5af7e9f7889"
      },
      "source": [
        "# Defining a string\n",
        "string = \" Tiger is the national animal of India. lives in Forest.\"\n",
        "\n",
        "# Defining the pattern\n",
        "pattern = \"Tiger\"\n",
        "\n",
        "# Running match() on a string\n",
        "result = re.match(pattern, string)\n",
        "\n",
        "# Printing the result\n",
        "print(result)\n",
        "type(result)"
      ],
      "id": "x51ZeL5YA1tm",
      "execution_count": 15,
      "outputs": [
        {
          "output_type": "stream",
          "name": "stdout",
          "text": [
            "None\n"
          ]
        },
        {
          "output_type": "execute_result",
          "data": {
            "text/plain": [
              "NoneType"
            ]
          },
          "metadata": {},
          "execution_count": 15
        }
      ]
    },
    {
      "cell_type": "code",
      "metadata": {
        "colab": {
          "base_uri": "https://localhost:8080/"
        },
        "id": "1hvbChN1A1tx",
        "outputId": "49ffa17e-c334-4c85-af8d-ec3501f6e885"
      },
      "source": [
        "# Defining a string\n",
        "string = \"Tiger is the national animal of India.  lives in Forest.\"\n",
        "\n",
        "# Defining the pattern\n",
        "pattern = \"Tiger\"\n",
        "\n",
        "# Extracting String from a match object\n",
        "result = re.match(pattern, string).group()\n",
        "\n",
        "# Printing the result\n",
        "print(result)\n",
        "type(result)"
      ],
      "id": "1hvbChN1A1tx",
      "execution_count": 16,
      "outputs": [
        {
          "output_type": "stream",
          "name": "stdout",
          "text": [
            "Tiger\n"
          ]
        },
        {
          "output_type": "execute_result",
          "data": {
            "text/plain": [
              "str"
            ]
          },
          "metadata": {},
          "execution_count": 16
        }
      ]
    },
    {
      "cell_type": "code",
      "metadata": {
        "colab": {
          "base_uri": "https://localhost:8080/"
        },
        "id": "E7jP27xLA1t6",
        "scrolled": true,
        "outputId": "191798ae-ca44-4712-b076-030697b3bbaa"
      },
      "source": [
        "string = \"The national animal of India is Tiger. Tiger lives in Forest.\"\n",
        "pattern = \"Tiger\"\n",
        "\n",
        "# Checking for match\n",
        "result = re.match(pattern, string)\n",
        "print(result)"
      ],
      "id": "E7jP27xLA1t6",
      "execution_count": 17,
      "outputs": [
        {
          "output_type": "stream",
          "name": "stdout",
          "text": [
            "None\n"
          ]
        }
      ]
    },
    {
      "cell_type": "markdown",
      "metadata": {
        "id": "6Yn2DE-EA1uE"
      },
      "source": [
        "# 2. search()\n",
        "Locates a sub-string matching the RegEx pattern anywhere in the string"
      ],
      "id": "6Yn2DE-EA1uE"
    },
    {
      "cell_type": "code",
      "metadata": {
        "colab": {
          "base_uri": "https://localhost:8080/"
        },
        "id": "XKpgamKVA1uF",
        "outputId": "afc23170-8e48-49e9-ce66-4d77f3125a55"
      },
      "source": [
        "string = \"The national animal of is Tiger. Tiger lives in Forest.\"\n",
        "pattern = \"Tiger\"\n",
        "\n",
        "# Searching a substring using search()\n",
        "result = re.search(pattern, string)\n",
        "print(result)\n",
        "type(result)"
      ],
      "id": "XKpgamKVA1uF",
      "execution_count": 18,
      "outputs": [
        {
          "output_type": "stream",
          "name": "stdout",
          "text": [
            "<re.Match object; span=(26, 31), match='Tiger'>\n"
          ]
        },
        {
          "output_type": "execute_result",
          "data": {
            "text/plain": [
              "re.Match"
            ]
          },
          "metadata": {},
          "execution_count": 18
        }
      ]
    },
    {
      "cell_type": "code",
      "metadata": {
        "colab": {
          "base_uri": "https://localhost:8080/"
        },
        "id": "ldnqMaHVA1uN",
        "outputId": "c8326ea8-d742-470b-f9b0-9ba3b57387cc"
      },
      "source": [
        "string = \"The national animal of India is Tiger. Tiger lives in Forest.\"\n",
        "pattern = \"Tiger\"\n",
        "\n",
        "# Extracting searched string\n",
        "result = re.search(pattern, string).group()\n",
        "\n",
        "print(result)\n",
        "type(result)"
      ],
      "id": "ldnqMaHVA1uN",
      "execution_count": 19,
      "outputs": [
        {
          "output_type": "stream",
          "name": "stdout",
          "text": [
            "Tiger\n"
          ]
        },
        {
          "output_type": "execute_result",
          "data": {
            "text/plain": [
              "str"
            ]
          },
          "metadata": {},
          "execution_count": 19
        }
      ]
    },
    {
      "cell_type": "markdown",
      "metadata": {
        "id": "5938aTk1A1uV"
      },
      "source": [
        "# 3. findall()\n",
        "Finds all the sub-strings matching the RegEx pattern"
      ],
      "id": "5938aTk1A1uV"
    },
    {
      "cell_type": "code",
      "metadata": {
        "colab": {
          "base_uri": "https://localhost:8080/"
        },
        "id": "7DZgJFyuA1uX",
        "scrolled": true,
        "outputId": "7d713715-12e4-41b7-f9e0-2b16444567bb"
      },
      "source": [
        "string = \"The national animal of India is Tiger. Tiger lives in Forest.\"\n",
        "pattern = \"Tiger\"\n",
        "\n",
        "# Using findall() on a string\n",
        "result = re.findall(pattern, string)\n",
        "print(result)"
      ],
      "id": "7DZgJFyuA1uX",
      "execution_count": 20,
      "outputs": [
        {
          "output_type": "stream",
          "name": "stdout",
          "text": [
            "['Tiger', 'Tiger']\n"
          ]
        }
      ]
    },
    {
      "cell_type": "code",
      "metadata": {
        "colab": {
          "base_uri": "https://localhost:8080/"
        },
        "id": "OpMfeQRPA1ud",
        "outputId": "98bfc7a4-7856-4c8b-ea9f-4b9a72e4d8a1"
      },
      "source": [
        "# Defining the string\n",
        "text = \"India got freedom on 15-08-1947, and it is celebrated as Independence Day.\\\n",
        "        Indian Constitution came into effect on 26-01-1950, and it is celebrated as Republic Day.\"\n",
        "\n",
        "# Defining the pattern\n",
        "date_pattern = r'\\d{2}-\\d{2}-\\d{4}'\n",
        "\n",
        "# Extracting dates using findall()\n",
        "re.findall(date_pattern, text)"
      ],
      "id": "OpMfeQRPA1ud",
      "execution_count": 21,
      "outputs": [
        {
          "output_type": "execute_result",
          "data": {
            "text/plain": [
              "['15-08-1947', '26-01-1950']"
            ]
          },
          "metadata": {},
          "execution_count": 21
        }
      ]
    },
    {
      "cell_type": "code",
      "metadata": {
        "colab": {
          "base_uri": "https://localhost:8080/"
        },
        "id": "statewide-assembly",
        "outputId": "a07f8e5b-c543-4e20-af06-027c13789261"
      },
      "source": [
        "# Defining the string\n",
        "text = \"\"\"http://gutember-project.org la 123.245.78.9  Call me Ishmael. Some years ago—never mind how long precisely—having % littLe or no money in / my purse, and nothing particular to  -- interest me\n",
        "  on    shore, I    thought I would sail about a little Little litzle and see the watery part\n",
        "of the world.  NOTE ,999A  \"\"\"\n",
        "# Defining the pattern\n",
        "text_pattern = r'[L|l]it[t|z]le'    \n",
        "#date_pattern = r'[Ll]it[tz]le'      \n",
        "data=re.findall(text_pattern,text) \n",
        "data  "
      ],
      "id": "statewide-assembly",
      "execution_count": 22,
      "outputs": [
        {
          "output_type": "execute_result",
          "data": {
            "text/plain": [
              "['little', 'Little', 'litzle']"
            ]
          },
          "metadata": {},
          "execution_count": 22
        }
      ]
    },
    {
      "cell_type": "code",
      "metadata": {
        "colab": {
          "base_uri": "https://localhost:8080/"
        },
        "id": "zYU4iFx_NBG9",
        "outputId": "e1ea66ed-4f20-4ffb-bc53-39c413d4d02f"
      },
      "source": [
        "data1=re.findall(\"([A-Z]+) ,([0-9]+[A-Z])\",text)\n",
        "data1\n"
      ],
      "id": "zYU4iFx_NBG9",
      "execution_count": 23,
      "outputs": [
        {
          "output_type": "execute_result",
          "data": {
            "text/plain": [
              "[('NOTE', '999A')]"
            ]
          },
          "metadata": {},
          "execution_count": 23
        }
      ]
    },
    {
      "cell_type": "markdown",
      "metadata": {
        "id": "UbIaQpWmA1uk"
      },
      "source": [
        "# 4. finditer()\n",
        "Similar to findall() but returns an iterator"
      ],
      "id": "UbIaQpWmA1uk"
    },
    {
      "cell_type": "code",
      "metadata": {
        "colab": {
          "base_uri": "https://localhost:8080/"
        },
        "id": "Ml0mr66_A1um",
        "outputId": "7391e81d-c7bc-4eca-ca61-b15a941b23c0"
      },
      "source": [
        "string = \"The national animal of India is Tiger. Tiger lives in Forest.\"\n",
        "pattern = \"Tiger\"\n",
        "\n",
        "# Using finditer() on a string\n",
        "result = re.finditer(pattern, string)\n",
        "print(result)\n",
        "\n"
      ],
      "id": "Ml0mr66_A1um",
      "execution_count": 24,
      "outputs": [
        {
          "output_type": "stream",
          "name": "stdout",
          "text": [
            "<callable_iterator object at 0x7f4ef00edc50>\n"
          ]
        }
      ]
    },
    {
      "cell_type": "code",
      "source": [
        "# Iterating over the iterator\n",
        "for m in result:\n",
        "    # Printing match object\n",
        "    print(m)\n",
        "    # Printing starting and ending index with matched substring\n",
        "    print('Start:',m.start(),' End:',m.end(),' Sub-string:',m.group())"
      ],
      "metadata": {
        "id": "p4VagRb3ZBSh",
        "outputId": "e747af8e-06d5-414b-fb6d-32d6ce9e7c2c",
        "colab": {
          "base_uri": "https://localhost:8080/"
        }
      },
      "id": "p4VagRb3ZBSh",
      "execution_count": 25,
      "outputs": [
        {
          "output_type": "stream",
          "name": "stdout",
          "text": [
            "<re.Match object; span=(32, 37), match='Tiger'>\n",
            "Start: 32  End: 37  Sub-string: Tiger\n",
            "<re.Match object; span=(39, 44), match='Tiger'>\n",
            "Start: 39  End: 44  Sub-string: Tiger\n"
          ]
        }
      ]
    },
    {
      "cell_type": "markdown",
      "metadata": {
        "id": "_bWP1kRFA1uz"
      },
      "source": [
        "# 6. split()\n",
        "Split the text by the given RegEx Pattern"
      ],
      "id": "_bWP1kRFA1uz"
    },
    {
      "cell_type": "code",
      "metadata": {
        "colab": {
          "base_uri": "https://localhost:8080/"
        },
        "id": "frzMC9RSA1u0",
        "outputId": "9d376525-e282-47f6-fb35-4fe45e918f7c"
      },
      "source": [
        "line = \"I have a big test tomorrow; I can't go out tonight.\"\n",
        "\n",
        "# Splitting a string into multiple substrings\n",
        "re.split(r'[;]', line)"
      ],
      "id": "frzMC9RSA1u0",
      "execution_count": 26,
      "outputs": [
        {
          "output_type": "execute_result",
          "data": {
            "text/plain": [
              "['I have a big test tomorrow', \" I can't go out tonight.\"]"
            ]
          },
          "metadata": {},
          "execution_count": 26
        }
      ]
    },
    {
      "cell_type": "markdown",
      "metadata": {
        "id": "2eZqyGtpNBG_"
      },
      "source": [
        "# Some auxiliary functions"
      ],
      "id": "2eZqyGtpNBG_"
    },
    {
      "cell_type": "markdown",
      "metadata": {
        "id": "getJ3iEWNBG_"
      },
      "source": [
        "Let´s start removing the  whitespaces at the begining an the end of the sentence \n",
        "We will use **strip()*** method."
      ],
      "id": "getJ3iEWNBG_"
    },
    {
      "cell_type": "code",
      "metadata": {
        "id": "omS-fM_7uauk"
      },
      "source": [
        "text1='   http:gutemberproject.org la 123.245.78.9 Call me Ishmael. Some years ago—never mind how long precisely—having littLe or no money in my purse, and nothing particular to interest me on shore, I thought I would sail about a little Little litzle and see the watery partof the world. NOTE ,999A'"
      ],
      "id": "omS-fM_7uauk",
      "execution_count": 27,
      "outputs": []
    },
    {
      "cell_type": "code",
      "metadata": {
        "id": "attended-morgan"
      },
      "source": [
        "text1 = text.strip()"
      ],
      "id": "attended-morgan",
      "execution_count": 28,
      "outputs": []
    },
    {
      "cell_type": "code",
      "metadata": {
        "colab": {
          "base_uri": "https://localhost:8080/",
          "height": 53
        },
        "id": "0vLNDhgaNBHA",
        "outputId": "f51ce017-e1e6-42dd-d2e0-a0c171eb544b"
      },
      "source": [
        "text1"
      ],
      "id": "0vLNDhgaNBHA",
      "execution_count": 29,
      "outputs": [
        {
          "output_type": "execute_result",
          "data": {
            "application/vnd.google.colaboratory.intrinsic+json": {
              "type": "string"
            },
            "text/plain": [
              "'http://gutember-project.org la 123.245.78.9  Call me Ishmael. Some years ago—never mind how long precisely—having % littLe or no money in / my purse, and nothing particular to  -- interest me\\n  on    shore, I    thought I would sail about a little Little litzle and see the watery part\\nof the world.  NOTE ,999A'"
            ]
          },
          "metadata": {},
          "execution_count": 29
        }
      ]
    },
    {
      "cell_type": "markdown",
      "metadata": {
        "id": "X-Df6CxKNBHA"
      },
      "source": [
        "# Building our own Clean up text function !! "
      ],
      "id": "X-Df6CxKNBHA"
    },
    {
      "cell_type": "code",
      "metadata": {
        "id": "Rs4lIeD5k49K"
      },
      "source": [
        "def clean_text(string1):\n",
        "    output = string1.strip()\n",
        "    replacements = (\n",
        "      (\"“\", ''), (\"”\", ''), (\"//\", \"\"), (\"«\", ''), (\"»\", ''), (\",\", ''),\n",
        "      (\";\", ''), (\".\", ''),\n",
        "    )\n",
        "    for replacement in replacements:\n",
        "        print(replacement)\n",
        "        output = output.replace(*replacement)\n",
        "    # Any sequence of two or more spaces should be converted into one space\n",
        "    output = re.sub(r'\\t+', ' ', output)\n",
        "    output = re.sub(r'\\n{2,}', '', output)\n",
        "    output = re.sub(r' {2,}', ' ', output)  \n",
        "    output = re.sub(r'\\n', ' ', output)\n",
        "    return output.strip()"
      ],
      "id": "Rs4lIeD5k49K",
      "execution_count": 61,
      "outputs": []
    },
    {
      "cell_type": "code",
      "source": [
        "replacements = (\n",
        "      (\"“\", ''), (\"”\", ''), (\"//\", \"\"), (\"«\", ''), (\"»\", ''), (\",\", ''),\n",
        "      (\";\", ''), (\".\", ''),\n",
        ")\n",
        "type(replacements)"
      ],
      "metadata": {
        "id": "7Ghet2robADs",
        "outputId": "096c5f09-68eb-4ed6-c1fc-7d0486d257b6",
        "colab": {
          "base_uri": "https://localhost:8080/"
        }
      },
      "id": "7Ghet2robADs",
      "execution_count": 55,
      "outputs": [
        {
          "output_type": "execute_result",
          "data": {
            "text/plain": [
              "tuple"
            ]
          },
          "metadata": {},
          "execution_count": 55
        }
      ]
    },
    {
      "cell_type": "code",
      "metadata": {
        "id": "wYOZkI3sk5iU",
        "outputId": "201e3ca6-76aa-4096-d847-f8e4e080e631",
        "colab": {
          "base_uri": "https://localhost:8080/"
        }
      },
      "source": [
        "text = clean_text(text)"
      ],
      "id": "wYOZkI3sk5iU",
      "execution_count": 62,
      "outputs": [
        {
          "output_type": "stream",
          "name": "stdout",
          "text": [
            "('“', '')\n",
            "('”', '')\n",
            "('//', '')\n",
            "('«', '')\n",
            "('»', '')\n",
            "(',', '')\n",
            "(';', '')\n",
            "('.', '')\n"
          ]
        }
      ]
    },
    {
      "cell_type": "code",
      "metadata": {
        "colab": {
          "base_uri": "https://localhost:8080/",
          "height": 53
        },
        "id": "a4q5jyydk-_g",
        "outputId": "bd2a2ff3-e6e9-45f3-8043-cd4cbc8c94b5"
      },
      "source": [
        "text"
      ],
      "id": "a4q5jyydk-_g",
      "execution_count": null,
      "outputs": [
        {
          "output_type": "execute_result",
          "data": {
            "application/vnd.google.colaboratory.intrinsic+json": {
              "type": "string"
            },
            "text/plain": [
              "'http:gutemberprojectorg la 123245789 Call me Ishmael Some years ago—never mind how long precisely—having littLe or no money in my purse and nothing particular to interest me  on shore I thought I would sail about   a little Little litzle and see the watery part of the world NOTE 999A'"
            ]
          },
          "metadata": {
            "tags": []
          },
          "execution_count": 13
        }
      ]
    },
    {
      "cell_type": "markdown",
      "metadata": {
        "id": "phantom-hearts"
      },
      "source": [
        "# EXERCISE 1\n",
        "Design a Regular expresion to detect a URL."
      ],
      "id": "phantom-hearts"
    },
    {
      "cell_type": "code",
      "metadata": {
        "id": "oc_woafWNBHB",
        "outputId": "03a56ebe-64af-4353-d757-aea2c49a83d9",
        "colab": {
          "base_uri": "https://localhost:8080/"
        }
      },
      "source": [
        "#CHECK https://regex101.com/\n",
        "\n",
        "text =\"\"\" http://gutember-project.org/3 la 123.245.78.9  Call me Ishmael. Some years ago—never mind how long precisely—having % littLe or no money in / my purse, \n",
        "and nothing particular to  -- interest me on    shore, I    thought I would sail about a little Little litzle and see the watery part of the world.  NOTE ,999A\"\"\"\n",
        "\n",
        "\n",
        "URL_pattern = r'(http|ftp|https)://([\\w_-]+(?:(?:\\.[\\w_-]+)+))([\\w.,@?^=%&:/~+#-]*[\\w@?^=%&/~+#-])?'\n",
        "\n",
        "data1=re.findall(URL_pattern,text)\n",
        "print(data1)\n",
        "\n",
        "\n"
      ],
      "id": "oc_woafWNBHB",
      "execution_count": 76,
      "outputs": [
        {
          "output_type": "stream",
          "name": "stdout",
          "text": [
            "[('http', 'gutember-project.org', '/3')]\n"
          ]
        }
      ]
    },
    {
      "cell_type": "markdown",
      "metadata": {
        "id": "7tTo_ms1NBHB"
      },
      "source": [
        "# EXERCISE 2\n",
        "Complete the clean text function to take into account\n",
        "\n",
        "    a)\\n\n",
        "    b) /\n",
        "    c)%\n",
        "    d) two o more -\n"
      ],
      "id": "7tTo_ms1NBHB"
    },
    {
      "cell_type": "code",
      "metadata": {
        "id": "J-sul1qfNBHB"
      },
      "source": [
        "def clean_text(string1):\n",
        "    output = string1.strip()\n",
        "    replacements = (\n",
        "      (\"“\", ''), (\"”\", ''), (\"//\", \"\"), (\"«\", ''), (\"»\", ''), (\",\", ''),\n",
        "      (\";\", ''), (\".\", ''), (\"_ _ _ \", ''), (\"_ _ _ _ \", ''), (\"_ _ _ _ _\",''),\n",
        "    )\n",
        "    for replacement in replacements:\n",
        "        output = output.replace(*replacement)\n",
        "    # Any sequence of two or more spaces should be converted into one space\n",
        "    output = re.sub(r'\\t+', ' ', output)\n",
        "    output = re.sub(r'\\n{2,}', '', output)\n",
        "    output = re.sub(r' {2,}', ' ', output)\n",
        "    output = re.sub(r'-{2,}', '', output)    \n",
        "    output = re.sub(r'_ _ _', '', output)     \n",
        "    return output.strip()"
      ],
      "id": "J-sul1qfNBHB",
      "execution_count": 77,
      "outputs": []
    },
    {
      "cell_type": "markdown",
      "metadata": {
        "id": "hQ5kACDYA1u8"
      },
      "source": [
        "# 7. Groups"
      ],
      "id": "hQ5kACDYA1u8"
    },
    {
      "cell_type": "code",
      "metadata": {
        "colab": {
          "base_uri": "https://localhost:8080/"
        },
        "id": "x0YFvtRYA1u-",
        "outputId": "896a2922-6338-470e-b9e9-0fc2b241a8a8"
      },
      "source": [
        "# Running a simple pattern on some text\n",
        "string=\"Ajay credited $500 to your account on 13-08-2020.\\\n",
        "      Anmol debited $1,700 from your account on 14-08-2020.\\\n",
        "      Alex debited $100 on 16-08-2020 from your account.\"\n",
        "\n",
        "pattern=\"[\\w]+ [\\w]+ \\$[\\d,]+ [a-zA-z ]+ \\d{2}-\\d{2}-\\d{4}\"\n",
        "\n",
        "result=re.findall(pattern,string)\n",
        "\n",
        "print(result)\n",
        "type(result)"
      ],
      "id": "x0YFvtRYA1u-",
      "execution_count": 78,
      "outputs": [
        {
          "output_type": "stream",
          "name": "stdout",
          "text": [
            "['Ajay credited $500 to your account on 13-08-2020', 'Anmol debited $1,700 from your account on 14-08-2020', 'Alex debited $100 on 16-08-2020']\n"
          ]
        },
        {
          "output_type": "execute_result",
          "data": {
            "text/plain": [
              "list"
            ]
          },
          "metadata": {},
          "execution_count": 78
        }
      ]
    },
    {
      "cell_type": "code",
      "metadata": {
        "colab": {
          "base_uri": "https://localhost:8080/"
        },
        "id": "cQ8xvKvhA1vE",
        "outputId": "03015d47-89c9-4b28-af3a-8c85af9a02b2"
      },
      "source": [
        "string=\"Ajay credited $500 to your account on 13-08-2020.\\\n",
        "      Anmol debited $1,700 from your account on 14-08-2020.\\\n",
        "      Alex debited $100 on 16-08-2020 from your account.\"\n",
        "\n",
        "# Creating groups in the previous pattern\n",
        "pattern=\"([\\w]+) ([\\w]+) (\\$[\\d,]+) [a-zA-z ]+ (\\d{2}-\\d{2}-\\d{4})\"\n",
        "\n",
        "result=re.findall(pattern,string)\n",
        "\n",
        "print(result)\n",
        "type(result)"
      ],
      "id": "cQ8xvKvhA1vE",
      "execution_count": 79,
      "outputs": [
        {
          "output_type": "stream",
          "name": "stdout",
          "text": [
            "[('Ajay', 'credited', '$500', '13-08-2020'), ('Anmol', 'debited', '$1,700', '14-08-2020'), ('Alex', 'debited', '$100', '16-08-2020')]\n"
          ]
        },
        {
          "output_type": "execute_result",
          "data": {
            "text/plain": [
              "list"
            ]
          },
          "metadata": {},
          "execution_count": 79
        }
      ]
    },
    {
      "cell_type": "code",
      "metadata": {
        "colab": {
          "base_uri": "https://localhost:8080/",
          "height": 138
        },
        "id": "UOF8foSKA1vL",
        "outputId": "ba6b9701-96dc-40c7-b31f-63a37adb197f"
      },
      "source": [
        "import pandas as pd\n",
        "\n",
        "# Creating a dataframe\n",
        "df=pd.DataFrame(result,columns=['Name','Type','Amount','Date'])\n",
        "df"
      ],
      "id": "UOF8foSKA1vL",
      "execution_count": null,
      "outputs": [
        {
          "output_type": "execute_result",
          "data": {
            "text/html": [
              "<div>\n",
              "<style scoped>\n",
              "    .dataframe tbody tr th:only-of-type {\n",
              "        vertical-align: middle;\n",
              "    }\n",
              "\n",
              "    .dataframe tbody tr th {\n",
              "        vertical-align: top;\n",
              "    }\n",
              "\n",
              "    .dataframe thead th {\n",
              "        text-align: right;\n",
              "    }\n",
              "</style>\n",
              "<table border=\"1\" class=\"dataframe\">\n",
              "  <thead>\n",
              "    <tr style=\"text-align: right;\">\n",
              "      <th></th>\n",
              "      <th>Name</th>\n",
              "      <th>Type</th>\n",
              "      <th>Amount</th>\n",
              "      <th>Date</th>\n",
              "    </tr>\n",
              "  </thead>\n",
              "  <tbody>\n",
              "    <tr>\n",
              "      <th>0</th>\n",
              "      <td>Ajay</td>\n",
              "      <td>credited</td>\n",
              "      <td>$500</td>\n",
              "      <td>13-08-2020</td>\n",
              "    </tr>\n",
              "    <tr>\n",
              "      <th>1</th>\n",
              "      <td>Anmol</td>\n",
              "      <td>debited</td>\n",
              "      <td>$1,700</td>\n",
              "      <td>14-08-2020</td>\n",
              "    </tr>\n",
              "    <tr>\n",
              "      <th>2</th>\n",
              "      <td>Alex</td>\n",
              "      <td>debited</td>\n",
              "      <td>$100</td>\n",
              "      <td>16-08-2020</td>\n",
              "    </tr>\n",
              "  </tbody>\n",
              "</table>\n",
              "</div>"
            ],
            "text/plain": [
              "    Name      Type  Amount        Date\n",
              "0   Ajay  credited    $500  13-08-2020\n",
              "1  Anmol   debited  $1,700  14-08-2020\n",
              "2   Alex   debited    $100  16-08-2020"
            ]
          },
          "metadata": {
            "tags": []
          },
          "execution_count": 46
        }
      ]
    },
    {
      "cell_type": "code",
      "metadata": {
        "colab": {
          "base_uri": "https://localhost:8080/"
        },
        "id": "ZwsASy4EA1vS",
        "scrolled": true,
        "outputId": "067dab8d-aa25-4582-c33c-9433e2661d3f"
      },
      "source": [
        "# Using finditer() for getting match objects\n",
        "string=\"Ajay credited $500 to your account on 13-08-2020.\\\n",
        "      Anmol debited $1,700 from your account on 14-08-2020.\\\n",
        "      Alex debited $100 on 16-08-2020 from your account.\"\n",
        "\n",
        "pattern=\"([\\w]+) ([\\w]+) (\\$[\\d,]+) ([a-zA-z ]+) (\\d{2}-\\d{2}-\\d{4})\"\n",
        "\n",
        "result=re.finditer(pattern,string)\n",
        "\n",
        "# Accessing groups separately\n",
        "for i in result:\n",
        "    print(i.group(0),'=>',i.group(1),'=>',i.group(2),'=>',i.group(3),'=>',i.group(4),'=>',i.group(5) )\n",
        "    print(i.start(0),'=>',i.end(0), i.start(1),'=>',i.end(1))"
      ],
      "id": "ZwsASy4EA1vS",
      "execution_count": null,
      "outputs": [
        {
          "output_type": "stream",
          "text": [
            "Ajay credited $500 to your account on 13-08-2020 => Ajay => credited => $500 => to your account on => 13-08-2020\n",
            "0 => 48 0 => 4\n",
            "Anmol debited $1,700 from your account on 14-08-2020 => Anmol => debited => $1,700 => from your account on => 14-08-2020\n",
            "55 => 107 55 => 60\n",
            "Alex debited $100 on 16-08-2020 => Alex => debited => $100 => on => 16-08-2020\n",
            "114 => 145 114 => 118\n"
          ],
          "name": "stdout"
        }
      ]
    },
    {
      "cell_type": "markdown",
      "metadata": {
        "id": "Rh-zWJkOA1vY"
      },
      "source": [
        "**Note:** Syntax for naming groups: `(?P<Group Name>Pattern)`"
      ],
      "id": "Rh-zWJkOA1vY"
    },
    {
      "cell_type": "code",
      "metadata": {
        "id": "b393attMA1vZ"
      },
      "source": [
        "string=\"Ajay credited $500 to your account on 13-08-2020.\\\n",
        "      Anmol debited $1,700 from your account on 14-08-2020.\\\n",
        "      Alex debited $100 on 16-08-2020 from your account.\"\n",
        "\n",
        "# Naming Groups\n",
        "pattern=\"(?P<Name>[\\w]+) (?P<Type>[\\w]+) (?P<Amount>\\$[\\d,]+) [a-zA-z ]+ (?P<Date>\\d{2}-\\d{2}-\\d{4})\"\n",
        "result=re.finditer(pattern,string)\n",
        "\n",
        "#result=list(re.finditer(pattern,string))"
      ],
      "id": "b393attMA1vZ",
      "execution_count": null,
      "outputs": []
    },
    {
      "cell_type": "code",
      "metadata": {
        "colab": {
          "base_uri": "https://localhost:8080/"
        },
        "id": "EBtiU-zQA1ve",
        "outputId": "e1cad494-7da4-4b01-b743-814586ef4c3d"
      },
      "source": [
        "# Accessing data by group names\n",
        "for i in result:\n",
        "    print(i.group('Name'),'=>',i.group('Amount'),'=>',i.group('Date'),'=>',i.group('Type'))"
      ],
      "id": "EBtiU-zQA1ve",
      "execution_count": null,
      "outputs": [
        {
          "output_type": "stream",
          "text": [
            "Ajay => $500 => 13-08-2020 => credited\n",
            "Anmol => $1,700 => 14-08-2020 => debited\n",
            "Alex => $100 => 16-08-2020 => debited\n"
          ],
          "name": "stdout"
        }
      ]
    },
    {
      "cell_type": "code",
      "source": [
        "a = (1,2,39)\n",
        "b = (3,4,5)\n",
        "c1 = [*a,*b]\n",
        "c2 = [a,b]\n",
        "print(*c2)\n",
        "print(f\"c1:{c1}\\n c2:{c2}\")\n"
      ],
      "metadata": {
        "id": "kztqq_k7fv32",
        "outputId": "b4ed2ee2-8ffd-4066-d5eb-bf4267fd9d59",
        "colab": {
          "base_uri": "https://localhost:8080/"
        }
      },
      "id": "kztqq_k7fv32",
      "execution_count": 60,
      "outputs": [
        {
          "output_type": "stream",
          "name": "stdout",
          "text": [
            "(1, 2, 39) (3, 4, 5)\n",
            "c1:[1, 2, 39, 3, 4, 5]\n",
            " c2:[(1, 2, 39), (3, 4, 5)]\n"
          ]
        }
      ]
    }
  ]
}