{
  "nbformat": 4,
  "nbformat_minor": 0,
  "metadata": {
    "anaconda-cloud": {},
    "celltoolbar": "Slideshow",
    "kernelspec": {
      "display_name": "Python 3",
      "language": "python",
      "name": "python3"
    },
    "language_info": {
      "codemirror_mode": {
        "name": "ipython",
        "version": 3
      },
      "file_extension": ".py",
      "mimetype": "text/x-python",
      "name": "python",
      "nbconvert_exporter": "python",
      "pygments_lexer": "ipython3",
      "version": "3.8.5"
    },
    "nbpresent": {
      "slides": {},
      "themes": {}
    },
    "colab": {
      "name": "Trinity_1_introduction_python.ipynb",
      "provenance": []
    }
  },
  "cells": [
    {
      "cell_type": "markdown",
      "metadata": {
        "nbpresent": {
          "id": "49e5850e-2ef1-44e4-9870-1173b5df75bf"
        },
        "id": "fWgl0YkmF61z"
      },
      "source": [
        "# Python Introduction \n",
        "1.Data Structures\n",
        "\n",
        "    a) List\n",
        "    \n",
        "    b) Tuplas\n",
        "    \n",
        "    c) Dictionary\n",
        " \n",
        "\n"
      ]
    },
    {
      "cell_type": "markdown",
      "metadata": {
        "collapsed": true,
        "nbpresent": {
          "id": "791825c7-92c1-4137-a834-3bea94e0fbbd"
        },
        "id": "efsk2n7RF616"
      },
      "source": [
        "## Data Structures"
      ]
    },
    {
      "cell_type": "markdown",
      "metadata": {
        "nbpresent": {
          "id": "953dea05-18de-4af6-a84e-3a2f2ba9133c"
        },
        "id": "9HeoHy-UF617"
      },
      "source": [
        "We have three useful data structures, especially for Digital Humanities. \n",
        "- List\n",
        "- Tuplas\n",
        "- Dicctionary"
      ]
    },
    {
      "cell_type": "markdown",
      "metadata": {
        "nbpresent": {
          "id": "5e6ea37f-64bf-4753-ae69-2dd3abdeafc7"
        },
        "id": "D9pA6lrVF617"
      },
      "source": [
        "### List\n",
        "\n",
        "It is a ordered collection of elements.\n"
      ]
    },
    {
      "cell_type": "code",
      "metadata": {
        "nbpresent": {
          "id": "49a19192-afc3-4e0d-bea2-9c686ffb44c7"
        },
        "id": "6heXaj_ZF617",
        "outputId": "dc5d1aa8-aec6-4c50-c836-c232257b8390",
        "colab": {
          "base_uri": "https://localhost:8080/"
        }
      },
      "source": [
        "color=['red','blue','green','black']\n",
        "type(color)"
      ],
      "execution_count": 1,
      "outputs": [
        {
          "output_type": "execute_result",
          "data": {
            "text/plain": [
              "list"
            ]
          },
          "metadata": {},
          "execution_count": 1
        }
      ]
    },
    {
      "cell_type": "code",
      "metadata": {
        "nbpresent": {
          "id": "e801ea69-8940-4482-bbf8-51271d7a64f0"
        },
        "id": "6KpaHlcZF618",
        "outputId": "c41af909-bfa2-47ab-cbb9-584978538760",
        "colab": {
          "base_uri": "https://localhost:8080/"
        }
      },
      "source": [
        "# a List can have different types of elements\n",
        "mix=['Peter',1,True,'Robert',36,False,'Anna',33,'Casper',11]\n",
        "type(mix)"
      ],
      "execution_count": 2,
      "outputs": [
        {
          "output_type": "execute_result",
          "data": {
            "text/plain": [
              "list"
            ]
          },
          "metadata": {},
          "execution_count": 2
        }
      ]
    },
    {
      "cell_type": "code",
      "metadata": {
        "nbpresent": {
          "id": "af27b0bd-ad16-4de2-83cf-0d2f832f4cdd"
        },
        "id": "1m8x8pWiF618",
        "outputId": "ec058ab3-c765-43a7-f9f0-17c848631f2f",
        "colab": {
          "base_uri": "https://localhost:8080/"
        }
      },
      "source": [
        "#Nested lists\n",
        "nested=[1,['a','b'],True,[False,'chain',33]]\n",
        "type(nested)"
      ],
      "execution_count": 3,
      "outputs": [
        {
          "output_type": "execute_result",
          "data": {
            "text/plain": [
              "list"
            ]
          },
          "metadata": {},
          "execution_count": 3
        }
      ]
    },
    {
      "cell_type": "markdown",
      "metadata": {
        "nbpresent": {
          "id": "6719f9ac-ff20-4e83-8dc2-616fff96f347"
        },
        "id": "dS7dKWO-F619"
      },
      "source": [
        "Function  **len()** number of elements in a list"
      ]
    },
    {
      "cell_type": "code",
      "metadata": {
        "nbpresent": {
          "id": "69a65511-1162-42ca-be7a-27790e424ba0"
        },
        "id": "pFTVm3KoF619",
        "outputId": "84ddc516-836b-4dbd-eb54-195a34482cf2",
        "colab": {
          "base_uri": "https://localhost:8080/"
        }
      },
      "source": [
        "print (\"Mix list has {0} elements. Color list has {1} elements\".format(len(mix),len(color)))"
      ],
      "execution_count": 4,
      "outputs": [
        {
          "output_type": "stream",
          "name": "stdout",
          "text": [
            "Mix list has 10 elements. Color list has 4 elements\n"
          ]
        }
      ]
    },
    {
      "cell_type": "markdown",
      "metadata": {
        "nbpresent": {
          "id": "9347824f-9a2d-47ce-9f79-d5e898696d3c"
        },
        "id": "qBm9tvtDF619"
      },
      "source": [
        "To reference an element of the list we use **name_list[index]** P. The list start in cero. We use the index in brackets"
      ]
    },
    {
      "cell_type": "code",
      "metadata": {
        "nbpresent": {
          "id": "97c5b650-8c09-463e-b64d-20eb41122b9c"
        },
        "id": "zGvm91RgF61-",
        "outputId": "1953250e-81aa-434e-ac59-33658e8e18d2",
        "colab": {
          "base_uri": "https://localhost:8080/"
        }
      },
      "source": [
        "print (color[2])\n",
        "print (nested[1][1])\n",
        "print (nested[3])\n"
      ],
      "execution_count": 5,
      "outputs": [
        {
          "output_type": "stream",
          "name": "stdout",
          "text": [
            "green\n",
            "b\n",
            "[False, 'chain', 33]\n"
          ]
        }
      ]
    },
    {
      "cell_type": "markdown",
      "metadata": {
        "id": "k297s5eVF61-"
      },
      "source": [
        "I tis possible to use negative index. In this case we are refering to the postions of the list from the left. So ** -1 ** is the last position.\n",
        "In color list \n",
        "\n",
        "|red|blue|green|black|\n",
        "|:---:|:---:|:---:|:---:|\n",
        "|0|1|2|3|\n",
        "| -4|-3|-2|-1|"
      ]
    },
    {
      "cell_type": "code",
      "metadata": {
        "nbpresent": {
          "id": "fa0c67f2-b702-444b-98fb-88b66b7f68af"
        },
        "id": "PL_jxZyzF61-",
        "outputId": "92ee4ec8-2801-427d-b2df-5f721f0a3ec4",
        "colab": {
          "base_uri": "https://localhost:8080/"
        }
      },
      "source": [
        "# Refers to the penultimate element\n",
        "print (color[-2])\n",
        "#Select all elements from  -3 until the 0 position;\n",
        "print (color[:-3])\n",
        "#Select all elements from -3 until the last position; \n",
        "print (color[-3:])"
      ],
      "execution_count": 6,
      "outputs": [
        {
          "output_type": "stream",
          "name": "stdout",
          "text": [
            "green\n",
            "['red']\n",
            "['blue', 'green', 'black']\n"
          ]
        }
      ]
    },
    {
      "cell_type": "markdown",
      "metadata": {
        "nbpresent": {
          "id": "34afae13-b99f-4ec4-8895-6a41d1082763"
        },
        "id": "9CTuUELUF61_"
      },
      "source": [
        "**Slicing**\n",
        "It is possible to select a subrange of the list **[start:end]**\n",
        "That selects the elementin the start position to the element **before the end position.**\n",
        "\n"
      ]
    },
    {
      "cell_type": "code",
      "metadata": {
        "nbpresent": {
          "id": "d5b82141-4897-4eb7-acfc-fa30d57f9e96"
        },
        "colab": {
          "base_uri": "https://localhost:8080/"
        },
        "id": "50qDPH63F61_",
        "outputId": "e93f9805-32f4-424f-83bf-743592cbe4de"
      },
      "source": [
        "#Two central elements\n",
        "print (color[1:3])\n",
        "#dFrom second (postion 1) to the end\n",
        "print (color[1:])\n",
        "#All of them\n",
        "print (color[:])\n",
        "print (color[0])"
      ],
      "execution_count": 8,
      "outputs": [
        {
          "output_type": "stream",
          "name": "stdout",
          "text": [
            "['blue', 'green']\n",
            "['blue', 'green', 'black']\n",
            "['red', 'blue', 'green', 'black']\n",
            "red\n"
          ]
        }
      ]
    },
    {
      "cell_type": "markdown",
      "metadata": {
        "nbpresent": {
          "id": "b2e7473f-f769-447d-8555-be1ba1a2f910"
        },
        "id": "ahV3VSeeF61_"
      },
      "source": [
        "It is possible to add a new element at the end **+**,\n",
        "or delete an element using function **del()**."
      ]
    },
    {
      "cell_type": "code",
      "metadata": {
        "nbpresent": {
          "id": "27b021b2-fc76-4ca7-bd38-e782ad477cbd"
        },
        "colab": {
          "base_uri": "https://localhost:8080/"
        },
        "id": "VT6ZuQueF62A",
        "outputId": "a2168adc-9573-4485-bb66-b6b2fc10a6cc"
      },
      "source": [
        "#Add pink to the color list\n",
        "color=color+[\"pink\"]\n",
        "print (color)\n"
      ],
      "execution_count": 9,
      "outputs": [
        {
          "output_type": "stream",
          "name": "stdout",
          "text": [
            "['red', 'blue', 'green', 'black', 'pink']\n"
          ]
        }
      ]
    },
    {
      "cell_type": "code",
      "metadata": {
        "colab": {
          "base_uri": "https://localhost:8080/"
        },
        "id": "_c4TJVHcH9RN",
        "outputId": "19ad65d4-e650-43f5-eb64-88b83757cd49"
      },
      "source": [
        "del(color[2])\n",
        "print(color)"
      ],
      "execution_count": 10,
      "outputs": [
        {
          "output_type": "stream",
          "name": "stdout",
          "text": [
            "['red', 'blue', 'black', 'pink']\n"
          ]
        }
      ]
    },
    {
      "cell_type": "markdown",
      "metadata": {
        "id": "CyETGPHfF62A"
      },
      "source": [
        "Operator **\"*\"** repeat the list. "
      ]
    },
    {
      "cell_type": "code",
      "metadata": {
        "id": "unaCO8MZF62A",
        "colab": {
          "base_uri": "https://localhost:8080/"
        },
        "outputId": "a90ef997-7283-4487-9075-feb14f5371b9"
      },
      "source": [
        "a=color*3\n",
        "type(a)\n",
        "a"
      ],
      "execution_count": 11,
      "outputs": [
        {
          "output_type": "execute_result",
          "data": {
            "text/plain": [
              "['red',\n",
              " 'blue',\n",
              " 'black',\n",
              " 'pink',\n",
              " 'red',\n",
              " 'blue',\n",
              " 'black',\n",
              " 'pink',\n",
              " 'red',\n",
              " 'blue',\n",
              " 'black',\n",
              " 'pink']"
            ]
          },
          "metadata": {},
          "execution_count": 11
        }
      ]
    },
    {
      "cell_type": "code",
      "metadata": {
        "nbpresent": {
          "id": "91b1b9ee-e642-4201-84e4-5634412a1e55"
        },
        "id": "yD4abY7kF62A",
        "outputId": "386f9404-862c-4f6a-d55e-b949cda84bd8",
        "colab": {
          "base_uri": "https://localhost:8080/"
        }
      },
      "source": [
        "#Delete \n",
        "del color[2]\n",
        "print (color)"
      ],
      "execution_count": 12,
      "outputs": [
        {
          "output_type": "stream",
          "name": "stdout",
          "text": [
            "['red', 'blue', 'pink']\n"
          ]
        }
      ]
    },
    {
      "cell_type": "markdown",
      "metadata": {
        "nbpresent": {
          "id": "5a6a3a75-b689-4afa-acae-57bb4bb9a11f"
        },
        "id": "WkDpjnQgF62B"
      },
      "source": [
        "List funtions\n",
        "\n",
        "|Function |Description | Example |\n",
        "|---|----------------------------|---|\n",
        "|l.append(element)| Add an element to the end of the list . |`[1,2,3].append(4) #output [1,2,3,4]`|\n",
        "|l.insert(index, element)| Add an element in the index position  . |`[2,4,6].append(3,1) #output [2,3,4,6]`|\n",
        "|l.index(element)| Loof for an element in the list and return its index. |`[2,4,6].index(6) #output 2`|\n",
        "|l.remove(element) | Delete an element of the list . |`[2,4,6].remove(4) #output[2,6]`|\n",
        "|l.sort() | Order the list | `[4,2,8,6].sort() #output [2,4,6,8]`|\n",
        "|l.reverse() | Reverse the list  | `[2,4,6].reverse() #output [6,4,2]`|\n",
        "|l.pop(indice) | Delete  and return the element in the index position| `[2,4,6].pop(1) #output 4, the list remains as [2,6]`|\n",
        "\n",
        "A string is considered as a list of characters."
      ]
    },
    {
      "cell_type": "markdown",
      "metadata": {
        "id": "jA2nkznZF62B"
      },
      "source": [
        "Operators **in** y **not in** to check if an element is in the list or not. Boolean."
      ]
    },
    {
      "cell_type": "code",
      "metadata": {
        "id": "Jzi0avwIF62B",
        "colab": {
          "base_uri": "https://localhost:8080/"
        },
        "outputId": "162771a6-073e-493f-a312-644c2a64a99f"
      },
      "source": [
        "\"red\" in color"
      ],
      "execution_count": null,
      "outputs": [
        {
          "output_type": "execute_result",
          "data": {
            "text/plain": [
              "True"
            ]
          },
          "metadata": {
            "tags": []
          },
          "execution_count": 15
        }
      ]
    },
    {
      "cell_type": "code",
      "metadata": {
        "id": "L7cfdeuPF62B",
        "colab": {
          "base_uri": "https://localhost:8080/"
        },
        "outputId": "33b073bd-4b98-42af-e812-1fd355838930"
      },
      "source": [
        "\"margent\" in color"
      ],
      "execution_count": null,
      "outputs": [
        {
          "output_type": "execute_result",
          "data": {
            "text/plain": [
              "False"
            ]
          },
          "metadata": {
            "tags": []
          },
          "execution_count": 17
        }
      ]
    },
    {
      "cell_type": "markdown",
      "metadata": {
        "nbpresent": {
          "id": "316051bf-4545-4834-b21a-99b9fe88b109"
        },
        "id": "ZmL34F1YF62C"
      },
      "source": [
        "### Tuple\n",
        "\n",
        "A kind of list.\n",
        "\n",
        "    a) It is defined using **()**.\n",
        "    b) It is inmutable\n",
        "    c) A tuple with only one data needs a coma **,**"
      ]
    },
    {
      "cell_type": "code",
      "metadata": {
        "nbpresent": {
          "id": "07b310fc-a107-4f7c-81f0-659c392df1df"
        },
        "colab": {
          "base_uri": "https://localhost:8080/"
        },
        "id": "XeZcV_A1F62C",
        "outputId": "e271c7e1-7307-465b-dabd-5ba8edc857bc"
      },
      "source": [
        "week=('Monday','Tuesday','Wednesday','Thursday','Friday','Saturday','Sunday')\n",
        "print (type(week))\n",
        "print (\"Today is  {0}\".format(week[1]))\n",
        "\n",
        "It_is_not_tuple=(1)\n",
        "print (type(It_is_not_tuple))\n",
        "\n",
        "It_is_tuple=(1,)\n",
        "print (type(It_is_tuple))\n",
        "\n",
        "print (\"work_week: {0}\".format(week[0:4]))"
      ],
      "execution_count": 13,
      "outputs": [
        {
          "output_type": "stream",
          "name": "stdout",
          "text": [
            "<class 'tuple'>\n",
            "Today is  Tuesday\n",
            "<class 'int'>\n",
            "<class 'tuple'>\n",
            "work_week: ('Monday', 'Tuesday', 'Wednesday', 'Thursday')\n"
          ]
        }
      ]
    },
    {
      "cell_type": "code",
      "metadata": {
        "colab": {
          "base_uri": "https://localhost:8080/",
          "height": 218
        },
        "id": "8TOJxozJF62C",
        "outputId": "7f684017-5a1e-42db-f452-a02992db6a80"
      },
      "source": [
        "#Inmutable\n",
        "week[0] = \"TODAY\"\n",
        "#color[0]='greeen'\n",
        "#color"
      ],
      "execution_count": 14,
      "outputs": [
        {
          "output_type": "error",
          "ename": "TypeError",
          "evalue": "ignored",
          "traceback": [
            "\u001b[0;31m---------------------------------------------------------------------------\u001b[0m",
            "\u001b[0;31mTypeError\u001b[0m                                 Traceback (most recent call last)",
            "\u001b[0;32m<ipython-input-14-602fff576396>\u001b[0m in \u001b[0;36m<module>\u001b[0;34m()\u001b[0m\n\u001b[1;32m      1\u001b[0m \u001b[0;31m#Inmutable\u001b[0m\u001b[0;34m\u001b[0m\u001b[0;34m\u001b[0m\u001b[0;34m\u001b[0m\u001b[0m\n\u001b[0;32m----> 2\u001b[0;31m \u001b[0mweek\u001b[0m\u001b[0;34m[\u001b[0m\u001b[0;36m0\u001b[0m\u001b[0;34m]\u001b[0m \u001b[0;34m=\u001b[0m \u001b[0;34m\"TODAY\"\u001b[0m\u001b[0;34m\u001b[0m\u001b[0;34m\u001b[0m\u001b[0m\n\u001b[0m\u001b[1;32m      3\u001b[0m \u001b[0;31m#color[0]='greeen'\u001b[0m\u001b[0;34m\u001b[0m\u001b[0;34m\u001b[0m\u001b[0;34m\u001b[0m\u001b[0m\n\u001b[1;32m      4\u001b[0m \u001b[0;31m#color\u001b[0m\u001b[0;34m\u001b[0m\u001b[0;34m\u001b[0m\u001b[0;34m\u001b[0m\u001b[0m\n",
            "\u001b[0;31mTypeError\u001b[0m: 'tuple' object does not support item assignment"
          ]
        }
      ]
    },
    {
      "cell_type": "markdown",
      "metadata": {
        "id": "Gm-bc-x3F62C"
      },
      "source": [
        " We can use  + operator and function  **len()**."
      ]
    },
    {
      "cell_type": "code",
      "metadata": {
        "colab": {
          "base_uri": "https://localhost:8080/"
        },
        "id": "rc4j5OpZF62C",
        "outputId": "ca780ba5-7af9-4062-cc75-a8a119e2b832"
      },
      "source": [
        "New_tuple = week + It_is_tuple\n",
        "print(New_tuple)\n",
        "len(New_tuple)"
      ],
      "execution_count": 15,
      "outputs": [
        {
          "output_type": "stream",
          "name": "stdout",
          "text": [
            "('Monday', 'Tuesday', 'Wednesday', 'Thursday', 'Friday', 'Saturday', 'Sunday', 1)\n"
          ]
        },
        {
          "output_type": "execute_result",
          "data": {
            "text/plain": [
              "8"
            ]
          },
          "metadata": {},
          "execution_count": 15
        }
      ]
    },
    {
      "cell_type": "markdown",
      "metadata": {
        "nbpresent": {
          "id": "39ccfe11-7217-4eb1-978e-d96765a9b6ed"
        },
        "id": "aDmC74I8F62D"
      },
      "source": [
        "### Dictionary\n",
        "\n",
        "it is a collection of value-key pairs or associative matrix. \n",
        "\n",
        "    - To define a dictionary we use curly braces **{}**\n",
        "    - key values have to be simple data or tuples.\n",
        "    - Values can be whatever other data type\n",
        "    - To acces to a data , we will use the key as an index\n",
        "    - To add new element , we need a pair key-value\n"
      ]
    },
    {
      "cell_type": "code",
      "metadata": {
        "nbpresent": {
          "id": "5b6e80d1-cd07-490b-99cc-1c9d7e10511f"
        },
        "colab": {
          "base_uri": "https://localhost:8080/"
        },
        "id": "MF3f0VsAF62D",
        "outputId": "db9870d7-61d4-4311-91d5-76d4c77b7d7e"
      },
      "source": [
        "dictionary= {\"Spain\": 'Sevilla', 'France': \"Paris\", 'UK': 'London','Ireland':'Dublin','Italy':'Rome'}\n",
        "print (type(dictionary))"
      ],
      "execution_count": 16,
      "outputs": [
        {
          "output_type": "stream",
          "name": "stdout",
          "text": [
            "<class 'dict'>\n"
          ]
        }
      ]
    },
    {
      "cell_type": "code",
      "metadata": {
        "nbpresent": {
          "id": "f4c8e9d9-509d-46ee-9254-75b3a73bc8f6"
        },
        "colab": {
          "base_uri": "https://localhost:8080/"
        },
        "id": "Gt_9_ZvtF62D",
        "outputId": "82d62eeb-c5e4-4b64-e166-a17d2ab781be"
      },
      "source": [
        "#Get a Value\n",
        "print (dictionary['France'])\n",
        "#Add new element\n",
        "dictionary['Germany']='Berlin'\n",
        "print (dictionary)\n",
        "#Update\n",
        "dictionary['Spain']='Madrid'\n",
        "print (dictionary)"
      ],
      "execution_count": 17,
      "outputs": [
        {
          "output_type": "stream",
          "name": "stdout",
          "text": [
            "Paris\n",
            "{'Spain': 'Sevilla', 'France': 'Paris', 'UK': 'London', 'Ireland': 'Dublin', 'Italy': 'Rome', 'Germany': 'Berlin'}\n",
            "{'Spain': 'Madrid', 'France': 'Paris', 'UK': 'London', 'Ireland': 'Dublin', 'Italy': 'Rome', 'Germany': 'Berlin'}\n"
          ]
        }
      ]
    },
    {
      "cell_type": "markdown",
      "metadata": {
        "nbpresent": {
          "id": "90cd4f21-c62e-43ec-9e94-a5a03f9e7083"
        },
        "id": "0AJeWAlkF62D"
      },
      "source": [
        "The most important methods ( functions) to deal with dictionaries are  \n",
        "\n",
        "- **d.keys()** return a list with the keys of the list  \n",
        "- **d.items()** return a  value-keys list. Each element is a tuple.\n",
        "- **d.values()** return a list with the values of the list \n"
      ]
    },
    {
      "cell_type": "code",
      "metadata": {
        "colab": {
          "base_uri": "https://localhost:8080/"
        },
        "id": "S_q6htolF62E",
        "outputId": "2894df0c-f2b8-4adc-deb7-39b22c5df9f3"
      },
      "source": [
        "print (dictionary.keys())\n",
        "print (dictionary.items())\n",
        "print (dictionary.values())"
      ],
      "execution_count": 18,
      "outputs": [
        {
          "output_type": "stream",
          "name": "stdout",
          "text": [
            "dict_keys(['Spain', 'France', 'UK', 'Ireland', 'Italy', 'Germany'])\n",
            "dict_items([('Spain', 'Madrid'), ('France', 'Paris'), ('UK', 'London'), ('Ireland', 'Dublin'), ('Italy', 'Rome'), ('Germany', 'Berlin')])\n",
            "dict_values(['Madrid', 'Paris', 'London', 'Dublin', 'Rome', 'Berlin'])\n"
          ]
        }
      ]
    },
    {
      "cell_type": "markdown",
      "metadata": {
        "id": "fw4gKn7IF62E"
      },
      "source": [
        "### Other Operators\n",
        " **in** Operator . If a key is in the dictioanry"
      ]
    },
    {
      "cell_type": "code",
      "metadata": {
        "id": "DBHb00EwF62E",
        "colab": {
          "base_uri": "https://localhost:8080/"
        },
        "outputId": "0476b69b-5f36-4612-ca94-874774e2524c"
      },
      "source": [
        "\"France\" in dictionary"
      ],
      "execution_count": 19,
      "outputs": [
        {
          "output_type": "execute_result",
          "data": {
            "text/plain": [
              "True"
            ]
          },
          "metadata": {},
          "execution_count": 19
        }
      ]
    },
    {
      "cell_type": "markdown",
      "metadata": {
        "id": "mL5oAWVuF62E"
      },
      "source": [
        "*Delete* a key-value pair using **del** operator"
      ]
    },
    {
      "cell_type": "code",
      "metadata": {
        "id": "1SFTepxyF62E",
        "colab": {
          "base_uri": "https://localhost:8080/"
        },
        "outputId": "29ab6267-180d-4c0e-a3fe-bb360c8db74b"
      },
      "source": [
        "del dictionary[\"France\"]\n",
        "\"France\" in dictionary"
      ],
      "execution_count": 20,
      "outputs": [
        {
          "output_type": "execute_result",
          "data": {
            "text/plain": [
              "False"
            ]
          },
          "metadata": {},
          "execution_count": 20
        }
      ]
    },
    {
      "cell_type": "markdown",
      "metadata": {
        "id": "v-ka5dlos3A2"
      },
      "source": [
        "# EXERCISES"
      ]
    },
    {
      "cell_type": "markdown",
      "metadata": {
        "id": "fhx6LebJt6xG"
      },
      "source": [
        "1.- Below are the two lists convert it into the dictionary\n",
        "Clue: two funtions dict and zip.\n",
        "\n",
        "https://docs.python.org/3/tutorial/datastructures.html#dictionaries"
      ]
    },
    {
      "cell_type": "code",
      "metadata": {
        "id": "KKnh0dXbt-oZ"
      },
      "source": [
        "keys = ['Ten', 'Twenty', 'Thirty']\n",
        "values = [10, 20, 30]"
      ],
      "execution_count": 23,
      "outputs": []
    },
    {
      "cell_type": "code",
      "metadata": {
        "id": "kIoegqrPuBWy",
        "outputId": "785baf7c-c51f-4edc-a674-7497bd1055ff",
        "colab": {
          "base_uri": "https://localhost:8080/"
        }
      },
      "source": [
        "sampleDict = ____(____(keys, values)))\n",
        "print(sampleDict)\n"
      ],
      "execution_count": 27,
      "outputs": [
        {
          "output_type": "stream",
          "name": "stdout",
          "text": [
            "{'Ten': 10, 'Twenty': 20, 'Thirty': 30}\n",
            "<zip object at 0x7ff6c0a89d20>\n"
          ]
        }
      ]
    },
    {
      "cell_type": "markdown",
      "metadata": {
        "id": "b3upR1mVv3pV"
      },
      "source": [
        "2.- Merge following two Python dictionaries into one\n",
        "Two methods; **, update"
      ]
    },
    {
      "cell_type": "code",
      "metadata": {
        "id": "UZtXatWUv57F"
      },
      "source": [
        "dict1 = {'Ten': 10, 'Twenty': 20, 'Thirty': 30}\n",
        "dict2 = {'Thirty': 30, 'Fourty': 40, 'Fifty': 50}"
      ],
      "execution_count": null,
      "outputs": []
    },
    {
      "cell_type": "code",
      "metadata": {
        "id": "leHGa43zv9h8"
      },
      "source": [
        "dict3 = {___dict1, ___dict2}\n",
        "print(dict3)"
      ],
      "execution_count": null,
      "outputs": []
    }
  ]
}