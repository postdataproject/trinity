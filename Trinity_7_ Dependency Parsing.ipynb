{
  "nbformat": 4,
  "nbformat_minor": 0,
  "metadata": {
    "kernelspec": {
      "display_name": "Python 3",
      "language": "python",
      "name": "python3"
    },
    "language_info": {
      "codemirror_mode": {
        "name": "ipython",
        "version": 3
      },
      "file_extension": ".py",
      "mimetype": "text/x-python",
      "name": "python",
      "nbconvert_exporter": "python",
      "pygments_lexer": "ipython3",
      "version": "3.6.7"
    },
    "colab": {
      "name": "Trinity_7_ Dependency Parsing.ipynb",
      "provenance": [],
      "collapsed_sections": []
    }
  },
  "cells": [
    {
      "cell_type": "markdown",
      "metadata": {
        "id": "_XJsi43ALwMq"
      },
      "source": [
        "#Dependency parsing with Spacy"
      ]
    },
    {
      "cell_type": "markdown",
      "metadata": {
        "id": "-3NpzYB9MQQ5"
      },
      "source": [
        "\n",
        "spaCy features a fast and accurate syntactic dependency parser, and has a rich API for navigating the tree. The parser also powers the sentence boundary detection, and lets you iterate over base noun phrases, or “chunks”. You can check whether a Doc object has been parsed by calling doc.has_annotation(\"DEP\"), which checks whether the attribute Token.dep has been set returns a boolean value. If the result is False, the default sentence iterator will raise an exception."
      ]
    },
    {
      "cell_type": "markdown",
      "metadata": {
        "id": "u-DGBtWfXAee"
      },
      "source": [
        "#1. Libraries and Setup"
      ]
    },
    {
      "cell_type": "code",
      "metadata": {
        "colab": {
          "base_uri": "https://localhost:8080/"
        },
        "id": "T7f6nFr8NEbB",
        "outputId": "8dd6cdfa-831b-4ba6-d408-9d1676030ba1"
      },
      "source": [
        "!pip install chart-studio"
      ],
      "execution_count": 1,
      "outputs": [
        {
          "output_type": "stream",
          "name": "stdout",
          "text": [
            "Collecting chart-studio\n",
            "  Downloading chart_studio-1.1.0-py3-none-any.whl (64 kB)\n",
            "\u001b[?25l\r\u001b[K     |█████                           | 10 kB 18.7 MB/s eta 0:00:01\r\u001b[K     |██████████▏                     | 20 kB 10.9 MB/s eta 0:00:01\r\u001b[K     |███████████████▎                | 30 kB 8.9 MB/s eta 0:00:01\r\u001b[K     |████████████████████▍           | 40 kB 8.2 MB/s eta 0:00:01\r\u001b[K     |█████████████████████████▍      | 51 kB 5.0 MB/s eta 0:00:01\r\u001b[K     |██████████████████████████████▌ | 61 kB 5.3 MB/s eta 0:00:01\r\u001b[K     |████████████████████████████████| 64 kB 586 kB/s \n",
            "\u001b[?25hRequirement already satisfied: six in /usr/local/lib/python3.7/dist-packages (from chart-studio) (1.15.0)\n",
            "Collecting retrying>=1.3.3\n",
            "  Downloading retrying-1.3.3.tar.gz (10 kB)\n",
            "Requirement already satisfied: requests in /usr/local/lib/python3.7/dist-packages (from chart-studio) (2.23.0)\n",
            "Requirement already satisfied: plotly in /usr/local/lib/python3.7/dist-packages (from chart-studio) (5.5.0)\n",
            "Requirement already satisfied: tenacity>=6.2.0 in /usr/local/lib/python3.7/dist-packages (from plotly->chart-studio) (8.0.1)\n",
            "Requirement already satisfied: certifi>=2017.4.17 in /usr/local/lib/python3.7/dist-packages (from requests->chart-studio) (2021.10.8)\n",
            "Requirement already satisfied: urllib3!=1.25.0,!=1.25.1,<1.26,>=1.21.1 in /usr/local/lib/python3.7/dist-packages (from requests->chart-studio) (1.24.3)\n",
            "Requirement already satisfied: idna<3,>=2.5 in /usr/local/lib/python3.7/dist-packages (from requests->chart-studio) (2.10)\n",
            "Requirement already satisfied: chardet<4,>=3.0.2 in /usr/local/lib/python3.7/dist-packages (from requests->chart-studio) (3.0.4)\n",
            "Building wheels for collected packages: retrying\n",
            "  Building wheel for retrying (setup.py) ... \u001b[?25l\u001b[?25hdone\n",
            "  Created wheel for retrying: filename=retrying-1.3.3-py3-none-any.whl size=11447 sha256=940682b4bb76c7f6cfde1327425323b6d22e2b76fa76462eb21187a4ee17b51a\n",
            "  Stored in directory: /root/.cache/pip/wheels/f9/8d/8d/f6af3f7f9eea3553bc2fe6d53e4b287dad18b06a861ac56ddf\n",
            "Successfully built retrying\n",
            "Installing collected packages: retrying, chart-studio\n",
            "Successfully installed chart-studio-1.1.0 retrying-1.3.3\n"
          ]
        }
      ]
    },
    {
      "cell_type": "code",
      "metadata": {
        "id": "-NgvJ-yfNMEN"
      },
      "source": [
        "import spacy\n",
        "from IPython.display import HTML\n",
        "import warnings\n",
        "import chart_studio.plotly as py\n",
        "import plotly.graph_objs as go\n",
        "import plotly.offline as offline\n",
        "import pandas as pd\n",
        "import matplotlib.pyplot as plt\n",
        "from functools import partial\n",
        "import numpy as np\n",
        "import sys"
      ],
      "execution_count": 2,
      "outputs": []
    },
    {
      "cell_type": "code",
      "metadata": {
        "id": "6ee8kHroW9I0",
        "colab": {
          "base_uri": "https://localhost:8080/"
        },
        "outputId": "ce66f0c6-ab44-4b28-8812-df4e41b1f118"
      },
      "source": [
        "from google.colab import drive\n",
        "drive.mount('/content/drive')"
      ],
      "execution_count": null,
      "outputs": [
        {
          "output_type": "stream",
          "text": [
            "Mounted at /content/drive\n"
          ],
          "name": "stdout"
        }
      ]
    },
    {
      "cell_type": "markdown",
      "metadata": {
        "id": "Yt5jpJ-oND3Q"
      },
      "source": [
        ""
      ]
    },
    {
      "cell_type": "code",
      "metadata": {
        "id": "gpNkHpAxMzvv"
      },
      "source": [
        "# Change pos_ by dep_ reciclying code\n",
        "def rep_sentence(text, display_pos = True):\n",
        "    html_colors = ['SkyBlue'\n",
        "               ,'red'\n",
        "               ,'YellowGreen'\n",
        "               ,'yellow'\n",
        "               ,'orange'\n",
        "               ,'pink'\n",
        "               ,'brown'\n",
        "               ,'purple'\n",
        "               , 'CadetBlue'\n",
        "                ,'DarkKhaki'\n",
        "                ,'DarkSalmon'\n",
        "                ,'Gold'    \n",
        "              ]\n",
        "    doc = nlp(text)\n",
        "    n_words = len(doc)\n",
        "    unique_pos = list(set(map(lambda x: x.dep_, doc)))\n",
        "    pos_to_color = {i:html_colors[unique_pos.index(i)] for i in unique_pos}\n",
        "    css = [\"<style>.word{font-weight:bold;}</style>\"]\n",
        "    for pos in unique_pos:\n",
        "        css.append('<style>.{}{{background-color:{};}}</style>'.format(*[pos, pos_to_color[pos]]))\n",
        "    css = \"\".join(css)\n",
        "\n",
        "    html = [\"<table width=100%>\"]\n",
        "    html.append(css)\n",
        "    html.append(\"<tr>\")            \n",
        "    for i in range(n_words):\n",
        "        word_string= doc[i].orth_\n",
        "        html.append(\"<td><span class='word'>{0}</span></td>\".format(word_string))\n",
        "    html.append(\"</tr>\")\n",
        "    if display_pos:\n",
        "        html.append(\"<tr>\")            \n",
        "        for i in range(n_words):\n",
        "            pos = doc[i].dep_\n",
        "            color = pos_to_color[pos]\n",
        "            html.append(\"<td><span class='{0}'>{0}</span></td>\".format(pos))\n",
        "        html.append(\"</tr>\")\n",
        "    html = \"\".join(html)\n",
        "    return html"
      ],
      "execution_count": 3,
      "outputs": []
    },
    {
      "cell_type": "code",
      "metadata": {
        "id": "1e2nUHRpkLHn"
      },
      "source": [
        "# Loading the model\n",
        "nlp=spacy.load('en_core_web_sm')"
      ],
      "execution_count": 4,
      "outputs": []
    },
    {
      "cell_type": "code",
      "metadata": {
        "id": "3ddcfIwakLHx"
      },
      "source": [
        "# Defining the string\n",
        "text=\"I will wear a white shirt on Monday.\""
      ],
      "execution_count": 5,
      "outputs": []
    },
    {
      "cell_type": "code",
      "metadata": {
        "id": "FOhND_2ckLH5"
      },
      "source": [
        "# Creating Doc object\n",
        "doc=nlp(text)"
      ],
      "execution_count": 6,
      "outputs": []
    },
    {
      "cell_type": "code",
      "metadata": {
        "id": "alk8jkknkLID",
        "colab": {
          "base_uri": "https://localhost:8080/",
          "height": 217
        },
        "outputId": "4f01186d-5cc8-4306-c440-b7f69ece7417"
      },
      "source": [
        "# Getting dependency tags\n",
        "for token in doc:\n",
        "    print(token.text,'=>',token.dep_)\n",
        "HTML(rep_sentence(text))"
      ],
      "execution_count": 7,
      "outputs": [
        {
          "output_type": "stream",
          "name": "stdout",
          "text": [
            "I => nsubj\n",
            "will => aux\n",
            "wear => ROOT\n",
            "a => det\n",
            "white => amod\n",
            "shirt => dobj\n",
            "on => prep\n",
            "Monday => pobj\n",
            ". => punct\n"
          ]
        },
        {
          "output_type": "execute_result",
          "data": {
            "text/html": [
              "<table width=100%><style>.word{font-weight:bold;}</style><style>.pobj{background-color:SkyBlue;}</style><style>.nsubj{background-color:red;}</style><style>.punct{background-color:YellowGreen;}</style><style>.prep{background-color:yellow;}</style><style>.dobj{background-color:orange;}</style><style>.det{background-color:pink;}</style><style>.aux{background-color:brown;}</style><style>.ROOT{background-color:purple;}</style><style>.amod{background-color:CadetBlue;}</style><tr><td><span class='word'>I</span></td><td><span class='word'>will</span></td><td><span class='word'>wear</span></td><td><span class='word'>a</span></td><td><span class='word'>white</span></td><td><span class='word'>shirt</span></td><td><span class='word'>on</span></td><td><span class='word'>Monday</span></td><td><span class='word'>.</span></td></tr><tr><td><span class='nsubj'>nsubj</span></td><td><span class='aux'>aux</span></td><td><span class='ROOT'>ROOT</span></td><td><span class='det'>det</span></td><td><span class='amod'>amod</span></td><td><span class='dobj'>dobj</span></td><td><span class='prep'>prep</span></td><td><span class='pobj'>pobj</span></td><td><span class='punct'>punct</span></td></tr>"
            ],
            "text/plain": [
              "<IPython.core.display.HTML object>"
            ]
          },
          "metadata": {},
          "execution_count": 7
        }
      ]
    },
    {
      "cell_type": "code",
      "metadata": {
        "id": "VgnATZLPkLIP"
      },
      "source": [
        "# Importing visualizer\n",
        "from spacy import displacy"
      ],
      "execution_count": 8,
      "outputs": []
    },
    {
      "cell_type": "code",
      "metadata": {
        "id": "qZAg0YtSkLId",
        "colab": {
          "base_uri": "https://localhost:8080/",
          "height": 529
        },
        "outputId": "e12bceee-cb35-4711-a5b2-180a9ae039bd"
      },
      "source": [
        "# Visualizing dependency tree\n",
        "displacy.render(doc,jupyter=True)"
      ],
      "execution_count": 9,
      "outputs": [
        {
          "output_type": "display_data",
          "data": {
            "text/html": [
              "<span class=\"tex2jax_ignore\"><svg xmlns=\"http://www.w3.org/2000/svg\" xmlns:xlink=\"http://www.w3.org/1999/xlink\" xml:lang=\"en\" id=\"bfa79086f4cb474fa8574254929d4a9f-0\" class=\"displacy\" width=\"1450\" height=\"487.0\" direction=\"ltr\" style=\"max-width: none; height: 487.0px; color: #000000; background: #ffffff; font-family: Arial; direction: ltr\">\n",
              "<text class=\"displacy-token\" fill=\"currentColor\" text-anchor=\"middle\" y=\"397.0\">\n",
              "    <tspan class=\"displacy-word\" fill=\"currentColor\" x=\"50\">I</tspan>\n",
              "    <tspan class=\"displacy-tag\" dy=\"2em\" fill=\"currentColor\" x=\"50\">PRON</tspan>\n",
              "</text>\n",
              "\n",
              "<text class=\"displacy-token\" fill=\"currentColor\" text-anchor=\"middle\" y=\"397.0\">\n",
              "    <tspan class=\"displacy-word\" fill=\"currentColor\" x=\"225\">will</tspan>\n",
              "    <tspan class=\"displacy-tag\" dy=\"2em\" fill=\"currentColor\" x=\"225\">VERB</tspan>\n",
              "</text>\n",
              "\n",
              "<text class=\"displacy-token\" fill=\"currentColor\" text-anchor=\"middle\" y=\"397.0\">\n",
              "    <tspan class=\"displacy-word\" fill=\"currentColor\" x=\"400\">wear</tspan>\n",
              "    <tspan class=\"displacy-tag\" dy=\"2em\" fill=\"currentColor\" x=\"400\">VERB</tspan>\n",
              "</text>\n",
              "\n",
              "<text class=\"displacy-token\" fill=\"currentColor\" text-anchor=\"middle\" y=\"397.0\">\n",
              "    <tspan class=\"displacy-word\" fill=\"currentColor\" x=\"575\">a</tspan>\n",
              "    <tspan class=\"displacy-tag\" dy=\"2em\" fill=\"currentColor\" x=\"575\">DET</tspan>\n",
              "</text>\n",
              "\n",
              "<text class=\"displacy-token\" fill=\"currentColor\" text-anchor=\"middle\" y=\"397.0\">\n",
              "    <tspan class=\"displacy-word\" fill=\"currentColor\" x=\"750\">white</tspan>\n",
              "    <tspan class=\"displacy-tag\" dy=\"2em\" fill=\"currentColor\" x=\"750\">ADJ</tspan>\n",
              "</text>\n",
              "\n",
              "<text class=\"displacy-token\" fill=\"currentColor\" text-anchor=\"middle\" y=\"397.0\">\n",
              "    <tspan class=\"displacy-word\" fill=\"currentColor\" x=\"925\">shirt</tspan>\n",
              "    <tspan class=\"displacy-tag\" dy=\"2em\" fill=\"currentColor\" x=\"925\">NOUN</tspan>\n",
              "</text>\n",
              "\n",
              "<text class=\"displacy-token\" fill=\"currentColor\" text-anchor=\"middle\" y=\"397.0\">\n",
              "    <tspan class=\"displacy-word\" fill=\"currentColor\" x=\"1100\">on</tspan>\n",
              "    <tspan class=\"displacy-tag\" dy=\"2em\" fill=\"currentColor\" x=\"1100\">ADP</tspan>\n",
              "</text>\n",
              "\n",
              "<text class=\"displacy-token\" fill=\"currentColor\" text-anchor=\"middle\" y=\"397.0\">\n",
              "    <tspan class=\"displacy-word\" fill=\"currentColor\" x=\"1275\">Monday.</tspan>\n",
              "    <tspan class=\"displacy-tag\" dy=\"2em\" fill=\"currentColor\" x=\"1275\">PROPN</tspan>\n",
              "</text>\n",
              "\n",
              "<g class=\"displacy-arrow\">\n",
              "    <path class=\"displacy-arc\" id=\"arrow-bfa79086f4cb474fa8574254929d4a9f-0-0\" stroke-width=\"2px\" d=\"M70,352.0 C70,177.0 390.0,177.0 390.0,352.0\" fill=\"none\" stroke=\"currentColor\"/>\n",
              "    <text dy=\"1.25em\" style=\"font-size: 0.8em; letter-spacing: 1px\">\n",
              "        <textPath xlink:href=\"#arrow-bfa79086f4cb474fa8574254929d4a9f-0-0\" class=\"displacy-label\" startOffset=\"50%\" side=\"left\" fill=\"currentColor\" text-anchor=\"middle\">nsubj</textPath>\n",
              "    </text>\n",
              "    <path class=\"displacy-arrowhead\" d=\"M70,354.0 L62,342.0 78,342.0\" fill=\"currentColor\"/>\n",
              "</g>\n",
              "\n",
              "<g class=\"displacy-arrow\">\n",
              "    <path class=\"displacy-arc\" id=\"arrow-bfa79086f4cb474fa8574254929d4a9f-0-1\" stroke-width=\"2px\" d=\"M245,352.0 C245,264.5 385.0,264.5 385.0,352.0\" fill=\"none\" stroke=\"currentColor\"/>\n",
              "    <text dy=\"1.25em\" style=\"font-size: 0.8em; letter-spacing: 1px\">\n",
              "        <textPath xlink:href=\"#arrow-bfa79086f4cb474fa8574254929d4a9f-0-1\" class=\"displacy-label\" startOffset=\"50%\" side=\"left\" fill=\"currentColor\" text-anchor=\"middle\">aux</textPath>\n",
              "    </text>\n",
              "    <path class=\"displacy-arrowhead\" d=\"M245,354.0 L237,342.0 253,342.0\" fill=\"currentColor\"/>\n",
              "</g>\n",
              "\n",
              "<g class=\"displacy-arrow\">\n",
              "    <path class=\"displacy-arc\" id=\"arrow-bfa79086f4cb474fa8574254929d4a9f-0-2\" stroke-width=\"2px\" d=\"M595,352.0 C595,177.0 915.0,177.0 915.0,352.0\" fill=\"none\" stroke=\"currentColor\"/>\n",
              "    <text dy=\"1.25em\" style=\"font-size: 0.8em; letter-spacing: 1px\">\n",
              "        <textPath xlink:href=\"#arrow-bfa79086f4cb474fa8574254929d4a9f-0-2\" class=\"displacy-label\" startOffset=\"50%\" side=\"left\" fill=\"currentColor\" text-anchor=\"middle\">det</textPath>\n",
              "    </text>\n",
              "    <path class=\"displacy-arrowhead\" d=\"M595,354.0 L587,342.0 603,342.0\" fill=\"currentColor\"/>\n",
              "</g>\n",
              "\n",
              "<g class=\"displacy-arrow\">\n",
              "    <path class=\"displacy-arc\" id=\"arrow-bfa79086f4cb474fa8574254929d4a9f-0-3\" stroke-width=\"2px\" d=\"M770,352.0 C770,264.5 910.0,264.5 910.0,352.0\" fill=\"none\" stroke=\"currentColor\"/>\n",
              "    <text dy=\"1.25em\" style=\"font-size: 0.8em; letter-spacing: 1px\">\n",
              "        <textPath xlink:href=\"#arrow-bfa79086f4cb474fa8574254929d4a9f-0-3\" class=\"displacy-label\" startOffset=\"50%\" side=\"left\" fill=\"currentColor\" text-anchor=\"middle\">amod</textPath>\n",
              "    </text>\n",
              "    <path class=\"displacy-arrowhead\" d=\"M770,354.0 L762,342.0 778,342.0\" fill=\"currentColor\"/>\n",
              "</g>\n",
              "\n",
              "<g class=\"displacy-arrow\">\n",
              "    <path class=\"displacy-arc\" id=\"arrow-bfa79086f4cb474fa8574254929d4a9f-0-4\" stroke-width=\"2px\" d=\"M420,352.0 C420,89.5 920.0,89.5 920.0,352.0\" fill=\"none\" stroke=\"currentColor\"/>\n",
              "    <text dy=\"1.25em\" style=\"font-size: 0.8em; letter-spacing: 1px\">\n",
              "        <textPath xlink:href=\"#arrow-bfa79086f4cb474fa8574254929d4a9f-0-4\" class=\"displacy-label\" startOffset=\"50%\" side=\"left\" fill=\"currentColor\" text-anchor=\"middle\">dobj</textPath>\n",
              "    </text>\n",
              "    <path class=\"displacy-arrowhead\" d=\"M920.0,354.0 L928.0,342.0 912.0,342.0\" fill=\"currentColor\"/>\n",
              "</g>\n",
              "\n",
              "<g class=\"displacy-arrow\">\n",
              "    <path class=\"displacy-arc\" id=\"arrow-bfa79086f4cb474fa8574254929d4a9f-0-5\" stroke-width=\"2px\" d=\"M420,352.0 C420,2.0 1100.0,2.0 1100.0,352.0\" fill=\"none\" stroke=\"currentColor\"/>\n",
              "    <text dy=\"1.25em\" style=\"font-size: 0.8em; letter-spacing: 1px\">\n",
              "        <textPath xlink:href=\"#arrow-bfa79086f4cb474fa8574254929d4a9f-0-5\" class=\"displacy-label\" startOffset=\"50%\" side=\"left\" fill=\"currentColor\" text-anchor=\"middle\">prep</textPath>\n",
              "    </text>\n",
              "    <path class=\"displacy-arrowhead\" d=\"M1100.0,354.0 L1108.0,342.0 1092.0,342.0\" fill=\"currentColor\"/>\n",
              "</g>\n",
              "\n",
              "<g class=\"displacy-arrow\">\n",
              "    <path class=\"displacy-arc\" id=\"arrow-bfa79086f4cb474fa8574254929d4a9f-0-6\" stroke-width=\"2px\" d=\"M1120,352.0 C1120,264.5 1260.0,264.5 1260.0,352.0\" fill=\"none\" stroke=\"currentColor\"/>\n",
              "    <text dy=\"1.25em\" style=\"font-size: 0.8em; letter-spacing: 1px\">\n",
              "        <textPath xlink:href=\"#arrow-bfa79086f4cb474fa8574254929d4a9f-0-6\" class=\"displacy-label\" startOffset=\"50%\" side=\"left\" fill=\"currentColor\" text-anchor=\"middle\">pobj</textPath>\n",
              "    </text>\n",
              "    <path class=\"displacy-arrowhead\" d=\"M1260.0,354.0 L1268.0,342.0 1252.0,342.0\" fill=\"currentColor\"/>\n",
              "</g>\n",
              "</svg></span>"
            ],
            "text/plain": [
              "<IPython.core.display.HTML object>"
            ]
          },
          "metadata": {}
        }
      ]
    },
    {
      "cell_type": "code",
      "metadata": {
        "id": "Xk1rAKNNkLIs",
        "colab": {
          "base_uri": "https://localhost:8080/"
        },
        "outputId": "1460b489-0248-4d67-f610-6c895b0a73c4"
      },
      "source": [
        "# Getting head word (parent)\n",
        "for token in doc:\n",
        "    print(token.text,'=>',token.head.text)"
      ],
      "execution_count": 10,
      "outputs": [
        {
          "output_type": "stream",
          "name": "stdout",
          "text": [
            "I => wear\n",
            "will => wear\n",
            "wear => wear\n",
            "a => shirt\n",
            "white => shirt\n",
            "shirt => wear\n",
            "on => wear\n",
            "Monday => on\n",
            ". => wear\n"
          ]
        }
      ]
    },
    {
      "cell_type": "code",
      "metadata": {
        "id": "W95_MGrKkLI2",
        "colab": {
          "base_uri": "https://localhost:8080/"
        },
        "outputId": "d38cfde4-ac04-48ab-c445-8b4324f7559a"
      },
      "source": [
        "# Getting immediate children\n",
        "for token in doc:\n",
        "    print(token.text,'=>',token.children)"
      ],
      "execution_count": 11,
      "outputs": [
        {
          "output_type": "stream",
          "name": "stdout",
          "text": [
            "I => <generator object at 0x7f0a6d6a0690>\n",
            "will => <generator object at 0x7f0a6d6a0690>\n",
            "wear => <generator object at 0x7f0a6d6a0690>\n",
            "a => <generator object at 0x7f0a6d6a0690>\n",
            "white => <generator object at 0x7f0a6d6a0690>\n",
            "shirt => <generator object at 0x7f0a6d6a0690>\n",
            "on => <generator object at 0x7f0a6d6a0690>\n",
            "Monday => <generator object at 0x7f0a6d6a0690>\n",
            ". => <generator object at 0x7f0a6d6a0690>\n"
          ]
        }
      ]
    },
    {
      "cell_type": "code",
      "metadata": {
        "id": "lSyf6uyXkLI_",
        "colab": {
          "base_uri": "https://localhost:8080/"
        },
        "outputId": "d53008f2-7a37-4b04-86d9-eb8439ef80ac"
      },
      "source": [
        "# Getting immediate children\n",
        "for token in doc:\n",
        "    print(token.text,'=>',[child.text for child in token.children])"
      ],
      "execution_count": 12,
      "outputs": [
        {
          "output_type": "stream",
          "name": "stdout",
          "text": [
            "I => []\n",
            "will => []\n",
            "wear => ['I', 'will', 'shirt', 'on', '.']\n",
            "a => []\n",
            "white => []\n",
            "shirt => ['a', 'white']\n",
            "on => ['Monday']\n",
            "Monday => []\n",
            ". => []\n"
          ]
        }
      ]
    },
    {
      "cell_type": "code",
      "metadata": {
        "id": "eUnk0p34kLJG",
        "colab": {
          "base_uri": "https://localhost:8080/"
        },
        "outputId": "d85243f7-9f28-4847-f301-df8cb6a8c336"
      },
      "source": [
        "# Getting left and right children\n",
        "for token in doc:\n",
        "    print(token.text,'=>',token.lefts,'=>',token.rights)\n",
        "\n",
        "type(token.lefts)"
      ],
      "execution_count": 13,
      "outputs": [
        {
          "output_type": "stream",
          "name": "stdout",
          "text": [
            "I => <generator object at 0x7f0a6d6a0550> => <generator object at 0x7f0a6d6a0690>\n",
            "will => <generator object at 0x7f0a6d6a0550> => <generator object at 0x7f0a6d6a0690>\n",
            "wear => <generator object at 0x7f0a6d6a0550> => <generator object at 0x7f0a6d6a0690>\n",
            "a => <generator object at 0x7f0a6d6a0550> => <generator object at 0x7f0a6d6a0690>\n",
            "white => <generator object at 0x7f0a6d6a0550> => <generator object at 0x7f0a6d6a0690>\n",
            "shirt => <generator object at 0x7f0a6d6a0550> => <generator object at 0x7f0a6d6a0690>\n",
            "on => <generator object at 0x7f0a6d6a0550> => <generator object at 0x7f0a6d6a0690>\n",
            "Monday => <generator object at 0x7f0a6d6a0550> => <generator object at 0x7f0a6d6a0690>\n",
            ". => <generator object at 0x7f0a6d6a0550> => <generator object at 0x7f0a6d6a0690>\n"
          ]
        },
        {
          "output_type": "execute_result",
          "data": {
            "text/plain": [
              "generator"
            ]
          },
          "metadata": {},
          "execution_count": 13
        }
      ]
    },
    {
      "cell_type": "code",
      "metadata": {
        "id": "L4M1lUDNkLJO",
        "colab": {
          "base_uri": "https://localhost:8080/"
        },
        "outputId": "4ed74c34-9e32-4f1e-82ef-4e4aaead90f0"
      },
      "source": [
        "# Getting left children\n",
        "for token in doc:\n",
        "    print(token.text,'=>',token.n_lefts,'=>',[left for left in token.lefts])"
      ],
      "execution_count": 14,
      "outputs": [
        {
          "output_type": "stream",
          "name": "stdout",
          "text": [
            "I => 0 => []\n",
            "will => 0 => []\n",
            "wear => 2 => [I, will]\n",
            "a => 0 => []\n",
            "white => 0 => []\n",
            "shirt => 2 => [a, white]\n",
            "on => 0 => []\n",
            "Monday => 0 => []\n",
            ". => 0 => []\n"
          ]
        }
      ]
    },
    {
      "cell_type": "code",
      "metadata": {
        "id": "8YTJlA-ikLJX",
        "outputId": "0c7acd52-6973-4214-eeea-6fb4424b2784",
        "colab": {
          "base_uri": "https://localhost:8080/"
        }
      },
      "source": [
        "# Getting right children\n",
        "for token in doc:\n",
        "    print(token.text,'=>',token.n_rights,'=>',[right for right in token.rights])"
      ],
      "execution_count": 15,
      "outputs": [
        {
          "output_type": "stream",
          "name": "stdout",
          "text": [
            "I => 0 => []\n",
            "will => 0 => []\n",
            "wear => 3 => [shirt, on, .]\n",
            "a => 0 => []\n",
            "white => 0 => []\n",
            "shirt => 0 => []\n",
            "on => 1 => [Monday]\n",
            "Monday => 0 => []\n",
            ". => 0 => []\n"
          ]
        }
      ]
    },
    {
      "cell_type": "markdown",
      "metadata": {
        "id": "HpBRAADqWfgx"
      },
      "source": [
        "#Saving Images"
      ]
    },
    {
      "cell_type": "code",
      "metadata": {
        "id": "yt-JKmtpyCLy",
        "outputId": "f8fb50b3-234b-4201-8a77-75f806a25026",
        "colab": {
          "base_uri": "https://localhost:8080/"
        }
      },
      "source": [
        "import spacy\n",
        "from spacy import displacy\n",
        "from pathlib import Path\n",
        "!git clone https://github.com/sros-UNED/NLPforHumanist.git"
      ],
      "execution_count": 17,
      "outputs": [
        {
          "output_type": "stream",
          "name": "stdout",
          "text": [
            "Cloning into 'NLPforHumanist'...\n",
            "remote: Enumerating objects: 69, done.\u001b[K\n",
            "remote: Counting objects: 100% (64/64), done.\u001b[K\n",
            "remote: Compressing objects: 100% (58/58), done.\u001b[K\n",
            "remote: Total 69 (delta 21), reused 24 (delta 6), pack-reused 5\u001b[K\n",
            "Unpacking objects: 100% (69/69), done.\n"
          ]
        }
      ]
    },
    {
      "cell_type": "code",
      "metadata": {
        "id": "CNrvZXiGsJEp"
      },
      "source": [
        "\n",
        "path1='/content/NLPforHumanist/data_trinity/'"
      ],
      "execution_count": 18,
      "outputs": []
    },
    {
      "cell_type": "code",
      "metadata": {
        "id": "s5l37I_L4Qss",
        "outputId": "b629508b-66fc-46f2-ea55-8a13a652bbdb",
        "colab": {
          "base_uri": "https://localhost:8080/"
        }
      },
      "source": [
        "doc1 = nlp(\"This is a sentence.\")\n",
        "doc2 = nlp(\"This is another sentence.\")\n",
        "html = displacy.render([doc1, doc2], style=\"dep\", page=True)\n",
        "svg = displacy.render(doc1, style=\"dep\")\n",
        "output_path = Path(path1+\"sentence.svg\")\n",
        "output_path.open(\"w\", encoding=\"utf-8\").write(svg)"
      ],
      "execution_count": 19,
      "outputs": [
        {
          "output_type": "execute_result",
          "data": {
            "text/plain": [
              "3023"
            ]
          },
          "metadata": {},
          "execution_count": 19
        }
      ]
    },
    {
      "cell_type": "code",
      "metadata": {
        "id": "BrO35Cc_4jIR"
      },
      "source": [
        "nlp = spacy.load(\"en_core_web_sm\")\n",
        "sentences = [\"This is an example.\", \"This is another one.\"]\n",
        "for sent in sentences:\n",
        "    doc = nlp(sent)\n",
        "    svg = displacy.render(doc, style=\"dep\", jupyter=False)\n",
        "    file_name = '-'.join([w.text for w in doc if not w.is_punct]) + \".svg\"\n",
        "    output_path = Path(path1 + file_name)\n",
        "    output_path.open(\"w\", encoding=\"utf-8\").write(svg)"
      ],
      "execution_count": 20,
      "outputs": []
    }
  ]
}