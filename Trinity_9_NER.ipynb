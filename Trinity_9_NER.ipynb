{
  "nbformat": 4,
  "nbformat_minor": 0,
  "metadata": {
    "colab": {
      "name": "Trinity_9_NER.ipynb",
      "provenance": [],
      "collapsed_sections": []
    },
    "kernelspec": {
      "display_name": "Python 3",
      "name": "python3"
    }
  },
  "cells": [
    {
      "cell_type": "markdown",
      "metadata": {
        "id": "x6FW14spS_Y0"
      },
      "source": [
        "# Named Entity Recognition (NER)"
      ]
    },
    {
      "cell_type": "markdown",
      "metadata": {
        "id": "PAgKmqNjSvKR"
      },
      "source": [
        "## Table of Contents\n",
        "\n",
        "1. Libraries and Setup \n",
        "2. Loading the dataset\n",
        "3. Named Entity Recognition"
      ]
    },
    {
      "cell_type": "markdown",
      "metadata": {
        "id": "_h9DXVjcRYJs"
      },
      "source": [
        "#1. Libraries and Setup"
      ]
    },
    {
      "cell_type": "code",
      "metadata": {
        "id": "yt-JKmtpyCLy",
        "outputId": "68a9257f-2ca9-447e-b1e3-fbff3eb20ec4",
        "colab": {
          "base_uri": "https://localhost:8080/"
        }
      },
      "source": [
        "import spacy\n",
        "from spacy import displacy\n",
        "from pathlib import Path\n",
        "!git clone https://github.com/sros-UNED/NLPforHumanist.git"
      ],
      "execution_count": 2,
      "outputs": [
        {
          "output_type": "stream",
          "name": "stdout",
          "text": [
            "Cloning into 'NLPforHumanist'...\n",
            "remote: Enumerating objects: 78, done.\u001b[K\n",
            "remote: Counting objects: 100% (73/73), done.\u001b[K\n",
            "remote: Compressing objects: 100% (67/67), done.\u001b[K\n",
            "remote: Total 78 (delta 26), reused 24 (delta 6), pack-reused 5\u001b[K\n",
            "Unpacking objects: 100% (78/78), done.\n"
          ]
        }
      ]
    },
    {
      "cell_type": "code",
      "metadata": {
        "id": "CNrvZXiGsJEp"
      },
      "source": [
        "# Loading model\n",
        "nlp=spacy.load('en_core_web_sm')\n",
        "path1='/content/NLPforHumanist/data_trinity/'"
      ],
      "execution_count": 3,
      "outputs": []
    },
    {
      "cell_type": "code",
      "metadata": {
        "colab": {
          "base_uri": "https://localhost:8080/"
        },
        "id": "ycJF5sX_QcUf",
        "outputId": "1429c01f-c34b-4545-9b00-5548e80029d3"
      },
      "source": [
        "from google.colab import drive\n",
        "drive.mount('/content/drive')"
      ],
      "execution_count": null,
      "outputs": [
        {
          "output_type": "stream",
          "text": [
            "Mounted at /content/drive\n"
          ],
          "name": "stdout"
        }
      ]
    },
    {
      "cell_type": "markdown",
      "metadata": {
        "id": "A23Enq_NTYWa"
      },
      "source": [
        "#1. NER extraction"
      ]
    },
    {
      "cell_type": "markdown",
      "metadata": {
        "id": "sZNgXnbSTKKp"
      },
      "source": [
        "#Loading the data set"
      ]
    },
    {
      "cell_type": "code",
      "metadata": {
        "id": "FpZ8mNWHlrhU",
        "scrolled": false
      },
      "source": [
        "# Reading text file in read mode as a file object using open()\n",
        "file=open('/content/NLPforHumanist/moby_dick/moby_chp2.txt',mode='r',encoding='utf-8')"
      ],
      "execution_count": 5,
      "outputs": []
    },
    {
      "cell_type": "code",
      "metadata": {
        "colab": {
          "base_uri": "https://localhost:8080/"
        },
        "id": "1Q_4XqfAlrhb",
        "outputId": "600f51d1-b7bd-4c23-a66e-b0d75a1b3407"
      },
      "source": [
        "# Getting text data as string from file object using read()\n",
        "text=file.read()\n",
        "type(text)"
      ],
      "execution_count": 6,
      "outputs": [
        {
          "output_type": "execute_result",
          "data": {
            "text/plain": [
              "str"
            ]
          },
          "metadata": {},
          "execution_count": 6
        }
      ]
    },
    {
      "cell_type": "code",
      "metadata": {
        "id": "FCFlv5VTlrhj"
      },
      "source": [
        "# Closing the file using close()\n",
        "file.close()"
      ],
      "execution_count": 7,
      "outputs": []
    },
    {
      "cell_type": "code",
      "metadata": {
        "colab": {
          "base_uri": "https://localhost:8080/"
        },
        "id": "wRO7_v6_lrhp",
        "scrolled": false,
        "outputId": "63f58b00-761a-489e-a9e9-8198ae788666"
      },
      "source": [
        "print(text)"
      ],
      "execution_count": 8,
      "outputs": [
        {
          "output_type": "stream",
          "name": "stdout",
          "text": [
            "CHAPTER 2\n",
            "\n",
            "The Carpet-Bag.\n",
            "\n",
            "\n",
            "I stuffed a shirt or two into my old carpet-bag, tucked it under my\n",
            "arm, and started for Cape Horn and the Pacific.  Quitting the good\n",
            "city of old Manhatto, I duly arrived in New Bedford.  It was a\n",
            "Saturday night in December.  Much was I disappointed upon learning\n",
            "that the little packet for Nantucket had already sailed, and that no\n",
            "way of reaching that place would offer, till the following Monday.\n",
            "\n",
            "As most young candidates for the pains and penalties of whaling stop\n",
            "at this same New Bedford, thence to embark on their voyage, it may as\n",
            "well be related that I, for one, had no idea of so doing.  For my\n",
            "mind was made up to sail in no other than a Nantucket craft, because\n",
            "there was a fine, boisterous something about everything connected\n",
            "with that famous old island, which amazingly pleased me.  Besides\n",
            "though New Bedford has of late been gradually monopolising the\n",
            "business of whaling, and though in this matter poor old Nantucket is\n",
            "now much behind her, yet Nantucket was her great original--the Tyre\n",
            "of this Carthage;--the place where the first dead American whale was\n",
            "stranded.  Where else but from Nantucket did those aboriginal\n",
            "whalemen, the Red-Men, first sally out in canoes to give chase to the\n",
            "Leviathan?  And where but from Nantucket, too, did that first\n",
            "adventurous little sloop put forth, partly laden with imported\n",
            "cobblestones--so goes the story--to throw at the whales, in order to\n",
            "discover when they were nigh enough to risk a harpoon from the\n",
            "bowsprit?\n",
            "\n",
            "Now having a night, a day, and still another night following before\n",
            "me in New Bedford, ere I could embark for my destined port, it\n",
            "became a matter of concernment where I was to eat and sleep\n",
            "meanwhile.  It was a very dubious-looking, nay, a very dark and\n",
            "dismal night, bitingly cold and cheerless.  I knew no one in the\n",
            "place.  With anxious grapnels I had sounded my pocket, and only\n",
            "brought up a few pieces of silver,--So, wherever you go, Ishmael,\n",
            "said I to myself, as I stood in the middle of a dreary street\n",
            "shouldering my bag, and comparing the gloom towards the north with\n",
            "the darkness towards the south--wherever in your wisdom you may\n",
            "conclude to lodge for the night, my dear Ishmael, be sure to inquire\n",
            "the price, and don't be too particular.\n",
            "\n",
            "With halting steps I paced the streets, and passed the sign of \"The\n",
            "Crossed Harpoons\"--but it looked too expensive and jolly there.\n",
            "Further on, from the bright red windows of the \"Sword-Fish Inn,\"\n",
            "there came such fervent rays, that it seemed to have melted the\n",
            "packed snow and ice from before the house, for everywhere else the\n",
            "congealed frost lay ten inches thick in a hard, asphaltic\n",
            "pavement,--rather weary for me, when I struck my foot against the\n",
            "flinty projections, because from hard, remorseless service the soles\n",
            "of my boots were in a most miserable plight.  Too expensive and\n",
            "jolly, again thought I, pausing one moment to watch the broad glare\n",
            "in the street, and hear the sounds of the tinkling glasses within.\n",
            "But go on, Ishmael, said I at last; don't you hear? get away from\n",
            "before the door; your patched boots are stopping the way.  So on I\n",
            "went.  I now by instinct followed the streets that took me waterward,\n",
            "for there, doubtless, were the cheapest, if not the cheeriest inns.\n",
            "\n",
            "Such dreary streets! blocks of blackness, not houses, on either\n",
            "hand, and here and there a candle, like a candle moving about in a\n",
            "tomb.  At this hour of the night, of the last day of the week, that\n",
            "quarter of the town proved all but deserted.  But presently I came to\n",
            "a smoky light proceeding from a low, wide building, the door of which\n",
            "stood invitingly open.  It had a careless look, as if it were meant\n",
            "for the uses of the public; so, entering, the first thing I did was\n",
            "to stumble over an ash-box in the porch.  Ha! thought I, ha, as the\n",
            "flying particles almost choked me, are these ashes from that\n",
            "destroyed city, Gomorrah?  But \"The Crossed Harpoons,\" and \"The\n",
            "Sword-Fish?\"--this, then must needs be the sign of \"The Trap.\"\n",
            "However, I picked myself up and hearing a loud voice within, pushed\n",
            "on and opened a second, interior door.\n",
            "\n",
            "It seemed the great Black Parliament sitting in Tophet.  A hundred\n",
            "black faces turned round in their rows to peer; and beyond, a black\n",
            "Angel of Doom was beating a book in a pulpit.  It was a negro church;\n",
            "and the preacher's text was about the blackness of darkness, and the\n",
            "weeping and wailing and teeth-gnashing there.  Ha, Ishmael, muttered\n",
            "I, backing out, Wretched entertainment at the sign of 'The Trap!'\n",
            "\n",
            "Moving on, I at last came to a dim sort of light not far from the\n",
            "docks, and heard a forlorn creaking in the air; and looking up, saw a\n",
            "swinging sign over the door with a white painting upon it, faintly\n",
            "representing a tall straight jet of misty spray, and these words\n",
            "underneath--\"The Spouter Inn:--Peter Coffin.\"\n",
            "\n",
            "Coffin?--Spouter?--Rather ominous in that particular connexion,\n",
            "thought I.  But it is a common name in Nantucket, they say, and I\n",
            "suppose this Peter here is an emigrant from there.  As the light\n",
            "looked so dim, and the place, for the time, looked quiet enough, and\n",
            "the dilapidated little wooden house itself looked as if it might have\n",
            "been carted here from the ruins of some burnt district, and as the\n",
            "swinging sign had a poverty-stricken sort of creak to it, I thought\n",
            "that here was the very spot for cheap lodgings, and the best of pea\n",
            "coffee.\n",
            "\n",
            "It was a queer sort of place--a gable-ended old house, one side\n",
            "palsied as it were, and leaning over sadly.  It stood on a sharp\n",
            "bleak corner, where that tempestuous wind Euroclydon kept up a worse\n",
            "howling than ever it did about poor Paul's tossed craft.  Euroclydon,\n",
            "nevertheless, is a mighty pleasant zephyr to any one in-doors, with\n",
            "his feet on the hob quietly toasting for bed.  \"In judging of that\n",
            "tempestuous wind called Euroclydon,\" says an old writer--of whose\n",
            "works I possess the only copy extant--\"it maketh a marvellous\n",
            "difference, whether thou lookest out at it from a glass window where\n",
            "the frost is all on the outside, or whether thou observest it from\n",
            "that sashless window, where the frost is on both sides, and of which\n",
            "the wight Death is the only glazier.\"  True enough, thought I, as\n",
            "this passage occurred to my mind--old black-letter, thou reasonest\n",
            "well.  Yes, these eyes are windows, and this body of mine is the\n",
            "house.  What a pity they didn't stop up the chinks and the crannies\n",
            "though, and thrust in a little lint here and there.  But it's too\n",
            "late to make any improvements now.  The universe is finished; the\n",
            "copestone is on, and the chips were carted off a million years ago.\n",
            "Poor Lazarus there, chattering his teeth against the curbstone for\n",
            "his pillow, and shaking off his tatters with his shiverings, he might\n",
            "plug up both ears with rags, and put a corn-cob into his mouth, and\n",
            "yet that would not keep out the tempestuous Euroclydon.  Euroclydon!\n",
            "says old Dives, in his red silken wrapper--(he had a redder one\n",
            "afterwards) pooh, pooh!  What a fine frosty night; how Orion\n",
            "glitters; what northern lights!  Let them talk of their oriental\n",
            "summer climes of everlasting conservatories; give me the privilege of\n",
            "making my own summer with my own coals.\n",
            "\n",
            "But what thinks Lazarus?  Can he warm his blue hands by holding them\n",
            "up to the grand northern lights?  Would not Lazarus rather be in\n",
            "Sumatra than here?  Would he not far rather lay him down lengthwise\n",
            "along the line of the equator; yea, ye gods! go down to the fiery pit\n",
            "itself, in order to keep out this frost?\n",
            "\n",
            "Now, that Lazarus should lie stranded there on the curbstone before\n",
            "the door of Dives, this is more wonderful than that an iceberg should\n",
            "be moored to one of the Moluccas.  Yet Dives himself, he too lives\n",
            "like a Czar in an ice palace made of frozen sighs, and being a\n",
            "president of a temperance society, he only drinks the tepid tears of\n",
            "orphans.\n",
            "\n",
            "But no more of this blubbering now, we are going a-whaling, and there\n",
            "is plenty of that yet to come.  Let us scrape the ice from our\n",
            "frosted feet, and see what sort of a place this \"Spouter\" may be.\n"
          ]
        }
      ]
    },
    {
      "cell_type": "code",
      "metadata": {
        "id": "wImSB8mUsFSI"
      },
      "source": [
        "# Creating doc object\n",
        "doc=nlp(text)"
      ],
      "execution_count": 9,
      "outputs": []
    },
    {
      "cell_type": "code",
      "metadata": {
        "colab": {
          "base_uri": "https://localhost:8080/"
        },
        "id": "HGMQStgssGq2",
        "outputId": "2b0866a9-fa92-4825-ef86-dd6d134af65d"
      },
      "source": [
        "# Getting Named Entities\n",
        "for entity in doc.ents:\n",
        "  print(entity.text,'=>',entity.start_char,'=>',entity.end_char,'=>',entity.label_)\n",
        " "
      ],
      "execution_count": 10,
      "outputs": [
        {
          "output_type": "stream",
          "name": "stdout",
          "text": [
            "CHAPTER 2 => 0 => 9 => LAW\n",
            "The Carpet-Bag => 11 => 25 => ORG\n",
            "two => 50 => 53 => CARDINAL\n",
            "Cape Horn => 118 => 127 => LOC\n",
            "Pacific => 136 => 143 => LOC\n",
            "Manhatto => 176 => 184 => GPE\n",
            "New Bedford => 204 => 215 => GPE\n",
            "Saturday => 227 => 235 => DATE\n",
            "night => 236 => 241 => TIME\n",
            "December => 245 => 253 => DATE\n",
            "Nantucket => 321 => 330 => GPE\n",
            "Monday => 422 => 428 => DATE\n",
            "New Bedford => 513 => 524 => LOC\n",
            "Nantucket => 680 => 689 => GPE\n",
            "New Bedford => 844 => 855 => ORG\n",
            "Nantucket => 956 => 965 => GPE\n",
            "Nantucket => 994 => 1003 => PERSON\n",
            "American => 1087 => 1095 => NORP\n",
            "Nantucket => 1137 => 1146 => GPE\n",
            "the Red-Men => 1178 => 1189 => ORG\n",
            "Leviathan => 1238 => 1247 => PERSON\n",
            "Nantucket => 1269 => 1278 => GPE\n",
            "first => 1294 => 1299 => ORDINAL\n",
            "New Bedford => 1580 => 1591 => GPE\n",
            "Ishmael => 1947 => 1954 => GPE\n",
            "the night => 2171 => 2180 => TIME\n",
            "Ishmael => 2190 => 2197 => GPE\n",
            "The\n",
            "Crossed => 2323 => 2334 => WORK_OF_ART\n",
            "the \"Sword-Fish Inn => 2434 => 2453 => LAW\n",
            "ten inches => 2607 => 2617 => QUANTITY\n",
            "one => 2876 => 2879 => CARDINAL\n",
            "Ishmael => 2990 => 2997 => GPE\n",
            "this hour of the night => 3392 => 3414 => TIME\n",
            "the last day of the week => 3419 => 3443 => DATE\n",
            "first => 3704 => 3709 => ORDINAL\n",
            "Gomorrah => 3871 => 3879 => GPE\n",
            "The Crossed Harpoons => 3887 => 3907 => WORK_OF_ART\n",
            "The\n",
            "Sword-Fish?\"--this => 3915 => 3937 => WORK_OF_ART\n",
            "The Trap => 3971 => 3979 => WORK_OF_ART\n",
            "Black Parliament => 4110 => 4126 => ORG\n",
            "Tophet => 4138 => 4144 => GPE\n",
            "A hundred => 4147 => 4156 => CARDINAL\n",
            "Angel of Doom => 4225 => 4238 => PERSON\n",
            "Ha => 4411 => 4413 => GPE\n",
            "Ishmael => 4415 => 4422 => GPE\n",
            "'The Trap => 4487 => 4496 => WORK_OF_ART\n",
            "misty spray => 4739 => 4750 => PERSON\n",
            "underneath--\"The Spouter Inn:--Peter Coffin => 4768 => 4811 => GPE\n",
            "I. => 4887 => 4889 => NORP\n",
            "Nantucket => 4918 => 4927 => GPE\n",
            "Peter => 4958 => 4963 => PERSON\n",
            "Euroclydon => 5532 => 5542 => GPE\n",
            "Paul => 5595 => 5599 => PERSON\n",
            "Euroclydon => 5617 => 5627 => PERSON\n",
            "one => 5678 => 5681 => CARDINAL\n",
            "Euroclydon => 5788 => 5798 => PRODUCT\n",
            "a million years ago => 6542 => 6561 => DATE\n",
            "Euroclydon => 6812 => 6822 => GPE\n",
            "Euroclydon => 6825 => 6835 => GPE\n",
            "Dives => 6846 => 6851 => PERSON\n",
            "Lazarus => 7154 => 7161 => PERSON\n",
            "Sumatra => 7272 => 7279 => PERSON\n",
            "yea => 7371 => 7374 => PERSON\n",
            "ye => 7376 => 7378 => PERSON\n",
            "Lazarus => 7462 => 7469 => PERSON\n",
            "Dives => 7532 => 7537 => GPE\n",
            "one => 7603 => 7606 => CARDINAL\n",
            "Moluccas => 7614 => 7622 => LOC\n",
            "Czar => 7664 => 7668 => PERSON\n"
          ]
        }
      ]
    },
    {
      "cell_type": "code",
      "metadata": {
        "colab": {
          "base_uri": "https://localhost:8080/",
          "height": 35
        },
        "id": "8rrUEQx_Xx1R",
        "outputId": "81acc06e-f092-43f7-d598-1c781d082ffd"
      },
      "source": [
        " spacy.explain(\"GPE\")"
      ],
      "execution_count": 11,
      "outputs": [
        {
          "output_type": "execute_result",
          "data": {
            "application/vnd.google.colaboratory.intrinsic+json": {
              "type": "string"
            },
            "text/plain": [
              "'Countries, cities, states'"
            ]
          },
          "metadata": {},
          "execution_count": 11
        }
      ]
    },
    {
      "cell_type": "code",
      "metadata": {
        "colab": {
          "base_uri": "https://localhost:8080/",
          "height": 1000
        },
        "id": "UE8Bc4U9sWYe",
        "outputId": "f82064fa-f928-4733-98f6-decef1375ec9"
      },
      "source": [
        "# Visualizing Named Entities\n",
        "displacy.render(doc,style='ent',jupyter=True)"
      ],
      "execution_count": 12,
      "outputs": [
        {
          "output_type": "display_data",
          "data": {
            "text/html": [
              "<span class=\"tex2jax_ignore\"><div class=\"entities\" style=\"line-height: 2.5; direction: ltr\">\n",
              "<mark class=\"entity\" style=\"background: #ff8197; padding: 0.45em 0.6em; margin: 0 0.25em; line-height: 1; border-radius: 0.35em;\">\n",
              "    CHAPTER 2\n",
              "    <span style=\"font-size: 0.8em; font-weight: bold; line-height: 1; border-radius: 0.35em; text-transform: uppercase; vertical-align: middle; margin-left: 0.5rem\">LAW</span>\n",
              "</mark>\n",
              "</br></br>\n",
              "<mark class=\"entity\" style=\"background: #7aecec; padding: 0.45em 0.6em; margin: 0 0.25em; line-height: 1; border-radius: 0.35em;\">\n",
              "    The Carpet-Bag\n",
              "    <span style=\"font-size: 0.8em; font-weight: bold; line-height: 1; border-radius: 0.35em; text-transform: uppercase; vertical-align: middle; margin-left: 0.5rem\">ORG</span>\n",
              "</mark>\n",
              ".</br></br></br>I stuffed a shirt or \n",
              "<mark class=\"entity\" style=\"background: #e4e7d2; padding: 0.45em 0.6em; margin: 0 0.25em; line-height: 1; border-radius: 0.35em;\">\n",
              "    two\n",
              "    <span style=\"font-size: 0.8em; font-weight: bold; line-height: 1; border-radius: 0.35em; text-transform: uppercase; vertical-align: middle; margin-left: 0.5rem\">CARDINAL</span>\n",
              "</mark>\n",
              " into my old carpet-bag, tucked it under my</br>arm, and started for \n",
              "<mark class=\"entity\" style=\"background: #ff9561; padding: 0.45em 0.6em; margin: 0 0.25em; line-height: 1; border-radius: 0.35em;\">\n",
              "    Cape Horn\n",
              "    <span style=\"font-size: 0.8em; font-weight: bold; line-height: 1; border-radius: 0.35em; text-transform: uppercase; vertical-align: middle; margin-left: 0.5rem\">LOC</span>\n",
              "</mark>\n",
              " and the \n",
              "<mark class=\"entity\" style=\"background: #ff9561; padding: 0.45em 0.6em; margin: 0 0.25em; line-height: 1; border-radius: 0.35em;\">\n",
              "    Pacific\n",
              "    <span style=\"font-size: 0.8em; font-weight: bold; line-height: 1; border-radius: 0.35em; text-transform: uppercase; vertical-align: middle; margin-left: 0.5rem\">LOC</span>\n",
              "</mark>\n",
              ".  Quitting the good</br>city of old \n",
              "<mark class=\"entity\" style=\"background: #feca74; padding: 0.45em 0.6em; margin: 0 0.25em; line-height: 1; border-radius: 0.35em;\">\n",
              "    Manhatto\n",
              "    <span style=\"font-size: 0.8em; font-weight: bold; line-height: 1; border-radius: 0.35em; text-transform: uppercase; vertical-align: middle; margin-left: 0.5rem\">GPE</span>\n",
              "</mark>\n",
              ", I duly arrived in \n",
              "<mark class=\"entity\" style=\"background: #feca74; padding: 0.45em 0.6em; margin: 0 0.25em; line-height: 1; border-radius: 0.35em;\">\n",
              "    New Bedford\n",
              "    <span style=\"font-size: 0.8em; font-weight: bold; line-height: 1; border-radius: 0.35em; text-transform: uppercase; vertical-align: middle; margin-left: 0.5rem\">GPE</span>\n",
              "</mark>\n",
              ".  It was a</br>\n",
              "<mark class=\"entity\" style=\"background: #bfe1d9; padding: 0.45em 0.6em; margin: 0 0.25em; line-height: 1; border-radius: 0.35em;\">\n",
              "    Saturday\n",
              "    <span style=\"font-size: 0.8em; font-weight: bold; line-height: 1; border-radius: 0.35em; text-transform: uppercase; vertical-align: middle; margin-left: 0.5rem\">DATE</span>\n",
              "</mark>\n",
              " \n",
              "<mark class=\"entity\" style=\"background: #bfe1d9; padding: 0.45em 0.6em; margin: 0 0.25em; line-height: 1; border-radius: 0.35em;\">\n",
              "    night\n",
              "    <span style=\"font-size: 0.8em; font-weight: bold; line-height: 1; border-radius: 0.35em; text-transform: uppercase; vertical-align: middle; margin-left: 0.5rem\">TIME</span>\n",
              "</mark>\n",
              " in \n",
              "<mark class=\"entity\" style=\"background: #bfe1d9; padding: 0.45em 0.6em; margin: 0 0.25em; line-height: 1; border-radius: 0.35em;\">\n",
              "    December\n",
              "    <span style=\"font-size: 0.8em; font-weight: bold; line-height: 1; border-radius: 0.35em; text-transform: uppercase; vertical-align: middle; margin-left: 0.5rem\">DATE</span>\n",
              "</mark>\n",
              ".  Much was I disappointed upon learning</br>that the little packet for \n",
              "<mark class=\"entity\" style=\"background: #feca74; padding: 0.45em 0.6em; margin: 0 0.25em; line-height: 1; border-radius: 0.35em;\">\n",
              "    Nantucket\n",
              "    <span style=\"font-size: 0.8em; font-weight: bold; line-height: 1; border-radius: 0.35em; text-transform: uppercase; vertical-align: middle; margin-left: 0.5rem\">GPE</span>\n",
              "</mark>\n",
              " had already sailed, and that no</br>way of reaching that place would offer, till the following \n",
              "<mark class=\"entity\" style=\"background: #bfe1d9; padding: 0.45em 0.6em; margin: 0 0.25em; line-height: 1; border-radius: 0.35em;\">\n",
              "    Monday\n",
              "    <span style=\"font-size: 0.8em; font-weight: bold; line-height: 1; border-radius: 0.35em; text-transform: uppercase; vertical-align: middle; margin-left: 0.5rem\">DATE</span>\n",
              "</mark>\n",
              ".</br></br>As most young candidates for the pains and penalties of whaling stop</br>at this same \n",
              "<mark class=\"entity\" style=\"background: #ff9561; padding: 0.45em 0.6em; margin: 0 0.25em; line-height: 1; border-radius: 0.35em;\">\n",
              "    New Bedford\n",
              "    <span style=\"font-size: 0.8em; font-weight: bold; line-height: 1; border-radius: 0.35em; text-transform: uppercase; vertical-align: middle; margin-left: 0.5rem\">LOC</span>\n",
              "</mark>\n",
              ", thence to embark on their voyage, it may as</br>well be related that I, for one, had no idea of so doing.  For my</br>mind was made up to sail in no other than a \n",
              "<mark class=\"entity\" style=\"background: #feca74; padding: 0.45em 0.6em; margin: 0 0.25em; line-height: 1; border-radius: 0.35em;\">\n",
              "    Nantucket\n",
              "    <span style=\"font-size: 0.8em; font-weight: bold; line-height: 1; border-radius: 0.35em; text-transform: uppercase; vertical-align: middle; margin-left: 0.5rem\">GPE</span>\n",
              "</mark>\n",
              " craft, because</br>there was a fine, boisterous something about everything connected</br>with that famous old island, which amazingly pleased me.  Besides</br>though \n",
              "<mark class=\"entity\" style=\"background: #7aecec; padding: 0.45em 0.6em; margin: 0 0.25em; line-height: 1; border-radius: 0.35em;\">\n",
              "    New Bedford\n",
              "    <span style=\"font-size: 0.8em; font-weight: bold; line-height: 1; border-radius: 0.35em; text-transform: uppercase; vertical-align: middle; margin-left: 0.5rem\">ORG</span>\n",
              "</mark>\n",
              " has of late been gradually monopolising the</br>business of whaling, and though in this matter poor old \n",
              "<mark class=\"entity\" style=\"background: #feca74; padding: 0.45em 0.6em; margin: 0 0.25em; line-height: 1; border-radius: 0.35em;\">\n",
              "    Nantucket\n",
              "    <span style=\"font-size: 0.8em; font-weight: bold; line-height: 1; border-radius: 0.35em; text-transform: uppercase; vertical-align: middle; margin-left: 0.5rem\">GPE</span>\n",
              "</mark>\n",
              " is</br>now much behind her, yet \n",
              "<mark class=\"entity\" style=\"background: #aa9cfc; padding: 0.45em 0.6em; margin: 0 0.25em; line-height: 1; border-radius: 0.35em;\">\n",
              "    Nantucket\n",
              "    <span style=\"font-size: 0.8em; font-weight: bold; line-height: 1; border-radius: 0.35em; text-transform: uppercase; vertical-align: middle; margin-left: 0.5rem\">PERSON</span>\n",
              "</mark>\n",
              " was her great original--the Tyre</br>of this Carthage;--the place where the first dead \n",
              "<mark class=\"entity\" style=\"background: #c887fb; padding: 0.45em 0.6em; margin: 0 0.25em; line-height: 1; border-radius: 0.35em;\">\n",
              "    American\n",
              "    <span style=\"font-size: 0.8em; font-weight: bold; line-height: 1; border-radius: 0.35em; text-transform: uppercase; vertical-align: middle; margin-left: 0.5rem\">NORP</span>\n",
              "</mark>\n",
              " whale was</br>stranded.  Where else but from \n",
              "<mark class=\"entity\" style=\"background: #feca74; padding: 0.45em 0.6em; margin: 0 0.25em; line-height: 1; border-radius: 0.35em;\">\n",
              "    Nantucket\n",
              "    <span style=\"font-size: 0.8em; font-weight: bold; line-height: 1; border-radius: 0.35em; text-transform: uppercase; vertical-align: middle; margin-left: 0.5rem\">GPE</span>\n",
              "</mark>\n",
              " did those aboriginal</br>whalemen, \n",
              "<mark class=\"entity\" style=\"background: #7aecec; padding: 0.45em 0.6em; margin: 0 0.25em; line-height: 1; border-radius: 0.35em;\">\n",
              "    the Red-Men\n",
              "    <span style=\"font-size: 0.8em; font-weight: bold; line-height: 1; border-radius: 0.35em; text-transform: uppercase; vertical-align: middle; margin-left: 0.5rem\">ORG</span>\n",
              "</mark>\n",
              ", first sally out in canoes to give chase to the</br>\n",
              "<mark class=\"entity\" style=\"background: #aa9cfc; padding: 0.45em 0.6em; margin: 0 0.25em; line-height: 1; border-radius: 0.35em;\">\n",
              "    Leviathan\n",
              "    <span style=\"font-size: 0.8em; font-weight: bold; line-height: 1; border-radius: 0.35em; text-transform: uppercase; vertical-align: middle; margin-left: 0.5rem\">PERSON</span>\n",
              "</mark>\n",
              "?  And where but from \n",
              "<mark class=\"entity\" style=\"background: #feca74; padding: 0.45em 0.6em; margin: 0 0.25em; line-height: 1; border-radius: 0.35em;\">\n",
              "    Nantucket\n",
              "    <span style=\"font-size: 0.8em; font-weight: bold; line-height: 1; border-radius: 0.35em; text-transform: uppercase; vertical-align: middle; margin-left: 0.5rem\">GPE</span>\n",
              "</mark>\n",
              ", too, did that \n",
              "<mark class=\"entity\" style=\"background: #e4e7d2; padding: 0.45em 0.6em; margin: 0 0.25em; line-height: 1; border-radius: 0.35em;\">\n",
              "    first\n",
              "    <span style=\"font-size: 0.8em; font-weight: bold; line-height: 1; border-radius: 0.35em; text-transform: uppercase; vertical-align: middle; margin-left: 0.5rem\">ORDINAL</span>\n",
              "</mark>\n",
              "</br>adventurous little sloop put forth, partly laden with imported</br>cobblestones--so goes the story--to throw at the whales, in order to</br>discover when they were nigh enough to risk a harpoon from the</br>bowsprit?</br></br>Now having a night, a day, and still another night following before</br>me in \n",
              "<mark class=\"entity\" style=\"background: #feca74; padding: 0.45em 0.6em; margin: 0 0.25em; line-height: 1; border-radius: 0.35em;\">\n",
              "    New Bedford\n",
              "    <span style=\"font-size: 0.8em; font-weight: bold; line-height: 1; border-radius: 0.35em; text-transform: uppercase; vertical-align: middle; margin-left: 0.5rem\">GPE</span>\n",
              "</mark>\n",
              ", ere I could embark for my destined port, it</br>became a matter of concernment where I was to eat and sleep</br>meanwhile.  It was a very dubious-looking, nay, a very dark and</br>dismal night, bitingly cold and cheerless.  I knew no one in the</br>place.  With anxious grapnels I had sounded my pocket, and only</br>brought up a few pieces of silver,--So, wherever you go, \n",
              "<mark class=\"entity\" style=\"background: #feca74; padding: 0.45em 0.6em; margin: 0 0.25em; line-height: 1; border-radius: 0.35em;\">\n",
              "    Ishmael\n",
              "    <span style=\"font-size: 0.8em; font-weight: bold; line-height: 1; border-radius: 0.35em; text-transform: uppercase; vertical-align: middle; margin-left: 0.5rem\">GPE</span>\n",
              "</mark>\n",
              ",</br>said I to myself, as I stood in the middle of a dreary street</br>shouldering my bag, and comparing the gloom towards the north with</br>the darkness towards the south--wherever in your wisdom you may</br>conclude to lodge for \n",
              "<mark class=\"entity\" style=\"background: #bfe1d9; padding: 0.45em 0.6em; margin: 0 0.25em; line-height: 1; border-radius: 0.35em;\">\n",
              "    the night\n",
              "    <span style=\"font-size: 0.8em; font-weight: bold; line-height: 1; border-radius: 0.35em; text-transform: uppercase; vertical-align: middle; margin-left: 0.5rem\">TIME</span>\n",
              "</mark>\n",
              ", my dear \n",
              "<mark class=\"entity\" style=\"background: #feca74; padding: 0.45em 0.6em; margin: 0 0.25em; line-height: 1; border-radius: 0.35em;\">\n",
              "    Ishmael\n",
              "    <span style=\"font-size: 0.8em; font-weight: bold; line-height: 1; border-radius: 0.35em; text-transform: uppercase; vertical-align: middle; margin-left: 0.5rem\">GPE</span>\n",
              "</mark>\n",
              ", be sure to inquire</br>the price, and don't be too particular.</br></br>With halting steps I paced the streets, and passed the sign of &quot;\n",
              "<mark class=\"entity\" style=\"background: #f0d0ff; padding: 0.45em 0.6em; margin: 0 0.25em; line-height: 1; border-radius: 0.35em;\">\n",
              "    The\n",
              "Crossed\n",
              "    <span style=\"font-size: 0.8em; font-weight: bold; line-height: 1; border-radius: 0.35em; text-transform: uppercase; vertical-align: middle; margin-left: 0.5rem\">WORK_OF_ART</span>\n",
              "</mark>\n",
              " Harpoons&quot;--but it looked too expensive and jolly there.</br>Further on, from the bright red windows of \n",
              "<mark class=\"entity\" style=\"background: #ff8197; padding: 0.45em 0.6em; margin: 0 0.25em; line-height: 1; border-radius: 0.35em;\">\n",
              "    the &quot;Sword-Fish Inn\n",
              "    <span style=\"font-size: 0.8em; font-weight: bold; line-height: 1; border-radius: 0.35em; text-transform: uppercase; vertical-align: middle; margin-left: 0.5rem\">LAW</span>\n",
              "</mark>\n",
              ",&quot;</br>there came such fervent rays, that it seemed to have melted the</br>packed snow and ice from before the house, for everywhere else the</br>congealed frost lay \n",
              "<mark class=\"entity\" style=\"background: #e4e7d2; padding: 0.45em 0.6em; margin: 0 0.25em; line-height: 1; border-radius: 0.35em;\">\n",
              "    ten inches\n",
              "    <span style=\"font-size: 0.8em; font-weight: bold; line-height: 1; border-radius: 0.35em; text-transform: uppercase; vertical-align: middle; margin-left: 0.5rem\">QUANTITY</span>\n",
              "</mark>\n",
              " thick in a hard, asphaltic</br>pavement,--rather weary for me, when I struck my foot against the</br>flinty projections, because from hard, remorseless service the soles</br>of my boots were in a most miserable plight.  Too expensive and</br>jolly, again thought I, pausing \n",
              "<mark class=\"entity\" style=\"background: #e4e7d2; padding: 0.45em 0.6em; margin: 0 0.25em; line-height: 1; border-radius: 0.35em;\">\n",
              "    one\n",
              "    <span style=\"font-size: 0.8em; font-weight: bold; line-height: 1; border-radius: 0.35em; text-transform: uppercase; vertical-align: middle; margin-left: 0.5rem\">CARDINAL</span>\n",
              "</mark>\n",
              " moment to watch the broad glare</br>in the street, and hear the sounds of the tinkling glasses within.</br>But go on, \n",
              "<mark class=\"entity\" style=\"background: #feca74; padding: 0.45em 0.6em; margin: 0 0.25em; line-height: 1; border-radius: 0.35em;\">\n",
              "    Ishmael\n",
              "    <span style=\"font-size: 0.8em; font-weight: bold; line-height: 1; border-radius: 0.35em; text-transform: uppercase; vertical-align: middle; margin-left: 0.5rem\">GPE</span>\n",
              "</mark>\n",
              ", said I at last; don't you hear? get away from</br>before the door; your patched boots are stopping the way.  So on I</br>went.  I now by instinct followed the streets that took me waterward,</br>for there, doubtless, were the cheapest, if not the cheeriest inns.</br></br>Such dreary streets! blocks of blackness, not houses, on either</br>hand, and here and there a candle, like a candle moving about in a</br>tomb.  At \n",
              "<mark class=\"entity\" style=\"background: #bfe1d9; padding: 0.45em 0.6em; margin: 0 0.25em; line-height: 1; border-radius: 0.35em;\">\n",
              "    this hour of the night\n",
              "    <span style=\"font-size: 0.8em; font-weight: bold; line-height: 1; border-radius: 0.35em; text-transform: uppercase; vertical-align: middle; margin-left: 0.5rem\">TIME</span>\n",
              "</mark>\n",
              ", of \n",
              "<mark class=\"entity\" style=\"background: #bfe1d9; padding: 0.45em 0.6em; margin: 0 0.25em; line-height: 1; border-radius: 0.35em;\">\n",
              "    the last day of the week\n",
              "    <span style=\"font-size: 0.8em; font-weight: bold; line-height: 1; border-radius: 0.35em; text-transform: uppercase; vertical-align: middle; margin-left: 0.5rem\">DATE</span>\n",
              "</mark>\n",
              ", that</br>quarter of the town proved all but deserted.  But presently I came to</br>a smoky light proceeding from a low, wide building, the door of which</br>stood invitingly open.  It had a careless look, as if it were meant</br>for the uses of the public; so, entering, the \n",
              "<mark class=\"entity\" style=\"background: #e4e7d2; padding: 0.45em 0.6em; margin: 0 0.25em; line-height: 1; border-radius: 0.35em;\">\n",
              "    first\n",
              "    <span style=\"font-size: 0.8em; font-weight: bold; line-height: 1; border-radius: 0.35em; text-transform: uppercase; vertical-align: middle; margin-left: 0.5rem\">ORDINAL</span>\n",
              "</mark>\n",
              " thing I did was</br>to stumble over an ash-box in the porch.  Ha! thought I, ha, as the</br>flying particles almost choked me, are these ashes from that</br>destroyed city, \n",
              "<mark class=\"entity\" style=\"background: #feca74; padding: 0.45em 0.6em; margin: 0 0.25em; line-height: 1; border-radius: 0.35em;\">\n",
              "    Gomorrah\n",
              "    <span style=\"font-size: 0.8em; font-weight: bold; line-height: 1; border-radius: 0.35em; text-transform: uppercase; vertical-align: middle; margin-left: 0.5rem\">GPE</span>\n",
              "</mark>\n",
              "?  But &quot;\n",
              "<mark class=\"entity\" style=\"background: #f0d0ff; padding: 0.45em 0.6em; margin: 0 0.25em; line-height: 1; border-radius: 0.35em;\">\n",
              "    The Crossed Harpoons\n",
              "    <span style=\"font-size: 0.8em; font-weight: bold; line-height: 1; border-radius: 0.35em; text-transform: uppercase; vertical-align: middle; margin-left: 0.5rem\">WORK_OF_ART</span>\n",
              "</mark>\n",
              ",&quot; and &quot;\n",
              "<mark class=\"entity\" style=\"background: #f0d0ff; padding: 0.45em 0.6em; margin: 0 0.25em; line-height: 1; border-radius: 0.35em;\">\n",
              "    The\n",
              "Sword-Fish?&quot;--this\n",
              "    <span style=\"font-size: 0.8em; font-weight: bold; line-height: 1; border-radius: 0.35em; text-transform: uppercase; vertical-align: middle; margin-left: 0.5rem\">WORK_OF_ART</span>\n",
              "</mark>\n",
              ", then must needs be the sign of &quot;\n",
              "<mark class=\"entity\" style=\"background: #f0d0ff; padding: 0.45em 0.6em; margin: 0 0.25em; line-height: 1; border-radius: 0.35em;\">\n",
              "    The Trap\n",
              "    <span style=\"font-size: 0.8em; font-weight: bold; line-height: 1; border-radius: 0.35em; text-transform: uppercase; vertical-align: middle; margin-left: 0.5rem\">WORK_OF_ART</span>\n",
              "</mark>\n",
              ".&quot;</br>However, I picked myself up and hearing a loud voice within, pushed</br>on and opened a second, interior door.</br></br>It seemed the great \n",
              "<mark class=\"entity\" style=\"background: #7aecec; padding: 0.45em 0.6em; margin: 0 0.25em; line-height: 1; border-radius: 0.35em;\">\n",
              "    Black Parliament\n",
              "    <span style=\"font-size: 0.8em; font-weight: bold; line-height: 1; border-radius: 0.35em; text-transform: uppercase; vertical-align: middle; margin-left: 0.5rem\">ORG</span>\n",
              "</mark>\n",
              " sitting in \n",
              "<mark class=\"entity\" style=\"background: #feca74; padding: 0.45em 0.6em; margin: 0 0.25em; line-height: 1; border-radius: 0.35em;\">\n",
              "    Tophet\n",
              "    <span style=\"font-size: 0.8em; font-weight: bold; line-height: 1; border-radius: 0.35em; text-transform: uppercase; vertical-align: middle; margin-left: 0.5rem\">GPE</span>\n",
              "</mark>\n",
              ".  \n",
              "<mark class=\"entity\" style=\"background: #e4e7d2; padding: 0.45em 0.6em; margin: 0 0.25em; line-height: 1; border-radius: 0.35em;\">\n",
              "    A hundred\n",
              "    <span style=\"font-size: 0.8em; font-weight: bold; line-height: 1; border-radius: 0.35em; text-transform: uppercase; vertical-align: middle; margin-left: 0.5rem\">CARDINAL</span>\n",
              "</mark>\n",
              "</br>black faces turned round in their rows to peer; and beyond, a black</br>\n",
              "<mark class=\"entity\" style=\"background: #aa9cfc; padding: 0.45em 0.6em; margin: 0 0.25em; line-height: 1; border-radius: 0.35em;\">\n",
              "    Angel of Doom\n",
              "    <span style=\"font-size: 0.8em; font-weight: bold; line-height: 1; border-radius: 0.35em; text-transform: uppercase; vertical-align: middle; margin-left: 0.5rem\">PERSON</span>\n",
              "</mark>\n",
              " was beating a book in a pulpit.  It was a negro church;</br>and the preacher's text was about the blackness of darkness, and the</br>weeping and wailing and teeth-gnashing there.  \n",
              "<mark class=\"entity\" style=\"background: #feca74; padding: 0.45em 0.6em; margin: 0 0.25em; line-height: 1; border-radius: 0.35em;\">\n",
              "    Ha\n",
              "    <span style=\"font-size: 0.8em; font-weight: bold; line-height: 1; border-radius: 0.35em; text-transform: uppercase; vertical-align: middle; margin-left: 0.5rem\">GPE</span>\n",
              "</mark>\n",
              ", \n",
              "<mark class=\"entity\" style=\"background: #feca74; padding: 0.45em 0.6em; margin: 0 0.25em; line-height: 1; border-radius: 0.35em;\">\n",
              "    Ishmael\n",
              "    <span style=\"font-size: 0.8em; font-weight: bold; line-height: 1; border-radius: 0.35em; text-transform: uppercase; vertical-align: middle; margin-left: 0.5rem\">GPE</span>\n",
              "</mark>\n",
              ", muttered</br>I, backing out, Wretched entertainment at the sign of \n",
              "<mark class=\"entity\" style=\"background: #f0d0ff; padding: 0.45em 0.6em; margin: 0 0.25em; line-height: 1; border-radius: 0.35em;\">\n",
              "    'The Trap\n",
              "    <span style=\"font-size: 0.8em; font-weight: bold; line-height: 1; border-radius: 0.35em; text-transform: uppercase; vertical-align: middle; margin-left: 0.5rem\">WORK_OF_ART</span>\n",
              "</mark>\n",
              "!'</br></br>Moving on, I at last came to a dim sort of light not far from the</br>docks, and heard a forlorn creaking in the air; and looking up, saw a</br>swinging sign over the door with a white painting upon it, faintly</br>representing a tall straight jet of \n",
              "<mark class=\"entity\" style=\"background: #aa9cfc; padding: 0.45em 0.6em; margin: 0 0.25em; line-height: 1; border-radius: 0.35em;\">\n",
              "    misty spray\n",
              "    <span style=\"font-size: 0.8em; font-weight: bold; line-height: 1; border-radius: 0.35em; text-transform: uppercase; vertical-align: middle; margin-left: 0.5rem\">PERSON</span>\n",
              "</mark>\n",
              ", and these words</br>\n",
              "<mark class=\"entity\" style=\"background: #feca74; padding: 0.45em 0.6em; margin: 0 0.25em; line-height: 1; border-radius: 0.35em;\">\n",
              "    underneath--&quot;The Spouter Inn:--Peter Coffin\n",
              "    <span style=\"font-size: 0.8em; font-weight: bold; line-height: 1; border-radius: 0.35em; text-transform: uppercase; vertical-align: middle; margin-left: 0.5rem\">GPE</span>\n",
              "</mark>\n",
              ".&quot;</br></br>Coffin?--Spouter?--Rather ominous in that particular connexion,</br>thought \n",
              "<mark class=\"entity\" style=\"background: #c887fb; padding: 0.45em 0.6em; margin: 0 0.25em; line-height: 1; border-radius: 0.35em;\">\n",
              "    I.\n",
              "    <span style=\"font-size: 0.8em; font-weight: bold; line-height: 1; border-radius: 0.35em; text-transform: uppercase; vertical-align: middle; margin-left: 0.5rem\">NORP</span>\n",
              "</mark>\n",
              "  But it is a common name in \n",
              "<mark class=\"entity\" style=\"background: #feca74; padding: 0.45em 0.6em; margin: 0 0.25em; line-height: 1; border-radius: 0.35em;\">\n",
              "    Nantucket\n",
              "    <span style=\"font-size: 0.8em; font-weight: bold; line-height: 1; border-radius: 0.35em; text-transform: uppercase; vertical-align: middle; margin-left: 0.5rem\">GPE</span>\n",
              "</mark>\n",
              ", they say, and I</br>suppose this \n",
              "<mark class=\"entity\" style=\"background: #aa9cfc; padding: 0.45em 0.6em; margin: 0 0.25em; line-height: 1; border-radius: 0.35em;\">\n",
              "    Peter\n",
              "    <span style=\"font-size: 0.8em; font-weight: bold; line-height: 1; border-radius: 0.35em; text-transform: uppercase; vertical-align: middle; margin-left: 0.5rem\">PERSON</span>\n",
              "</mark>\n",
              " here is an emigrant from there.  As the light</br>looked so dim, and the place, for the time, looked quiet enough, and</br>the dilapidated little wooden house itself looked as if it might have</br>been carted here from the ruins of some burnt district, and as the</br>swinging sign had a poverty-stricken sort of creak to it, I thought</br>that here was the very spot for cheap lodgings, and the best of pea</br>coffee.</br></br>It was a queer sort of place--a gable-ended old house, one side</br>palsied as it were, and leaning over sadly.  It stood on a sharp</br>bleak corner, where that tempestuous wind \n",
              "<mark class=\"entity\" style=\"background: #feca74; padding: 0.45em 0.6em; margin: 0 0.25em; line-height: 1; border-radius: 0.35em;\">\n",
              "    Euroclydon\n",
              "    <span style=\"font-size: 0.8em; font-weight: bold; line-height: 1; border-radius: 0.35em; text-transform: uppercase; vertical-align: middle; margin-left: 0.5rem\">GPE</span>\n",
              "</mark>\n",
              " kept up a worse</br>howling than ever it did about poor \n",
              "<mark class=\"entity\" style=\"background: #aa9cfc; padding: 0.45em 0.6em; margin: 0 0.25em; line-height: 1; border-radius: 0.35em;\">\n",
              "    Paul\n",
              "    <span style=\"font-size: 0.8em; font-weight: bold; line-height: 1; border-radius: 0.35em; text-transform: uppercase; vertical-align: middle; margin-left: 0.5rem\">PERSON</span>\n",
              "</mark>\n",
              "'s tossed craft.  \n",
              "<mark class=\"entity\" style=\"background: #aa9cfc; padding: 0.45em 0.6em; margin: 0 0.25em; line-height: 1; border-radius: 0.35em;\">\n",
              "    Euroclydon\n",
              "    <span style=\"font-size: 0.8em; font-weight: bold; line-height: 1; border-radius: 0.35em; text-transform: uppercase; vertical-align: middle; margin-left: 0.5rem\">PERSON</span>\n",
              "</mark>\n",
              ",</br>nevertheless, is a mighty pleasant zephyr to any \n",
              "<mark class=\"entity\" style=\"background: #e4e7d2; padding: 0.45em 0.6em; margin: 0 0.25em; line-height: 1; border-radius: 0.35em;\">\n",
              "    one\n",
              "    <span style=\"font-size: 0.8em; font-weight: bold; line-height: 1; border-radius: 0.35em; text-transform: uppercase; vertical-align: middle; margin-left: 0.5rem\">CARDINAL</span>\n",
              "</mark>\n",
              " in-doors, with</br>his feet on the hob quietly toasting for bed.  &quot;In judging of that</br>tempestuous wind called \n",
              "<mark class=\"entity\" style=\"background: #bfeeb7; padding: 0.45em 0.6em; margin: 0 0.25em; line-height: 1; border-radius: 0.35em;\">\n",
              "    Euroclydon\n",
              "    <span style=\"font-size: 0.8em; font-weight: bold; line-height: 1; border-radius: 0.35em; text-transform: uppercase; vertical-align: middle; margin-left: 0.5rem\">PRODUCT</span>\n",
              "</mark>\n",
              ",&quot; says an old writer--of whose</br>works I possess the only copy extant--&quot;it maketh a marvellous</br>difference, whether thou lookest out at it from a glass window where</br>the frost is all on the outside, or whether thou observest it from</br>that sashless window, where the frost is on both sides, and of which</br>the wight Death is the only glazier.&quot;  True enough, thought I, as</br>this passage occurred to my mind--old black-letter, thou reasonest</br>well.  Yes, these eyes are windows, and this body of mine is the</br>house.  What a pity they didn't stop up the chinks and the crannies</br>though, and thrust in a little lint here and there.  But it's too</br>late to make any improvements now.  The universe is finished; the</br>copestone is on, and the chips were carted off \n",
              "<mark class=\"entity\" style=\"background: #bfe1d9; padding: 0.45em 0.6em; margin: 0 0.25em; line-height: 1; border-radius: 0.35em;\">\n",
              "    a million years ago\n",
              "    <span style=\"font-size: 0.8em; font-weight: bold; line-height: 1; border-radius: 0.35em; text-transform: uppercase; vertical-align: middle; margin-left: 0.5rem\">DATE</span>\n",
              "</mark>\n",
              ".</br>Poor Lazarus there, chattering his teeth against the curbstone for</br>his pillow, and shaking off his tatters with his shiverings, he might</br>plug up both ears with rags, and put a corn-cob into his mouth, and</br>yet that would not keep out the tempestuous \n",
              "<mark class=\"entity\" style=\"background: #feca74; padding: 0.45em 0.6em; margin: 0 0.25em; line-height: 1; border-radius: 0.35em;\">\n",
              "    Euroclydon\n",
              "    <span style=\"font-size: 0.8em; font-weight: bold; line-height: 1; border-radius: 0.35em; text-transform: uppercase; vertical-align: middle; margin-left: 0.5rem\">GPE</span>\n",
              "</mark>\n",
              ".  \n",
              "<mark class=\"entity\" style=\"background: #feca74; padding: 0.45em 0.6em; margin: 0 0.25em; line-height: 1; border-radius: 0.35em;\">\n",
              "    Euroclydon\n",
              "    <span style=\"font-size: 0.8em; font-weight: bold; line-height: 1; border-radius: 0.35em; text-transform: uppercase; vertical-align: middle; margin-left: 0.5rem\">GPE</span>\n",
              "</mark>\n",
              "!</br>says old \n",
              "<mark class=\"entity\" style=\"background: #aa9cfc; padding: 0.45em 0.6em; margin: 0 0.25em; line-height: 1; border-radius: 0.35em;\">\n",
              "    Dives\n",
              "    <span style=\"font-size: 0.8em; font-weight: bold; line-height: 1; border-radius: 0.35em; text-transform: uppercase; vertical-align: middle; margin-left: 0.5rem\">PERSON</span>\n",
              "</mark>\n",
              ", in his red silken wrapper--(he had a redder one</br>afterwards) pooh, pooh!  What a fine frosty night; how Orion</br>glitters; what northern lights!  Let them talk of their oriental</br>summer climes of everlasting conservatories; give me the privilege of</br>making my own summer with my own coals.</br></br>But what thinks \n",
              "<mark class=\"entity\" style=\"background: #aa9cfc; padding: 0.45em 0.6em; margin: 0 0.25em; line-height: 1; border-radius: 0.35em;\">\n",
              "    Lazarus\n",
              "    <span style=\"font-size: 0.8em; font-weight: bold; line-height: 1; border-radius: 0.35em; text-transform: uppercase; vertical-align: middle; margin-left: 0.5rem\">PERSON</span>\n",
              "</mark>\n",
              "?  Can he warm his blue hands by holding them</br>up to the grand northern lights?  Would not Lazarus rather be in</br>\n",
              "<mark class=\"entity\" style=\"background: #aa9cfc; padding: 0.45em 0.6em; margin: 0 0.25em; line-height: 1; border-radius: 0.35em;\">\n",
              "    Sumatra\n",
              "    <span style=\"font-size: 0.8em; font-weight: bold; line-height: 1; border-radius: 0.35em; text-transform: uppercase; vertical-align: middle; margin-left: 0.5rem\">PERSON</span>\n",
              "</mark>\n",
              " than here?  Would he not far rather lay him down lengthwise</br>along the line of the equator; \n",
              "<mark class=\"entity\" style=\"background: #aa9cfc; padding: 0.45em 0.6em; margin: 0 0.25em; line-height: 1; border-radius: 0.35em;\">\n",
              "    yea\n",
              "    <span style=\"font-size: 0.8em; font-weight: bold; line-height: 1; border-radius: 0.35em; text-transform: uppercase; vertical-align: middle; margin-left: 0.5rem\">PERSON</span>\n",
              "</mark>\n",
              ", \n",
              "<mark class=\"entity\" style=\"background: #aa9cfc; padding: 0.45em 0.6em; margin: 0 0.25em; line-height: 1; border-radius: 0.35em;\">\n",
              "    ye\n",
              "    <span style=\"font-size: 0.8em; font-weight: bold; line-height: 1; border-radius: 0.35em; text-transform: uppercase; vertical-align: middle; margin-left: 0.5rem\">PERSON</span>\n",
              "</mark>\n",
              " gods! go down to the fiery pit</br>itself, in order to keep out this frost?</br></br>Now, that \n",
              "<mark class=\"entity\" style=\"background: #aa9cfc; padding: 0.45em 0.6em; margin: 0 0.25em; line-height: 1; border-radius: 0.35em;\">\n",
              "    Lazarus\n",
              "    <span style=\"font-size: 0.8em; font-weight: bold; line-height: 1; border-radius: 0.35em; text-transform: uppercase; vertical-align: middle; margin-left: 0.5rem\">PERSON</span>\n",
              "</mark>\n",
              " should lie stranded there on the curbstone before</br>the door of \n",
              "<mark class=\"entity\" style=\"background: #feca74; padding: 0.45em 0.6em; margin: 0 0.25em; line-height: 1; border-radius: 0.35em;\">\n",
              "    Dives\n",
              "    <span style=\"font-size: 0.8em; font-weight: bold; line-height: 1; border-radius: 0.35em; text-transform: uppercase; vertical-align: middle; margin-left: 0.5rem\">GPE</span>\n",
              "</mark>\n",
              ", this is more wonderful than that an iceberg should</br>be moored to \n",
              "<mark class=\"entity\" style=\"background: #e4e7d2; padding: 0.45em 0.6em; margin: 0 0.25em; line-height: 1; border-radius: 0.35em;\">\n",
              "    one\n",
              "    <span style=\"font-size: 0.8em; font-weight: bold; line-height: 1; border-radius: 0.35em; text-transform: uppercase; vertical-align: middle; margin-left: 0.5rem\">CARDINAL</span>\n",
              "</mark>\n",
              " of the \n",
              "<mark class=\"entity\" style=\"background: #ff9561; padding: 0.45em 0.6em; margin: 0 0.25em; line-height: 1; border-radius: 0.35em;\">\n",
              "    Moluccas\n",
              "    <span style=\"font-size: 0.8em; font-weight: bold; line-height: 1; border-radius: 0.35em; text-transform: uppercase; vertical-align: middle; margin-left: 0.5rem\">LOC</span>\n",
              "</mark>\n",
              ".  Yet Dives himself, he too lives</br>like a \n",
              "<mark class=\"entity\" style=\"background: #aa9cfc; padding: 0.45em 0.6em; margin: 0 0.25em; line-height: 1; border-radius: 0.35em;\">\n",
              "    Czar\n",
              "    <span style=\"font-size: 0.8em; font-weight: bold; line-height: 1; border-radius: 0.35em; text-transform: uppercase; vertical-align: middle; margin-left: 0.5rem\">PERSON</span>\n",
              "</mark>\n",
              " in an ice palace made of frozen sighs, and being a\n",
              "president of a temperance society, he only drinks the tepid tears of\n",
              "orphans.\n",
              "\n",
              "But no more of this blubbering now, we are going a-whaling, and there\n",
              "is plenty of that yet to come.  Let us scrape the ice from our\n",
              "frosted feet, and see what sort of a place this &quot;Spouter&quot; may be.</div></span>"
            ],
            "text/plain": [
              "<IPython.core.display.HTML object>"
            ]
          },
          "metadata": {}
        }
      ]
    },
    {
      "cell_type": "code",
      "metadata": {
        "colab": {
          "base_uri": "https://localhost:8080/"
        },
        "id": "HNFGIsOFSnKP",
        "outputId": "92b35097-05c4-41df-ca08-b0dde03287b8"
      },
      "source": [
        "# Getting Named Entities PERSON\n",
        "for entity in doc.ents:\n",
        "  if entity.label_=='PERSON':\n",
        "    print(entity.text,'=>',entity.start_char,'=>',entity.end_char,'=>',entity.label_)\n",
        "  \n",
        "persons=[person.text for person in doc.ents if person.label_=='PERSON']\n",
        "print(persons)\n",
        "type(persons)"
      ],
      "execution_count": 13,
      "outputs": [
        {
          "output_type": "stream",
          "name": "stdout",
          "text": [
            "Nantucket => 994 => 1003 => PERSON\n",
            "Leviathan => 1238 => 1247 => PERSON\n",
            "Angel of Doom => 4225 => 4238 => PERSON\n",
            "misty spray => 4739 => 4750 => PERSON\n",
            "Peter => 4958 => 4963 => PERSON\n",
            "Paul => 5595 => 5599 => PERSON\n",
            "Euroclydon => 5617 => 5627 => PERSON\n",
            "Dives => 6846 => 6851 => PERSON\n",
            "Lazarus => 7154 => 7161 => PERSON\n",
            "Sumatra => 7272 => 7279 => PERSON\n",
            "yea => 7371 => 7374 => PERSON\n",
            "ye => 7376 => 7378 => PERSON\n",
            "Lazarus => 7462 => 7469 => PERSON\n",
            "Czar => 7664 => 7668 => PERSON\n",
            "['Nantucket', 'Leviathan', 'Angel of Doom', 'misty spray', 'Peter', 'Paul', 'Euroclydon', 'Dives', 'Lazarus', 'Sumatra', 'yea', 'ye', 'Lazarus', 'Czar']\n"
          ]
        },
        {
          "output_type": "execute_result",
          "data": {
            "text/plain": [
              "list"
            ]
          },
          "metadata": {},
          "execution_count": 13
        }
      ]
    },
    {
      "cell_type": "code",
      "metadata": {
        "colab": {
          "base_uri": "https://localhost:8080/"
        },
        "id": "MBMngul1TQWE",
        "outputId": "71f2d644-e077-49ba-a439-7702153d0f98"
      },
      "source": [
        "# Getting Named Entities ORG\n",
        "  \n",
        "organitations=[organitation.text for organitation in doc.ents if organitation.label_=='ORG']\n",
        "print(organitations)\n"
      ],
      "execution_count": 14,
      "outputs": [
        {
          "output_type": "stream",
          "name": "stdout",
          "text": [
            "['The Carpet-Bag', 'New Bedford', 'the Red-Men', 'Black Parliament']\n"
          ]
        }
      ]
    }
  ]
}