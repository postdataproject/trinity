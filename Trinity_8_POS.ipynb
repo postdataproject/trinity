{
  "nbformat": 4,
  "nbformat_minor": 0,
  "metadata": {
    "kernelspec": {
      "display_name": "Python 3",
      "language": "python",
      "name": "python3"
    },
    "language_info": {
      "codemirror_mode": {
        "name": "ipython",
        "version": 3
      },
      "file_extension": ".py",
      "mimetype": "text/x-python",
      "name": "python",
      "nbconvert_exporter": "python",
      "pygments_lexer": "ipython3",
      "version": "3.6.7"
    },
    "colab": {
      "name": "Trinity_8_POS.ipynb",
      "provenance": [],
      "collapsed_sections": [],
      "toc_visible": true
    }
  },
  "cells": [
    {
      "cell_type": "markdown",
      "metadata": {
        "id": "-xNOFAbv4Qbz"
      },
      "source": [
        "# USING PART OF SPEECH"
      ]
    },
    {
      "cell_type": "markdown",
      "metadata": {
        "id": "H3UZ1QZyPu-j"
      },
      "source": [
        "## Table of Contents\n",
        "\n",
        "1. Libraries\n",
        "2. Suplementary functions \n",
        "3. Part of speech  and Visusalization\n"
      ]
    },
    {
      "cell_type": "markdown",
      "metadata": {
        "id": "_h9DXVjcRYJs"
      },
      "source": [
        "#1. Libraries"
      ]
    },
    {
      "cell_type": "code",
      "metadata": {
        "id": "xwujk3dRjkup",
        "colab": {
          "base_uri": "https://localhost:8080/"
        },
        "outputId": "c6f3fdd5-6d22-4aef-f4c2-144321f08830"
      },
      "source": [
        "!pip install chart-studio\n"
      ],
      "execution_count": 2,
      "outputs": [
        {
          "output_type": "stream",
          "name": "stdout",
          "text": [
            "Collecting chart-studio\n",
            "  Downloading chart_studio-1.1.0-py3-none-any.whl (64 kB)\n",
            "\u001b[?25l\r\u001b[K     |█████                           | 10 kB 20.3 MB/s eta 0:00:01\r\u001b[K     |██████████▏                     | 20 kB 11.1 MB/s eta 0:00:01\r\u001b[K     |███████████████▎                | 30 kB 9.2 MB/s eta 0:00:01\r\u001b[K     |████████████████████▍           | 40 kB 8.4 MB/s eta 0:00:01\r\u001b[K     |█████████████████████████▍      | 51 kB 5.3 MB/s eta 0:00:01\r\u001b[K     |██████████████████████████████▌ | 61 kB 5.5 MB/s eta 0:00:01\r\u001b[K     |████████████████████████████████| 64 kB 2.0 MB/s \n",
            "\u001b[?25hCollecting retrying>=1.3.3\n",
            "  Downloading retrying-1.3.3.tar.gz (10 kB)\n",
            "Requirement already satisfied: requests in /usr/local/lib/python3.7/dist-packages (from chart-studio) (2.23.0)\n",
            "Requirement already satisfied: plotly in /usr/local/lib/python3.7/dist-packages (from chart-studio) (5.5.0)\n",
            "Requirement already satisfied: six in /usr/local/lib/python3.7/dist-packages (from chart-studio) (1.15.0)\n",
            "Requirement already satisfied: tenacity>=6.2.0 in /usr/local/lib/python3.7/dist-packages (from plotly->chart-studio) (8.0.1)\n",
            "Requirement already satisfied: idna<3,>=2.5 in /usr/local/lib/python3.7/dist-packages (from requests->chart-studio) (2.10)\n",
            "Requirement already satisfied: certifi>=2017.4.17 in /usr/local/lib/python3.7/dist-packages (from requests->chart-studio) (2021.10.8)\n",
            "Requirement already satisfied: urllib3!=1.25.0,!=1.25.1,<1.26,>=1.21.1 in /usr/local/lib/python3.7/dist-packages (from requests->chart-studio) (1.24.3)\n",
            "Requirement already satisfied: chardet<4,>=3.0.2 in /usr/local/lib/python3.7/dist-packages (from requests->chart-studio) (3.0.4)\n",
            "Building wheels for collected packages: retrying\n",
            "  Building wheel for retrying (setup.py) ... \u001b[?25l\u001b[?25hdone\n",
            "  Created wheel for retrying: filename=retrying-1.3.3-py3-none-any.whl size=11447 sha256=9fad8a855a76a8febde86c974d51a7c3f9a4e9cb84d8d2a2e8fc43f254c9603c\n",
            "  Stored in directory: /root/.cache/pip/wheels/f9/8d/8d/f6af3f7f9eea3553bc2fe6d53e4b287dad18b06a861ac56ddf\n",
            "Successfully built retrying\n",
            "Installing collected packages: retrying, chart-studio\n",
            "Successfully installed chart-studio-1.1.0 retrying-1.3.3\n"
          ]
        }
      ]
    },
    {
      "cell_type": "code",
      "metadata": {
        "id": "yt-JKmtpyCLy"
      },
      "source": [
        "import spacy\n",
        "from IPython.display import HTML\n",
        "import warnings\n",
        "import chart_studio.plotly as py\n",
        "import plotly.graph_objs as go\n",
        "import plotly.offline as offline\n",
        "import pandas as pd\n",
        "import matplotlib.pyplot as plt\n",
        "from functools import partial\n",
        "import numpy as np\n",
        "import sys"
      ],
      "execution_count": 3,
      "outputs": []
    },
    {
      "cell_type": "markdown",
      "metadata": {
        "id": "HzyaL4hF4LJ6"
      },
      "source": [
        "#2. Suplementary functions"
      ]
    },
    {
      "cell_type": "markdown",
      "metadata": {
        "id": "rf4M1qX9QXWI"
      },
      "source": [
        "Function to draw POS"
      ]
    },
    {
      "cell_type": "code",
      "metadata": {
        "id": "Kn1nal7dwb2k"
      },
      "source": [
        "\n",
        "\n",
        "def rep_sentence(text, display_pos = True):\n",
        "    html_colors = ['SkyBlue'\n",
        "               ,'red'\n",
        "               ,'YellowGreen'\n",
        "               ,'yellow'\n",
        "               ,'orange'\n",
        "               ,'pink'\n",
        "               ,'brown'\n",
        "               ,'purple'\n",
        "               , 'CadetBlue'\n",
        "                ,'DarkKhaki'\n",
        "                ,'DarkSalmon'\n",
        "                ,'Gold'    \n",
        "              ]\n",
        "    doc = nlp(text)\n",
        "    n_words = len(doc)\n",
        "    unique_pos = list(set(map(lambda x: x.pos_, doc)))\n",
        "    pos_to_color = {i:html_colors[unique_pos.index(i)] for i in unique_pos}\n",
        "    css = [\"<style>.word{font-weight:bold;}</style>\"]\n",
        "    for pos in unique_pos:\n",
        "        css.append('<style>.{}{{background-color:{};}}</style>'.format(*[pos, pos_to_color[pos]]))\n",
        "    css = \"\".join(css)\n",
        "\n",
        "    html = [\"<table width=100%>\"]\n",
        "    html.append(css)\n",
        "    html.append(\"<tr>\")            \n",
        "    for i in range(n_words):\n",
        "        word_string= doc[i].orth_\n",
        "        html.append(\"<td><span class='word'>{0}</span></td>\".format(word_string))\n",
        "    html.append(\"</tr>\")\n",
        "    if display_pos:\n",
        "        html.append(\"<tr>\")            \n",
        "        for i in range(n_words):\n",
        "            pos = doc[i].pos_\n",
        "            color = pos_to_color[pos]\n",
        "            html.append(\"<td><span class='{0}'>{0}</span></td>\".format(pos))\n",
        "        html.append(\"</tr>\")\n",
        "    html = \"\".join(html)\n",
        "    return html"
      ],
      "execution_count": 4,
      "outputs": []
    },
    {
      "cell_type": "code",
      "metadata": {
        "id": "-Cm3dVGMjkvP"
      },
      "source": [
        "# Defining the string\n",
        "text=\"With great power comes great responsibility.\""
      ],
      "execution_count": 5,
      "outputs": []
    },
    {
      "cell_type": "code",
      "metadata": {
        "id": "huvTbq7fjkvY"
      },
      "source": [
        "# Loading the model\n",
        "nlp=spacy.load('en_core_web_sm')"
      ],
      "execution_count": 6,
      "outputs": []
    },
    {
      "cell_type": "code",
      "metadata": {
        "id": "WHFHbjGsjkvg"
      },
      "source": [
        "# Creating Doc object\n",
        "doc=nlp(text)"
      ],
      "execution_count": 7,
      "outputs": []
    },
    {
      "cell_type": "markdown",
      "metadata": {
        "id": "FXxmE8FQR3Mg"
      },
      "source": [
        "\n",
        "# 3. POS and Visualization"
      ]
    },
    {
      "cell_type": "code",
      "metadata": {
        "id": "K1sqN0-Rjkvo"
      },
      "source": [
        "# Getting POS tags\n",
        "for token in doc:\n",
        "    print(token.text,'=>',token.pos_,'=>',token.tag_)\n",
        "HTML(rep_sentence(text))"
      ],
      "execution_count": null,
      "outputs": []
    },
    {
      "cell_type": "code",
      "metadata": {
        "id": "b2guZjnBjkvy"
      },
      "source": [
        "# Defining the string\n",
        "text=\"The teacher reads a book to her students then asks them questions about the story.\""
      ],
      "execution_count": null,
      "outputs": []
    },
    {
      "cell_type": "code",
      "metadata": {
        "id": "97uhzyoujkv6"
      },
      "source": [
        "# Creating Doc object\n",
        "doc=nlp(text)"
      ],
      "execution_count": 9,
      "outputs": []
    },
    {
      "cell_type": "code",
      "metadata": {
        "id": "KjDJHck_jkwD",
        "colab": {
          "base_uri": "https://localhost:8080/",
          "height": 182
        },
        "outputId": "3b6b23a2-67c2-4e85-ec2d-caea615a3e3e"
      },
      "source": [
        "# Getting POS tags\n",
        "for token in doc:\n",
        "    print(token.text,'=>',token.pos_,'=>',token.tag_)\n",
        "HTML(rep_sentence(text))"
      ],
      "execution_count": 10,
      "outputs": [
        {
          "output_type": "stream",
          "name": "stdout",
          "text": [
            "With => ADP => IN\n",
            "great => ADJ => JJ\n",
            "power => NOUN => NN\n",
            "comes => VERB => VBZ\n",
            "great => ADJ => JJ\n",
            "responsibility => NOUN => NN\n",
            ". => PUNCT => .\n"
          ]
        },
        {
          "output_type": "execute_result",
          "data": {
            "text/html": [
              "<table width=100%><style>.word{font-weight:bold;}</style><style>.ADJ{background-color:SkyBlue;}</style><style>.VERB{background-color:red;}</style><style>.PUNCT{background-color:YellowGreen;}</style><style>.ADP{background-color:yellow;}</style><style>.NOUN{background-color:orange;}</style><tr><td><span class='word'>With</span></td><td><span class='word'>great</span></td><td><span class='word'>power</span></td><td><span class='word'>comes</span></td><td><span class='word'>great</span></td><td><span class='word'>responsibility</span></td><td><span class='word'>.</span></td></tr><tr><td><span class='ADP'>ADP</span></td><td><span class='ADJ'>ADJ</span></td><td><span class='NOUN'>NOUN</span></td><td><span class='VERB'>VERB</span></td><td><span class='ADJ'>ADJ</span></td><td><span class='NOUN'>NOUN</span></td><td><span class='PUNCT'>PUNCT</span></td></tr>"
            ],
            "text/plain": [
              "<IPython.core.display.HTML object>"
            ]
          },
          "metadata": {},
          "execution_count": 10
        }
      ]
    },
    {
      "cell_type": "code",
      "metadata": {
        "id": "Gz1Mr0MEjkwL",
        "colab": {
          "base_uri": "https://localhost:8080/"
        },
        "outputId": "0b40cf3a-96d8-4668-895a-813ce25d60a6"
      },
      "source": [
        "# Extracting verbs from the sentence\n",
        "[token.text for token in doc if(token.pos_=='VERB')]"
      ],
      "execution_count": 11,
      "outputs": [
        {
          "output_type": "execute_result",
          "data": {
            "text/plain": [
              "['comes']"
            ]
          },
          "metadata": {},
          "execution_count": 11
        }
      ]
    },
    {
      "cell_type": "code",
      "metadata": {
        "id": "gM6Foq6-jkwS",
        "colab": {
          "base_uri": "https://localhost:8080/"
        },
        "outputId": "54a817e7-9e94-4df6-a4f4-d1a33c88bc38"
      },
      "source": [
        "# Extracting nouns from the sentence\n",
        "[token.text for token in doc if(token.pos_=='NOUN')]"
      ],
      "execution_count": 12,
      "outputs": [
        {
          "output_type": "execute_result",
          "data": {
            "text/plain": [
              "['power', 'responsibility']"
            ]
          },
          "metadata": {},
          "execution_count": 12
        }
      ]
    }
  ]
}